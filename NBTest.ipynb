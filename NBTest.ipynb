{
  "nbformat": 4,
  "nbformat_minor": 0,
  "metadata": {
    "colab": {
      "name": "NBTest.ipynb",
      "provenance": [],
      "authorship_tag": "ABX9TyMGS1qFtcRv/Qil0HIJI6Hi",
      "include_colab_link": true
    },
    "kernelspec": {
      "name": "python3",
      "display_name": "Python 3"
    }
  },
  "cells": [
    {
      "cell_type": "markdown",
      "metadata": {
        "id": "view-in-github",
        "colab_type": "text"
      },
      "source": [
        "<a href=\"https://colab.research.google.com/github/NicoGarofalo/TPDatos/blob/master/NBTest.ipynb\" target=\"_parent\"><img src=\"https://colab.research.google.com/assets/colab-badge.svg\" alt=\"Open In Colab\"/></a>"
      ]
    },
    {
      "cell_type": "markdown",
      "metadata": {
        "id": "XnDRt36dfYbn",
        "colab_type": "text"
      },
      "source": [
        "Testeando colab con github"
      ]
    },
    {
      "cell_type": "code",
      "metadata": {
        "id": "NXJvLoEdfJJM",
        "colab_type": "code",
        "colab": {
          "base_uri": "https://localhost:8080/",
          "height": 34
        },
        "outputId": "2d0f0495-e5ad-4ebd-ce9e-65a2d56042e7"
      },
      "source": [
        "print(\"Testeando\")"
      ],
      "execution_count": 1,
      "outputs": [
        {
          "output_type": "stream",
          "text": [
            "Testeando\n"
          ],
          "name": "stdout"
        }
      ]
    }
  ]
}