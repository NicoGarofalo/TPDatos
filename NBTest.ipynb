{
  "nbformat": 4,
  "nbformat_minor": 0,
  "metadata": {
    "colab": {
      "name": "NBTest.ipynb",
      "provenance": [],
      "authorship_tag": "ABX9TyOzXKvEa91Jy9Kq+W3964s7",
      "include_colab_link": true
    },
    "kernelspec": {
      "name": "python3",
      "display_name": "Python 3"
    }
  },
  "cells": [
    {
      "cell_type": "markdown",
      "metadata": {
        "id": "view-in-github",
        "colab_type": "text"
      },
      "source": [
        "<a href=\"https://colab.research.google.com/github/NicoGarofalo/TPDatos/blob/master/NBTest.ipynb\" target=\"_parent\"><img src=\"https://colab.research.google.com/assets/colab-badge.svg\" alt=\"Open In Colab\"/></a>"
      ]
    },
    {
      "cell_type": "markdown",
      "metadata": {
        "id": "-sy8ldKPbhIv",
        "colab_type": "text"
      },
      "source": [
        "Testeo de creacion de 1er notebook para GitHub\n"
      ]
    },
    {
      "cell_type": "code",
      "metadata": {
        "id": "JBuQ32SpbgJH",
        "colab_type": "code",
        "colab": {
          "base_uri": "https://localhost:8080/",
          "height": 34
        },
        "outputId": "2a748513-08bf-4663-8270-3cb2ea9651f6"
      },
      "source": [
        "print(\"hola\")"
      ],
      "execution_count": 2,
      "outputs": [
        {
          "output_type": "stream",
          "text": [
            "hola\n"
          ],
          "name": "stdout"
        }
      ]
    }
  ]
}