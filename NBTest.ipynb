{
  "nbformat": 4,
  "nbformat_minor": 0,
  "metadata": {
    "colab": {
      "name": "NBTest.ipynb",
      "provenance": [],
      "authorship_tag": "ABX9TyOW8AOmmwbjBDriV1bjMz/z",
      "include_colab_link": true
    },
    "kernelspec": {
      "name": "python3",
      "display_name": "Python 3"
    }
  },
  "cells": [
    {
      "cell_type": "markdown",
      "metadata": {
        "id": "view-in-github",
        "colab_type": "text"
      },
      "source": [
        "<a href=\"https://colab.research.google.com/github/NicoGarofalo/TPDatos/blob/master/NBTest.ipynb\" target=\"_parent\"><img src=\"https://colab.research.google.com/assets/colab-badge.svg\" alt=\"Open In Colab\"/></a>"
      ]
    },
    {
      "cell_type": "markdown",
      "metadata": {
        "id": "-sy8ldKPbhIv",
        "colab_type": "text"
      },
      "source": [
        "Testeo de creacion de 1er notebook para GitHub\n"
      ]
    },
    {
      "cell_type": "code",
      "metadata": {
        "id": "JBuQ32SpbgJH",
        "colab_type": "code",
        "colab": {}
      },
      "source": [
        ""
      ],
      "execution_count": 0,
      "outputs": []
    }
  ]
}