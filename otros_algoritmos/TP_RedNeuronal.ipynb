{
  "nbformat": 4,
  "nbformat_minor": 0,
  "metadata": {
    "colab": {
      "name": "TPTestML.ipynb",
      "provenance": [],
      "collapsed_sections": []
    },
    "kernelspec": {
      "name": "python3",
      "display_name": "Python 3"
    }
  },
  "cells": [
    {
      "cell_type": "code",
      "metadata": {
        "id": "atalxbLrqPeV",
        "colab_type": "code",
        "colab": {
          "base_uri": "https://localhost:8080/",
          "height": 121
        },
        "outputId": "86d96832-db67-4137-c6dc-f857d3f84e39"
      },
      "source": [
        "from google.colab import drive\n",
        "drive.mount('/content/drive')"
      ],
      "execution_count": null,
      "outputs": [
        {
          "output_type": "stream",
          "text": [
            "Go to this URL in a browser: https://accounts.google.com/o/oauth2/auth?client_id=947318989803-6bn6qk8qdgf4n4g3pfee6491hc0brc4i.apps.googleusercontent.com&redirect_uri=urn%3aietf%3awg%3aoauth%3a2.0%3aoob&response_type=code&scope=email%20https%3a%2f%2fwww.googleapis.com%2fauth%2fdocs.test%20https%3a%2f%2fwww.googleapis.com%2fauth%2fdrive%20https%3a%2f%2fwww.googleapis.com%2fauth%2fdrive.photos.readonly%20https%3a%2f%2fwww.googleapis.com%2fauth%2fpeopleapi.readonly\n",
            "\n",
            "Enter your authorization code:\n",
            "··········\n",
            "Mounted at /content/drive\n"
          ],
          "name": "stdout"
        }
      ]
    },
    {
      "cell_type": "code",
      "metadata": {
        "id": "AIQdCL9ZoR8h",
        "colab_type": "code",
        "colab": {
          "base_uri": "https://localhost:8080/",
          "height": 386
        },
        "outputId": "7043a3b7-1970-472d-cb3b-3889c78f3c29"
      },
      "source": [
        "import pandas as pd\n",
        "import numpy as np\n",
        "import re\n",
        "import nltk\n",
        "from sklearn.neural_network import MLPClassifier\n",
        "import matplotlib.pyplot as plt\n",
        "from nltk.tokenize import TweetTokenizer\n",
        "import spacy #Para Named Entity Recognition\n",
        "from spacy import displacy #Para Named Entity Recognition\n",
        "from collections import Counter #Para Named Entity Recognition\n",
        "import en_core_web_sm #Para Named Entity Recognition\n",
        "from nltk import word_tokenize\n",
        "nltk.download('stopwords')\n",
        "from nltk.corpus import stopwords\n",
        "nltk.download('punkt')\n",
        "!pip install -U textblob #lemmatize\n",
        "!python -m textblob.download_corpora #lemmatize\n",
        "from textblob import Word #lemmatize\n",
        "from textblob import TextBlob\n",
        "from nltk.probability import FreqDist\n",
        "from sklearn.feature_extraction.text import TfidfVectorizer\n",
        "\n",
        "from sklearn.model_selection import train_test_split\n",
        "from sklearn import preprocessing\n",
        "from sklearn.naive_bayes import MultinomialNB\n",
        "from sklearn import tree\n",
        "from sklearn.ensemble import RandomForestClassifier\n",
        "\n",
        "from google.colab import files"
      ],
      "execution_count": null,
      "outputs": [
        {
          "output_type": "stream",
          "text": [
            "[nltk_data] Downloading package stopwords to /root/nltk_data...\n",
            "[nltk_data]   Package stopwords is already up-to-date!\n",
            "[nltk_data] Downloading package punkt to /root/nltk_data...\n",
            "[nltk_data]   Package punkt is already up-to-date!\n",
            "Requirement already up-to-date: textblob in /usr/local/lib/python3.6/dist-packages (0.15.3)\n",
            "Requirement already satisfied, skipping upgrade: nltk>=3.1 in /usr/local/lib/python3.6/dist-packages (from textblob) (3.2.5)\n",
            "Requirement already satisfied, skipping upgrade: six in /usr/local/lib/python3.6/dist-packages (from nltk>=3.1->textblob) (1.15.0)\n",
            "[nltk_data] Downloading package brown to /root/nltk_data...\n",
            "[nltk_data]   Package brown is already up-to-date!\n",
            "[nltk_data] Downloading package punkt to /root/nltk_data...\n",
            "[nltk_data]   Package punkt is already up-to-date!\n",
            "[nltk_data] Downloading package wordnet to /root/nltk_data...\n",
            "[nltk_data]   Package wordnet is already up-to-date!\n",
            "[nltk_data] Downloading package averaged_perceptron_tagger to\n",
            "[nltk_data]     /root/nltk_data...\n",
            "[nltk_data]   Package averaged_perceptron_tagger is already up-to-\n",
            "[nltk_data]       date!\n",
            "[nltk_data] Downloading package conll2000 to /root/nltk_data...\n",
            "[nltk_data]   Package conll2000 is already up-to-date!\n",
            "[nltk_data] Downloading package movie_reviews to /root/nltk_data...\n",
            "[nltk_data]   Package movie_reviews is already up-to-date!\n",
            "Finished.\n"
          ],
          "name": "stdout"
        }
      ]
    },
    {
      "cell_type": "code",
      "metadata": {
        "id": "R0nFok9nqHPP",
        "colab_type": "code",
        "colab": {}
      },
      "source": [
        "df_test = pd.read_csv(\"/content/drive/My Drive/datasetTPDatos/test.csv\")\n",
        "df_train = pd.read_csv(\"/content/drive/My Drive/datasetTPDatos/train.csv\")\n",
        "#Elimino duplicados\n",
        "df_train.drop_duplicates(inplace=True)\n",
        "df_test.drop_duplicates(inplace=True)"
      ],
      "execution_count": null,
      "outputs": []
    },
    {
      "cell_type": "code",
      "metadata": {
        "id": "QVGlBwF8pssO",
        "colab_type": "code",
        "colab": {
          "base_uri": "https://localhost:8080/",
          "height": 101
        },
        "outputId": "ade6e961-0443-4d22-f78a-549657eb5162"
      },
      "source": [
        "#Definición de tipos\n",
        "df_train['id'] = df_train['id'].astype(int)\n",
        "df_train['keyword'] = df_train['keyword'].fillna(value = \"noKeyword\").astype('object')\n",
        "df_train['location'] = df_train['location'].astype('object')\n",
        "df_train['text'] = df_train['text'].astype('object')\n",
        "df_train['target'] = df_train['target'].astype('bool')\n",
        "df_test['id'] = df_test['id'].astype(int)\n",
        "df_test['keyword'] = df_test['keyword'].fillna(value = \"noKeyword\").astype('object')\n",
        "df_test['location'] = df_test['location'].astype('object')\n",
        "df_test['text'] = df_test['text'].astype('object')\n",
        "\n",
        "df_test.dtypes"
      ],
      "execution_count": null,
      "outputs": [
        {
          "output_type": "execute_result",
          "data": {
            "text/plain": [
              "id           int64\n",
              "keyword     object\n",
              "location    object\n",
              "text        object\n",
              "dtype: object"
            ]
          },
          "metadata": {
            "tags": []
          },
          "execution_count": 9
        }
      ]
    },
    {
      "cell_type": "code",
      "metadata": {
        "id": "GJGcQgEBs9xA",
        "colab_type": "code",
        "colab": {}
      },
      "source": [
        "df_train_res = df_train.copy()\n",
        "df_test_res = df_test.copy()"
      ],
      "execution_count": null,
      "outputs": []
    },
    {
      "cell_type": "code",
      "metadata": {
        "id": "Fg41Z0kS_oZz",
        "colab_type": "code",
        "colab": {}
      },
      "source": [
        "#!pip install pycontractions\n",
        "#from pycontractions import Contractions"
      ],
      "execution_count": null,
      "outputs": []
    },
    {
      "cell_type": "code",
      "metadata": {
        "id": "y43Ki5ofAK-5",
        "colab_type": "code",
        "colab": {}
      },
      "source": [
        "#cont = Contraction(api_key=\"glove-twitter-100\")\n",
        "#cont.load_models()"
      ],
      "execution_count": null,
      "outputs": []
    },
    {
      "cell_type": "code",
      "metadata": {
        "id": "H4RPEMYjAIA1",
        "colab_type": "code",
        "colab": {}
      },
      "source": [
        "#df_train_res['text'] = list(cont.expand_texts(df_train_cont['text'].to_list()))\n",
        "#df_test_res['text'] = list(cont.expand_texts(df_test_cont['text'].to_list()))"
      ],
      "execution_count": null,
      "outputs": []
    },
    {
      "cell_type": "code",
      "metadata": {
        "id": "RjcocsN_Fnnj",
        "colab_type": "code",
        "colab": {}
      },
      "source": [
        "def clean_text(text):\n",
        "  text = re.sub('(http|ftp|https)://(?:[-\\w.]|(?:%[\\da-fA-F]{2}))+/(?:[-\\w.]|(?:%[\\da-fA-F]{2}))+', 'URL',text)\n",
        "  text = re.sub('[=><.#,*;\\']', '',text)\n",
        "  text = re.sub('\\n', '', text)\n",
        "  text = re.sub('\\[.*?\\]', '', text)\n",
        "  text = re.sub('<.*?>+', '', text)\n",
        "  text = re.sub('\\w*\\d\\w*', '', text)\n",
        "  text = re.sub('ûó','', text)\n",
        "  text = re.sub('ûò','', text)\n",
        "  text = re.sub('ûï','', text)\n",
        "  text = re.sub('atåê','', text)\n",
        "  text = re.sub('aq','', text)\n",
        "  text = re.sub('ûª','u',text) \n",
        "  text = re.sub('åê','',text) \n",
        "  text = re.sub('û','u',text) \n",
        "  text = re.sub('ìü','',text) \n",
        "  return text"
      ],
      "execution_count": null,
      "outputs": []
    },
    {
      "cell_type": "code",
      "metadata": {
        "id": "8y9u56E1ro0O",
        "colab_type": "code",
        "colab": {}
      },
      "source": [
        "def pre_process_text(text):\n",
        "  processed_text = text.lower()\n",
        "  processed_text = clean_text(processed_text)\n",
        "  tokenizer = TweetTokenizer(reduce_len=True,strip_handles=True)\n",
        "  processed_text = tokenizer.tokenize(processed_text)\n",
        "  processed_text = ' '.join(processed_text)\n",
        "    \n",
        "  return processed_text"
      ],
      "execution_count": null,
      "outputs": []
    },
    {
      "cell_type": "code",
      "metadata": {
        "id": "U1ILvPj3HqOx",
        "colab_type": "code",
        "colab": {
          "base_uri": "https://localhost:8080/",
          "height": 106
        },
        "outputId": "0e0dfac0-35b4-44e2-840b-47ef6345cab8"
      },
      "source": [
        "#Pre limpieza:\n",
        "df_train_res.head(2)"
      ],
      "execution_count": null,
      "outputs": [
        {
          "output_type": "execute_result",
          "data": {
            "text/html": [
              "<div>\n",
              "<style scoped>\n",
              "    .dataframe tbody tr th:only-of-type {\n",
              "        vertical-align: middle;\n",
              "    }\n",
              "\n",
              "    .dataframe tbody tr th {\n",
              "        vertical-align: top;\n",
              "    }\n",
              "\n",
              "    .dataframe thead th {\n",
              "        text-align: right;\n",
              "    }\n",
              "</style>\n",
              "<table border=\"1\" class=\"dataframe\">\n",
              "  <thead>\n",
              "    <tr style=\"text-align: right;\">\n",
              "      <th></th>\n",
              "      <th>id</th>\n",
              "      <th>text</th>\n",
              "      <th>target</th>\n",
              "      <th>keyword</th>\n",
              "    </tr>\n",
              "  </thead>\n",
              "  <tbody>\n",
              "    <tr>\n",
              "      <th>0</th>\n",
              "      <td>1</td>\n",
              "      <td>our deed be the reason of this earthquake may ...</td>\n",
              "      <td>True</td>\n",
              "      <td>noKeyword</td>\n",
              "    </tr>\n",
              "    <tr>\n",
              "      <th>1</th>\n",
              "      <td>4</td>\n",
              "      <td>forest fire near la ronge sask canada</td>\n",
              "      <td>True</td>\n",
              "      <td>noKeyword</td>\n",
              "    </tr>\n",
              "  </tbody>\n",
              "</table>\n",
              "</div>"
            ],
            "text/plain": [
              "   id                                               text  target    keyword\n",
              "0   1  our deed be the reason of this earthquake may ...    True  noKeyword\n",
              "1   4              forest fire near la ronge sask canada    True  noKeyword"
            ]
          },
          "metadata": {
            "tags": []
          },
          "execution_count": 35
        }
      ]
    },
    {
      "cell_type": "code",
      "metadata": {
        "id": "kW7QyD_3x6Dp",
        "colab_type": "code",
        "colab": {
          "base_uri": "https://localhost:8080/",
          "height": 106
        },
        "outputId": "f7bf82b5-5f40-4dd8-8d30-5e9f29b5e958"
      },
      "source": [
        "df_test_res.head(2)"
      ],
      "execution_count": null,
      "outputs": [
        {
          "output_type": "execute_result",
          "data": {
            "text/html": [
              "<div>\n",
              "<style scoped>\n",
              "    .dataframe tbody tr th:only-of-type {\n",
              "        vertical-align: middle;\n",
              "    }\n",
              "\n",
              "    .dataframe tbody tr th {\n",
              "        vertical-align: top;\n",
              "    }\n",
              "\n",
              "    .dataframe thead th {\n",
              "        text-align: right;\n",
              "    }\n",
              "</style>\n",
              "<table border=\"1\" class=\"dataframe\">\n",
              "  <thead>\n",
              "    <tr style=\"text-align: right;\">\n",
              "      <th></th>\n",
              "      <th>id</th>\n",
              "      <th>keyword</th>\n",
              "      <th>location</th>\n",
              "      <th>text</th>\n",
              "    </tr>\n",
              "  </thead>\n",
              "  <tbody>\n",
              "    <tr>\n",
              "      <th>0</th>\n",
              "      <td>0</td>\n",
              "      <td>noKeyword</td>\n",
              "      <td>NaN</td>\n",
              "      <td>Just happened a terrible car crash</td>\n",
              "    </tr>\n",
              "    <tr>\n",
              "      <th>1</th>\n",
              "      <td>2</td>\n",
              "      <td>noKeyword</td>\n",
              "      <td>NaN</td>\n",
              "      <td>Heard about #earthquake is different cities, s...</td>\n",
              "    </tr>\n",
              "  </tbody>\n",
              "</table>\n",
              "</div>"
            ],
            "text/plain": [
              "   id    keyword location                                               text\n",
              "0   0  noKeyword      NaN                 Just happened a terrible car crash\n",
              "1   2  noKeyword      NaN  Heard about #earthquake is different cities, s..."
            ]
          },
          "metadata": {
            "tags": []
          },
          "execution_count": 14
        }
      ]
    },
    {
      "cell_type": "code",
      "metadata": {
        "id": "_QhgNkW7sUKn",
        "colab_type": "code",
        "colab": {}
      },
      "source": [
        "df_train_res['text'] = df_train_res['text'].apply(lambda x : pre_process_text(x))\n",
        "df_test_res['text'] = df_test_res['text'].apply(lambda x : pre_process_text(x))"
      ],
      "execution_count": null,
      "outputs": []
    },
    {
      "cell_type": "code",
      "metadata": {
        "id": "H25Wph7pD3vH",
        "colab_type": "code",
        "colab": {
          "base_uri": "https://localhost:8080/",
          "height": 106
        },
        "outputId": "a16a1e8d-8088-497c-e7b0-e853c1eaf10f"
      },
      "source": [
        "#Post limpieza\n",
        "df_train_res.head(2)"
      ],
      "execution_count": null,
      "outputs": [
        {
          "output_type": "execute_result",
          "data": {
            "text/html": [
              "<div>\n",
              "<style scoped>\n",
              "    .dataframe tbody tr th:only-of-type {\n",
              "        vertical-align: middle;\n",
              "    }\n",
              "\n",
              "    .dataframe tbody tr th {\n",
              "        vertical-align: top;\n",
              "    }\n",
              "\n",
              "    .dataframe thead th {\n",
              "        text-align: right;\n",
              "    }\n",
              "</style>\n",
              "<table border=\"1\" class=\"dataframe\">\n",
              "  <thead>\n",
              "    <tr style=\"text-align: right;\">\n",
              "      <th></th>\n",
              "      <th>id</th>\n",
              "      <th>keyword</th>\n",
              "      <th>location</th>\n",
              "      <th>text</th>\n",
              "      <th>target</th>\n",
              "    </tr>\n",
              "  </thead>\n",
              "  <tbody>\n",
              "    <tr>\n",
              "      <th>0</th>\n",
              "      <td>1</td>\n",
              "      <td>noKeyword</td>\n",
              "      <td>NaN</td>\n",
              "      <td>our deeds are the reason of this earthquake ma...</td>\n",
              "      <td>True</td>\n",
              "    </tr>\n",
              "    <tr>\n",
              "      <th>1</th>\n",
              "      <td>4</td>\n",
              "      <td>noKeyword</td>\n",
              "      <td>NaN</td>\n",
              "      <td>forest fire near la ronge sask canada</td>\n",
              "      <td>True</td>\n",
              "    </tr>\n",
              "  </tbody>\n",
              "</table>\n",
              "</div>"
            ],
            "text/plain": [
              "   id    keyword  ...                                               text target\n",
              "0   1  noKeyword  ...  our deeds are the reason of this earthquake ma...   True\n",
              "1   4  noKeyword  ...              forest fire near la ronge sask canada   True\n",
              "\n",
              "[2 rows x 5 columns]"
            ]
          },
          "metadata": {
            "tags": []
          },
          "execution_count": 17
        }
      ]
    },
    {
      "cell_type": "code",
      "metadata": {
        "id": "5Lw8MToJx-No",
        "colab_type": "code",
        "colab": {
          "base_uri": "https://localhost:8080/",
          "height": 106
        },
        "outputId": "a0a0a419-a09f-46d2-8873-8251b4b6ddd6"
      },
      "source": [
        "df_test_res.head(2)"
      ],
      "execution_count": null,
      "outputs": [
        {
          "output_type": "execute_result",
          "data": {
            "text/html": [
              "<div>\n",
              "<style scoped>\n",
              "    .dataframe tbody tr th:only-of-type {\n",
              "        vertical-align: middle;\n",
              "    }\n",
              "\n",
              "    .dataframe tbody tr th {\n",
              "        vertical-align: top;\n",
              "    }\n",
              "\n",
              "    .dataframe thead th {\n",
              "        text-align: right;\n",
              "    }\n",
              "</style>\n",
              "<table border=\"1\" class=\"dataframe\">\n",
              "  <thead>\n",
              "    <tr style=\"text-align: right;\">\n",
              "      <th></th>\n",
              "      <th>id</th>\n",
              "      <th>keyword</th>\n",
              "      <th>location</th>\n",
              "      <th>text</th>\n",
              "    </tr>\n",
              "  </thead>\n",
              "  <tbody>\n",
              "    <tr>\n",
              "      <th>0</th>\n",
              "      <td>0</td>\n",
              "      <td>noKeyword</td>\n",
              "      <td>NaN</td>\n",
              "      <td>just happened a terrible car crash</td>\n",
              "    </tr>\n",
              "    <tr>\n",
              "      <th>1</th>\n",
              "      <td>2</td>\n",
              "      <td>noKeyword</td>\n",
              "      <td>NaN</td>\n",
              "      <td>heard out earthquake is different cities stay ...</td>\n",
              "    </tr>\n",
              "  </tbody>\n",
              "</table>\n",
              "</div>"
            ],
            "text/plain": [
              "   id    keyword location                                               text\n",
              "0   0  noKeyword      NaN                 just happened a terrible car crash\n",
              "1   2  noKeyword      NaN  heard out earthquake is different cities stay ..."
            ]
          },
          "metadata": {
            "tags": []
          },
          "execution_count": 18
        }
      ]
    },
    {
      "cell_type": "code",
      "metadata": {
        "id": "ZndCvUEE97iM",
        "colab_type": "code",
        "colab": {}
      },
      "source": [
        "# --------------- NLP - Manipulación  del texto --------------- #\n",
        "#Idea 1 : Limpiar las stopwords y hacer un contador de entidades importantes (ej nombre paises, personas famosas, etc)\n",
        "\n",
        "sw = stopwords.words(\"english\")\n",
        "tknz = TweetTokenizer(reduce_len=True, strip_handles=False)\n",
        "nlp = en_core_web_sm.load()\n",
        "catastrophe = df_train_res['keyword'].loc[df_train_res['keyword'] != 'noKeyword'].drop_duplicates().apply(lambda x: re.sub('%20', ' ',x))\n",
        "\n",
        "def contains_location(text):\n",
        "  count = 0\n",
        "  words = nlp(text)\n",
        "  for X in words.ents:\n",
        "    if X.label_ in ['FAC','GPE','LOC']:\n",
        "      count += 1\n",
        "  return count\n",
        "\n",
        "def count_no_stopwords(text):\n",
        "  count = 0\n",
        "  words = word_tokenize(text)\n",
        "  for w in words:\n",
        "    if w not in sw:\n",
        "      count +=1\n",
        "  return count\n",
        "\n",
        "def text_size_word(text):\n",
        "  words = tknz.tokenize(text)\n",
        "  return len(words)\n",
        "  \n",
        "def lemmatize_catastrophe(text):\n",
        "  count = 0\n",
        "  words = tknz.tokenize(text)\n",
        "  for w in words:\n",
        "    if w in catastrophe.to_list():\n",
        "      count += 1\n",
        "  return count/len(words)\n",
        "\n",
        "def count_url_per_tw(text):\n",
        "  count = 0\n",
        "  words = tknz.tokenize(text)\n",
        "  if 'URL' in words:\n",
        "    for w in words:\n",
        "      if w == 'URL':\n",
        "        count +=1\n",
        "  return count/len(words)\n",
        "\n",
        "def score_true_freqs(text):\n",
        "  score = 0\n",
        "  words = tknz.tokenize(text)\n",
        "  for w in words:\n",
        "    for t in true_freqs:\n",
        "      if w == t[0]:\n",
        "        score += t[1]\n",
        "  return score\n",
        "\n",
        "def score_false_freqs(text):\n",
        "  score = 0\n",
        "  words = tknz.tokenize(text)\n",
        "  for w in words:\n",
        "    for t in false_freqs:\n",
        "      if w == t[0]:\n",
        "        score += t[1]\n",
        "  return score\n",
        "\n",
        "def polarity_check(text):\n",
        "    blob = TextBlob(text)\n",
        "    return blob.sentiment.polarity\n",
        "\n",
        "def subjectivity_check(text):\n",
        "    blob = TextBlob(text)\n",
        "    return blob.sentiment.subjectivity\n",
        "  "
      ],
      "execution_count": null,
      "outputs": []
    },
    {
      "cell_type": "code",
      "metadata": {
        "id": "CdR_m51zEhnH",
        "colab_type": "code",
        "colab": {
          "base_uri": "https://localhost:8080/",
          "height": 402
        },
        "outputId": "08eca860-5431-4421-e925-85027f7296fb"
      },
      "source": [
        "#Me quedo con columnas que me interesan\n",
        "df_train_res = df_train_res.loc[:,['id','text','target','keyword']]\n",
        "df_test_res = df_test_res.loc[:,['id','text','keyword']]\n",
        "df_train_res"
      ],
      "execution_count": null,
      "outputs": [
        {
          "output_type": "execute_result",
          "data": {
            "text/html": [
              "<div>\n",
              "<style scoped>\n",
              "    .dataframe tbody tr th:only-of-type {\n",
              "        vertical-align: middle;\n",
              "    }\n",
              "\n",
              "    .dataframe tbody tr th {\n",
              "        vertical-align: top;\n",
              "    }\n",
              "\n",
              "    .dataframe thead th {\n",
              "        text-align: right;\n",
              "    }\n",
              "</style>\n",
              "<table border=\"1\" class=\"dataframe\">\n",
              "  <thead>\n",
              "    <tr style=\"text-align: right;\">\n",
              "      <th></th>\n",
              "      <th>id</th>\n",
              "      <th>text</th>\n",
              "      <th>target</th>\n",
              "      <th>keyword</th>\n",
              "    </tr>\n",
              "  </thead>\n",
              "  <tbody>\n",
              "    <tr>\n",
              "      <th>0</th>\n",
              "      <td>1</td>\n",
              "      <td>our deed be the reason of this earthquake may ...</td>\n",
              "      <td>True</td>\n",
              "      <td>noKeyword</td>\n",
              "    </tr>\n",
              "    <tr>\n",
              "      <th>1</th>\n",
              "      <td>4</td>\n",
              "      <td>forest fire near la ronge sask canada</td>\n",
              "      <td>True</td>\n",
              "      <td>noKeyword</td>\n",
              "    </tr>\n",
              "    <tr>\n",
              "      <th>2</th>\n",
              "      <td>5</td>\n",
              "      <td>all resident ask to shelter in place be be not...</td>\n",
              "      <td>True</td>\n",
              "      <td>noKeyword</td>\n",
              "    </tr>\n",
              "    <tr>\n",
              "      <th>3</th>\n",
              "      <td>6</td>\n",
              "      <td>people receive wildfire evacuation order in ca...</td>\n",
              "      <td>True</td>\n",
              "      <td>noKeyword</td>\n",
              "    </tr>\n",
              "    <tr>\n",
              "      <th>4</th>\n",
              "      <td>7</td>\n",
              "      <td>just get send this photo from ruby alaska a sm...</td>\n",
              "      <td>True</td>\n",
              "      <td>noKeyword</td>\n",
              "    </tr>\n",
              "    <tr>\n",
              "      <th>...</th>\n",
              "      <td>...</td>\n",
              "      <td>...</td>\n",
              "      <td>...</td>\n",
              "      <td>...</td>\n",
              "    </tr>\n",
              "    <tr>\n",
              "      <th>7608</th>\n",
              "      <td>10869</td>\n",
              "      <td>two giant crane hold a bridge collapse into ne...</td>\n",
              "      <td>True</td>\n",
              "      <td>noKeyword</td>\n",
              "    </tr>\n",
              "    <tr>\n",
              "      <th>7609</th>\n",
              "      <td>10870</td>\n",
              "      <td>the out of control wild fire in california eve...</td>\n",
              "      <td>True</td>\n",
              "      <td>noKeyword</td>\n",
              "    </tr>\n",
              "    <tr>\n",
              "      <th>7610</th>\n",
              "      <td>10871</td>\n",
              "      <td>? s of volcano hawaii url</td>\n",
              "      <td>True</td>\n",
              "      <td>noKeyword</td>\n",
              "    </tr>\n",
              "    <tr>\n",
              "      <th>7611</th>\n",
              "      <td>10872</td>\n",
              "      <td>police investigate after an e-bike collide wit...</td>\n",
              "      <td>True</td>\n",
              "      <td>noKeyword</td>\n",
              "    </tr>\n",
              "    <tr>\n",
              "      <th>7612</th>\n",
              "      <td>10873</td>\n",
              "      <td>the late : more home raze by northern californ...</td>\n",
              "      <td>True</td>\n",
              "      <td>noKeyword</td>\n",
              "    </tr>\n",
              "  </tbody>\n",
              "</table>\n",
              "<p>7613 rows × 4 columns</p>\n",
              "</div>"
            ],
            "text/plain": [
              "         id  ...    keyword\n",
              "0         1  ...  noKeyword\n",
              "1         4  ...  noKeyword\n",
              "2         5  ...  noKeyword\n",
              "3         6  ...  noKeyword\n",
              "4         7  ...  noKeyword\n",
              "...     ...  ...        ...\n",
              "7608  10869  ...  noKeyword\n",
              "7609  10870  ...  noKeyword\n",
              "7610  10871  ...  noKeyword\n",
              "7611  10872  ...  noKeyword\n",
              "7612  10873  ...  noKeyword\n",
              "\n",
              "[7613 rows x 4 columns]"
            ]
          },
          "metadata": {
            "tags": []
          },
          "execution_count": 51
        }
      ]
    },
    {
      "cell_type": "code",
      "metadata": {
        "id": "tfuu0W0f4sF4",
        "colab_type": "code",
        "colab": {}
      },
      "source": [
        "# ---------------Creación de features --------------- #\n",
        "\n",
        "# --------------------------------- Train ------------------------------------ #\n",
        "df_train_res['count_words'] = df_train_res['text'].apply(text_size_word) #cant words por text\n",
        "df_train_res['num_no_stopwords'] = df_train_res['text'].apply(count_no_stopwords)\n",
        "df_train_res['no_stpw / count_words'] = df_train_res['num_no_stopwords'] / df_train_res['count_words']\n",
        "df_train_res['count_catastrophe'] = df_train_res['text'].apply(lemmatize_catastrophe)\n",
        "df_train_res['count_url'] = df_train_res['text'].apply(count_url_per_tw)\n",
        "df_train_res['contains_location'] = df_train_res['text'].apply(contains_location)\n",
        "# --- Idea 1 --- # Aplicar algun tipo de TF-IDF para descartar textos como \"wreck wreck wreck wreck wreck \" porque no aportan nada\n",
        "# --- Idea 2 --- #  Top frecuencias para tweets verdaderos / falsos , darle un score a los tweets en base a esas frecuencias\n",
        "# --- Idea 3 --- #  El array de freq true y false, tokenizar tweet, hacer el coseno y quedarse con el max y multiplicarlo por la freq?"
      ],
      "execution_count": null,
      "outputs": []
    },
    {
      "cell_type": "code",
      "metadata": {
        "id": "Eb65L5fb2j3u",
        "colab_type": "code",
        "colab": {}
      },
      "source": [
        "# --------------------------------- Test ------------------------------------- #\n",
        "\n",
        "df_test_res['count_words'] = df_test_res['text'].apply(text_size_word) #cant words por text\n",
        "df_test_res['num_no_stopwords'] = df_test_res['text'].apply(count_no_stopwords)\n",
        "df_test_res['no_stpw / count_words'] = df_test_res['num_no_stopwords'] / df_test_res['count_words']\n",
        "df_test_res['count_catastrophe'] = df_test_res['text'].apply(lemmatize_catastrophe)\n",
        "df_test_res['count_url'] = df_test_res['text'].apply(count_url_per_tw)\n",
        "df_test_res['contains_location'] = df_test_res['text'].apply(contains_location)"
      ],
      "execution_count": null,
      "outputs": []
    },
    {
      "cell_type": "markdown",
      "metadata": {
        "id": "WVW91wkG00lH",
        "colab_type": "text"
      },
      "source": [
        "A partir de aca lematizo\n",
        "\n"
      ]
    },
    {
      "cell_type": "code",
      "metadata": {
        "id": "ekDv8RHaA2nz",
        "colab_type": "code",
        "colab": {}
      },
      "source": [
        "#Lemmatization\n",
        "\n",
        "def lematizar_texto(text):\n",
        "  lem = []\n",
        "  for i in text.split():\n",
        "    word1 = Word(i).lemmatize(\"n\")\n",
        "    word2 = Word(word1).lemmatize(\"v\")\n",
        "    word3 = Word(word2).lemmatize(\"a\")\n",
        "    lem.append(Word(word3).lemmatize())\n",
        "  lem_text = \" \".join(lem)\n",
        "  return lem_text"
      ],
      "execution_count": null,
      "outputs": []
    },
    {
      "cell_type": "code",
      "metadata": {
        "id": "lwUE1mqE1MeV",
        "colab_type": "code",
        "colab": {}
      },
      "source": [
        "#Lematizo\n",
        "df_train_res['text'] = df_train_res['text'].apply(lematizar_texto)"
      ],
      "execution_count": null,
      "outputs": []
    },
    {
      "cell_type": "code",
      "metadata": {
        "id": "JXWJ3FIi2u8p",
        "colab_type": "code",
        "colab": {}
      },
      "source": [
        "df_test_res['text'] = df_test_res['text'].apply(lematizar_texto)"
      ],
      "execution_count": null,
      "outputs": []
    },
    {
      "cell_type": "code",
      "metadata": {
        "id": "gGoDlICs8dX1",
        "colab_type": "code",
        "colab": {}
      },
      "source": [
        "tokenizer = TweetTokenizer(reduce_len=True,strip_handles=False)\n",
        "\n",
        "false_words = []\n",
        "true_words = []\n",
        "for index,row in df_train_res.iterrows():\n",
        "  clean_word = []\n",
        "  dirty_words = tokenizer.tokenize(row['text'])\n",
        "  for w in dirty_words:\n",
        "    if w.isalpha() and w not in sw:\n",
        "      clean_word.append(w.lower())\n",
        "  if row['target'] == False:\n",
        "    false_words += clean_word\n",
        "  if row['target'] == True:\n",
        "    true_words += clean_word  \n",
        "\n",
        "false_freqs = FreqDist(false_words).most_common()\n",
        "true_freqs = FreqDist(true_words).most_common()"
      ],
      "execution_count": null,
      "outputs": []
    },
    {
      "cell_type": "code",
      "metadata": {
        "id": "bZ1xB0YMaMCh",
        "colab_type": "code",
        "colab": {
          "base_uri": "https://localhost:8080/",
          "height": 34
        },
        "outputId": "99b21b5f-1010-4baa-89db-89fd748b6942"
      },
      "source": [
        "print(\"Len true: \" + str(len(true_freqs)) + \" Len false: \" + str(len(false_freqs)) + \" Suma: \" + str( len(true_freqs) + len(false_freqs)))"
      ],
      "execution_count": null,
      "outputs": [
        {
          "output_type": "stream",
          "text": [
            "Len true: 6406 Len false: 8376 Suma: 14782\n"
          ],
          "name": "stdout"
        }
      ]
    },
    {
      "cell_type": "code",
      "metadata": {
        "id": "Cz1WeJlydqWP",
        "colab_type": "code",
        "colab": {}
      },
      "source": [
        "true_freqs "
      ],
      "execution_count": null,
      "outputs": []
    },
    {
      "cell_type": "code",
      "metadata": {
        "id": "7O_NfFxzc24X",
        "colab_type": "code",
        "colab": {}
      },
      "source": [
        "df_false_freqs = pd.DataFrame(data=false_freqs,columns=['word','frequency_false'])\n",
        "df_true_freqs = pd.DataFrame(data=true_freqs,columns=['word','frequency_true'])"
      ],
      "execution_count": null,
      "outputs": []
    },
    {
      "cell_type": "code",
      "metadata": {
        "id": "ZgDEHmrQdALU",
        "colab_type": "code",
        "colab": {}
      },
      "source": [
        "merge = pd.concat([df_false_freqs,df_true_freqs])"
      ],
      "execution_count": null,
      "outputs": []
    },
    {
      "cell_type": "code",
      "metadata": {
        "id": "eDYNu3XGeb3W",
        "colab_type": "code",
        "colab": {
          "base_uri": "https://localhost:8080/",
          "height": 106
        },
        "outputId": "10258af9-e644-4d15-8c8c-1e77dee887ee"
      },
      "source": [
        "merge.loc[merge['word'] == 'url']"
      ],
      "execution_count": null,
      "outputs": [
        {
          "output_type": "execute_result",
          "data": {
            "text/html": [
              "<div>\n",
              "<style scoped>\n",
              "    .dataframe tbody tr th:only-of-type {\n",
              "        vertical-align: middle;\n",
              "    }\n",
              "\n",
              "    .dataframe tbody tr th {\n",
              "        vertical-align: top;\n",
              "    }\n",
              "\n",
              "    .dataframe thead th {\n",
              "        text-align: right;\n",
              "    }\n",
              "</style>\n",
              "<table border=\"1\" class=\"dataframe\">\n",
              "  <thead>\n",
              "    <tr style=\"text-align: right;\">\n",
              "      <th></th>\n",
              "      <th>word</th>\n",
              "      <th>frequency_false</th>\n",
              "      <th>frequency_true</th>\n",
              "    </tr>\n",
              "  </thead>\n",
              "  <tbody>\n",
              "    <tr>\n",
              "      <th>0</th>\n",
              "      <td>url</td>\n",
              "      <td>2164.0</td>\n",
              "      <td>NaN</td>\n",
              "    </tr>\n",
              "    <tr>\n",
              "      <th>0</th>\n",
              "      <td>url</td>\n",
              "      <td>NaN</td>\n",
              "      <td>2460.0</td>\n",
              "    </tr>\n",
              "  </tbody>\n",
              "</table>\n",
              "</div>"
            ],
            "text/plain": [
              "  word  frequency_false  frequency_true\n",
              "0  url           2164.0             NaN\n",
              "0  url              NaN          2460.0"
            ]
          },
          "metadata": {
            "tags": []
          },
          "execution_count": 57
        }
      ]
    },
    {
      "cell_type": "code",
      "metadata": {
        "id": "RRNZ4N6PfJDy",
        "colab_type": "code",
        "colab": {}
      },
      "source": [
        "merge = merge.groupby('word').sum().reset_index()"
      ],
      "execution_count": null,
      "outputs": []
    },
    {
      "cell_type": "code",
      "metadata": {
        "id": "2cnZzIZMgqF6",
        "colab_type": "code",
        "colab": {}
      },
      "source": [
        "merge['prob_true'] = merge['frequency_true'] / (merge['frequency_true'] + merge['frequency_false'])\n",
        "merge['prob_false'] = merge['frequency_false'] / (merge['frequency_true'] + merge['frequency_false'])"
      ],
      "execution_count": null,
      "outputs": []
    },
    {
      "cell_type": "code",
      "metadata": {
        "id": "bzEaRVRloZSo",
        "colab_type": "code",
        "colab": {}
      },
      "source": [
        "from math import sqrt\n",
        "\n",
        "def _confidence(freq1, freq2):\n",
        "    n = freq1 + freq2\n",
        "\n",
        "    if n == 0:\n",
        "        return 0\n",
        "\n",
        "    z = 1.281551565545\n",
        "    p = float(freq1) / n\n",
        "\n",
        "    left = p + 1/(2*n)*z*z\n",
        "    right = z*sqrt(p*(1-p)/n + z*z/(4*n*n))\n",
        "    under = 1+1/n*z*z\n",
        "\n",
        "    return (left - right) / under #El mas chico porque hay un -\n",
        "\n",
        "def confidence(freq1, freq2):\n",
        "    if freq1 + freq2 == 0:\n",
        "        return 0\n",
        "    else:\n",
        "        return _confidence(freq1, freq2) "
      ],
      "execution_count": null,
      "outputs": []
    },
    {
      "cell_type": "code",
      "metadata": {
        "id": "sxvOY2U6nfJO",
        "colab_type": "code",
        "colab": {}
      },
      "source": [
        "merge['prob_true_conf'] = merge.apply(lambda row: confidence(row['prob_true'],row['prob_false']), axis=1)\n",
        "merge['prob_false_conf'] = merge.apply(lambda row: confidence(row['prob_false'],row['prob_true']), axis=1)"
      ],
      "execution_count": null,
      "outputs": []
    },
    {
      "cell_type": "code",
      "metadata": {
        "id": "II4ywOB2vtGI",
        "colab_type": "code",
        "colab": {
          "base_uri": "https://localhost:8080/",
          "height": 402
        },
        "outputId": "ce7bd04a-580e-4680-c285-61232824e199"
      },
      "source": [
        "merge"
      ],
      "execution_count": null,
      "outputs": [
        {
          "output_type": "execute_result",
          "data": {
            "text/html": [
              "<div>\n",
              "<style scoped>\n",
              "    .dataframe tbody tr th:only-of-type {\n",
              "        vertical-align: middle;\n",
              "    }\n",
              "\n",
              "    .dataframe tbody tr th {\n",
              "        vertical-align: top;\n",
              "    }\n",
              "\n",
              "    .dataframe thead th {\n",
              "        text-align: right;\n",
              "    }\n",
              "</style>\n",
              "<table border=\"1\" class=\"dataframe\">\n",
              "  <thead>\n",
              "    <tr style=\"text-align: right;\">\n",
              "      <th></th>\n",
              "      <th>word</th>\n",
              "      <th>frequency_false</th>\n",
              "      <th>frequency_true</th>\n",
              "      <th>prob_true</th>\n",
              "      <th>prob_false</th>\n",
              "      <th>prob_true_conf</th>\n",
              "      <th>prob_false_conf</th>\n",
              "    </tr>\n",
              "  </thead>\n",
              "  <tbody>\n",
              "    <tr>\n",
              "      <th>0</th>\n",
              "      <td>ac</td>\n",
              "      <td>2.0</td>\n",
              "      <td>0.0</td>\n",
              "      <td>0.000000</td>\n",
              "      <td>1.000000</td>\n",
              "      <td>0.000000</td>\n",
              "      <td>0.378448</td>\n",
              "    </tr>\n",
              "    <tr>\n",
              "      <th>1</th>\n",
              "      <td>academia</td>\n",
              "      <td>1.0</td>\n",
              "      <td>0.0</td>\n",
              "      <td>0.000000</td>\n",
              "      <td>1.000000</td>\n",
              "      <td>0.000000</td>\n",
              "      <td>0.378448</td>\n",
              "    </tr>\n",
              "    <tr>\n",
              "      <th>2</th>\n",
              "      <td>acc</td>\n",
              "      <td>1.0</td>\n",
              "      <td>1.0</td>\n",
              "      <td>0.500000</td>\n",
              "      <td>0.500000</td>\n",
              "      <td>0.105807</td>\n",
              "      <td>0.105807</td>\n",
              "    </tr>\n",
              "    <tr>\n",
              "      <th>3</th>\n",
              "      <td>accept</td>\n",
              "      <td>2.0</td>\n",
              "      <td>1.0</td>\n",
              "      <td>0.333333</td>\n",
              "      <td>0.666667</td>\n",
              "      <td>0.051109</td>\n",
              "      <td>0.177258</td>\n",
              "    </tr>\n",
              "    <tr>\n",
              "      <th>4</th>\n",
              "      <td>accepte</td>\n",
              "      <td>0.0</td>\n",
              "      <td>1.0</td>\n",
              "      <td>1.000000</td>\n",
              "      <td>0.000000</td>\n",
              "      <td>0.378448</td>\n",
              "      <td>0.000000</td>\n",
              "    </tr>\n",
              "    <tr>\n",
              "      <th>...</th>\n",
              "      <td>...</td>\n",
              "      <td>...</td>\n",
              "      <td>...</td>\n",
              "      <td>...</td>\n",
              "      <td>...</td>\n",
              "      <td>...</td>\n",
              "      <td>...</td>\n",
              "    </tr>\n",
              "    <tr>\n",
              "      <th>11479</th>\n",
              "      <td>ã</td>\n",
              "      <td>2.0</td>\n",
              "      <td>0.0</td>\n",
              "      <td>0.000000</td>\n",
              "      <td>1.000000</td>\n",
              "      <td>0.000000</td>\n",
              "      <td>0.378448</td>\n",
              "    </tr>\n",
              "    <tr>\n",
              "      <th>11480</th>\n",
              "      <td>å</td>\n",
              "      <td>9.0</td>\n",
              "      <td>3.0</td>\n",
              "      <td>0.250000</td>\n",
              "      <td>0.750000</td>\n",
              "      <td>0.030306</td>\n",
              "      <td>0.219530</td>\n",
              "    </tr>\n",
              "    <tr>\n",
              "      <th>11481</th>\n",
              "      <td>åç</td>\n",
              "      <td>2.0</td>\n",
              "      <td>0.0</td>\n",
              "      <td>0.000000</td>\n",
              "      <td>1.000000</td>\n",
              "      <td>0.000000</td>\n",
              "      <td>0.378448</td>\n",
              "    </tr>\n",
              "    <tr>\n",
              "      <th>11482</th>\n",
              "      <td>åè</td>\n",
              "      <td>3.0</td>\n",
              "      <td>1.0</td>\n",
              "      <td>0.250000</td>\n",
              "      <td>0.750000</td>\n",
              "      <td>0.030306</td>\n",
              "      <td>0.219530</td>\n",
              "    </tr>\n",
              "    <tr>\n",
              "      <th>11483</th>\n",
              "      <td>ì</td>\n",
              "      <td>0.0</td>\n",
              "      <td>1.0</td>\n",
              "      <td>1.000000</td>\n",
              "      <td>0.000000</td>\n",
              "      <td>0.378448</td>\n",
              "      <td>0.000000</td>\n",
              "    </tr>\n",
              "  </tbody>\n",
              "</table>\n",
              "<p>11484 rows × 7 columns</p>\n",
              "</div>"
            ],
            "text/plain": [
              "           word  frequency_false  ...  prob_true_conf  prob_false_conf\n",
              "0            ac              2.0  ...        0.000000         0.378448\n",
              "1      academia              1.0  ...        0.000000         0.378448\n",
              "2           acc              1.0  ...        0.105807         0.105807\n",
              "3        accept              2.0  ...        0.051109         0.177258\n",
              "4       accepte              0.0  ...        0.378448         0.000000\n",
              "...         ...              ...  ...             ...              ...\n",
              "11479         ã              2.0  ...        0.000000         0.378448\n",
              "11480         å              9.0  ...        0.030306         0.219530\n",
              "11481        åç              2.0  ...        0.000000         0.378448\n",
              "11482        åè              3.0  ...        0.030306         0.219530\n",
              "11483         ì              0.0  ...        0.378448         0.000000\n",
              "\n",
              "[11484 rows x 7 columns]"
            ]
          },
          "metadata": {
            "tags": []
          },
          "execution_count": 62
        }
      ]
    },
    {
      "cell_type": "code",
      "metadata": {
        "id": "0AlvAD55mcZO",
        "colab_type": "code",
        "colab": {}
      },
      "source": [
        "def score_prob_true(text):\n",
        "  score = 0\n",
        "  count = 0\n",
        "  words = tknz.tokenize(text)\n",
        "  for w in words:\n",
        "    if w in merge['word'].tolist():\n",
        "        score += merge.loc[merge['word'] == w,'prob_true_conf'].values[0]\n",
        "        count += 1\n",
        "  return score/count if count > 0 else 0\n",
        "\n",
        "def score_prob_false(text):\n",
        "  score = 0\n",
        "  count = 0\n",
        "  words = tknz.tokenize(text)\n",
        "  for w in words:\n",
        "    if w in merge['word'].tolist():\n",
        "        score += merge.loc[merge['word'] == w,'prob_false_conf'].values[0]\n",
        "        count += 1\n",
        "  return score/count if count > 0 else 0"
      ],
      "execution_count": null,
      "outputs": []
    },
    {
      "cell_type": "code",
      "metadata": {
        "id": "_tFZvimnmmQW",
        "colab_type": "code",
        "colab": {
          "base_uri": "https://localhost:8080/",
          "height": 106
        },
        "outputId": "4871f6cc-4b67-4c48-e758-1123f1fc1b7c"
      },
      "source": [
        "df_train_res.head(2)"
      ],
      "execution_count": null,
      "outputs": [
        {
          "output_type": "execute_result",
          "data": {
            "text/html": [
              "<div>\n",
              "<style scoped>\n",
              "    .dataframe tbody tr th:only-of-type {\n",
              "        vertical-align: middle;\n",
              "    }\n",
              "\n",
              "    .dataframe tbody tr th {\n",
              "        vertical-align: top;\n",
              "    }\n",
              "\n",
              "    .dataframe thead th {\n",
              "        text-align: right;\n",
              "    }\n",
              "</style>\n",
              "<table border=\"1\" class=\"dataframe\">\n",
              "  <thead>\n",
              "    <tr style=\"text-align: right;\">\n",
              "      <th></th>\n",
              "      <th>id</th>\n",
              "      <th>text</th>\n",
              "      <th>target</th>\n",
              "      <th>keyword</th>\n",
              "      <th>count_words</th>\n",
              "      <th>num_no_stopwords</th>\n",
              "      <th>no_stpw / count_words</th>\n",
              "      <th>count_catastrophe</th>\n",
              "      <th>count_url</th>\n",
              "      <th>contains_location</th>\n",
              "    </tr>\n",
              "  </thead>\n",
              "  <tbody>\n",
              "    <tr>\n",
              "      <th>0</th>\n",
              "      <td>1</td>\n",
              "      <td>our deed be the reason of this earthquake may ...</td>\n",
              "      <td>True</td>\n",
              "      <td>noKeyword</td>\n",
              "      <td>13</td>\n",
              "      <td>7</td>\n",
              "      <td>0.538462</td>\n",
              "      <td>0.076923</td>\n",
              "      <td>0.0</td>\n",
              "      <td>0</td>\n",
              "    </tr>\n",
              "    <tr>\n",
              "      <th>1</th>\n",
              "      <td>4</td>\n",
              "      <td>forest fire near la ronge sask canada</td>\n",
              "      <td>True</td>\n",
              "      <td>noKeyword</td>\n",
              "      <td>7</td>\n",
              "      <td>7</td>\n",
              "      <td>1.000000</td>\n",
              "      <td>0.142857</td>\n",
              "      <td>0.0</td>\n",
              "      <td>1</td>\n",
              "    </tr>\n",
              "  </tbody>\n",
              "</table>\n",
              "</div>"
            ],
            "text/plain": [
              "   id  ... contains_location\n",
              "0   1  ...                 0\n",
              "1   4  ...                 1\n",
              "\n",
              "[2 rows x 10 columns]"
            ]
          },
          "metadata": {
            "tags": []
          },
          "execution_count": 78
        }
      ]
    },
    {
      "cell_type": "code",
      "metadata": {
        "id": "6MQ1SWZnoJ_t",
        "colab_type": "code",
        "colab": {
          "base_uri": "https://localhost:8080/",
          "height": 34
        },
        "outputId": "d84e7c13-1570-421a-ce2d-8c562d6cc35f"
      },
      "source": [
        "tfidf_train_vec = TfidfVectorizer()\n",
        "tfidf_train = tfidf_train_vec.fit_transform(df_train_res['text']).toarray()\n",
        "print(\"Train: Matriz \" + str(len(tfidf_train)) + 'x' + str(len(tfidf_train[0])))"
      ],
      "execution_count": null,
      "outputs": [
        {
          "output_type": "stream",
          "text": [
            "Train: Matriz 7613x11929\n"
          ],
          "name": "stdout"
        }
      ]
    },
    {
      "cell_type": "code",
      "metadata": {
        "id": "LLT6YEic3UCJ",
        "colab_type": "code",
        "colab": {
          "base_uri": "https://localhost:8080/",
          "height": 34
        },
        "outputId": "24b4f672-71df-49b0-efc6-71561cab8f59"
      },
      "source": [
        "tfidf_test_vec = TfidfVectorizer()\n",
        "tfidf_test = tfidf_test_vec.fit_transform(df_test_res['text']).toarray()\n",
        "print(\"Test: Matriz de \" + str(len(tfidf_test)) + 'x' + str(len(tfidf_test[0])))"
      ],
      "execution_count": null,
      "outputs": [
        {
          "output_type": "stream",
          "text": [
            "Test: Matriz de 3263x7427\n"
          ],
          "name": "stdout"
        }
      ]
    },
    {
      "cell_type": "code",
      "metadata": {
        "id": "boqibWSRWOy-",
        "colab_type": "code",
        "colab": {}
      },
      "source": [
        "def gen_feature_score(tfidf_vec): #Ver si se puede hacer con log reg + Gridsearch para valores\n",
        "  feature_score = []\n",
        "  for w in tfidf_vec.get_feature_names():\n",
        "    if w in catastrophe.tolist():\n",
        "      feature_score.append(50)\n",
        "    else:\n",
        "      NER_clf = nlp(w)\n",
        "      if not NER_clf.ents:\n",
        "        feature_score.append(1)\n",
        "      else:\n",
        "        for X in NER_clf.ents:\n",
        "          if X.label_ in ['FAC','LOC','FACILITY']:\n",
        "            feature_score.append(10)\n",
        "          elif X.label_ in ['GPE','NORP']:\n",
        "            feature_score.append(30)\n",
        "          elif X.label_ == 'PERSON':\n",
        "            feature_score.append(5)\n",
        "          elif X.label_ == 'ORG':\n",
        "            feature_score.append(8)\n",
        "          elif X.label_ in ['MONEY','PERCENT']:\n",
        "            feature_score.append(15)\n",
        "          else:\n",
        "            feature_score.append(1)\n",
        "  return feature_score        "
      ],
      "execution_count": null,
      "outputs": []
    },
    {
      "cell_type": "code",
      "metadata": {
        "id": "Ps9A2Oq83c1q",
        "colab_type": "code",
        "colab": {}
      },
      "source": [
        "feature_score_train = gen_feature_score(tfidf_train_vec)"
      ],
      "execution_count": null,
      "outputs": []
    },
    {
      "cell_type": "code",
      "metadata": {
        "id": "xAnecmAKg4_Z",
        "colab_type": "code",
        "colab": {
          "base_uri": "https://localhost:8080/",
          "height": 34
        },
        "outputId": "711492a8-b861-46d4-9277-ee0f5eedbf76"
      },
      "source": [
        "print(\"Todo OK\") if len(feature_score_train) == len(tfidf_train_vec.get_feature_names()) else print(\"Todo rip\")"
      ],
      "execution_count": null,
      "outputs": [
        {
          "output_type": "stream",
          "text": [
            "Todo OK\n"
          ],
          "name": "stdout"
        }
      ]
    },
    {
      "cell_type": "code",
      "metadata": {
        "id": "0ZhFkFfk3iPy",
        "colab_type": "code",
        "colab": {}
      },
      "source": [
        "feature_score_test = gen_feature_score(tfidf_test_vec)"
      ],
      "execution_count": null,
      "outputs": []
    },
    {
      "cell_type": "code",
      "metadata": {
        "id": "3ZgRw68w4Mz-",
        "colab_type": "code",
        "colab": {
          "base_uri": "https://localhost:8080/",
          "height": 34
        },
        "outputId": "27017e7c-ae73-4d33-e0ed-f2d9306e16b0"
      },
      "source": [
        "print(\"Todo OK\") if len(feature_score_test) == len(tfidf_test_vec.get_feature_names()) else print(\"Todo rip\")"
      ],
      "execution_count": null,
      "outputs": [
        {
          "output_type": "stream",
          "text": [
            "Todo OK\n"
          ],
          "name": "stdout"
        }
      ]
    },
    {
      "cell_type": "markdown",
      "metadata": {
        "id": "SHxTUm5g4ncG",
        "colab_type": "text"
      },
      "source": [
        "Features post lemmatization"
      ]
    },
    {
      "cell_type": "code",
      "metadata": {
        "id": "pqPz0IiHwE8q",
        "colab_type": "code",
        "colab": {}
      },
      "source": [
        "# --------------------------------- Train ------------------------------------ #\n",
        "df_train_res['score_true'] = df_train_res['text'].apply(score_true_freqs)\n",
        "df_train_res['score_false'] = df_train_res['text'].apply(score_false_freqs)\n",
        "df_train_res['tfidf_fscore'] = tfidf_train @ feature_score_train\n",
        "df_train_res['polarity_check'] = df_train_res['text'].apply(polarity_check)\n",
        "df_train_res['subjectivity_check'] = df_train_res['text'].apply(subjectivity_check)\n",
        "\n",
        "#Feature keyword\n",
        "le = preprocessing.LabelEncoder()\n",
        "df_train_res['keyword_encoded'] = df_train_res['keyword'].apply(clean_text)\n",
        "df_train_res['keyword_encoded'] = le.fit_transform(df_train_res['keyword_encoded'])\n",
        "\n",
        "df_train_res['score_prob_true'] = df_train_res['text'].apply(score_prob_true)\n",
        "df_train_res['score_prob_false'] = df_train_res['text'].apply(score_prob_false)"
      ],
      "execution_count": null,
      "outputs": []
    },
    {
      "cell_type": "code",
      "metadata": {
        "id": "wK9DmELN0dwB",
        "colab_type": "code",
        "colab": {}
      },
      "source": [
        "# --------------------------------- Test ------------------------------------- #\n",
        "df_test_res['score_true'] = df_test_res['text'].apply(score_true_freqs)\n",
        "df_test_res['score_false'] = df_test_res['text'].apply(score_false_freqs)\n",
        "df_test_res['tfidf_fscore'] = tfidf_test @ feature_score_test\n",
        "df_test_res['polarity_check'] = df_test_res['text'].apply(polarity_check)\n",
        "df_test_res['subjectivity_check'] = df_test_res['text'].apply(subjectivity_check)\n",
        "\n",
        "#Feature keyword\n",
        "le = preprocessing.LabelEncoder()\n",
        "df_test_res['keyword_encoded'] = df_test_res['keyword'].apply(clean_text)\n",
        "df_test_res['keyword_encoded'] = le.fit_transform(df_test_res['keyword_encoded'])\n",
        "\n",
        "df_test_res['score_prob_true'] = df_test_res['text'].apply(score_prob_true)\n",
        "df_test_res['score_prob_false'] = df_test_res['text'].apply(score_prob_false)"
      ],
      "execution_count": null,
      "outputs": []
    },
    {
      "cell_type": "code",
      "metadata": {
        "id": "d2ZpfgP8sLbU",
        "colab_type": "code",
        "colab": {}
      },
      "source": [
        "#from sklearn.decomposition import TruncatedSVD\n",
        "#ti1 = TfidfVectorizer(ngram_range = (1 , 2))\n",
        "#ti2 = TfidfVectorizer(ngram_range = (1 , 2))\n",
        "#ti_train = ti1.fit_transform(X_train['text']).toarray()\n",
        "#ti_test = ti2.fit_transform(X_test['text']).toarray()\n",
        "#svd = TruncatedSVD(n_components=1000, n_iter=7, random_state=42)\n",
        "#svd2 = TruncatedSVD(n_components=1000, n_iter=7, random_state=42)\n",
        "#ti_red_train = svd.fit_transform(ti_train) #Baja el accuracy\n",
        "#ti_red_test = svd2.fit_transform(ti_test) #Baja el accuracy"
      ],
      "execution_count": null,
      "outputs": []
    },
    {
      "cell_type": "code",
      "metadata": {
        "id": "gP5WUleSPz0U",
        "colab_type": "code",
        "colab": {}
      },
      "source": [
        "#print(\"Train: Matriz de \" + str(len(ti_red_train)) + 'x' + str(len(ti_red_train[0])) + \" con Y_train: \"+ str(len(y_train)))"
      ],
      "execution_count": null,
      "outputs": []
    },
    {
      "cell_type": "code",
      "metadata": {
        "id": "iM4ekIaiQez6",
        "colab_type": "code",
        "colab": {}
      },
      "source": [
        "#print(\"Test: Matriz de \" + str(len(ti_red_test)) + 'x' + str(len(ti_red_test[0])) + \" con Y_test: \"+ str(len(y_test)))"
      ],
      "execution_count": null,
      "outputs": []
    },
    {
      "cell_type": "code",
      "metadata": {
        "id": "E2KpjclTOflU",
        "colab_type": "code",
        "colab": {}
      },
      "source": [
        "#print(\"Todo OK\") if len(ti_red_train) == len(y_train) and len(ti_red_test) == len(y_test) else print(\"F\")"
      ],
      "execution_count": null,
      "outputs": []
    },
    {
      "cell_type": "code",
      "metadata": {
        "id": "qTg2rLcxOZKz",
        "colab_type": "code",
        "colab": {}
      },
      "source": [
        "#clf = LogisticRegression(max_iter=2000)\n",
        "#clf.fit(ti_red_train, y_train)\n",
        "#pred = clf.predict(ti_red_test)\n",
        "#clf.score(ti_red_test,y_test)"
      ],
      "execution_count": null,
      "outputs": []
    },
    {
      "cell_type": "code",
      "metadata": {
        "id": "MB7LxdCW1cCq",
        "colab_type": "code",
        "colab": {
          "base_uri": "https://localhost:8080/",
          "height": 374
        },
        "outputId": "fbec8c1d-2424-4b75-b2b1-f373175543ff"
      },
      "source": [
        "df_train_res.head(3)"
      ],
      "execution_count": null,
      "outputs": [
        {
          "output_type": "execute_result",
          "data": {
            "text/html": [
              "<div>\n",
              "<style scoped>\n",
              "    .dataframe tbody tr th:only-of-type {\n",
              "        vertical-align: middle;\n",
              "    }\n",
              "\n",
              "    .dataframe tbody tr th {\n",
              "        vertical-align: top;\n",
              "    }\n",
              "\n",
              "    .dataframe thead th {\n",
              "        text-align: right;\n",
              "    }\n",
              "</style>\n",
              "<table border=\"1\" class=\"dataframe\">\n",
              "  <thead>\n",
              "    <tr style=\"text-align: right;\">\n",
              "      <th></th>\n",
              "      <th>id</th>\n",
              "      <th>text</th>\n",
              "      <th>target</th>\n",
              "      <th>keyword</th>\n",
              "      <th>count_words</th>\n",
              "      <th>num_no_stopwords</th>\n",
              "      <th>no_stpw / count_words</th>\n",
              "      <th>count_catastrophe</th>\n",
              "      <th>count_url</th>\n",
              "      <th>contains_location</th>\n",
              "      <th>score_true</th>\n",
              "      <th>score_false</th>\n",
              "      <th>tfidf_fscore</th>\n",
              "      <th>polarity_check</th>\n",
              "      <th>subjectivity_check</th>\n",
              "      <th>keyword_encoded</th>\n",
              "      <th>score_prob_true</th>\n",
              "      <th>score_prob_false</th>\n",
              "    </tr>\n",
              "  </thead>\n",
              "  <tbody>\n",
              "    <tr>\n",
              "      <th>0</th>\n",
              "      <td>1</td>\n",
              "      <td>our deed be the reason of this earthquake may ...</td>\n",
              "      <td>True</td>\n",
              "      <td>noKeyword</td>\n",
              "      <td>13</td>\n",
              "      <td>7</td>\n",
              "      <td>0.538462</td>\n",
              "      <td>0.076923</td>\n",
              "      <td>0.0</td>\n",
              "      <td>0</td>\n",
              "      <td>218</td>\n",
              "      <td>224</td>\n",
              "      <td>18.247059</td>\n",
              "      <td>0.0000</td>\n",
              "      <td>0.000</td>\n",
              "      <td>142</td>\n",
              "      <td>0.122639</td>\n",
              "      <td>0.112187</td>\n",
              "    </tr>\n",
              "    <tr>\n",
              "      <th>1</th>\n",
              "      <td>4</td>\n",
              "      <td>forest fire near la ronge sask canada</td>\n",
              "      <td>True</td>\n",
              "      <td>noKeyword</td>\n",
              "      <td>7</td>\n",
              "      <td>7</td>\n",
              "      <td>1.000000</td>\n",
              "      <td>0.142857</td>\n",
              "      <td>0.0</td>\n",
              "      <td>1</td>\n",
              "      <td>401</td>\n",
              "      <td>121</td>\n",
              "      <td>24.628690</td>\n",
              "      <td>0.1000</td>\n",
              "      <td>0.400</td>\n",
              "      <td>142</td>\n",
              "      <td>0.282948</td>\n",
              "      <td>0.015749</td>\n",
              "    </tr>\n",
              "    <tr>\n",
              "      <th>2</th>\n",
              "      <td>5</td>\n",
              "      <td>all resident ask to shelter in place be be not...</td>\n",
              "      <td>True</td>\n",
              "      <td>noKeyword</td>\n",
              "      <td>22</td>\n",
              "      <td>11</td>\n",
              "      <td>0.500000</td>\n",
              "      <td>0.045455</td>\n",
              "      <td>0.0</td>\n",
              "      <td>0</td>\n",
              "      <td>183</td>\n",
              "      <td>101</td>\n",
              "      <td>13.093889</td>\n",
              "      <td>0.0625</td>\n",
              "      <td>0.375</td>\n",
              "      <td>142</td>\n",
              "      <td>0.235372</td>\n",
              "      <td>0.057101</td>\n",
              "    </tr>\n",
              "  </tbody>\n",
              "</table>\n",
              "</div>"
            ],
            "text/plain": [
              "   id  ... score_prob_false\n",
              "0   1  ...         0.112187\n",
              "1   4  ...         0.015749\n",
              "2   5  ...         0.057101\n",
              "\n",
              "[3 rows x 18 columns]"
            ]
          },
          "metadata": {
            "tags": []
          },
          "execution_count": 101
        }
      ]
    },
    {
      "cell_type": "code",
      "metadata": {
        "id": "hba5dqzNJmHO",
        "colab_type": "code",
        "colab": {
          "base_uri": "https://localhost:8080/",
          "height": 374
        },
        "outputId": "6df84704-5820-440d-9cd0-820aa4e9f16c"
      },
      "source": [
        "df_test_res.head(3)"
      ],
      "execution_count": null,
      "outputs": [
        {
          "output_type": "execute_result",
          "data": {
            "text/html": [
              "<div>\n",
              "<style scoped>\n",
              "    .dataframe tbody tr th:only-of-type {\n",
              "        vertical-align: middle;\n",
              "    }\n",
              "\n",
              "    .dataframe tbody tr th {\n",
              "        vertical-align: top;\n",
              "    }\n",
              "\n",
              "    .dataframe thead th {\n",
              "        text-align: right;\n",
              "    }\n",
              "</style>\n",
              "<table border=\"1\" class=\"dataframe\">\n",
              "  <thead>\n",
              "    <tr style=\"text-align: right;\">\n",
              "      <th></th>\n",
              "      <th>id</th>\n",
              "      <th>text</th>\n",
              "      <th>keyword</th>\n",
              "      <th>count_words</th>\n",
              "      <th>num_no_stopwords</th>\n",
              "      <th>no_stpw / count_words</th>\n",
              "      <th>count_catastrophe</th>\n",
              "      <th>count_url</th>\n",
              "      <th>contains_location</th>\n",
              "      <th>score_true</th>\n",
              "      <th>score_false</th>\n",
              "      <th>tfidf_fscore</th>\n",
              "      <th>polarity_check</th>\n",
              "      <th>subjectivity_check</th>\n",
              "      <th>keyword_encoded</th>\n",
              "      <th>score_prob_true</th>\n",
              "      <th>score_prob_false</th>\n",
              "    </tr>\n",
              "  </thead>\n",
              "  <tbody>\n",
              "    <tr>\n",
              "      <th>0</th>\n",
              "      <td>0</td>\n",
              "      <td>just happen a terrible car crash</td>\n",
              "      <td>noKeyword</td>\n",
              "      <td>6</td>\n",
              "      <td>4</td>\n",
              "      <td>0.666667</td>\n",
              "      <td>0.166667</td>\n",
              "      <td>0.0</td>\n",
              "      <td>0</td>\n",
              "      <td>219</td>\n",
              "      <td>119</td>\n",
              "      <td>21.839651</td>\n",
              "      <td>-1.00</td>\n",
              "      <td>1.00</td>\n",
              "      <td>142</td>\n",
              "      <td>0.139503</td>\n",
              "      <td>0.082216</td>\n",
              "    </tr>\n",
              "    <tr>\n",
              "      <th>1</th>\n",
              "      <td>2</td>\n",
              "      <td>hear about earthquake be different city stay s...</td>\n",
              "      <td>noKeyword</td>\n",
              "      <td>9</td>\n",
              "      <td>7</td>\n",
              "      <td>0.777778</td>\n",
              "      <td>0.111111</td>\n",
              "      <td>0.0</td>\n",
              "      <td>0</td>\n",
              "      <td>156</td>\n",
              "      <td>147</td>\n",
              "      <td>19.554826</td>\n",
              "      <td>0.25</td>\n",
              "      <td>0.55</td>\n",
              "      <td>142</td>\n",
              "      <td>0.113578</td>\n",
              "      <td>0.125665</td>\n",
              "    </tr>\n",
              "    <tr>\n",
              "      <th>2</th>\n",
              "      <td>3</td>\n",
              "      <td>there be a forest fire at spot pond goose be f...</td>\n",
              "      <td>noKeyword</td>\n",
              "      <td>19</td>\n",
              "      <td>9</td>\n",
              "      <td>0.473684</td>\n",
              "      <td>0.052632</td>\n",
              "      <td>0.0</td>\n",
              "      <td>0</td>\n",
              "      <td>412</td>\n",
              "      <td>184</td>\n",
              "      <td>12.120184</td>\n",
              "      <td>0.00</td>\n",
              "      <td>0.00</td>\n",
              "      <td>142</td>\n",
              "      <td>0.186692</td>\n",
              "      <td>0.072359</td>\n",
              "    </tr>\n",
              "  </tbody>\n",
              "</table>\n",
              "</div>"
            ],
            "text/plain": [
              "   id  ... score_prob_false\n",
              "0   0  ...         0.082216\n",
              "1   2  ...         0.125665\n",
              "2   3  ...         0.072359\n",
              "\n",
              "[3 rows x 17 columns]"
            ]
          },
          "metadata": {
            "tags": []
          },
          "execution_count": 102
        }
      ]
    },
    {
      "cell_type": "code",
      "metadata": {
        "id": "6tdzoaT0zVQ8",
        "colab_type": "code",
        "colab": {}
      },
      "source": [
        "feature_arr = ['count_words','num_no_stopwords','no_stpw / count_words','count_catastrophe','contains_location','count_url','tfidf_fscore','polarity_check','subjectivity_check','keyword_encoded','score_prob_true']"
      ],
      "execution_count": null,
      "outputs": []
    },
    {
      "cell_type": "code",
      "metadata": {
        "id": "zobN0Kr9mhQa",
        "colab_type": "code",
        "colab": {}
      },
      "source": [
        "feature_arr = ['tfidf_fscore','score_true','score_false','keyword_encoded']"
      ],
      "execution_count": null,
      "outputs": []
    },
    {
      "cell_type": "code",
      "metadata": {
        "id": "fSFzrEY8qjk7",
        "colab_type": "code",
        "colab": {
          "base_uri": "https://localhost:8080/",
          "height": 34
        },
        "outputId": "92e1c0ef-aa64-4795-9dbb-384917cc02a8"
      },
      "source": [
        "# -------------- Definición de train y test set - MLP (submit) --------------- #\n",
        "\n",
        "y_train = np.array(df_train_res['target']) # prediction \n",
        "X_train = df_train_res.copy()  #Train submit\n",
        "X_test = df_test_res.copy()\n",
        "X_train_clf = X_train.loc[:,feature_arr] #Features del train\n",
        "X_test_clf = X_test.loc[:,feature_arr] #Features del test\n",
        "prints = (len(X_train_clf), len(y_train), len(X_test_clf))\n",
        "print(prints) "
      ],
      "execution_count": null,
      "outputs": [
        {
          "output_type": "stream",
          "text": [
            "(7613, 7613, 3263)\n"
          ],
          "name": "stdout"
        }
      ]
    },
    {
      "cell_type": "code",
      "metadata": {
        "id": "Rx05piBgtKwG",
        "colab_type": "code",
        "colab": {
          "base_uri": "https://localhost:8080/",
          "height": 34
        },
        "outputId": "8f73a9ca-41d2-49f9-e83d-3a3a28712bca"
      },
      "source": [
        "# --------------- Definición de train y test set local - MLP - (train spliteado en train2.0 y test porque no tengo target test) --------------- #\n",
        "\n",
        "#X = np.array(X) #Esto se hace si tengo 1 solo feature\n",
        "X = df_train_res.copy() #Train local\n",
        "y = np.array(df_train_res['target']) # prediction \n",
        "X_train, X_test, y_train, y_test = train_test_split(X,y)\n",
        "X_train_clf = X_train.loc[:,feature_arr] #Features del train \n",
        "X_test_clf = X_test.loc[:,feature_arr] #Features del test\n",
        "prints = (len(X_train) , len(X_test) , len(y_train) , len(y_test), y)\n",
        "print(prints) "
      ],
      "execution_count": null,
      "outputs": [
        {
          "output_type": "stream",
          "text": [
            "(5709, 1904, 5709, 1904, array([ True,  True,  True, ...,  True,  True,  True]))\n"
          ],
          "name": "stdout"
        }
      ]
    },
    {
      "cell_type": "code",
      "metadata": {
        "id": "CgKmKkKKmkJ1",
        "colab_type": "code",
        "colab": {
          "base_uri": "https://localhost:8080/",
          "height": 418
        },
        "outputId": "a2ee4261-51ae-4e0b-ba3d-d7d47974967e"
      },
      "source": [
        "X_train_clf"
      ],
      "execution_count": null,
      "outputs": [
        {
          "output_type": "execute_result",
          "data": {
            "text/html": [
              "<div>\n",
              "<style scoped>\n",
              "    .dataframe tbody tr th:only-of-type {\n",
              "        vertical-align: middle;\n",
              "    }\n",
              "\n",
              "    .dataframe tbody tr th {\n",
              "        vertical-align: top;\n",
              "    }\n",
              "\n",
              "    .dataframe thead th {\n",
              "        text-align: right;\n",
              "    }\n",
              "</style>\n",
              "<table border=\"1\" class=\"dataframe\">\n",
              "  <thead>\n",
              "    <tr style=\"text-align: right;\">\n",
              "      <th></th>\n",
              "      <th>count_words</th>\n",
              "      <th>num_no_stopwords</th>\n",
              "      <th>no_stpw / count_words</th>\n",
              "      <th>count_catastrophe</th>\n",
              "      <th>contains_location</th>\n",
              "      <th>count_url</th>\n",
              "      <th>tfidf_fscore</th>\n",
              "      <th>polarity_check</th>\n",
              "      <th>subjectivity_check</th>\n",
              "      <th>keyword_encoded</th>\n",
              "      <th>score_prob_true</th>\n",
              "    </tr>\n",
              "  </thead>\n",
              "  <tbody>\n",
              "    <tr>\n",
              "      <th>6714</th>\n",
              "      <td>17</td>\n",
              "      <td>14</td>\n",
              "      <td>0.823529</td>\n",
              "      <td>0.058824</td>\n",
              "      <td>0</td>\n",
              "      <td>0.058824</td>\n",
              "      <td>15.099450</td>\n",
              "      <td>0.000000</td>\n",
              "      <td>0.000000</td>\n",
              "      <td>189</td>\n",
              "      <td>0.289421</td>\n",
              "    </tr>\n",
              "    <tr>\n",
              "      <th>3424</th>\n",
              "      <td>13</td>\n",
              "      <td>6</td>\n",
              "      <td>0.461538</td>\n",
              "      <td>0.076923</td>\n",
              "      <td>0</td>\n",
              "      <td>0.076923</td>\n",
              "      <td>20.507763</td>\n",
              "      <td>0.000000</td>\n",
              "      <td>0.000000</td>\n",
              "      <td>95</td>\n",
              "      <td>0.047895</td>\n",
              "    </tr>\n",
              "    <tr>\n",
              "      <th>5444</th>\n",
              "      <td>10</td>\n",
              "      <td>7</td>\n",
              "      <td>0.700000</td>\n",
              "      <td>0.000000</td>\n",
              "      <td>0</td>\n",
              "      <td>0.000000</td>\n",
              "      <td>14.596787</td>\n",
              "      <td>0.000000</td>\n",
              "      <td>0.000000</td>\n",
              "      <td>152</td>\n",
              "      <td>0.129108</td>\n",
              "    </tr>\n",
              "    <tr>\n",
              "      <th>6904</th>\n",
              "      <td>9</td>\n",
              "      <td>7</td>\n",
              "      <td>0.777778</td>\n",
              "      <td>0.111111</td>\n",
              "      <td>0</td>\n",
              "      <td>0.000000</td>\n",
              "      <td>2.742525</td>\n",
              "      <td>-0.208333</td>\n",
              "      <td>0.166667</td>\n",
              "      <td>194</td>\n",
              "      <td>0.027632</td>\n",
              "    </tr>\n",
              "    <tr>\n",
              "      <th>5632</th>\n",
              "      <td>20</td>\n",
              "      <td>16</td>\n",
              "      <td>0.800000</td>\n",
              "      <td>0.050000</td>\n",
              "      <td>0</td>\n",
              "      <td>0.050000</td>\n",
              "      <td>27.628108</td>\n",
              "      <td>0.000000</td>\n",
              "      <td>0.000000</td>\n",
              "      <td>158</td>\n",
              "      <td>0.087516</td>\n",
              "    </tr>\n",
              "    <tr>\n",
              "      <th>...</th>\n",
              "      <td>...</td>\n",
              "      <td>...</td>\n",
              "      <td>...</td>\n",
              "      <td>...</td>\n",
              "      <td>...</td>\n",
              "      <td>...</td>\n",
              "      <td>...</td>\n",
              "      <td>...</td>\n",
              "      <td>...</td>\n",
              "      <td>...</td>\n",
              "      <td>...</td>\n",
              "    </tr>\n",
              "    <tr>\n",
              "      <th>1488</th>\n",
              "      <td>26</td>\n",
              "      <td>13</td>\n",
              "      <td>0.500000</td>\n",
              "      <td>0.038462</td>\n",
              "      <td>0</td>\n",
              "      <td>0.000000</td>\n",
              "      <td>16.064106</td>\n",
              "      <td>-0.028125</td>\n",
              "      <td>0.871875</td>\n",
              "      <td>40</td>\n",
              "      <td>0.034730</td>\n",
              "    </tr>\n",
              "    <tr>\n",
              "      <th>2920</th>\n",
              "      <td>29</td>\n",
              "      <td>19</td>\n",
              "      <td>0.655172</td>\n",
              "      <td>0.034483</td>\n",
              "      <td>0</td>\n",
              "      <td>0.000000</td>\n",
              "      <td>9.567203</td>\n",
              "      <td>0.000000</td>\n",
              "      <td>0.000000</td>\n",
              "      <td>82</td>\n",
              "      <td>0.032079</td>\n",
              "    </tr>\n",
              "    <tr>\n",
              "      <th>6215</th>\n",
              "      <td>20</td>\n",
              "      <td>11</td>\n",
              "      <td>0.550000</td>\n",
              "      <td>0.050000</td>\n",
              "      <td>0</td>\n",
              "      <td>0.000000</td>\n",
              "      <td>15.462144</td>\n",
              "      <td>0.700000</td>\n",
              "      <td>0.850000</td>\n",
              "      <td>175</td>\n",
              "      <td>0.028297</td>\n",
              "    </tr>\n",
              "    <tr>\n",
              "      <th>5916</th>\n",
              "      <td>11</td>\n",
              "      <td>7</td>\n",
              "      <td>0.636364</td>\n",
              "      <td>0.090909</td>\n",
              "      <td>0</td>\n",
              "      <td>0.090909</td>\n",
              "      <td>2.426411</td>\n",
              "      <td>0.000000</td>\n",
              "      <td>0.000000</td>\n",
              "      <td>167</td>\n",
              "      <td>0.015478</td>\n",
              "    </tr>\n",
              "    <tr>\n",
              "      <th>232</th>\n",
              "      <td>18</td>\n",
              "      <td>13</td>\n",
              "      <td>0.722222</td>\n",
              "      <td>0.055556</td>\n",
              "      <td>0</td>\n",
              "      <td>0.000000</td>\n",
              "      <td>5.137613</td>\n",
              "      <td>-0.200000</td>\n",
              "      <td>0.300000</td>\n",
              "      <td>5</td>\n",
              "      <td>0.031034</td>\n",
              "    </tr>\n",
              "  </tbody>\n",
              "</table>\n",
              "<p>5709 rows × 11 columns</p>\n",
              "</div>"
            ],
            "text/plain": [
              "      count_words  num_no_stopwords  ...  keyword_encoded  score_prob_true\n",
              "6714           17                14  ...              189         0.289421\n",
              "3424           13                 6  ...               95         0.047895\n",
              "5444           10                 7  ...              152         0.129108\n",
              "6904            9                 7  ...              194         0.027632\n",
              "5632           20                16  ...              158         0.087516\n",
              "...           ...               ...  ...              ...              ...\n",
              "1488           26                13  ...               40         0.034730\n",
              "2920           29                19  ...               82         0.032079\n",
              "6215           20                11  ...              175         0.028297\n",
              "5916           11                 7  ...              167         0.015478\n",
              "232            18                13  ...                5         0.031034\n",
              "\n",
              "[5709 rows x 11 columns]"
            ]
          },
          "metadata": {
            "tags": []
          },
          "execution_count": 135
        }
      ]
    },
    {
      "cell_type": "code",
      "metadata": {
        "id": "Gwr0si7nX1F0",
        "colab_type": "code",
        "colab": {
          "base_uri": "https://localhost:8080/",
          "height": 34
        },
        "outputId": "bdf360c8-6b20-402e-fac3-82aecfed0dd9"
      },
      "source": [
        "#tfidf + log reg benja\n",
        "vect = TfidfVectorizer()\n",
        "\n",
        "train_vec = vect.fit_transform(X_train['text'])\n",
        "test_vec = vect.transform(X_test['text'])\n",
        "clf = LogisticRegression(max_iter=500, solver='lbfgs')\n",
        "clf.fit(train_vec , y_train)\n",
        "pred = clf.predict(test_vec)\n",
        "clf.score(test_vec,y_test)"
      ],
      "execution_count": null,
      "outputs": [
        {
          "output_type": "execute_result",
          "data": {
            "text/plain": [
              "0.7930672268907563"
            ]
          },
          "metadata": {
            "tags": []
          },
          "execution_count": 38
        }
      ]
    },
    {
      "cell_type": "code",
      "metadata": {
        "id": "iIc-WlmvS7KH",
        "colab_type": "code",
        "colab": {
          "base_uri": "https://localhost:8080/",
          "height": 34
        },
        "outputId": "0f7a51fb-5a4c-4540-b29b-8a9d8f430b5a"
      },
      "source": [
        "# --------------- Entrenamiento - Logistic Regression --------------- #\n",
        "from sklearn.linear_model import LogisticRegression\n",
        "clf = LogisticRegression(max_iter=2000)\n",
        "clf.fit(X_train_clf , y_train)\n",
        "pred = clf.predict(X_test_clf)\n",
        "clf.score(X_test_clf,y_test)"
      ],
      "execution_count": null,
      "outputs": [
        {
          "output_type": "execute_result",
          "data": {
            "text/plain": [
              "0.9185924369747899"
            ]
          },
          "metadata": {
            "tags": []
          },
          "execution_count": 139
        }
      ]
    },
    {
      "cell_type": "code",
      "metadata": {
        "id": "AuBdXDxQHu5M",
        "colab_type": "code",
        "colab": {
          "base_uri": "https://localhost:8080/",
          "height": 34
        },
        "outputId": "ec569b01-2c6c-4f5d-b1d0-a1e1eb558f3e"
      },
      "source": [
        "# -------------- Entrenamiento - Support Vector Classification -------------- #\n",
        "from sklearn.pipeline import make_pipeline\n",
        "from sklearn.preprocessing import StandardScaler\n",
        "from sklearn.svm import SVC\n",
        "clf = make_pipeline(StandardScaler(), SVC(gamma='auto'))\n",
        "clf.fit(X_train_clf, y_train)\n",
        "pred = clf.predict(X_test_clf)\n",
        "clf.score(X_test_clf,y_test)"
      ],
      "execution_count": null,
      "outputs": [
        {
          "output_type": "execute_result",
          "data": {
            "text/plain": [
              "0.9233193277310925"
            ]
          },
          "metadata": {
            "tags": []
          },
          "execution_count": 140
        }
      ]
    },
    {
      "cell_type": "code",
      "metadata": {
        "id": "8DjBgizWIdO1",
        "colab_type": "code",
        "colab": {
          "base_uri": "https://localhost:8080/",
          "height": 34
        },
        "outputId": "a099adb8-81ab-4845-e6f1-cb22c0a5e18c"
      },
      "source": [
        "# ----------- Entrenamiento - StandardScaler + X Algoritmo ----------- #\n",
        "from sklearn.pipeline import make_pipeline\n",
        "from sklearn.preprocessing import StandardScaler\n",
        "from sklearn.svm import LinearSVC\n",
        "clf = make_pipeline(StandardScaler(),LogisticRegression(max_iter=2000))\n",
        "clf.fit(X_train_clf, y_train)\n",
        "pred = clf.predict(X_test_clf)\n",
        "clf.score(X_test_clf,y_test)"
      ],
      "execution_count": null,
      "outputs": [
        {
          "output_type": "execute_result",
          "data": {
            "text/plain": [
              "0.9233193277310925"
            ]
          },
          "metadata": {
            "tags": []
          },
          "execution_count": 141
        }
      ]
    },
    {
      "cell_type": "code",
      "metadata": {
        "id": "uaE-rYfgcfj5",
        "colab_type": "code",
        "colab": {}
      },
      "source": [
        "from sklearn.model_selection import GridSearchCV\n",
        "clf = MLPClassifier(activation='relu',learning_rate_init=0.0003,\n",
        "                    hidden_layer_sizes=(50,40,100), random_state=1,\n",
        "                    max_iter=400, solver='adam')\n",
        "\n",
        "optimization_dict = {'hidden_layer_sizes': (list(range(10, 100)))}\n",
        "\n",
        "model = GridSearchCV(clf, optimization_dict, \n",
        "                     scoring='accuracy', verbose=1)\n",
        "\n",
        "model.fit(X_train_clf,y_train)"
      ],
      "execution_count": null,
      "outputs": []
    },
    {
      "cell_type": "code",
      "metadata": {
        "id": "QvENGP94max6",
        "colab_type": "code",
        "colab": {
          "base_uri": "https://localhost:8080/",
          "height": 50
        },
        "outputId": "975664c7-4c75-4c57-8a50-0ef7a2ac6781"
      },
      "source": [
        "print(model.best_score_)\n",
        "print(model.best_params_)"
      ],
      "execution_count": null,
      "outputs": [
        {
          "output_type": "stream",
          "text": [
            "0.7812188896273432\n",
            "{'hidden_layer_sizes': 17}\n"
          ],
          "name": "stdout"
        }
      ]
    },
    {
      "cell_type": "code",
      "metadata": {
        "id": "EUE5Lz8rZBYi",
        "colab_type": "code",
        "colab": {
          "base_uri": "https://localhost:8080/",
          "height": 34
        },
        "outputId": "f942a0a3-11e6-4945-dde6-5889b4b4f5e3"
      },
      "source": [
        "# --------------- Entrenamiento - MLP (Multilayer Perceptron) --------------- #\n",
        "clf = MLPClassifier(activation='relu',learning_rate_init=0.0003,\n",
        "                    hidden_layer_sizes=(50,35,60), random_state=1,\n",
        "                    max_iter=400, solver='adam')\n",
        "\n",
        "clf.fit(X_train_clf, y_train) \n",
        "pred = clf.predict(X_test_clf)\n",
        "clf.score(X_test_clf,y_test)"
      ],
      "execution_count": null,
      "outputs": [
        {
          "output_type": "execute_result",
          "data": {
            "text/plain": [
              "0.9091386554621849"
            ]
          },
          "metadata": {
            "tags": []
          },
          "execution_count": 93
        }
      ]
    },
    {
      "cell_type": "code",
      "metadata": {
        "id": "wOPjiHcGpSue",
        "colab_type": "code",
        "colab": {}
      },
      "source": [
        "def convertStates(x):\n",
        "    if(x == True):\n",
        "        return 1\n",
        "    else:\n",
        "        return 0"
      ],
      "execution_count": null,
      "outputs": []
    },
    {
      "cell_type": "code",
      "metadata": {
        "id": "DHXMjYyNnTNr",
        "colab_type": "code",
        "colab": {
          "base_uri": "https://localhost:8080/",
          "height": 17
        },
        "outputId": "60390f41-1b41-4b5f-f0bf-e93de441cd1a"
      },
      "source": [
        "predict = pd.DataFrame()\n",
        "predict['id'] = X_test['id']\n",
        "predict['target'] = pred\n",
        "predict['target'] = predict['target'].apply(convertStates)\n",
        "predict.to_csv('result.csv',index=False)\n",
        "files.download('result.csv')"
      ],
      "execution_count": null,
      "outputs": [
        {
          "output_type": "display_data",
          "data": {
            "application/javascript": [
              "\n",
              "    async function download(id, filename, size) {\n",
              "      if (!google.colab.kernel.accessAllowed) {\n",
              "        return;\n",
              "      }\n",
              "      const div = document.createElement('div');\n",
              "      const label = document.createElement('label');\n",
              "      label.textContent = `Downloading \"${filename}\": `;\n",
              "      div.appendChild(label);\n",
              "      const progress = document.createElement('progress');\n",
              "      progress.max = size;\n",
              "      div.appendChild(progress);\n",
              "      document.body.appendChild(div);\n",
              "\n",
              "      const buffers = [];\n",
              "      let downloaded = 0;\n",
              "\n",
              "      const channel = await google.colab.kernel.comms.open(id);\n",
              "      // Send a message to notify the kernel that we're ready.\n",
              "      channel.send({})\n",
              "\n",
              "      for await (const message of channel.messages) {\n",
              "        // Send a message to notify the kernel that we're ready.\n",
              "        channel.send({})\n",
              "        if (message.buffers) {\n",
              "          for (const buffer of message.buffers) {\n",
              "            buffers.push(buffer);\n",
              "            downloaded += buffer.byteLength;\n",
              "            progress.value = downloaded;\n",
              "          }\n",
              "        }\n",
              "      }\n",
              "      const blob = new Blob(buffers, {type: 'application/binary'});\n",
              "      const a = document.createElement('a');\n",
              "      a.href = window.URL.createObjectURL(blob);\n",
              "      a.download = filename;\n",
              "      div.appendChild(a);\n",
              "      a.click();\n",
              "      div.remove();\n",
              "    }\n",
              "  "
            ],
            "text/plain": [
              "<IPython.core.display.Javascript object>"
            ]
          },
          "metadata": {
            "tags": []
          }
        },
        {
          "output_type": "display_data",
          "data": {
            "application/javascript": [
              "download(\"download_a26a7ca7-93ed-4397-81d4-1077ab72c8ba\", \"result.csv\", 22746)"
            ],
            "text/plain": [
              "<IPython.core.display.Javascript object>"
            ]
          },
          "metadata": {
            "tags": []
          }
        }
      ]
    },
    {
      "cell_type": "code",
      "metadata": {
        "id": "AUFBAPchpq6S",
        "colab_type": "code",
        "colab": {
          "base_uri": "https://localhost:8080/",
          "height": 402
        },
        "outputId": "cef6188a-2573-40da-bd2b-0cdc46586df2"
      },
      "source": [
        "# --------------- Comparación - Test vs Predict local - MLP --------------- #\n",
        "result = X_test.loc[:,['id','text','target']]\n",
        "result['prediction'] = pred\n",
        "diff = result.loc[result['target'] != result['prediction']]\n",
        "diff"
      ],
      "execution_count": null,
      "outputs": [
        {
          "output_type": "execute_result",
          "data": {
            "text/html": [
              "<div>\n",
              "<style scoped>\n",
              "    .dataframe tbody tr th:only-of-type {\n",
              "        vertical-align: middle;\n",
              "    }\n",
              "\n",
              "    .dataframe tbody tr th {\n",
              "        vertical-align: top;\n",
              "    }\n",
              "\n",
              "    .dataframe thead th {\n",
              "        text-align: right;\n",
              "    }\n",
              "</style>\n",
              "<table border=\"1\" class=\"dataframe\">\n",
              "  <thead>\n",
              "    <tr style=\"text-align: right;\">\n",
              "      <th></th>\n",
              "      <th>id</th>\n",
              "      <th>text</th>\n",
              "      <th>target</th>\n",
              "      <th>prediction</th>\n",
              "    </tr>\n",
              "  </thead>\n",
              "  <tbody>\n",
              "    <tr>\n",
              "      <th>988</th>\n",
              "      <td>1433</td>\n",
              "      <td>drake kill this dude and tea bag the dead body...</td>\n",
              "      <td>True</td>\n",
              "      <td>False</td>\n",
              "    </tr>\n",
              "    <tr>\n",
              "      <th>4112</th>\n",
              "      <td>5843</td>\n",
              "      <td>calgary news weather and traffic for august ~ ...</td>\n",
              "      <td>False</td>\n",
              "      <td>True</td>\n",
              "    </tr>\n",
              "    <tr>\n",
              "      <th>1431</th>\n",
              "      <td>2064</td>\n",
              "      <td>wa new wave a casualty of aid ? : tweet and si...</td>\n",
              "      <td>False</td>\n",
              "      <td>True</td>\n",
              "    </tr>\n",
              "    <tr>\n",
              "      <th>2715</th>\n",
              "      <td>3900</td>\n",
              "      <td>man currensy really be talkin that talk id be ...</td>\n",
              "      <td>True</td>\n",
              "      <td>False</td>\n",
              "    </tr>\n",
              "    <tr>\n",
              "      <th>4132</th>\n",
              "      <td>5875</td>\n",
              "      <td>calgary news weather and traffic for august ~ ...</td>\n",
              "      <td>False</td>\n",
              "      <td>True</td>\n",
              "    </tr>\n",
              "    <tr>\n",
              "      <th>...</th>\n",
              "      <td>...</td>\n",
              "      <td>...</td>\n",
              "      <td>...</td>\n",
              "      <td>...</td>\n",
              "    </tr>\n",
              "    <tr>\n",
              "      <th>2934</th>\n",
              "      <td>4216</td>\n",
              "      <td>URL jacksonville family band together a memori...</td>\n",
              "      <td>False</td>\n",
              "      <td>True</td>\n",
              "    </tr>\n",
              "    <tr>\n",
              "      <th>397</th>\n",
              "      <td>574</td>\n",
              "      <td>mourn notice for stab arson victim stir  û ÷ ...</td>\n",
              "      <td>False</td>\n",
              "      <td>True</td>\n",
              "    </tr>\n",
              "    <tr>\n",
              "      <th>6506</th>\n",
              "      <td>9301</td>\n",
              "      <td>so much shit ha happen today wtf idk how i sur...</td>\n",
              "      <td>True</td>\n",
              "      <td>False</td>\n",
              "    </tr>\n",
              "    <tr>\n",
              "      <th>6618</th>\n",
              "      <td>9480</td>\n",
              "      <td>truthURLnewsbbccnnislamtruthgodisisterrorismqu...</td>\n",
              "      <td>True</td>\n",
              "      <td>False</td>\n",
              "    </tr>\n",
              "    <tr>\n",
              "      <th>6236</th>\n",
              "      <td>8905</td>\n",
              "      <td>new photo oak in a snowstorm URL take in winte...</td>\n",
              "      <td>True</td>\n",
              "      <td>False</td>\n",
              "    </tr>\n",
              "  </tbody>\n",
              "</table>\n",
              "<p>143 rows × 4 columns</p>\n",
              "</div>"
            ],
            "text/plain": [
              "        id  ... prediction\n",
              "988   1433  ...      False\n",
              "4112  5843  ...       True\n",
              "1431  2064  ...       True\n",
              "2715  3900  ...      False\n",
              "4132  5875  ...       True\n",
              "...    ...  ...        ...\n",
              "2934  4216  ...       True\n",
              "397    574  ...       True\n",
              "6506  9301  ...      False\n",
              "6618  9480  ...      False\n",
              "6236  8905  ...      False\n",
              "\n",
              "[143 rows x 4 columns]"
            ]
          },
          "metadata": {
            "tags": []
          },
          "execution_count": 47
        }
      ]
    },
    {
      "cell_type": "code",
      "metadata": {
        "id": "FjDpB-mgzmiT",
        "colab_type": "code",
        "colab": {
          "base_uri": "https://localhost:8080/",
          "height": 35
        },
        "outputId": "30354c4b-eaef-4790-be3f-09326cdf69b4"
      },
      "source": [
        "df_train_res.loc[2417,'text']"
      ],
      "execution_count": null,
      "outputs": [
        {
          "output_type": "execute_result",
          "data": {
            "application/vnd.google.colaboratory.intrinsic+json": {
              "type": "string"
            },
            "text/plain": [
              "'metro still doesnt know when blue & amp orange line will reopen empty passenger car derail ~ be not a new - series wmata'"
            ]
          },
          "metadata": {
            "tags": []
          },
          "execution_count": 49
        }
      ]
    },
    {
      "cell_type": "code",
      "metadata": {
        "id": "Xk9hKLFCTXCj",
        "colab_type": "code",
        "colab": {
          "base_uri": "https://localhost:8080/",
          "height": 302
        },
        "outputId": "bfc7d98f-5d45-4846-c774-f5d869b6521e"
      },
      "source": [
        "df_train_res.iloc[2417]"
      ],
      "execution_count": null,
      "outputs": [
        {
          "output_type": "execute_result",
          "data": {
            "text/plain": [
              "id                                                                    3476\n",
              "text                     metro still doesnt know when blue & amp orange...\n",
              "target                                                                True\n",
              "keyword                                                           derailed\n",
              "count_words                                                             24\n",
              "num_no_stopwords                                                        19\n",
              "no_stpw / count_words                                             0.791667\n",
              "count_catastrophe                                                0.0416667\n",
              "count_url                                                                0\n",
              "contains_location                                                        0\n",
              "score_true                                                             458\n",
              "score_false                                                            667\n",
              "tfidf_fscore                                                       14.3787\n",
              "polarity_check                                                  -0.0560606\n",
              "subjectivity_check                                                0.351515\n",
              "keyword_encoded                                                         67\n",
              "Name: 2417, dtype: object"
            ]
          },
          "metadata": {
            "tags": []
          },
          "execution_count": 50
        }
      ]
    },
    {
      "cell_type": "code",
      "metadata": {
        "id": "w-6fnOgyTTjE",
        "colab_type": "code",
        "colab": {
          "base_uri": "https://localhost:8080/",
          "height": 77
        },
        "outputId": "46d255d1-597f-48c9-feba-b108bb1555df"
      },
      "source": [
        "diff.loc[diff['id'] == 3476]"
      ],
      "execution_count": null,
      "outputs": [
        {
          "output_type": "execute_result",
          "data": {
            "text/html": [
              "<div>\n",
              "<style scoped>\n",
              "    .dataframe tbody tr th:only-of-type {\n",
              "        vertical-align: middle;\n",
              "    }\n",
              "\n",
              "    .dataframe tbody tr th {\n",
              "        vertical-align: top;\n",
              "    }\n",
              "\n",
              "    .dataframe thead th {\n",
              "        text-align: right;\n",
              "    }\n",
              "</style>\n",
              "<table border=\"1\" class=\"dataframe\">\n",
              "  <thead>\n",
              "    <tr style=\"text-align: right;\">\n",
              "      <th></th>\n",
              "      <th>id</th>\n",
              "      <th>text</th>\n",
              "      <th>target</th>\n",
              "      <th>prediction</th>\n",
              "    </tr>\n",
              "  </thead>\n",
              "  <tbody>\n",
              "    <tr>\n",
              "      <th>2417</th>\n",
              "      <td>3476</td>\n",
              "      <td>metro still doesnt know when blue &amp; amp orange...</td>\n",
              "      <td>True</td>\n",
              "      <td>False</td>\n",
              "    </tr>\n",
              "  </tbody>\n",
              "</table>\n",
              "</div>"
            ],
            "text/plain": [
              "        id  ... prediction\n",
              "2417  3476  ...      False\n",
              "\n",
              "[1 rows x 4 columns]"
            ]
          },
          "metadata": {
            "tags": []
          },
          "execution_count": 54
        }
      ]
    },
    {
      "cell_type": "code",
      "metadata": {
        "id": "3HXPYRbEUaPj",
        "colab_type": "code",
        "colab": {
          "base_uri": "https://localhost:8080/",
          "height": 302
        },
        "outputId": "7e351135-5625-49ce-880d-51e5d9a23152"
      },
      "source": [
        "df_train_res.iloc[2417]"
      ],
      "execution_count": null,
      "outputs": [
        {
          "output_type": "execute_result",
          "data": {
            "text/plain": [
              "id                                                                    3476\n",
              "text                     metro still doesnt know when blue & amp orange...\n",
              "target                                                                True\n",
              "keyword                                                           derailed\n",
              "count_words                                                             24\n",
              "num_no_stopwords                                                        19\n",
              "no_stpw / count_words                                             0.791667\n",
              "count_catastrophe                                                0.0416667\n",
              "count_url                                                                0\n",
              "contains_location                                                        0\n",
              "score_true                                                             458\n",
              "score_false                                                            667\n",
              "tfidf_fscore                                                       14.3787\n",
              "polarity_check                                                  -0.0560606\n",
              "subjectivity_check                                                0.351515\n",
              "keyword_encoded                                                         67\n",
              "Name: 2417, dtype: object"
            ]
          },
          "metadata": {
            "tags": []
          },
          "execution_count": 52
        }
      ]
    },
    {
      "cell_type": "code",
      "metadata": {
        "id": "W6BYulpYTHam",
        "colab_type": "code",
        "colab": {
          "base_uri": "https://localhost:8080/",
          "height": 420
        },
        "outputId": "6a2f0e8b-ba1b-4d72-e004-3dcaf816a646"
      },
      "source": [
        "tknz.tokenize(df_train_res.loc[2417,'text'])"
      ],
      "execution_count": null,
      "outputs": [
        {
          "output_type": "execute_result",
          "data": {
            "text/plain": [
              "['metro',\n",
              " 'still',\n",
              " 'doesnt',\n",
              " 'know',\n",
              " 'when',\n",
              " 'blue',\n",
              " '&',\n",
              " 'amp',\n",
              " 'orange',\n",
              " 'line',\n",
              " 'will',\n",
              " 'reopen',\n",
              " 'empty',\n",
              " 'passenger',\n",
              " 'car',\n",
              " 'derail',\n",
              " '~',\n",
              " 'be',\n",
              " 'not',\n",
              " 'a',\n",
              " 'new',\n",
              " '-',\n",
              " 'series',\n",
              " 'wmata']"
            ]
          },
          "metadata": {
            "tags": []
          },
          "execution_count": 53
        }
      ]
    },
    {
      "cell_type": "code",
      "metadata": {
        "id": "pl0r3guwTh_j",
        "colab_type": "code",
        "colab": {
          "base_uri": "https://localhost:8080/",
          "height": 77
        },
        "outputId": "23348175-3d2a-40b4-9373-12a55108440f"
      },
      "source": [
        "diff.loc[diff['id'] == 2417]"
      ],
      "execution_count": null,
      "outputs": [
        {
          "output_type": "execute_result",
          "data": {
            "text/html": [
              "<div>\n",
              "<style scoped>\n",
              "    .dataframe tbody tr th:only-of-type {\n",
              "        vertical-align: middle;\n",
              "    }\n",
              "\n",
              "    .dataframe tbody tr th {\n",
              "        vertical-align: top;\n",
              "    }\n",
              "\n",
              "    .dataframe thead th {\n",
              "        text-align: right;\n",
              "    }\n",
              "</style>\n",
              "<table border=\"1\" class=\"dataframe\">\n",
              "  <thead>\n",
              "    <tr style=\"text-align: right;\">\n",
              "      <th></th>\n",
              "      <th>id</th>\n",
              "      <th>text</th>\n",
              "      <th>target</th>\n",
              "      <th>prediction</th>\n",
              "    </tr>\n",
              "  </thead>\n",
              "  <tbody>\n",
              "    <tr>\n",
              "      <th>2309</th>\n",
              "      <td>3317</td>\n",
              "      <td>@_stiiilo i still got video of u demolished</td>\n",
              "      <td>False</td>\n",
              "      <td>True</td>\n",
              "    </tr>\n",
              "  </tbody>\n",
              "</table>\n",
              "</div>"
            ],
            "text/plain": [
              "        id                                         text  target  prediction\n",
              "2309  3317  @_stiiilo i still got video of u demolished   False        True"
            ]
          },
          "metadata": {
            "tags": []
          },
          "execution_count": 41
        }
      ]
    },
    {
      "cell_type": "code",
      "metadata": {
        "id": "aVIjwsFUbZIT",
        "colab_type": "code",
        "colab": {
          "base_uri": "https://localhost:8080/",
          "height": 34
        },
        "outputId": "f523ef08-5b9c-45b8-d0aa-5cf050e90e46"
      },
      "source": [
        "nlp = en_core_web_sm.load()\n",
        "words = nlp(re.sub('#','','San Andres'))\n",
        "print([(X.text, X.label_) for X in words.ents])"
      ],
      "execution_count": null,
      "outputs": [
        {
          "output_type": "stream",
          "text": [
            "[('San Andres', 'ORG')]\n"
          ],
          "name": "stdout"
        }
      ]
    },
    {
      "cell_type": "code",
      "metadata": {
        "id": "J16ILtXSCUy_",
        "colab_type": "code",
        "colab": {}
      },
      "source": [
        "def cos(x1, x2):\n",
        "  return np.dot(x1, x2)/(np.linalg.norm(x1)*np.linalg.norm(x2))"
      ],
      "execution_count": null,
      "outputs": []
    },
    {
      "cell_type": "code",
      "metadata": {
        "id": "0Ch0tyaQSpuT",
        "colab_type": "code",
        "colab": {}
      },
      "source": [
        "tweets = []\n",
        "tkr = TweetTokenizer(reduce_len=True,strip_handles=False)\n",
        "for tw in df_train_res['text'].tolist():\n",
        "  tweets.append(tkr.tokenize(tw))\n",
        "\n",
        "for tw in df_test_res['text'].tolist():\n",
        "  tweets.append(tkr.tokenize(tw))"
      ],
      "execution_count": null,
      "outputs": []
    },
    {
      "cell_type": "code",
      "metadata": {
        "id": "ArRuFW4vCYOF",
        "colab_type": "code",
        "colab": {}
      },
      "source": [
        "from gensim.models import Word2Vec\n",
        "word2vec = Word2Vec(tweets, size=300, min_count=1)"
      ],
      "execution_count": null,
      "outputs": []
    },
    {
      "cell_type": "code",
      "metadata": {
        "id": "kGMZtxdEGfZ1",
        "colab_type": "code",
        "colab": {
          "base_uri": "https://localhost:8080/",
          "height": 322
        },
        "outputId": "6dcb4a22-5b29-47c2-b13d-664407ff4045"
      },
      "source": [
        "word2vec.wv.most_similar(positive='our',topn=15)"
      ],
      "execution_count": null,
      "outputs": [
        {
          "output_type": "stream",
          "text": [
            "/usr/local/lib/python3.6/dist-packages/gensim/matutils.py:737: FutureWarning: Conversion of the second argument of issubdtype from `int` to `np.signedinteger` is deprecated. In future, it will be treated as `np.int64 == np.dtype(int).type`.\n",
            "  if np.issubdtype(vec.dtype, np.int):\n"
          ],
          "name": "stderr"
        },
        {
          "output_type": "execute_result",
          "data": {
            "text/plain": [
              "[('sad', 0.999833881855011),\n",
              " ('girl', 0.999762773513794),\n",
              " ('before', 0.9997293949127197),\n",
              " ('yours', 0.9996795058250427),\n",
              " ('until', 0.999666690826416),\n",
              " ('delay', 0.9996641874313354),\n",
              " ('touch', 0.9996511936187744),\n",
              " ('yet', 0.9996462464332581),\n",
              " ('hard', 0.9996378421783447),\n",
              " ('gun', 0.9995980858802795),\n",
              " ('meet', 0.9995954632759094),\n",
              " ('deluge', 0.9995924234390259),\n",
              " ('fix', 0.9995806217193604),\n",
              " ('cat', 0.9995655417442322),\n",
              " ('with', 0.9995026588439941)]"
            ]
          },
          "metadata": {
            "tags": []
          },
          "execution_count": 148
        }
      ]
    },
    {
      "cell_type": "code",
      "metadata": {
        "id": "FOMb7uJcrTyX",
        "colab_type": "code",
        "colab": {
          "base_uri": "https://localhost:8080/",
          "height": 34
        },
        "outputId": "e8183d0c-574d-4229-e89c-d7e654ea6bfc"
      },
      "source": [
        "#Random forest de rama\n",
        "le = preprocessing.LabelEncoder()\n",
        "\n",
        "#df_train[\"text\"] = le.fit_transform(df_train['text'])\n",
        "#df_train[\"target\"] = le.fit_transform(df_train[\"target\"])\n",
        "classifier = RandomForestClassifier(n_estimators = 450, random_state = 0) \n",
        "\n",
        "classifier.fit(X_train_clf,y_train)\n",
        "\n",
        "pred = classifier.predict(X_test_clf)  # test the output by changing values \n",
        "classifier.score(X_test_clf,y_test)"
      ],
      "execution_count": null,
      "outputs": [
        {
          "output_type": "execute_result",
          "data": {
            "text/plain": [
              "0.9154411764705882"
            ]
          },
          "metadata": {
            "tags": []
          },
          "execution_count": 142
        }
      ]
    },
    {
      "cell_type": "code",
      "metadata": {
        "id": "aBkuTxwODU-b",
        "colab_type": "code",
        "colab": {
          "base_uri": "https://localhost:8080/",
          "height": 295
        },
        "outputId": "98d46d84-30f0-4c84-f90d-c3d671b5f413"
      },
      "source": [
        "features = X_train_clf.columns\n",
        "importances = classifier.feature_importances_\n",
        "indices = np.argsort(importances)\n",
        "\n",
        "plt.title('Feature Importance RF')\n",
        "plt.barh(range(len(indices)), importances[indices], color='b', align='center')\n",
        "plt.yticks(range(len(indices)), [features[i] for i in indices])\n",
        "plt.xlabel('Importancia')\n",
        "plt.show()"
      ],
      "execution_count": null,
      "outputs": [
        {
          "output_type": "display_data",
          "data": {
            "image/png": "[encoded data removed]",
            "text/plain": [
              "<Figure size 432x288 with 1 Axes>"
            ]
          },
          "metadata": {
            "tags": [],
            "needs_background": "light"
          }
        }
      ]
    },
    {
      "cell_type": "code",
      "metadata": {
        "id": "mm-7Wqptvm86",
        "colab_type": "code",
        "colab": {
          "base_uri": "https://localhost:8080/",
          "height": 84
        },
        "outputId": "0b19a971-9aa9-4216-8143-21611ebf18b8"
      },
      "source": [
        "X_train_clf.columns"
      ],
      "execution_count": null,
      "outputs": [
        {
          "output_type": "execute_result",
          "data": {
            "text/plain": [
              "Index(['count_words', 'num_no_stopwords', 'no_stpw / count_words',\n",
              "       'count_catastrophe', 'count_url', 'contains_location', 'score_true',\n",
              "       'score_false', 'tfidf_fscore'],\n",
              "      dtype='object')"
            ]
          },
          "metadata": {
            "tags": []
          },
          "execution_count": 34
        }
      ]
    },
    {
      "cell_type": "code",
      "metadata": {
        "id": "JQcYt2qEwJTz",
        "colab_type": "code",
        "colab": {}
      },
      "source": [
        "#csv de randomforest\n",
        "pred = pd.DataFrame()\n",
        "pred['id'] = X_test['id']\n",
        "pred['target'] = Y_pred.tolist()\n",
        "pred['target'] = pred['target'].apply(lambda x : round(x))\n",
        "pred.to_csv('resultRFWF.csv',index=False)\n",
        "files.download('resultRFWF.csv')"
      ],
      "execution_count": null,
      "outputs": []
    },
    {
      "cell_type": "code",
      "metadata": {
        "id": "eNjCUsNqNV-W",
        "colab_type": "code",
        "colab": {
          "base_uri": "https://localhost:8080/",
          "height": 34
        },
        "outputId": "9932c2ff-d832-4f34-d2b7-a6fbae896ccb"
      },
      "source": [
        "#XGBoost de Rama\n",
        "import xgboost as xgb\n",
        "xg_reg = xgb.XGBClassifier(objective ='binary:logistic', colsample_bytree = 0.5, learning_rate = 0.1, max_depth = 2, alpha = 10, n_estimators = 500)\n",
        "xg_reg.fit(X_train_clf,y_train)\n",
        "pred =xg_reg.predict(X_test_clf)\n",
        "xg_reg.score(X_test_clf,y_test)"
      ],
      "execution_count": null,
      "outputs": [
        {
          "output_type": "execute_result",
          "data": {
            "text/plain": [
              "0.9259453781512605"
            ]
          },
          "metadata": {
            "tags": []
          },
          "execution_count": 144
        }
      ]
    },
    {
      "cell_type": "code",
      "metadata": {
        "id": "2LbhlcEJRlkX",
        "colab_type": "code",
        "colab": {
          "base_uri": "https://localhost:8080/",
          "height": 312
        },
        "outputId": "89c5ce7e-8367-4d50-be61-d2f9e75f1990"
      },
      "source": [
        "xgb.plot_importance(xg_reg)"
      ],
      "execution_count": null,
      "outputs": [
        {
          "output_type": "execute_result",
          "data": {
            "text/plain": [
              "<matplotlib.axes._subplots.AxesSubplot at 0x7f12786b4208>"
            ]
          },
          "metadata": {
            "tags": []
          },
          "execution_count": 145
        },
        {
          "output_type": "display_data",
          "data": {
            "image/png": "[encoded data removed]",
            "text/plain": [
              "<Figure size 432x288 with 1 Axes>"
            ]
          },
          "metadata": {
            "tags": [],
            "needs_background": "light"
          }
        }
      ]
    }
  ]
}