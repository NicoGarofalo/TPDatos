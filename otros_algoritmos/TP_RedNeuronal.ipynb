{
  "nbformat": 4,
  "nbformat_minor": 0,
  "metadata": {
    "colab": {
      "name": "TPTestML.ipynb",
      "provenance": [],
      "collapsed_sections": []
    },
    "kernelspec": {
      "name": "python3",
      "display_name": "Python 3"
    }
  },
  "cells": [
    {
      "cell_type": "code",
      "metadata": {
        "id": "atalxbLrqPeV",
        "colab_type": "code",
        "colab": {
          "base_uri": "https://localhost:8080/",
          "height": 121
        },
        "outputId": "ddc6a505-d06d-4c0e-d42b-0f32fd8a1de2"
      },
      "source": [
        "from google.colab import drive\n",
        "drive.mount('/content/drive')"
      ],
      "execution_count": 27,
      "outputs": [
        {
          "output_type": "stream",
          "text": [
            "Go to this URL in a browser: https://accounts.google.com/o/oauth2/auth?client_id=947318989803-6bn6qk8qdgf4n4g3pfee6491hc0brc4i.apps.googleusercontent.com&redirect_uri=urn%3aietf%3awg%3aoauth%3a2.0%3aoob&response_type=code&scope=email%20https%3a%2f%2fwww.googleapis.com%2fauth%2fdocs.test%20https%3a%2f%2fwww.googleapis.com%2fauth%2fdrive%20https%3a%2f%2fwww.googleapis.com%2fauth%2fdrive.photos.readonly%20https%3a%2f%2fwww.googleapis.com%2fauth%2fpeopleapi.readonly\n",
            "\n",
            "Enter your authorization code:\n",
            "··········\n",
            "Mounted at /content/drive\n"
          ],
          "name": "stdout"
        }
      ]
    },
    {
      "cell_type": "code",
      "metadata": {
        "id": "AIQdCL9ZoR8h",
        "colab_type": "code",
        "colab": {}
      },
      "source": [
        "import pandas as pd\n",
        "import numpy as np\n",
        "import re\n",
        "import nltk\n",
        "from sklearn.neural_network import MLPClassifier\n",
        "import matplotlib.pyplot as plt"
      ],
      "execution_count": 6,
      "outputs": []
    },
    {
      "cell_type": "code",
      "metadata": {
        "id": "R0nFok9nqHPP",
        "colab_type": "code",
        "colab": {}
      },
      "source": [
        "df_test = pd.read_csv(\"/content/drive/My Drive/datasetTPDatos/test.csv\")\n",
        "df_train = pd.read_csv(\"/content/drive/My Drive/datasetTPDatos/train.csv\")\n",
        "#Elimino duplicados\n",
        "df_train.drop_duplicates(inplace=True)\n",
        "df_test.drop_duplicates(inplace=True)"
      ],
      "execution_count": 7,
      "outputs": []
    },
    {
      "cell_type": "code",
      "metadata": {
        "id": "QVGlBwF8pssO",
        "colab_type": "code",
        "colab": {
          "base_uri": "https://localhost:8080/",
          "height": 101
        },
        "outputId": "4563caea-6c38-4311-f4f7-ec75080e8074"
      },
      "source": [
        "#Definición de tipos\n",
        "df_train['id'] = df_train['id'].astype(int)\n",
        "df_train['keyword'] = df_train['keyword'].fillna(value = \"noKeyword\").astype('object')\n",
        "df_train['location'] = df_train['location'].astype('object')\n",
        "df_train['text'] = df_train['text'].astype('object')\n",
        "df_train['target'] = df_train['target'].astype('bool')\n",
        "df_test['id'] = df_test['id'].astype(int)\n",
        "df_test['keyword'] = df_test['keyword'].fillna(value = \"noKeyword\").astype('object')\n",
        "df_test['location'] = df_test['location'].astype('object')\n",
        "df_test['text'] = df_test['text'].astype('object')\n",
        "\n",
        "df_test.dtypes"
      ],
      "execution_count": 8,
      "outputs": [
        {
          "output_type": "execute_result",
          "data": {
            "text/plain": [
              "id           int64\n",
              "keyword     object\n",
              "location    object\n",
              "text        object\n",
              "dtype: object"
            ]
          },
          "metadata": {
            "tags": []
          },
          "execution_count": 8
        }
      ]
    },
    {
      "cell_type": "code",
      "metadata": {
        "id": "GJGcQgEBs9xA",
        "colab_type": "code",
        "colab": {}
      },
      "source": [
        "df_train_res = df_train.copy()\n",
        "df_test_res = df_test.copy()"
      ],
      "execution_count": 9,
      "outputs": []
    },
    {
      "cell_type": "code",
      "metadata": {
        "id": "RjcocsN_Fnnj",
        "colab_type": "code",
        "colab": {}
      },
      "source": [
        "def clean_text(text):\n",
        "  text = re.sub('[=><.,;\\']', '',text)\n",
        "  text = re.sub('(http|ftp|https)://(?:[-\\w.]|(?:%[\\da-fA-F]{2}))+/(?:[-\\w.]|(?:%[\\da-fA-F]{2}))+', 'URL',text)\n",
        "  return text"
      ],
      "execution_count": 10,
      "outputs": []
    },
    {
      "cell_type": "code",
      "metadata": {
        "id": "8y9u56E1ro0O",
        "colab_type": "code",
        "colab": {}
      },
      "source": [
        "from nltk.tokenize import TweetTokenizer\n",
        "\n",
        "def pre_process_text(text):\n",
        "  tokenizer = TweetTokenizer(reduce_len=True,strip_handles=False)\n",
        "  processed_text = text.lower()\n",
        "  processed_text = clean_text(processed_text)\n",
        "  processed_text = tokenizer.tokenize(processed_text)\n",
        "  processed_text = ' '.join(processed_text)\n",
        "    \n",
        "  return processed_text"
      ],
      "execution_count": 11,
      "outputs": []
    },
    {
      "cell_type": "code",
      "metadata": {
        "id": "U1ILvPj3HqOx",
        "colab_type": "code",
        "colab": {
          "base_uri": "https://localhost:8080/",
          "height": 195
        },
        "outputId": "f11b2205-c122-4f67-aba0-5b7548513105"
      },
      "source": [
        "#Pre limpieza:\n",
        "df_train_res.head(5)"
      ],
      "execution_count": 12,
      "outputs": [
        {
          "output_type": "execute_result",
          "data": {
            "text/html": [
              "<div>\n",
              "<style scoped>\n",
              "    .dataframe tbody tr th:only-of-type {\n",
              "        vertical-align: middle;\n",
              "    }\n",
              "\n",
              "    .dataframe tbody tr th {\n",
              "        vertical-align: top;\n",
              "    }\n",
              "\n",
              "    .dataframe thead th {\n",
              "        text-align: right;\n",
              "    }\n",
              "</style>\n",
              "<table border=\"1\" class=\"dataframe\">\n",
              "  <thead>\n",
              "    <tr style=\"text-align: right;\">\n",
              "      <th></th>\n",
              "      <th>id</th>\n",
              "      <th>keyword</th>\n",
              "      <th>location</th>\n",
              "      <th>text</th>\n",
              "      <th>target</th>\n",
              "    </tr>\n",
              "  </thead>\n",
              "  <tbody>\n",
              "    <tr>\n",
              "      <th>0</th>\n",
              "      <td>1</td>\n",
              "      <td>noKeyword</td>\n",
              "      <td>NaN</td>\n",
              "      <td>Our Deeds are the Reason of this #earthquake M...</td>\n",
              "      <td>True</td>\n",
              "    </tr>\n",
              "    <tr>\n",
              "      <th>1</th>\n",
              "      <td>4</td>\n",
              "      <td>noKeyword</td>\n",
              "      <td>NaN</td>\n",
              "      <td>Forest fire near La Ronge Sask. Canada</td>\n",
              "      <td>True</td>\n",
              "    </tr>\n",
              "    <tr>\n",
              "      <th>2</th>\n",
              "      <td>5</td>\n",
              "      <td>noKeyword</td>\n",
              "      <td>NaN</td>\n",
              "      <td>All residents asked to 'shelter in place' are ...</td>\n",
              "      <td>True</td>\n",
              "    </tr>\n",
              "    <tr>\n",
              "      <th>3</th>\n",
              "      <td>6</td>\n",
              "      <td>noKeyword</td>\n",
              "      <td>NaN</td>\n",
              "      <td>13,000 people receive #wildfires evacuation or...</td>\n",
              "      <td>True</td>\n",
              "    </tr>\n",
              "    <tr>\n",
              "      <th>4</th>\n",
              "      <td>7</td>\n",
              "      <td>noKeyword</td>\n",
              "      <td>NaN</td>\n",
              "      <td>Just got sent this photo from Ruby #Alaska as ...</td>\n",
              "      <td>True</td>\n",
              "    </tr>\n",
              "  </tbody>\n",
              "</table>\n",
              "</div>"
            ],
            "text/plain": [
              "   id    keyword  ...                                               text target\n",
              "0   1  noKeyword  ...  Our Deeds are the Reason of this #earthquake M...   True\n",
              "1   4  noKeyword  ...             Forest fire near La Ronge Sask. Canada   True\n",
              "2   5  noKeyword  ...  All residents asked to 'shelter in place' are ...   True\n",
              "3   6  noKeyword  ...  13,000 people receive #wildfires evacuation or...   True\n",
              "4   7  noKeyword  ...  Just got sent this photo from Ruby #Alaska as ...   True\n",
              "\n",
              "[5 rows x 5 columns]"
            ]
          },
          "metadata": {
            "tags": []
          },
          "execution_count": 12
        }
      ]
    },
    {
      "cell_type": "code",
      "metadata": {
        "id": "_QhgNkW7sUKn",
        "colab_type": "code",
        "colab": {}
      },
      "source": [
        "df_train_res['text'] = df_train_res['text'].apply(lambda x : pre_process_text(x))\n",
        "df_test_res['text'] = df_test_res['text'].apply(lambda x : pre_process_text(x))"
      ],
      "execution_count": 13,
      "outputs": []
    },
    {
      "cell_type": "code",
      "metadata": {
        "id": "H25Wph7pD3vH",
        "colab_type": "code",
        "colab": {
          "base_uri": "https://localhost:8080/",
          "height": 195
        },
        "outputId": "be813ffc-a96b-4346-90dd-de22b39fc4e0"
      },
      "source": [
        "#Post limpieza\n",
        "df_train_res.head(5)"
      ],
      "execution_count": 14,
      "outputs": [
        {
          "output_type": "execute_result",
          "data": {
            "text/html": [
              "<div>\n",
              "<style scoped>\n",
              "    .dataframe tbody tr th:only-of-type {\n",
              "        vertical-align: middle;\n",
              "    }\n",
              "\n",
              "    .dataframe tbody tr th {\n",
              "        vertical-align: top;\n",
              "    }\n",
              "\n",
              "    .dataframe thead th {\n",
              "        text-align: right;\n",
              "    }\n",
              "</style>\n",
              "<table border=\"1\" class=\"dataframe\">\n",
              "  <thead>\n",
              "    <tr style=\"text-align: right;\">\n",
              "      <th></th>\n",
              "      <th>id</th>\n",
              "      <th>keyword</th>\n",
              "      <th>location</th>\n",
              "      <th>text</th>\n",
              "      <th>target</th>\n",
              "    </tr>\n",
              "  </thead>\n",
              "  <tbody>\n",
              "    <tr>\n",
              "      <th>0</th>\n",
              "      <td>1</td>\n",
              "      <td>noKeyword</td>\n",
              "      <td>NaN</td>\n",
              "      <td>our deeds are the reason of this #earthquake m...</td>\n",
              "      <td>True</td>\n",
              "    </tr>\n",
              "    <tr>\n",
              "      <th>1</th>\n",
              "      <td>4</td>\n",
              "      <td>noKeyword</td>\n",
              "      <td>NaN</td>\n",
              "      <td>forest fire near la ronge sask canada</td>\n",
              "      <td>True</td>\n",
              "    </tr>\n",
              "    <tr>\n",
              "      <th>2</th>\n",
              "      <td>5</td>\n",
              "      <td>noKeyword</td>\n",
              "      <td>NaN</td>\n",
              "      <td>all residents asked to shelter in place are be...</td>\n",
              "      <td>True</td>\n",
              "    </tr>\n",
              "    <tr>\n",
              "      <th>3</th>\n",
              "      <td>6</td>\n",
              "      <td>noKeyword</td>\n",
              "      <td>NaN</td>\n",
              "      <td>13000 people receive #wildfires evacuation ord...</td>\n",
              "      <td>True</td>\n",
              "    </tr>\n",
              "    <tr>\n",
              "      <th>4</th>\n",
              "      <td>7</td>\n",
              "      <td>noKeyword</td>\n",
              "      <td>NaN</td>\n",
              "      <td>just got sent this photo from ruby #alaska as ...</td>\n",
              "      <td>True</td>\n",
              "    </tr>\n",
              "  </tbody>\n",
              "</table>\n",
              "</div>"
            ],
            "text/plain": [
              "   id    keyword  ...                                               text target\n",
              "0   1  noKeyword  ...  our deeds are the reason of this #earthquake m...   True\n",
              "1   4  noKeyword  ...              forest fire near la ronge sask canada   True\n",
              "2   5  noKeyword  ...  all residents asked to shelter in place are be...   True\n",
              "3   6  noKeyword  ...  13000 people receive #wildfires evacuation ord...   True\n",
              "4   7  noKeyword  ...  just got sent this photo from ruby #alaska as ...   True\n",
              "\n",
              "[5 rows x 5 columns]"
            ]
          },
          "metadata": {
            "tags": []
          },
          "execution_count": 14
        }
      ]
    },
    {
      "cell_type": "code",
      "metadata": {
        "id": "ZndCvUEE97iM",
        "colab_type": "code",
        "colab": {
          "base_uri": "https://localhost:8080/",
          "height": 118
        },
        "outputId": "01325bdb-9bb7-4f97-fe9e-039d395cd9f2"
      },
      "source": [
        "# --------------- NLP - Manipulación  del texto --------------- #\n",
        "#Idea 1 : Limpiar las stopwords y hacer un contador de entidades importantes (ej nombre paises, personas famosas, etc)\n",
        "\n",
        "#Contador de palabras que no son stopwords\n",
        "\n",
        "import spacy #Para Named Entity Recognition\n",
        "from spacy import displacy #Para Named Entity Recognition\n",
        "from collections import Counter #Para Named Entity Recognition\n",
        "import en_core_web_sm #Para Named Entity Recognition\n",
        "from nltk import word_tokenize\n",
        "from nltk.corpus import stopwords\n",
        "from nltk.stem import WordNetLemmatizer\n",
        "from nltk.tokenize import TweetTokenizer\n",
        "nltk.download('punkt')\n",
        "nltk.download('stopwords')\n",
        "nltk.download('wordnet')\n",
        "sw = stopwords.words(\"english\")\n",
        "tknz = TweetTokenizer(reduce_len=True, strip_handles=False)\n",
        "nlp = en_core_web_sm.load()\n",
        "catastrophe = df_train_res['keyword'].loc[df_train_res['keyword'] != 'noKeyword'].drop_duplicates().apply(lambda x: re.sub('%20', ' ',x))\n",
        "\n",
        "def contains_location(text):\n",
        "  count = 0\n",
        "  words = nlp(re.sub('#','',text))\n",
        "  for X in words.ents:\n",
        "    if X.label_ in ['FAC','GPE','LOC']:\n",
        "      count += 1\n",
        "  return count\n",
        "\n",
        "def count_no_stopwords(text):\n",
        "  count = 0\n",
        "  words = word_tokenize(text)\n",
        "  for w in words:\n",
        "    if w not in sw:\n",
        "      count +=1\n",
        "  return count\n",
        "\n",
        "def text_size_word(text):\n",
        "  words = tknz.tokenize(text)\n",
        "  return len(words)\n",
        "  \n",
        "def lemmatize_catastrophe(text):\n",
        "  count = 0\n",
        "  words = tknz.tokenize(text)\n",
        "  #lemmatizer = WordNetLemmatizer()\n",
        "  for w in words:\n",
        "    if re.sub('#','',w) in catastrophe.to_list():\n",
        "      count += 1\n",
        "  return count\n",
        "\n",
        "def count_url_per_tw(text):\n",
        "  count = 0\n",
        "  words = tknz.tokenize(text)\n",
        "  if 'URL' in words:\n",
        "    for w in words:\n",
        "      if w == 'URL':\n",
        "        count +=1\n",
        "  return count/len(words)"
      ],
      "execution_count": 15,
      "outputs": [
        {
          "output_type": "stream",
          "text": [
            "[nltk_data] Downloading package punkt to /root/nltk_data...\n",
            "[nltk_data]   Package punkt is already up-to-date!\n",
            "[nltk_data] Downloading package stopwords to /root/nltk_data...\n",
            "[nltk_data]   Package stopwords is already up-to-date!\n",
            "[nltk_data] Downloading package wordnet to /root/nltk_data...\n",
            "[nltk_data]   Package wordnet is already up-to-date!\n"
          ],
          "name": "stdout"
        }
      ]
    },
    {
      "cell_type": "code",
      "metadata": {
        "id": "CdR_m51zEhnH",
        "colab_type": "code",
        "colab": {}
      },
      "source": [
        "#Me quedo con columnas que me interesan\n",
        "df_train_res = df_train_res.loc[:,['id','text','target','keyword']]\n",
        "df_test_res = df_test_res.loc[:,['id','text']]\n",
        "#df_train_res"
      ],
      "execution_count": 16,
      "outputs": []
    },
    {
      "cell_type": "code",
      "metadata": {
        "id": "tfuu0W0f4sF4",
        "colab_type": "code",
        "colab": {}
      },
      "source": [
        "# ---------------Creación de features --------------- #\n",
        "\n",
        "# --------------------------------- Train ------------------------------------ #\n",
        "largos = df_train_res['text'].apply(text_size_word) #cant words por text\n",
        "df_train_res['count_words'] = largos\n",
        "# --- Idea 1 ---\n",
        "df_train_res['num_no_stopwords'] = df_train_res['text'].apply(count_no_stopwords)\n",
        "# --- Combino Idea 1 con count_words (hago la division)\n",
        "df_train_res['no_stpw / count_words'] = df_train_res['num_no_stopwords'] / df_train_res['count_words']\n",
        "\n",
        "# --- Idea 2 --- #\n",
        "df_train_res['count_catastrophe'] = df_train_res['text'].apply(lemmatize_catastrophe)\n",
        "\n",
        "# --- Idea 3 --- # Aplicar algun tipo de TF-IDF para descartar textos como \"wreck wreck wreck wreck wreck \" porque no aportan nada\n",
        "# --- Idea 4 --- # Contiene paises / nombres famosos ?? (Booleano)\n",
        "# --- Idea 5 --- # Contains\n",
        "\n",
        "df_train_res['contains_location'] = df_train_res['text'].apply(contains_location)\n",
        "df_train_res['count_url'] = df_train_res['text'].apply(count_url_per_tw)"
      ],
      "execution_count": 17,
      "outputs": []
    },
    {
      "cell_type": "code",
      "metadata": {
        "id": "MB7LxdCW1cCq",
        "colab_type": "code",
        "colab": {}
      },
      "source": [
        ""
      ],
      "execution_count": null,
      "outputs": []
    },
    {
      "cell_type": "code",
      "metadata": {
        "id": "ytsOke7wxYr6",
        "colab_type": "code",
        "colab": {}
      },
      "source": [
        "# --------------------------------- Test ------------------------------------- #\n",
        "\n",
        "largos = df_test_res['text'].apply(text_size_word) #cant words por text\n",
        "df_test_res['count_words'] = largos\n",
        "# --- Idea 1 ---\n",
        "df_test_res['num_no_stopwords'] = df_test_res['text'].apply(count_no_stopwords)\n",
        "# --- Combino Idea 1 con count_words (hago la division)\n",
        "df_test_res['no_stpw / count_words'] = df_test_res['num_no_stopwords'] / df_test_res['count_words']\n",
        "\n",
        "# --- Idea 2 --- #\n",
        "df_test_res['count_catastrophe'] = df_test_res['text'].apply(lemmatize_catastrophe)\n",
        "\n",
        "# --- Idea 3 --- # Aplicar algun tipo de TF-IDF para descartar textos como \"wreck wreck wreck wreck wreck \" porque no aportan nada\n",
        "# --- Idea 4 --- # Contiene paises / nombres famosos ?? (Booleano)\n",
        "# --- Idea 5 --- # Contains\n",
        "# --- Idea 6 --- # \"Lemmatize count\", darle un peso inicial 0 a X feature, y si aparece ese mismo o alguna palabra similar que tenga mismo lemmatize, sumarle 1\n",
        "\n",
        "df_test_res['contains_location'] = df_test_res['text'].apply(contains_location)\n",
        "df_test_res['count_url'] = df_test_res['text'].apply(count_url_per_tw)"
      ],
      "execution_count": null,
      "outputs": []
    },
    {
      "cell_type": "code",
      "metadata": {
        "id": "6tdzoaT0zVQ8",
        "colab_type": "code",
        "colab": {}
      },
      "source": [
        "feature_arr = ['count_words','num_no_stopwords','no_stpw / count_words','count_catastrophe','contains_location','count_url']"
      ],
      "execution_count": 18,
      "outputs": []
    },
    {
      "cell_type": "code",
      "metadata": {
        "id": "fSFzrEY8qjk7",
        "colab_type": "code",
        "colab": {}
      },
      "source": [
        "# -------------- Definición de train y test set - MLP (submit) --------------- #\n",
        "\n",
        "y_train = np.array(df_train_res['target']) # prediction \n",
        "X_train = df_train_res.copy()  #Train submit\n",
        "X_test = df_test_res.copy()\n",
        "X_train_clf = X_train.loc[:,feature_arr] #Features del train\n",
        "X_test_clf = X_test.loc[:,feature_arr] #Features del test\n",
        "prints = (len(X_train_clf), len(y_train), len(X_test_clf))\n",
        "print(prints) "
      ],
      "execution_count": null,
      "outputs": []
    },
    {
      "cell_type": "code",
      "metadata": {
        "id": "Rx05piBgtKwG",
        "colab_type": "code",
        "colab": {
          "base_uri": "https://localhost:8080/",
          "height": 34
        },
        "outputId": "e8f6856a-4ea2-4104-a190-0dd98db7bde0"
      },
      "source": [
        "# --------------- Definición de train y test set local - MLP - (train spliteado en train2.0 y test porque no tengo target test) --------------- #\n",
        "\n",
        "from sklearn.model_selection import train_test_split\n",
        "from sklearn import preprocessing\n",
        "#X = np.array(X) #Esto se hace si tengo 1 solo feature\n",
        "X = df_train_res.copy() #Train local\n",
        "y = np.array(df_train_res['target']) # prediction \n",
        "X_train, X_test, y_train, y_test = train_test_split(X,y)\n",
        "X_train_clf = X_train.loc[:,feature_arr] #Features del train\n",
        "#X_train_clf = preprocessing.scale(X_train_clf) #Standarization, or mean removal and variance scaling para agilizar el entrenamiento pero me baja mucho el accuracy \n",
        "X_test_clf = X_test.loc[:,feature_arr] #Features del test\n",
        "prints = (len(X_train) , len(X_test) , len(y_train) , len(y_test), y)\n",
        "print(prints) "
      ],
      "execution_count": 19,
      "outputs": [
        {
          "output_type": "stream",
          "text": [
            "(5709, 1904, 5709, 1904, array([ True,  True,  True, ...,  True,  True,  True]))\n"
          ],
          "name": "stdout"
        }
      ]
    },
    {
      "cell_type": "code",
      "metadata": {
        "id": "EUE5Lz8rZBYi",
        "colab_type": "code",
        "colab": {
          "base_uri": "https://localhost:8080/",
          "height": 151
        },
        "outputId": "03670219-2102-4f78-dedb-fbb7c654acc3"
      },
      "source": [
        "# --------------- Entrenamiento - MLP (Multilayer Perceptron) --------------- #\n",
        "clf = MLPClassifier(activation='relu',learning_rate_init=0.0003, hidden_layer_sizes=(50,35), random_state=1, max_iter=200, solver='adam')\n",
        "#X_train = X_train.reshape(-1, 1) #Esto se hace si tengo 1 solo feature\n",
        "clf.fit(X_train_clf, y_train) "
      ],
      "execution_count": 20,
      "outputs": [
        {
          "output_type": "execute_result",
          "data": {
            "text/plain": [
              "MLPClassifier(activation='relu', alpha=0.0001, batch_size='auto', beta_1=0.9,\n",
              "              beta_2=0.999, early_stopping=False, epsilon=1e-08,\n",
              "              hidden_layer_sizes=(50, 35), learning_rate='constant',\n",
              "              learning_rate_init=0.0003, max_fun=15000, max_iter=200,\n",
              "              momentum=0.9, n_iter_no_change=10, nesterovs_momentum=True,\n",
              "              power_t=0.5, random_state=1, shuffle=True, solver='adam',\n",
              "              tol=0.0001, validation_fraction=0.1, verbose=False,\n",
              "              warm_start=False)"
            ]
          },
          "metadata": {
            "tags": []
          },
          "execution_count": 20
        }
      ]
    },
    {
      "cell_type": "code",
      "metadata": {
        "id": "Dzi94NrFXT0d",
        "colab_type": "code",
        "colab": {}
      },
      "source": [
        "# --------------- Prediccion y score - MLP --------------- #\n",
        "pred = clf.predict(X_test_clf)"
      ],
      "execution_count": 21,
      "outputs": []
    },
    {
      "cell_type": "code",
      "metadata": {
        "id": "CaypSUq6y_a8",
        "colab_type": "code",
        "colab": {
          "base_uri": "https://localhost:8080/",
          "height": 34
        },
        "outputId": "f9ec841d-2476-4828-ef22-6e50a00f429f"
      },
      "source": [
        "clf.score(X_test_clf,y_test)"
      ],
      "execution_count": 22,
      "outputs": [
        {
          "output_type": "execute_result",
          "data": {
            "text/plain": [
              "0.7116596638655462"
            ]
          },
          "metadata": {
            "tags": []
          },
          "execution_count": 22
        }
      ]
    },
    {
      "cell_type": "code",
      "metadata": {
        "id": "wOPjiHcGpSue",
        "colab_type": "code",
        "colab": {}
      },
      "source": [
        "def convertStates(x):\n",
        "    if(x == True):\n",
        "        return 1\n",
        "    else:\n",
        "        return 0"
      ],
      "execution_count": null,
      "outputs": []
    },
    {
      "cell_type": "code",
      "metadata": {
        "id": "DHXMjYyNnTNr",
        "colab_type": "code",
        "colab": {
          "base_uri": "https://localhost:8080/",
          "height": 17
        },
        "outputId": "244c42b1-0f60-4f46-c36b-6b054f42a654"
      },
      "source": [
        "from google.colab import files\n",
        "predict = pd.DataFrame()\n",
        "predict['id'] = X_test['id']\n",
        "predict['target'] = pred\n",
        "predict['target'] = predict['target'].apply(convertStates)\n",
        "predict.to_csv('result.csv',index=False)\n",
        "files.download('result.csv')"
      ],
      "execution_count": null,
      "outputs": [
        {
          "output_type": "display_data",
          "data": {
            "application/javascript": [
              "\n",
              "    async function download(id, filename, size) {\n",
              "      if (!google.colab.kernel.accessAllowed) {\n",
              "        return;\n",
              "      }\n",
              "      const div = document.createElement('div');\n",
              "      const label = document.createElement('label');\n",
              "      label.textContent = `Downloading \"${filename}\": `;\n",
              "      div.appendChild(label);\n",
              "      const progress = document.createElement('progress');\n",
              "      progress.max = size;\n",
              "      div.appendChild(progress);\n",
              "      document.body.appendChild(div);\n",
              "\n",
              "      const buffers = [];\n",
              "      let downloaded = 0;\n",
              "\n",
              "      const channel = await google.colab.kernel.comms.open(id);\n",
              "      // Send a message to notify the kernel that we're ready.\n",
              "      channel.send({})\n",
              "\n",
              "      for await (const message of channel.messages) {\n",
              "        // Send a message to notify the kernel that we're ready.\n",
              "        channel.send({})\n",
              "        if (message.buffers) {\n",
              "          for (const buffer of message.buffers) {\n",
              "            buffers.push(buffer);\n",
              "            downloaded += buffer.byteLength;\n",
              "            progress.value = downloaded;\n",
              "          }\n",
              "        }\n",
              "      }\n",
              "      const blob = new Blob(buffers, {type: 'application/binary'});\n",
              "      const a = document.createElement('a');\n",
              "      a.href = window.URL.createObjectURL(blob);\n",
              "      a.download = filename;\n",
              "      div.appendChild(a);\n",
              "      a.click();\n",
              "      div.remove();\n",
              "    }\n",
              "  "
            ],
            "text/plain": [
              "<IPython.core.display.Javascript object>"
            ]
          },
          "metadata": {
            "tags": []
          }
        },
        {
          "output_type": "display_data",
          "data": {
            "application/javascript": [
              "download(\"download_60787a2f-90b0-4b22-a8a0-14431a5e07cb\", \"result.csv\", 22746)"
            ],
            "text/plain": [
              "<IPython.core.display.Javascript object>"
            ]
          },
          "metadata": {
            "tags": []
          }
        }
      ]
    },
    {
      "cell_type": "code",
      "metadata": {
        "id": "AUFBAPchpq6S",
        "colab_type": "code",
        "colab": {
          "base_uri": "https://localhost:8080/",
          "height": 402
        },
        "outputId": "37d83571-93a7-4068-c1f1-05834205f1ba"
      },
      "source": [
        "# --------------- Comparación - Test vs Predict local - MLP --------------- #\n",
        "result = X_test.loc[:,['id','text','target']]\n",
        "result['prediction'] = pred\n",
        "diff = result.loc[result['target'] != result['prediction']]\n",
        "diff"
      ],
      "execution_count": 23,
      "outputs": [
        {
          "output_type": "execute_result",
          "data": {
            "text/html": [
              "<div>\n",
              "<style scoped>\n",
              "    .dataframe tbody tr th:only-of-type {\n",
              "        vertical-align: middle;\n",
              "    }\n",
              "\n",
              "    .dataframe tbody tr th {\n",
              "        vertical-align: top;\n",
              "    }\n",
              "\n",
              "    .dataframe thead th {\n",
              "        text-align: right;\n",
              "    }\n",
              "</style>\n",
              "<table border=\"1\" class=\"dataframe\">\n",
              "  <thead>\n",
              "    <tr style=\"text-align: right;\">\n",
              "      <th></th>\n",
              "      <th>id</th>\n",
              "      <th>text</th>\n",
              "      <th>target</th>\n",
              "      <th>prediction</th>\n",
              "    </tr>\n",
              "  </thead>\n",
              "  <tbody>\n",
              "    <tr>\n",
              "      <th>3472</th>\n",
              "      <td>4967</td>\n",
              "      <td>young dancer moves about 300 youth in attendan...</td>\n",
              "      <td>True</td>\n",
              "      <td>False</td>\n",
              "    </tr>\n",
              "    <tr>\n",
              "      <th>1388</th>\n",
              "      <td>2001</td>\n",
              "      <td>so apparently there were bush fires near where...</td>\n",
              "      <td>True</td>\n",
              "      <td>False</td>\n",
              "    </tr>\n",
              "    <tr>\n",
              "      <th>4314</th>\n",
              "      <td>6126</td>\n",
              "      <td>fel lord zakuun is about to die ! #hellfire #w...</td>\n",
              "      <td>True</td>\n",
              "      <td>False</td>\n",
              "    </tr>\n",
              "    <tr>\n",
              "      <th>3237</th>\n",
              "      <td>4649</td>\n",
              "      <td>just saw a car on the i - 77 fully engulfed in...</td>\n",
              "      <td>True</td>\n",
              "      <td>False</td>\n",
              "    </tr>\n",
              "    <tr>\n",
              "      <th>6918</th>\n",
              "      <td>9920</td>\n",
              "      <td>trouble trouble when i dont get my way ? ? ?</td>\n",
              "      <td>False</td>\n",
              "      <td>True</td>\n",
              "    </tr>\n",
              "    <tr>\n",
              "      <th>...</th>\n",
              "      <td>...</td>\n",
              "      <td>...</td>\n",
              "      <td>...</td>\n",
              "      <td>...</td>\n",
              "    </tr>\n",
              "    <tr>\n",
              "      <th>5089</th>\n",
              "      <td>7256</td>\n",
              "      <td>@dalailama then have the biggest nuclear disas...</td>\n",
              "      <td>True</td>\n",
              "      <td>False</td>\n",
              "    </tr>\n",
              "    <tr>\n",
              "      <th>4494</th>\n",
              "      <td>6391</td>\n",
              "      <td>hurricane guillermo live noaa tracking / loopi...</td>\n",
              "      <td>True</td>\n",
              "      <td>False</td>\n",
              "    </tr>\n",
              "    <tr>\n",
              "      <th>4144</th>\n",
              "      <td>5891</td>\n",
              "      <td>imagine a doctor treating an #ebola patient wi...</td>\n",
              "      <td>True</td>\n",
              "      <td>False</td>\n",
              "    </tr>\n",
              "    <tr>\n",
              "      <th>6724</th>\n",
              "      <td>9636</td>\n",
              "      <td>severe thunderstorm warning including russellv...</td>\n",
              "      <td>True</td>\n",
              "      <td>False</td>\n",
              "    </tr>\n",
              "    <tr>\n",
              "      <th>2704</th>\n",
              "      <td>3879</td>\n",
              "      <td>detonation fashionable mountaineering electron...</td>\n",
              "      <td>True</td>\n",
              "      <td>False</td>\n",
              "    </tr>\n",
              "  </tbody>\n",
              "</table>\n",
              "<p>549 rows × 4 columns</p>\n",
              "</div>"
            ],
            "text/plain": [
              "        id  ... prediction\n",
              "3472  4967  ...      False\n",
              "1388  2001  ...      False\n",
              "4314  6126  ...      False\n",
              "3237  4649  ...      False\n",
              "6918  9920  ...       True\n",
              "...    ...  ...        ...\n",
              "5089  7256  ...      False\n",
              "4494  6391  ...      False\n",
              "4144  5891  ...      False\n",
              "6724  9636  ...      False\n",
              "2704  3879  ...      False\n",
              "\n",
              "[549 rows x 4 columns]"
            ]
          },
          "metadata": {
            "tags": []
          },
          "execution_count": 23
        }
      ]
    },
    {
      "cell_type": "code",
      "metadata": {
        "id": "aVIjwsFUbZIT",
        "colab_type": "code",
        "colab": {
          "base_uri": "https://localhost:8080/",
          "height": 84
        },
        "outputId": "098820a3-b1ef-404d-f537-736beb13d620"
      },
      "source": [
        "nlp = en_core_web_sm.load()\n",
        "words = nlp(re.sub('#','',df_train_res.loc[4021,'text']))\n",
        "print([(X.text, X.label_) for X in words.ents])\n",
        "\n",
        "print(df_train_res.loc[4021,'text'])\n",
        "print(df_train.loc[4021,'text'])\n",
        "\n",
        "words = nlp(re.sub('#','',df_train_res.loc[4021,'text'].upper()))\n",
        "count = 0\n",
        "for X in words.ents:\n",
        "  if X.label_ in ['FAC','GPE','LOC']:\n",
        "    count += 1\n",
        "print(count)"
      ],
      "execution_count": null,
      "outputs": [
        {
          "output_type": "stream",
          "text": [
            "[('beaverton forest grove', 'ORG')]\n",
            "be careful anyone who lives west of beaverton forest grove has a rapidly spreading fire heading east\n",
            "BE CAREFUL anyone who lives west of Beaverton. Forest Grove has a rapidly spreading fire heading east\n",
            "0\n"
          ],
          "name": "stdout"
        }
      ]
    },
    {
      "cell_type": "code",
      "metadata": {
        "id": "FjDpB-mgzmiT",
        "colab_type": "code",
        "colab": {
          "base_uri": "https://localhost:8080/",
          "height": 35
        },
        "outputId": "8fea0f0e-cfc3-43a2-e94e-ee538a1e577b"
      },
      "source": [
        "df_train_res.loc[4494,'text']"
      ],
      "execution_count": 24,
      "outputs": [
        {
          "output_type": "execute_result",
          "data": {
            "application/vnd.google.colaboratory.intrinsic+json": {
              "type": "string"
            },
            "text/plain": [
              "'hurricane guillermo live noaa tracking / looping wedaug 5th ~ URL ~ URL URL'"
            ]
          },
          "metadata": {
            "tags": []
          },
          "execution_count": 24
        }
      ]
    },
    {
      "cell_type": "code",
      "metadata": {
        "id": "jBRn2I6S1i1T",
        "colab_type": "code",
        "colab": {
          "base_uri": "https://localhost:8080/",
          "height": 202
        },
        "outputId": "0606d628-a7d9-4eac-8e0c-eaf711339a01"
      },
      "source": [
        "df_train_res.iloc[4044]"
      ],
      "execution_count": 49,
      "outputs": [
        {
          "output_type": "execute_result",
          "data": {
            "text/plain": [
              "id                                                                    5744\n",
              "text                     a little concerned about the number of forest ...\n",
              "target                                                                True\n",
              "keyword                                                     forest%20fires\n",
              "count_words                                                             13\n",
              "num_no_stopwords                                                         7\n",
              "no_stpw / count_words                                             0.538462\n",
              "count_catastrophe                                                        0\n",
              "contains_location                                                        0\n",
              "count_url                                                                0\n",
              "Name: 4044, dtype: object"
            ]
          },
          "metadata": {
            "tags": []
          },
          "execution_count": 49
        }
      ]
    },
    {
      "cell_type": "code",
      "metadata": {
        "id": "C5f4Q89j48Et",
        "colab_type": "code",
        "colab": {
          "base_uri": "https://localhost:8080/",
          "height": 134
        },
        "outputId": "18ac52da-72b1-4026-ec52-78d4eb27d2c8"
      },
      "source": [
        "from sklearn.feature_extraction.text import CountVectorizer\n",
        "vectorizer = CountVectorizer()\n",
        "X = vectorizer.fit_transform(df_train_res['text'])\n",
        "print(X.toarray())"
      ],
      "execution_count": null,
      "outputs": [
        {
          "output_type": "stream",
          "text": [
            "[[0 0 0 ... 0 0 0]\n",
            " [0 0 0 ... 0 0 0]\n",
            " [0 0 0 ... 0 0 0]\n",
            " ...\n",
            " [0 0 0 ... 0 0 0]\n",
            " [0 0 0 ... 0 0 0]\n",
            " [0 0 0 ... 0 0 0]]\n"
          ],
          "name": "stdout"
        }
      ]
    },
    {
      "cell_type": "code",
      "metadata": {
        "id": "T69zYJNd8d2o",
        "colab_type": "code",
        "colab": {
          "base_uri": "https://localhost:8080/",
          "height": 54
        },
        "outputId": "eb1386cf-7783-4828-c921-f5a83e4183e7"
      },
      "source": [
        "print(vectorizer.get_feature_names())"
      ],
      "execution_count": null,
      "outputs": [
        {
          "output_type": "stream",
          "text": [
            "['00', '000', '00pm', '01', '012', '014', '02', '0215', '025', '03', '030', '032', '033', '034', '039', '039monster', '04', '045', '05', '05082015', '05th', '06', '060', '061', '066gp', '06jst', '07', '075', '08', '080515', '0840728', '0853', '08780923344', '0880', '09', '097', '0fsloths', '0npzp', '0sed', '10', '100', '1000', '1000s', '1008pla', '1008planet', '100bn', '100mb', '100nd', '100s', '101', '1017', '1023', '1028', '103', '105', '106', '1061', '1061thetwister', '107', '1079', '109', '10am', '10k', '10km', '10m', '10news', '10pm', '10th', '10w', '10x', '11', '11000', '111020', '112', '113', '114', '1141', '1145', '115', '115film', '119000', '11am', '12', '1200', '12000', '12022', '123', '1236', '124', '12413172', '125', '129', '12hr', '12jst', '12m', '12mm', '12news', '12th', '12u', '12v', '13', '130', '13000', '133', '138', '14', '140', '14000', '14028', '141', '143', '148', '149', '14th', '15', '150', '1500', '15000270364', '15000270653', '158', '159', '15901', '15km', '15moferadio', '15t', '15th', '16', '160', '1600', '1620', '163163millions', '163millions', '165000', '16550', '166', '1665', '1686b', '1699', '16yr', '17', '1700', '17000', '171', '1716', '1717', '178', '179', '17beyonce', '17months', '17shawie', '17th', '18', '180', '1800s', '184', '1843', '1862', '1880', '1890', '1895', '18jst', '18th', '18w', '19', '1916', '1921', '1928', '1935', '194', '1940', '1942', '1943', '1945', '1950', '1952', '1960s', '1965', '1967', '1970', '1970s', '1970the', '1974', '1976', '1979', '198', '1980', '1984', '1986', '1994', '1998', '1999', '19th', '19yrs', '1acd4900c1424d1', '1bullet', '1d', '1fmk', '1km', '1m', '1pack', '1rockstar62', '1st', '1x1', '20', '200', '2000', '2000k', '2002', '2003', '2005', '2006', '2007', '2007he', '2008', '2009', '2010', '2011', '2012', '2013', '2014', '2015', '20150613', '2015080', '2016', '2017', '20177', '2019', '202', '2025', '2030', '203rd', '2065', '208', '20k', '20l', '20mins', '20s', '20skyhawkmm20', '20yrs', '21', '210', '213', '21a', '21k', '21st', '22', '22beyonce', '22days', '23', '2327564', '233liveonline', '23800', '239', '2392883', '23km', '23rd', '24', '241487', '24regionåêåênear', '24v', '24x7', '25', '250', '2500', '25000', '2500fps', '250k', '255', '25l', '26', '260th', '263789f4', '263chat', '265v', '267', '27', '2781', '27900end', '27w', '28', '28700', '29', '290', '293', '295ss', '299', '29pm', '2a', '2am', '2b', '2d', '2day', '2fast2furious', '2for1lapdances', '2hours', '2iclown', '2k13', '2k15', '2leezy', '2left', '2minutemix', '2nd', '2ndabndiv', '2pack', '2pcs', '2pm', '2slow2report', '2usa', '30', '300', '3000', '300k', '300m', '300w', '30a', '30l', '30m', '30min', '30pcs', '30pm', '30s', '30stm', '30th', '31', '311', '319', '32', '320', '325', '325ci', '33', '333', '34', '3460', '35', '350', '358', '36', '360', '360wisenews', '361', '363', '365disasters', '367', '36x36', '37', '370', '375', '375000', '37592', '37bs', '38', '38745', '39', '390', '3934', '3939', '3941', '3942', '3945', '3967', '3_6_12', '3a', '3am', '3d', '3dc', '3g', '3km', '3la', '3lv', '3m', '3novices', '3others', '3p', '3pack', '3rd', '3x', '3x5', '3åê', '40', '4000', '400dr', '400t', '401ks', '405', '40hourfamine', '40mln', '40w', '41', '410', '4103', '415', '419', '42', '420', '429cj', '43', '43c', '43rd', '44', '45', '450', '4500', '452', '453', '45600', '459', '45m', '46', '4608ìñ2474', '4678', '46l', '47km', '48', '49', '495', '4am', '4fnet', '4got', '4head', '4k', '4km', '4kus', '4playthursdays', '4pm', '4sake', '4th', '4the', '4tiles', '4tp_kotc', '4tpfa', '4wd', '4x4', '4yygb', '50', '500', '5000', '500th', '501', '5040', '509', '50ft', '50shadezofgrey', '51', '513', '5139055', '516', '52', '5221490', '528', '52k', '53', '530', '53inch', '54', '540', '54000', '541', '544', '547', '548', '55', '550', '55436', '56', '57', '573', '58', '582', '58hif', '59', '5c', '5hvzlaradio', '5km', '5pm', '5s', '5sos', '5sosfam', '5sosfamupdater', '5th', '60', '600', '6000', '60km', '60m', '60mph', '60s', '61', '615', '616', '61st', '62', '627', '629', '63rd', '64', '64oz', '65', '65000', '66', '660', '6615434', '662', '666', '666canberra', '66m', '67', '670thescore', '6773', '68', '688', '69', '6aug', '6beyonce', '6bn', '6c', '6pm', '6th', '70', '7000', '707', '70th', '70years', '712c', '71st', '72', '723', '72w', '731', '737', '73km', '73rd', '74', '740', '746', '75', '75000', '751', '752', '75k', '77', '777', '78', '786', '79', '7a', '7aal', '7amdollela', '7beyonce', '7k', '7newsadl', '7p', '80', '800', '8000', '8015', '80m', '80s', '8217t', '83', '8392', '84', '8400', '8437150124', '8550013', '8588547', '8591', '85v', '87', '877', '88', '89', '8960', '89x', '8km', '8m', '8th', '8whts', '90', '9000', '900037', '90225', '905', '90blks', '90s', '90th', '91', '911', '911bombing', '917', '91å', '92', '924', '925', '928', '93', '945hpa', '949', '95', '950', '957thegame', '95roots', '96', '96355', '966', '96km', '97', '98', '9800', '99', '994', '9973', '999', '999day', '9am', '9km', '9newsbrisbane', '9newsgoldcoast', '9newsmornings', '9pm', '9tarbox', '_3', '_301dc', '__', '__ohhmyjoshh', '__scrambledeggs', '__srajapakse__', '_animaladvocate', '_ashj', '_asianshawtyy', '_bookofdaniel', '_charleyisqueen', '_chelsdelong12', '_dangdaddy', '_dangerousbeans', '_dmerida', '_doofus_', '_edvinnn', '_explicitpretty', '_freemarketeer', '_gaabyx', '_itsdanie_', '_itsmegss_', '_itzsteven', '_jeesss_', '_keits', '_minimehh', '_ohhsehuns', '_oliviaann_', '_one', '_onlyftf', '_pokemoncards_', '_reddevil4life_', '_rosewell', '_stiiilo', '_wildfire__', 'a1', 'a10', 'a1a', 'a2', 'a3', 'a40', 'a5', 'a7', 'a__cee', 'aa', 'aaa', 'aaalll', 'aaand', 'aaarrrgghhh', 'aace_org', 'aan', 'aannnd', 'aar', 'aaronthefm', 'aashiqui', 'ab', 'aba', 'abandon', 'abandoned', 'abandonedpics', 'abandoning', 'abbandoned', 'abbott', 'abbruchsimulator', 'abbswinston', 'abbyairshow', 'abc', 'abc3340', 'abc7', 'abc7chicago', 'abc7eyewitness', 'abcnews', 'abcnews24', 'abcnorio', 'abcs', 'abe', 'aberdeen', 'aberdeenfanpage', 'aberdeenfc', 'aberystwyth', 'abes', 'abha', 'abia', 'ability', 'abject', 'ablaze', 'able', 'ableg', 'abninfvet', 'aboard', 'abomb', 'abomination', 'abortion', 'abortions', 'about', 'abouts', 'above', 'abran_caballero', 'abs', 'absence', 'absolut_sumya15', 'absolute', 'absolutely', 'abstorm', 'abstract', 'absurd', 'absurdly', 'abu_baraa1', 'abuse', 'abused', 'abuses', 'abusing', 'abysmaljoiner', 'ac', 'acaciapenn', 'academia', 'acarewornheart', 'acc', 'accept', 'accepte', 'accepts', 'access', 'accident', 'accidentally', 'accidentalprophecy', 'accidently', 'accidents', 'accidentwho', 'accionempresa', 'accompanying', 'according', 'accordingly', 'account', 'accountable', 'accounts', 'accuracy', 'accused', 'accuses', 'accustomed', 'acdelco', 'ace', 'acebabes', 'acebreakingnews', 'acenewsdesk', 'acesse', 'achedin', 'achieve', 'achievement', 'achieving', 'achimota', 'aching', 'acid', 'acids', 'acmilan', 'acne', 'acoustic', 'acousticmaloley', 'acquiesce', 'acquire', 'acquired', 'acquisitions', 'acres', 'acronym', 'across', 'acrylic', 'act', 'actavis', 'acted', 'actin', 'acting', 'action', 'actionmoviestaughtus', 'actions', 'activate', 'activated', 'activates', 'active', 'actively', 'activision', 'activist', 'activities', 'activity', 'actor', 'actress', 'acts', 'actual', 'actually', 'acura', 'acute', 'ad', 'adam', 'adamantly', 'adamnibloe', 'adamrubinespn', 'adamtuss', 'adani', 'adanne___', 'adaptation', 'add', 'added', 'addict', 'addiction', 'addicts', 'adding', 'addition', 'address', 'addresses', 'addtexastonext1dtour', 'adelaide', 'adhd', 'adidas', 'adiossuperbacterias', 'adjust', 'adjustable', 'adjusted', 'adjuster', 'admin', 'administration', 'administrative', 'admit', 'admits', 'adndotcom', 'adopt', 'adoption', 'adoptive', 'adorable', 'adorableappple', 'adrian_peel', 'adriasimon_', 'adriennetomah', 'ads', 'adsit', 'adult', 'adultblackmale', 'adults', 'adumbbb', 'advance', 'advanced', 'advances', 'advantages', 'adventures', 'adverse', 'advertise', 'advertised', 'advice', 'advised', 'advisory', 'adweek', 'aeg', 'aelinrhee', 'aeroplane', 'aerospace', 'aesop', 'aesthetic', 'af', 'afc', 'affair', 'affect', 'affected', 'affecting', 'affects', 'affiliate', 'affiliation', 'afflecki', 'affliction', 'afghan', 'afghanistan', 'afghetcleft', 'afk_10', 'afloat', 'afp', 'afraid', 'africa', 'african', 'africanbaze', 'africans', 'africansinsf', 'africas', 'africaå', 'afrikaan', 'afrin', 'afte', 'after', 'afterhaiyan', 'afterlife', 'aftermath', 'afternoon', 'aftershock', 'aftershock_delo', 'aftershock_org', 'aftershocks', 'afterwards', 'afycso', 'ag', 'ag_usa', 'again', 'against', 'agalloch', 'agdq', 'age', 'aged', 'ageekyfangirl14', 'agencies', 'agency', 'agent', 'agents', 'ages', 'aggarwal', 'aggressif', 'aggression', 'aggressive', 'aggressively', 'agnivesh', 'agnus', 'ago', 'agochicago', 'agony', 'agree', 'agreed', 'agreements', 'agrees', 'agreeshe', 'aguero', 'agw', 'ah', 'ahahahga', 'ahamedis', 'ahead', 'ahh', 'ahhh', 'ahhtheenikki', 'ahrar', 'ai', 'aias', 'aid', 'aida_de', 'aidan', 'aids', 'aiginsurance', 'aiiamericangiri', 'aiii', 'aim', 'aimlessly', 'aint', 'aintsheperty', 'air', 'airasia', 'aircraft', 'airhead', 'airhorns', 'airing', 'airlift', 'airlines', 'airplane', 'airplanes', 'airplaneåê', 'airport', 'airports', 'airstrikes', 'airwaves', 'aisle', 'aisumage', 'aitchkaycee', 'ajabrown', 'ajw', 'ak', 'aka', 'akame', 'akarb74', 'akcsl', 'akgovbillwalker', 'akilah', 'akito', 'akrams', 'aks', 'akumareisu', 'akwa', 'akx', 'akxbskdn', 'al', 'alabama', 'alabamaquake', 'aladdin', 'alameda', 'alamodc', 'alanhahn', 'alarm', 'alarmed', 'alarming', 'alarmingly', 'alarms', 'alas', 'alaska', 'alaskan', 'alaskas', 'alaskaseafood', 'alba', 'albany', 'albeit', 'alberta', 'albertans', 'albertas', 'albertsons', 'album', 'albums', 'alchemist', 'alcohol', 'alcoholandmetal', 'alcoholism', 'aldridge', 'alec', 'aleisstokes', 'alekalicante', 'alert', 'alerts', 'alex', 'alexalltimelow', 'alexandrapullin', 'alexandrian', 'alexbelloli', 'alexeivolkov1', 'alexhammerstone', 'alexis', 'alexis_sanchez', 'alexjacobsonpfs', 'alexshippp', 'alextucker', 'alfapedia', 'algae', 'algeria', 'alhaji', 'alhanda', 'ali', 'alice', 'alien', 'aliens', 'alifaditha', 'align', 'alil', 'alipaper', 'alisonannyoung', 'alive', 'aliveafter5', 'all', 'allah', 'allahsfinest12', 'allay', 'allday_cumshots', 'allegations', 'alleged', 'allegedly', 'allegiance', 'allen_enbot', 'allergic', 'alley', 'alliance', 'allied', 'allies', 'allinwithchris', 'alll', 'alllivesmatter', 'allocating', 'alloosh', 'allotment', 'allow', 'allowed', 'allowing', 'allows', 'alloy', 'allthekidneybeansandsorbet4misha', 'allthenews', 'ally', 'allyinwondrland', 'almighty', 'almost', 'almusafirah_', 'alois', 'alone', 'along', 'alot', 'alpha', 'alphen', 'alps', 'alrasyid448iturasya', 'already', 'alright', 'alrightbut', 'alrighty', 'alska', 'also', 'alsowhat', 'alt', 'altamonte', 'alternate', 'alternative', 'alternatives', 'although', 'alton', 'aluminum', 'alves', 'alvinnelson07', 'always', 'alwsl', 'alwx', 'am', 'ama', 'amageddon', 'amalie', 'amaramin3', 'amateur', 'amateurnester', 'amazed', 'amazin', 'amazing', 'amazingness', 'amazon', 'amazondeals', 'amazons', 'amber', 'ambition', 'ambleside', 'ambulance', 'ambulances', 'ambulancewe', 'amcx', 'ameenshaikh3', 'amen', 'amends', 'ameribag', 'america', 'american', 'americanlegion', 'americans', 'americas', 'ames', 'amesocialaction', 'amicos', 'amicospizzato', 'amid', 'amiibos', 'amin_akh', 'aminespn', 'amino', 'amirite', 'amirkingkhan', 'amman', 'amo', 'among', 'amongst', 'amp', 'ampa', 'ampamp', 'ampampk', 'ampask', 'ampb', 'ampbeat', 'ampdemocracy', 'ampdoris', 'ampexplode', 'ampgot', 'ampgrossly', 'amphuman', 'ampi', 'amplifier', 'amplost', 'ampmdash', 'ampmy', 'ampn', 'ampshots', 'ampstart', 'ampstory', 'ampuse', 'ampw', 'ampwanted', 'amreading', 'amritsar', 'amsal', 'amssummer', 'amsterdam', 'amumumux', 'amznfavorites', 'an', 'an247', 'ana', 'anakin', 'analog', 'analysis', 'anarchic_teapot', 'anarchy', 'anathemazhiv', 'anatomy', 'anchor', 'anchorage', 'anchors', 'ancient', 'ancop', 'and', 'anders', 'anderson', 'andre', 'andrea', 'andrew', 'android', 'androidgames', 'ands', 'andy', 'andygilder', 'andåêchina', 'anellatulip', 'anew', 'angel', 'angel_star39', 'angela', 'angeles', 'angelheartnight', 'angelina', 'angelriveralib', 'angels', 'anger', 'angers', 'angharadjames16', 'angioplasty', 'angry', 'angusmacneilsnp', 'anhqdc', 'ani', 'animal', 'animallogic', 'animalrescue', 'animals', 'animations', 'animatronics', 'anime', 'aniston', 'anjem', 'ankle', 'ankles', 'anna', 'annaciclismo', 'annajhm', 'annddd', 'annealiz1', 'annihilate', 'annihilated', 'annihilating', 'annihilation', 'anniversary', 'annmarieronan', 'annonymous', 'annoucement', 'announce', 'announced', 'announcement', 'announces', 'annoyed', 'annoying', 'annual', 'anonchimp', 'anonymous', 'another', 'answer', 'answered', 'answers', 'ant', 'ante', 'anthelmintic', 'anthology', 'anthony', 'anthonys', 'anthrax', 'anthxvy', 'anti', 'antichrist', 'antioch', 'antiochhickoryhollow', 'antiochus', 'antipozi', 'antonio', 'antony', 'antpips67', 'ants', 'anu', 'anxiety', 'anxietyproblems', 'anxious', 'any', 'anybody', 'anymore', 'anyone', 'anything', 'anytime', 'anyway', 'anyways', 'anywhere', 'anza', 'aogashima', 'aoms', 'ap', 'apano55', 'apart', 'apartment', 'apartments', 'apaz', 'apc', 'apch', 'apcåêpdp', 'apd', 'apga', 'aphiabeta1907', 'aphl', 'aphyr', 'apiece', 'apocalpytic', 'apocalypse', 'apocalyptic', 'apollo', 'apollobrown', 'apollobrowns', 'apologies', 'apologise', 'apologize', 'apologized', 'app', 'appalling', 'apparent', 'apparently', 'appeals', 'appeared', 'appears', 'appease', 'apperception', 'appetite', 'applaud', 'apple', 'appleofficlal', 'applications', 'applied', 'applies', 'apply', 'appointment', 'appoints', 'appraisal', 'appreciate', 'appreciated', 'appreciativeinquiry', 'approach', 'approaches', 'approaching', 'appropriate', 'appropriation', 'approval', 'approves', 'appx', 'appys', 'apr', 'april', 'apropos', 'apt', 'aptly_engineerd', 'apts', 'aq', 'aquarium', 'aquarius', 'aquaurl', 'ar', 'ara', 'arab', 'arabia', 'arabian', 'arabic', 'arachys', 'arcade', 'arceen', 'archetype', 'archipelagowolves', 'architect', 'architects', 'architecture', 'are', 'area', 'areal', 'areas', 'areavoluntary', 'aren', 'arena', 'arenanone', 'arent', 'areva', 'arfur', 'argentaelite', 'argentina', 'argentinean', 'argentings', 'argh', 'argsuppose', 'argue', 'argues', 'argument', 'argus_99', 'ari', 'aria_ahrary', 'ariabrisard', 'arian', 'ariana', 'arianagrande', 'arianareed11', 'arin', 'aris', 'ariz', 'arizona', 'arizonadot', 'arizzo44', 'arkan', 'arkansas', 'arlington', 'arm', 'armageddon', 'armed', 'armenians', 'armory', 'arms', 'army', 'armys', 'arnhem', 'arnley', 'arobotlegion', 'around', 'aroundthe', 'arovolturi3000', 'arranged', 'arreat', 'arrest', 'arrested', 'arrestpastornganga', 'arrests', 'arrival', 'arrive', 'arrived', 'arrives', 'arriving', 'arrogant', 'ars', 'arse', 'arsenal', 'arsenals', 'arson', 'arsonist', 'arsonistmusic', 'arsonists', 'art', 'art_brut_', 'artectura', 'arti', 'articals', 'article', 'articles', 'artificial', 'artillery', 'artist', 'artisteoftheweekfact', 'artists', 'artistsunited', 'arts', 'artwork', 'arvindkejriwal', 'arwx', 'ary', 'as', 'as10004', 'asae15', 'asap', 'asb', 'asbury', 'asburyparkpress', 'ascend', 'aseer', 'asf', 'ash', 'ashayo', 'ashberxo', 'ashdod', 'ashenforest', 'ashes', 'ashes2015', 'ashes2ashes', 'ashestoashes', 'ashghebranious', 'ashley', 'ashrafiyah', 'ashton5sos', 'ashville', 'asia', 'asian', 'asics', 'aside', 'asimtanvir', 'ask', 'askcharley', 'askconnor', 'asked', 'askforalaska', 'askh3cz', 'askin', 'asking', 'asks', 'asleep', 'aspect', 'aspects', 'asphalt', 'aspiring', 'ass', 'assad', 'assailant', 'assassinkpg', 'assassins', 'assault', 'assembly', 'assertative', 'asses', 'assessment', 'assets', 'asshole', 'assholes', 'assistance', 'assistant', 'assisting', 'assnchat', 'associated', 'association', 'assume', 'assumes', 'assured', 'asswipe', 'asterpuppet', 'astonishing', 'astounding', 'astrakhan', 'astrologian', 'astrology', 'astros', 'astroturfers', 'asukager', 'asylum', 'asymbina', 'at', 'atamathon', 'atc', 'atcha', 'atchisonsean', 'ate', 'atgrannyshouse', 'atheistic_1', 'athens', 'athlete', 'athletics', 'atk', 'atl', 'atl_events', 'atlanta', 'atlantic', 'atlarnxx', 'atlas', 'atlbizchron', 'atleast', 'atljw', 'atm', 'atmosphere', 'atmospheric', 'atom', 'atombomb', 'atomic', 'atomicbomb', 'att', 'attached', 'attack', 'attackclose', 'attacked', 'attacking', 'attackonstiles', 'attacks', 'attackshare', 'attained', 'attempt', 'attempted', 'attempting', 'attend', 'attendance', 'attended', 'attendees', 'attending', 'attention', 'attic', 'attila', 'attitude', 'attjcdemos', 'attraction', 'attractive', 'atv', 'atåêcinema', 'au', 'aubilenon', 'aubrey', 'auburn', 'auc', 'auckland', 'auction', 'auctions', 'audaciousspunk', 'audacityjamesta', 'audi', 'audience', 'audiences', 'audio', 'audit', 'audreyp77', 'aug', 'august', 'aul', 'aunt', 'auntiedote', 'aurora', 'aus', 'ausinstarchitect', 'auspol', 'aussie', 'aussies', 'aust', 'austin', 'austinpearcy22', 'australia', 'australian', 'australians', 'australias', 'austrian', 'auth', 'authentic', 'authenticating', 'author', 'author_mike', 'authorities', 'authors', 'autism', 'autismawareness', 'autistic', 'auto', 'autoames', 'autobiography', 'autoinsurance', 'automatic', 'automation', 'autumn', 'auz', 'av', 'ava', 'available', 'avalanche', 'avalanches', 'avbronstein', 'ave', 'avenged', 'avengers', 'avenue', 'average', 'avert', 'averted', 'avi', 'aviation', 'aviationaddicts', 'avigdorliberman', 'avoid', 'avoided', 'avoiding', 'avoids', 'avysss', 'aw', 'awadgolf', 'await', 'awaits', 'awake', 'awakenings', 'awards', 'aware', 'awareness', 'awash', 'away', 'awesome', 'awesomeee', 'awesomelove', 'awesomesauce', 'awful', 'awickedassassin', 'awkward', 'awn', 'awol', 'awww', 'ay', 'ayekoradio', 'ayhhhdjjfjrjjrdjjeks', 'ayhoka_', 'ayshun_tornado', 'ayyo', 'ayyy', 'az', 'azimel', 'azusa', 'azwx', 'aåêmiddle', 'b1g', 'b1grego', 'b2', 'b24fowler', 'b2b', 'b2bagency', 'b4', 'b4federal', 'ba', 'baaack', 'baan', 'babality', 'babalmaowelcome', 'babe', 'babes', 'babies', 'babri', 'baby', 'babybackreeve', 'babysweet420', 'bachmann', 'back', 'backed', 'background', 'backing', 'backlash', 'backpack', 'backroom', 'backs', 'backtoback', 'backty', 'backup', 'backups', 'backyard', 'backyards', 'bacteria', 'bad', 'badass', 'badastronomer', 'badchoices', 'badge', 'badges', 'badirandeal', 'badkitty', 'badly', 'badotweet', 'badr58', 'badu', 'bae', 'baekhyun', 'baffles', 'baffling', 'bag', 'baggage', 'bagged', 'bagging', 'bago', 'bags', 'bah', 'bahrain', 'bail', 'bailed', 'baileysmsteach', 'bailout', 'bairstow', 'bait', 'baiting', 'bajrangi', 'bak', 'bake', 'baked', 'bakeofffriends', 'baking', 'bal', 'balance', 'balanced', 'balcony', 'balding', 'bali', 'ball', 'ballews', 'balls', 'baltimore', 'bama', 'bamenda', 'ban', 'banana', 'bancodeseries', 'band', 'banditregina', 'bandolier', 'bands', 'banerjee', 'bang', 'bang_me_up_guk', 'bangalore', 'bangin', 'bangladesh', 'bangladeshaffected', 'bangladeshflood', 'bangtan', 'bank', 'banki', 'banking', 'banks', 'bankstown', 'banksy', 'banned', 'bannister', 'bannukes', 'banquet', 'bans', 'banthebomb', 'bantrophyhunting', 'bapusuratsingh', 'bar', 'barack', 'barackobama', 'barak', 'barbados', 'barbaric', 'barber', 'barbi_twins', 'barcelona', 'barcousky', 'bard', 'bardissimo', 'bardo', 'bare', 'barely', 'barfield', 'bargain', 'bark', 'barkevious', 'barking', 'barn', 'barra', 'barracks', 'barrier', 'barring', 'barrington', 'barry', 'bars', 'bartender', 'barthubbuch', 'baruch', 'basalt', 'base', 'baseball', 'baseballquotes1', 'based', 'based_georgie', 'basedlarock', 'baseman', 'basement', 'bash', 'bashes', 'bashing', 'basic', 'basically', 'basics', 'basildudin', 'basis', 'bask', 'baskets', 'baskgod', 'bass', 'bastard', 'bastards', 'bat', 'batfanuk', 'bath', 'bathandnortheastsomerset', 'bathe', 'bathroom', 'bathroomits', 'baths', 'batista', 'bats', 'batter', 'battered', 'batteries', 'batters', 'battery', 'batting', 'battle', 'battle_dom', 'battleanother', 'battlefield', 'battlerapchris', 'battleroyalemod', 'battles', 'battleship', 'battleships', 'battling', 'bay', 'bayarea', 'bayelsa', 'bayelsaåêstate', 'bayonets', 'bb', 'bb17', 'bb4sp', 'bbc', 'bbc5live', 'bbcengland', 'bbcintroducing', 'bbclaurak', 'bbcmtd', 'bbcnews', 'bbctalkback', 'bbctms', 'bbcwomanshour', 'bbloggers', 'bbm', 'bbshelli', 'bbsnews', 'bc', 'bc19', 'bcfcticketlady', 'bck', 'bcpoli', 'bcs', 'bcuz', 'bcz', 'bd', 'bday', 'bdisgusting', 'be', 'be4', 'be_ram0s', 'beach', 'beached', 'beacon', 'beam', 'bean', 'bear', 'beard', 'bearer', 'bearers', 'bears', 'beast', 'beastin', 'beastly', 'beat', 'beatdown', 'beaten', 'beating', 'beats', 'beatz', 'beaumont', 'beauscoven', 'beautiful', 'beautiful_juic1', 'beautifully', 'beauty', 'beaverton', 'bebacksoon', 'became', 'becarefulharry', 'because', 'becca_caitlyn99', 'beck', 'beckoning', 'beckyfeigin', 'beclearoncancer', 'become', 'becomes', 'becoming', 'beconfident', 'becyme', 'bed', 'bedding', 'bedroom', 'bedrooms', 'bee', 'beef', 'beelievedc', 'been', 'beenghosting', 'beep', 'beer', 'bees', 'beet', 'beetroot', 'beezersun', 'before', 'beforeitsnews', 'began', 'begforcum', 'begging', 'begin', 'beginners', 'beginning', 'beginnings', 'begins', 'begun', 'behalf', 'behavior', 'behaviors', 'behaviour', 'behead', 'beheadings', 'behind', 'behindashield', 'behold', 'beige', 'beinart', 'being', 'beisbol', 'beit', 'bekah__w', 'bel', 'belie', 'belief', 'beliefs', 'believe', 'believeis', 'believing', 'bell', 'bella', 'bellalinn', 'belle', 'bellerin', 'belligerent', 'bells', 'belly', 'beloeil', 'belonged', 'belongs', 'below', 'belt', 'belter', 'beluga', 'ben', 'benaffleck', 'bend', 'bene', 'beneath', 'benedict', 'benediction', 'benefits', 'benews', 'bengal', 'bengalis', 'bengston', 'benignovito', 'benitezs', 'benjamin', 'benjbeckwith', 'benji_devos', 'benjm1', 'benkin97', 'bennycapricon', 'benothing', 'benson', 'benstracy', 'bentley', 'bentossell', 'benzema', 'berahino', 'berlatsky', 'berlin', 'bernard', 'bernardino', 'berry', 'besafe', 'beside', 'besides', 'besieged', 'best', 'bestcomedyvine', 'bestfriends', 'bestia', 'bestie', 'bestival', 'bestnaijamade', 'bests', 'bestseller', 'besttalkradio', 'bet', 'beth', 'bethanymota', 'bethlehem', 'betrayed', 'bets', 'better', 'betting', 'bettyfreedoms', 'between', 'betz', 'beware', 'beyhive', 'beyonce', 'beyond', 'beyondgps', 'beyondthebomb', 'bf', 'bff', 'bfore', 'bg', 'bhaijaan', 'bhavanas', 'bhp', 'bhramabull', 'bhusa', 'bi', 'bi_video', 'bias', 'bible', 'biblestudy', 'biblical', 'bicentennial', 'bicep', 'bickleton', 'bicycle', 'bicycles', 'bicyclist', 'bicyclists', 'bid', 'bids', 'bieber', 'big', 'bigamist', 'bigbrother', 'bigburgerboi55', 'biggangvh1', 'biggar', 'bigger', 'biggest', 'bigperm28', 'bigrigradio', 'bigsby', 'bigsim50', 'bigstar', 'bigåêconsequences', 'bike', 'biker', 'bilic', 'bilingual', 'bill', 'bill_roose', 'billboard', 'billboards', 'billers', 'billgates', 'billharris_tv', 'billings', 'billion', 'billionaire', 'billionaires', 'billiton', 'billmccabe', 'billneelynbc', 'bills', 'billy', 'billy_hodge', 'bilsen', 'bilsko', 'bin', 'bind', 'binellithresa', 'bings', 'binladen', 'bio', 'biolab', 'biolabs', 'biological', 'biosurveillance', 'bioter', 'bioterror', 'bioterrorism', 'bioterrorismim', 'birb', 'bird', 'birds', 'birmingham', 'birminghams', 'birth', 'birthday', 'biryani', 'bishopfred', 'bistro', 'bit', 'bitch', 'bitches', 'bitchl0vecannon', 'bitcoin', 'bitcoing', 'bite', 'bites', 'biting', 'bits', 'bitten', 'bitters', 'biz', 'biztip', 'bizzlemahomie', 'bj_nutt', 'bjp', 'bjpsamvad', 'bk', 'bkb', 'bkn', 'blaaa', 'black', 'blackberry', 'blackburns', 'blackcats', 'blacken', 'blackinamerica', 'blacklivesmatter', 'blackmail', 'blackpool', 'blacks', 'blah', 'blair', 'blairmcdougall', 'blaise', 'blake', 'blakeschmidt', 'blakeshelton', 'blame', 'blamed', 'blames', 'blaming', 'bland', 'blanket', 'blanksocietyx', 'blanktgt', 'blast', 'blastedi', 'blasting', 'blasts', 'blaze', 'blazer', 'blazerfan', 'blazes', 'blazing', 'blazing_ben', 'blazingelwoods', 'bldrcosheriff', 'bleachers', 'bleed', 'bleeding', 'bleeds', 'blending', 'bless', 'blessed', 'blessing', 'blessings', 'blevins', 'blew', 'blight', 'blind', 'blink', 'blinked', 'blinker', 'bliss', 'blitzed', 'blitzes', 'blizzard', 'blizzard_draco', 'blizzard_fans', 'blizzard_gamin', 'blizzardcs', 'blizzheroes', 'blk', 'blks', 'block', 'blockage', 'blockchain', 'blocked', 'blocking', 'blocks', 'blog', 'bloggers', 'bloke', 'blonde', 'blood', 'bloodbath_tv', 'bloodbound', 'blooded', 'bloody', 'bloodymonday', 'bloom', 'bloomberg', 'bloopandablast', 'bloor', 'blossom', 'blossominglilac', 'blow', 'blowers', 'blowin', 'blowing', 'blowjobs', 'blowltan', 'blowmandyup', 'blown', 'blowout', 'blows', 'blubber', 'blue', 'bluebell', 'bluebirddenver', 'bluedio', 'bluehand', 'bluejays', 'blueprint', 'blues', 'bluetooth', 'bluewestlo', 'bluff', 'blunt', 'bluntedjayt', 'blunts', 'blutz10', 'blvd', 'bmurph1019', 'bmw', 'bmx', 'bn', 'bo3', 'board', 'boarding', 'boards', 'boasting', 'boat', 'bob', 'bobble', 'bobbyofhomewood', 'bobbyxfisher', 'bobcats', 'bod', 'bodied', 'bodies', 'body', 'bodys', 'boeing', 'boi', 'boing', 'boironusa', 'boise', 'boko', 'bokoharam', 'bokuto', 'bolasie', 'bolshevik', 'bolster', 'bolstering', 'bolsters', 'bolt', 'boltåêcyclone', 'bomairinge', 'bomb', 'bombed', 'bomber', 'bombers', 'bombing', 'bombings', 'bombs', 'bomd', 'bon', 'bona', 'bones', 'bong', 'bonhomme37', 'bonn1egreer', 'bonnieg434', 'bonsai', 'bonus', 'boobs', 'book', 'bookanother', 'bookboost', 'bookmobile', 'books', 'booksbyroger', 'bookslast', 'booktubeathon', 'boom', 'boomerangtime', 'boone', 'booradleyvancullen', 'boost', 'boot', 'booth', 'boots', 'booty', 'booze', 'bordento', 'border', 'borderlands', 'borderlands2', 'bore', 'bored', 'borgeous', 'boring', 'born', 'bornverified', 'borrowers', 'bosphore', 'boss', 'boston', 'bot', 'both', 'bother', 'bothered', 'bottle', 'bottling', 'bottom', 'bought', 'boulder', 'bounce', 'bounced', 'bound', 'boundaries', 'boundary', 'bounds', 'bounty', 'bout', 'bouta', 'boutta', 'bovines', 'bowe', 'bowery', 'bowhunting', 'bowknot', 'bowl', 'bowling', 'bows', 'box', 'boxed', 'boxer', 'boxes', 'boxing', 'boxset', 'boy', 'boycottbears', 'boyd', 'boyfriend', 'boyhaus', 'boyinahorsemask', 'boylesports', 'boys', 'bp', 'br', 'brace', 'bracelet', 'bracing', 'brackets', 'bradford', 'bradley', 'bradleybrad47', 'brady', 'brahmans', 'brain', 'brainless', 'brains', 'brakes', 'braking', 'branch', 'brand', 'brandonmulcahy', 'brandonskeie', 'brant', 'brass', 'brasswork', 'brave', 'bravery', 'braves', 'brazil', 'brazilian', 'brb', 'brbrs', 'bre_morrow', 'breaches', 'breachgamingorg', 'bread', 'break', 'breakdancers', 'breakdown', 'breakfast', 'breakfastone', 'breaking', 'breaking144', 'breaking411', 'breakingnews', 'breakingnewslh', 'breaks', 'breakth', 'breast', 'breath', 'breathe', 'breathing', 'bred', 'bree_mars', 'breed', 'breeder', 'breitbartnews', 'breivik', 'brenas', 'brento_bento', 'brewer', 'brewing', 'brian', 'brianboru67', 'briannafrost', 'brianroemmele', 'brick', 'bricks', 'brics', 'bridal', 'bride', 'bridge', 'bridgeport', 'bridgeportspeed', 'bridges', 'bridgetown', 'bridgework', 'brief', 'briefcase', 'briefing', 'brig', 'brigade', 'bright', 'brightening', 'brightly', 'brighton', 'briliantly', 'brilliant', 'brinco', 'bring', 'bringing', 'brings', 'brinx', 'brisbane', 'brisk', 'bristol', 'brit', 'britain', 'britains', 'british', 'britishbakeoff', 'britney', 'britons', 'brits', 'brittanypetko', 'brittsand9', 'brixton', 'bro', 'broad', 'broadcast', 'broadcasting', 'broader', 'broadly', 'broadway', 'brobread', 'brochure', 'brock', 'brockton', 'brodyfrieling', 'broke', 'broken', 'brokenscnecal', 'bromleythe', 'bronville', 'bronwynbishop', 'bronx', 'brooke', 'brookesddl', 'brooklyn', 'brooktekle_', 'brooo', 'bros', 'broseidonrex', 'brother', 'brothers', 'brought', 'brown', 'browner', 'brownie', 'browns', 'browser', 'browsers', 'browseråêhijacker', 'browsing', 'brrookkllyynnr', 'brucewillis', 'bruh', 'bruise', 'brunette', 'brunt', 'brush', 'brut', 'brutal', 'brutality', 'brutally', 'bruv', 'bryansinger', 'brzjc', 'bs', 'bsf', 'bsg', 'bst', 'bts', 'btw', 'btwn', 'bu', 'bubble', 'bubblycuteone', 'buchana', 'bucharest', 'buck', 'buckle', 'buckley', 'bucks', 'bucs', 'bud', 'buddha', 'buddhas', 'buddy', 'buddys', 'buddz', 'budget', 'buff', 'buffalo', 'buffer', 'buffering', 'buffet', 'buffetts', 'buffoonmike', 'buffs', 'bug', 'bugs', 'build', 'builder', 'building', 'buildings', 'builds', 'buildup', 'built', 'bukidnon', 'bulgarian', 'bull', 'bullet', 'bulletin', 'bulletproof', 'bullets', 'bullpen', 'bulls', 'bullseye', 'bullshit', 'bully', 'bummer', 'bump', 'bumper', 'bumpin', 'bunch', 'bundle', 'bundled', 'bundy', 'bungie', 'bunting', 'burberryant', 'buren', 'burford', 'burger', 'burglar', 'burglary', 'buried', 'burma', 'burn', 'burnaby', 'burned', 'burner', 'burnfat', 'burning', 'burns', 'burnt', 'buroker', 'burp', 'burst', 'burton', 'burundis', 'bury', 'bus', 'buscemi', 'buses', 'buseys', 'bush', 'bushman', 'bushs', 'busines', 'business', 'businesses', 'businessman', 'businessmen', 'bust', 'busted', 'busting', 'busty', 'busy', 'but', 'butch', 'buted', 'butgod', 'buthidaung', 'butiqob', 'buts', 'butt', 'butter', 'butterfinger', 'butterlondon', 'butthe', 'button', 'buy', 'buying', 'buyout', 'buzzfeed', 'bv', 'bwin', 'bwp', 'by', 'bye', 'byebyesoundcloud', 'byityf', 'bypass', 'byproduct', 'byr', 'bytorrecilla', 'byuwnbeki', 'c4news', 'c7', 'c720', 'c_pinto001', 'ca', 'caaall', 'cab', 'cabbage', 'cabin', 'cabins', 'cable', 'cables', 'cabling', 'cabramatta', 'cabrillo', 'cacheadvance', 'cachet', 'cackling', 'cactus', 'cad', 'cadenadeseguidores', 'cadrought', 'caesar', 'caesars', 'cafe', 'cafeawful', 'cafetiere', 'cafire', 'cafì', 'cage', 'cagov', 'cai', 'cain', 'cainsuch', 'cairo', 'caitlin', 'caitsroberts', 'caixxum5sos', 'cake', 'caked', 'cakes', 'cal', 'calabria', 'calais', 'calamities', 'calamity', 'calculates', 'calestous', 'calfires', 'calfreedommom', 'calgarians', 'calgary', 'calgaryfringe', 'calgarys', 'calhoun', 'cali', 'cali74142290', 'calif', 'california', 'californian', 'californians', 'californias', 'call', 'called', 'calling', 'calls', 'calm', 'calmly', 'calorie', 'calories', 'calum36chambers', 'calum5sos', 'calumet', 'calwildfires', 'cam', 'cambridge', 'camden', 'came', 'cameo', 'camera', 'cameron_wate', 'cameronciletti', 'cameronhacker', 'cameronhigdon34', 'cameroon', 'camilacabello97', 'camilas', 'camilla_33', 'camp', 'campaign', 'campanha', 'campbell', 'camped', 'camper', 'campers', 'campfire', 'campground', 'camping', 'camps', 'campsite', 'campus', 'cams', 'can', 'canaanites', 'canada', 'canadas', 'canadasuicide', 'canadian', 'canagal', 'canal', 'canberras', 'cancel', 'canceling', 'cancelled', 'cancels', 'cancer', 'cancers', 'candace_dx', 'candidates', 'candle', 'candy', 'candylit', 'cannabis', 'cannibalism', 'cannon', 'cannot', 'canoe', 'canonbringit', 'canontattoo', 'canonusaimaging', 'canpoli', 'cans', 'cant', 'cantar', 'cantmakeitup', 'cantmisskid', 'cantwaittoplayinminneapolis', 'cantwont', 'canvas', 'canyon', 'cap', 'capable', 'capacity', 'cape', 'capeann', 'capicapricapri', 'capital', 'capitalism', 'capitalist', 'capitulation', 'capoeira', 'caps', 'capsize', 'capsized', 'capsizes', 'captain', 'captainn_morgan', 'caption', 'captives', 'captivity', 'captors', 'capture', 'captured', 'captures', 'captureyyc', 'capturing', 'car', 'cara', 'caraccidentlawyer', 'carajdeievingnc', 'caravans', 'carb', 'carbondale', 'carcinoma', 'card', 'cardboard', 'cards', 'care', 'cared', 'careemergencies', 'careen', 'career', 'careerism', 'careers', 'careful', 'carefully', 'careless', 'carfest', 'carful', 'cargo', 'carhot', 'caribbean', 'caribean', 'caring', 'carl', 'carlachamorros', 'carlilescanoelivery', 'carlos', 'carlsbadbugkil1', 'carmel', 'carmi', 'carmike', 'carnage', 'carnegie', 'carneross', 'carolina', 'carolinagutierr', 'carolinaåêablaze', 'caroline', 'carpet', 'carpooling', 'carr', 'carriage', 'carried', 'carry', 'carryi', 'carrying', 'cars', 'carsonrex', 'cart', 'carted', 'cartel', 'carterville', 'cartoon', 'cartoony', 'cartridges', 'caruana', 'cary', 'cas', 'cascada', 'cascade', 'case', 'cases', 'casewrites', 'cash', 'casing', 'casino', 'casper', 'casper_rmg', 'cast', 'castello', 'casting', 'castle', 'casu', 'casual', 'casually', 'casualties', 'casualty', 'cat', 'cataclysmic', 'catalinas', 'catalogue', 'catastrophe', 'catastrophic', 'catch', 'catcher', 'catches', 'catching', 'catechize', 'categories', 'catfish', 'catfishmtv', 'catholicism', 'catlow', 'catoinstitute', 'catovitch', 'cats', 'catsandsyrup', 'catsofinstagram', 'catwoman1775', 'caued', 'caught', 'causation', 'cause', 'caused', 'causes', 'causing', 'caution', 'cautious', 'cave', 'caves', 'cawx', 'cbc', 'cbcca', 'cbccalgary', 'cbcto', 'cbs', 'cbsbigbrother', 'cbsdenver', 'cc', 'ccmusic', 'ccot', 'cd', 'cdc', 'cdcgov', 'cdcwhistleblower', 'cdnpoli', 'cdt', 'ce', 'cebu', 'cecanfs', 'cech', 'cecil', 'cecilthelion', 'cedarglade2015', 'cee', 'celebration', 'celebrations', 'celebrety', 'celebrities', 'celestial', 'cell', 'celtic', 'celticindeed', 'cement', 'cena', 'censor', 'censorship', 'census', 'center', 'centers', 'centipede', 'central', 'centre', 'ceo', 'cereal', 'cern', 'cerography', 'certain', 'certainly', 'certainty', 'certificate', 'certificates', 'certified', 'cervelli', 'cervix', 'cessna', 'cest', 'cfc', 'cgg', 'cgi', 'ch', 'ch4', 'chaboyyhd', 'chachi', 'chain', 'chains', 'chainsaw', 'chair', 'chairman', 'chairs', 'chalked', 'challenge', 'challenged', 'challenges', 'challenging', 'chambered_blood', 'champ', 'champagne', 'champaign', 'champions', 'championsblackfoot', 'championship', 'championships', 'chan', 'chance', 'chances', 'chandanee', 'chandrababu', 'change', 'changed', 'changefortheworse', 'changepilipinas', 'changes', 'changing', 'chaning', 'chann', 'channel', 'channels', 'channelstv', 'chaos', 'chaosmagician97', 'chapoutier', 'chapter', 'character', 'characters', 'charcoal', 'charge', 'charged', 'chargedup', 'charger', 'chargers', 'charges', 'charging', 'charity', 'charles', 'charlesadler', 'charlesdagnall', 'charleston', 'charlie', 'charlieputh', 'charlies', 'charlize', 'charlotte', 'charmed', 'charmeuse', 'charminar', 'charming', 'charon', 'charred', 'charstevens97', 'chart', 'chartreuse', 'charts', 'chase', 'chaselabsports', 'chaser', 'chases', 'chat', 'chattanooga', 'chawalchorbjp', 'che', 'cheap', 'cheat', 'cheated', 'check', 'checked', 'checkedhe', 'checking', 'checkout', 'checks', 'cheekiness', 'cheer', 'cheese', 'cheetos', 'cheetosarabia', 'chefs', 'chelsea', 'chelsea_dogs', 'chem', 'chemical', 'chemical_babe', 'chemically', 'chemicals', 'cher', 'chernobyl', 'cherokee', 'cherry', 'cheryl', 'chest', 'chester', 'chestertweetsuk', 'chevrolet', 'chevy', 'chewing', 'chews', 'cheyenne', 'chiang', 'chiasson', 'chibi877', 'chicago', 'chicagoscanner', 'chick', 'chicken', 'chief', 'chief__cg', 'chiefs', 'chieftain', 'chikislizeth08', 'child', 'childcare', 'childfund', 'childhood', 'childhooddefined', 'childish', 'children', 'childress', 'childsexabuse', 'chile', 'chilis', 'chill', 'chilli', 'chillimik', 'chillin', 'chilling', 'chills', 'chim', 'china', 'chinadotcom', 'chinas', 'chinese', 'chip', 'chipper', 'chippewa', 'chips', 'chitral', 'chloeunguyen', 'chocolate', 'choctaw', 'choice', 'choices', 'chojo', 'choke', 'choked', 'choking', 'chonce', 'choose', 'choosegod', 'choppas', 'chopped', 'choppergate', 'chopping', 'chopras', 'chords', 'chore', 'chose', 'chosen', 'choudary', 'chowchilla', 'chowtaxis', 'chp', 'chpsre', 'chr3lyc', 'chris', 'chriscesq', 'chrisdanielshow', 'chrisdyson16', 'chrisman528', 'chrisroth98', 'chrissie', 'christ', 'christian', 'christians', 'christianvalues', 'christie', 'christiec733', 'christielinford', 'christinalavv', 'christinartnd', 'christmas', 'christopherszen', 'christycroley', 'chromsucks', 'chronicillness', 'chronicle', 'chrysler', 'chubbysquirrel_', 'chubychux', 'chuck', 'chucker', 'chuckswindoll', 'chunks', 'church', 'churches', 'churchill', 'churchs', 'churkin', 'chxrmingprince', 'cia', 'ciaramckendry', 'cigarette', 'ciggs', 'cigs', 'cilla', 'cindy', 'cindynoonan', 'cinema', 'cinemas', 'cinla1964', 'cins', 'cipinang', 'circa', 'circle', 'circuit', 'circular', 'circus', 'cis', 'cislady', 'citation', 'cites', 'citi', 'cities', 'citing', 'citizen', 'citizens', 'citrus', 'city', 'citylink', 'cityofcalgary', 'cityofhummus', 'cityofkamloops', 'cityofmemphis', 'cityporn', 'citys', 'civil', 'civilian', 'civilians', 'civility', 'civilization', 'cjbanning', 'cjoyner', 'ckec', 'ckosova', 'cl', 'cladding', 'claiborne', 'claim', 'claimed', 'claimin', 'claiming', 'claims', 'claire', 'clairecmc', 'clancy', 'clap', 'clapping', 'clapton', 'clarksville', 'clash', 'class', 'classes', 'classic', 'classycolkett', 'clawing', 'clay', 'claytonbryant', 'cld', 'cle', 'clean', 'cleanest', 'cleaning', 'cleanup', 'clear', 'cleared', 'clearly', 'clears', 'cleav', 'cleavage', 'clegg', 'clelliyou', 'clergyforced', 'cleric', 'clerical', 'clev', 'cleveland', 'clever', 'cleverbot', 'clicca', 'click', 'clicks', 'clico', 'client', 'clients', 'cliff', 'cliffs', 'climate', 'climatechange', 'climb', 'climbed', 'climbing', 'clinical', 'clinton', 'clintons', 'clip', 'clips', 'cliptv', 'clipuri', 'cllrraymogford', 'clnv_', 'clock', 'clogs', 'close', 'closed', 'closely', 'closes', 'closest', 'closet', 'closeup', 'closing', 'closure', 'closures', 'clothes', 'clothesless', 'clothing', 'clots', 'cloud', 'clouds', 'cloudy', 'cloudy_goldrush', 'clown', 'clowns', 'cloydrivers', 'club', 'clubbanger', 'clue', 'cluei', 'clueless', 'clutch', 'clyde', 'cm', 'cm_nevalistis', 'cmcsa', 'cmon', 'cn', 'cnbc', 'cncpts', 'cndpoli', 'cnewslive', 'cnmi', 'cnn', 'cnnbrk', 'cnni', 'cnns', 'cnv', 'co', 'co2', 'coach', 'coach_keith44', 'coaches', 'coaching', 'coahuila', 'coal', 'coalitions', 'coast', 'coast2coastdjs', 'coastal', 'coaster', 'coastguard', 'coat', 'coated', 'coates', 'coats', 'cobes', 'cobra', 'cocaine', 'cochisecollege', 'cochrane', 'cock', 'cocker', 'cockpit', 'cocktail', 'cocky', 'cocoa', 'cod', 'cod8sandscrims', 'codawscrims', 'code', 'codemew', 'codycarnes', 'codythompson25', 'coefficient', 'coerced', 'coercion', 'coffee', 'coffees', 'coffins', 'cognitive', 'cognizant', 'cogxbox', 'coiffed', 'coil', 'coils', 'coincide', 'coke', 'col', 'cold', 'colder', 'coldmpress', 'cole', 'coleslaw', 'colin', 'colinhoffman29', 'collab', 'collaborating', 'collapse', 'collapsed', 'collapses', 'collar', 'collateral', 'collectibles', 'collection', 'collective', 'colleenmnelson', 'college', 'collegeradi', 'collide', 'collided', 'collideworship_', 'collie', 'collins', 'collision', 'collisions', 'colluded', 'colnharun', 'colo', 'coloiccarnality', 'colombia', 'colombian', 'colomr', 'colonel', 'color', 'colorado', 'coloradoavalanche', 'colorectal', 'colored', 'colorism', 'colorlines', 'colour', 'colts', 'columbia', 'columbus', 'column', 'com', 'coma', 'combat', 'combined', 'combining', 'combo', 'combust', 'comcastcares', 'comdev', 'come', 'comedy', 'comeee', 'comes', 'cometh', 'comfortable', 'comic', 'comics', 'comin', 'coming', 'comings', 'comingsoon', 'command', 'commas', 'commence', 'commencement', 'commences', 'comment', 'commenters', 'commentes', 'commenting', 'comments', 'commerce', 'commercial', 'commercials', 'commission', 'commit', 'commiting', 'commitment', 'committed', 'committee', 'committing', 'commoditiesåêare', 'commodity', 'common', 'commons', 'commonwealth', 'communicate', 'communication', 'communities', 'community', 'commute', 'commuters', 'como', 'comp', 'companies', 'companionship', 'company', 'comparing', 'comparison', 'compassion', 'compelling', 'compensate', 'compensations', 'compete', 'competence', 'competitive', 'competitiveness', 'competitor', 'complaining', 'complaint', 'complaints', 'complete', 'completed', 'completely', 'complex', 'compliance', 'compliant', 'complications', 'component', 'components', 'compound', 'comprehensive', 'compulsory', 'computer', 'computers', 'con', 'concentration', 'concept', 'concern', 'concerned', 'concerns', 'concert', 'concluded', 'concludes', 'conclusions', 'conclusively', 'concrete', 'concur', 'concussion', 'condemn', 'condemnation', 'condemning', 'condemns', 'condenses', 'condition', 'conditions', 'conditionsprivation', 'condo', 'condolence', 'condolences', 'condos', 'conducted', 'conf', 'confederate', 'conference', 'confesses', 'confidential', 'confirm', 'confirmation', 'confirmed', 'confirms', 'conflict', 'conflicts', 'confounds', 'confused', 'congestion', 'congrats', 'congratulations', 'congress', 'conklin', 'connecticut', 'connection', 'connections', 'connecto', 'connector', 'connects', 'conning', 'connor', 'connorfranta', 'connormidd', 'conquest', 'consciousness', 'consent', 'consequence', 'consequences', 'conservation', 'conservative', 'conserve', 'consider', 'considering', 'consistent', 'consistently', 'console', 'conspiracy', 'constant', 'constantly', 'constellation', 'constitute', 'constitutional', 'construct', 'construction', 'consultative', 'consumerist', 'consumes', 'cont', 'contact', 'contactenergy', 'contacts', 'contain', 'contained', 'container', 'contd', 'contemplating', 'contemplation', 'contemporary', 'content', 'contentmarketing', 'contest', 'context', 'contig', 'continually', 'continue', 'continued', 'continues', 'continuinglet', 'contr', 'contract', 'contractor', 'contrast', 'contrasts', 'contribute', 'contributing', 'contributions', 'contributor', 'contries', 'control', 'controlled', 'controller', 'controllers', 'contruction', 'convection', 'convene', 'conveniently', 'convention', 'conversation', 'conversations', 'convert', 'convertible', 'converting', 'convinced', 'convincing', 'convivted', 'cook', 'cookie', 'cooking', 'cool', 'cooler', 'coolest', 'cooling', 'cools', 'coool', 'cooper', 'cooperation', 'cooperstown', 'cop', 'copa', 'copalibertadores', 'cope', 'copied', 'copies', 'coping', 'copped', 'coppednews', 'copper', 'copperfields', 'cops', 'copycat', 'copycats', 'coquitlam', 'cor', 'coral', 'corals', 'cord', 'core', 'corey', 'coreyashe', 'corii', 'cork', 'corleonedaboss', 'corn', 'corner', 'corners', 'coronet', 'corp', 'corpse', 'correct', 'correcting', 'correction', 'correlate', 'correlation', 'correspondent', 'corruption', 'cortezera', 'cortneymo_', 'corycove', 'cos', 'cosima', 'cosits', 'cosme', 'cosmetic', 'cosponsor', 'cossack', 'cost', 'costa', 'costing', 'costlier', 'costly', 'costs', 'cote', 'cottage', 'cotton', 'couches', 'cougars', 'could', 'coulda', 'couldnt', 'couldve', 'coun', 'council', 'councilscc', 'counselor', 'counselors', 'count', 'counter', 'countermoonbat', 'counterstrike', 'countless', 'countries', 'country', 'countrys', 'county', 'countynews', 'couple', 'couples', 'courage', 'courageous', 'course', 'courses', 'coursing', 'court', 'courtlizcamp', 'courtney', 'courtof', 'courts', 'cousin', 'cousins', 'cover', 'coverage', 'covered', 'covering', 'covers', 'cow', 'cowardly', 'cowboys', 'cowgirl', 'cowgirllawyer', 'coworker', 'cows', 'cowx', 'coxytown', 'coya', 'coyi', 'coyotes', 'cozmo23', 'cpanel', 'cpr', 'cqnow', 'cr', 'crabbycale', 'crack', 'crackdown', 'crackedgem', 'cracker', 'crackin', 'cracking', 'cracks', 'craig', 'cramer', 'cramming', 'cramp', 'cranboonitz', 'crane', 'cranes', 'crap', 'crapgamer', 'crash', 'crash___', 'crashed', 'crashes', 'crashing', 'crashsterling', 'crater', 'craving', 'crawling', 'craykain', 'crayons', 'crazier', 'crazy', 'crazydoctorlady', 'crazyideascollege', 'crazyindapeg', 'crazyweather', 'crbzfz', 'cream', 'creamfields', 'create', 'created', 'createdunique23', 'creates', 'creating', 'creation', 'creationmin', 'creationsbykole', 'creative', 'creativity', 'creatures', 'credentials', 'credit', 'credited', 'credits', 'cree', 'creek', 'creel', 'creeper', 'creepiest', 'creeping', 'crematoria', 'crept', 'crescent', 'crest', 'crew', 'crews', 'cri', 'cricket', 'crickets', 'cried', 'cries', 'crime', 'crimes', 'criminal', 'criminals', 'crimsonfuckingv', 'cringes', 'crippling', 'criscyborg', 'crisis', 'cristianinspire', 'cristiano', 'critical', 'critically', 'criticalmedia', 'critters', 'croat', 'croatian', 'crobscarla', 'crockery', 'crocodile', 'crooks', 'crosed', 'cross', 'crossed', 'crosses', 'crossfit', 'crossing', 'crowd', 'crowds', 'crowdtappers', 'crowe', 'crown', 'crowned', 'crowns', 'crowtherjohn', 'croydon', 'croydonization', 'crozes', 'crptotech', 'crqck', 'crucial', 'crude', 'crudes', 'cruise', 'cruises', 'crumbling', 'crunchy', 'crusade', 'crush', 'crushed', 'crushes', 'crushing', 'crusty', 'cruz', 'cry', 'cryibg', 'crying', 'cryptic', 'crystal', 'crystal_blaz', 'crystals', 'cs', 'cs6', 'csaresu', 'csismica', 'cspan', 'cspanwj', 'cst', 'cstsmith', 'csx', 'ct', 'cta', 'ctafails', 'ctaztrophe31', 'ctd', 'cte', 'ctr', 'cts', 'cty', 'cuban', 'cube', 'cubs', 'cubstalk', 'cucks', 'cucumber', 'cuddlesforjen', 'cuddling', 'cue', 'cuff', 'cuffed', 'cuffs', 'cufi', 'cultivating', 'cultsierre', 'cultural', 'cum', 'cumberbatch', 'cumcovered', 'cummerbund', 'cumshot', 'cumslut_2', 'cumtown', 'cunayyh', 'cunt', 'cunts', 'cup', 'cupcake', 'cups', 'curb', 'cure', 'curfew', 'curing', 'curiosity', 'curls', 'currency', 'currensy', 'current', 'currently', 'curry', 'curse', 'cursed', 'curved', 'cus', 'custer', 'custom', 'customer', 'customers', 'customized', 'customs', 'cut', 'cute', 'cutekitten', 'cutest', 'cuties', 'cutlery', 'cuts', 'cutter', 'cutting', 'cuyahoga', 'cuz', 'cvinch_waow', 'cw500', 'cw_hoops', 'cwheate', 'cya', 'cyber', 'cyberdemon531', 'cybersecurity', 'cycle', 'cycling', 'cyclist', 'cyclists', 'cyclone', 'cyclone_reizei', 'cydia', 'cyhi', 'cyhitheprynce', 'cypress', 'cyprus', 'czallstarwes', 'd1ff3r3nt1sg00d', 'd33munni', 'd_lac', 'd_pagexxi', 'da', 'dabbed', 'daborsch', 'dacherryontop13', 'dad', 'daddy', 'daem', 'daesh', 'daewony0406', 'dagens', 'dagestan', 'daggers', 'daily', 'dailykos', 'dailyliberal', 'dailytimesngr', 'daisy', 'daisycuttertz', 'dajaal', 'dak', 'dakota', 'dal', 'dalailama', 'dalinthanelan', 'dallas', 'dallascowboys', 'dalroy', 'dam', 'damage', 'damaged', 'damagenhs', 'damages', 'damagewpd', 'damaging', 'damascus', 'damatu', 'damaturu', 'dambisa', 'dame', 'damidnighter', 'damiengayle', 'damn', 'damnaarielle', 'damnnn', 'damnwas', 'damp', 'dampen', 'damsels', 'dan', 'danagould', 'dance', 'dancefloor', 'dancer', 'dancers', 'dances', 'dancing', 'danemillar1', 'danger', 'dangerous', 'dangling', 'danharmon', 'danhrothschild', 'dani_riot', 'daniel', 'danielkemp6', 'danielle', 'daniels', 'danielsahyounie', 'daniglasgow45', 'danisnotonfire', 'danny', 'dannyjohnjules', 'dannyoneil', 'dannyonpc', 'dannyraynard', 'danryckert', 'dante', 'dantmatrafajlo', 'dantwitty52', 'daorcey', 'dapurplesharpie', 'darchambau', 'dardanelle', 'dare', 'daretotaha', 'dark', 'darken', 'darkest', 'darkhorsecomics', 'darkndtatted', 'darkness', 'darkreading', 'darrellissa', 'darryl_brooks', 'darrylb1979', 'darsena', 'dart', 'darude', 'darwinism', 'dat', 'data', 'date', 'dates', 'dateswhitecoats', 'dating', 'datingtips', 'dattomm', 'daubt', 'daughter', 'daughterofnai', 'daughters', 'daughtery', 'dauntedpsyche', 'daves', 'david', 'david5fernandez', 'david_cameron', 'david_hurn', 'davidcovucci', 'davidduchovny', 'davidjordan88', 'davidlabrava', 'davidolszak', 'davidson', 'davidvitter', 'davidvonderhaar', 'daviesmutia', 'daviskawalya', 'davison', 'daviss', 'dawabsha', 'dawgs', 'dawson', 'day', 'days', 'dayton', 'dayurl', 'dazzle', 'db', 'db5', 'dc', 'dccc', 'dcclothesline', 'dccomics', 'dcfd', 'dcubecrafts', 'ddnewslive', 'ddnt', 'ddos', 'de', 'deactivate', 'deactivated', 'dead', 'dead_dreamer15', 'deadgirltalking', 'deadgrassandflowers', 'deadliest', 'deadly', 'deadlydemi', 'deadpool', 'deafening', 'deai', 'deal', 'dealbreaker', 'dealer', 'dealing', 'dealings', 'deals', 'deals_uk', 'deans', 'dear', 'dears', 'death', 'deathholy', 'deathmule', 'deaths', 'deb117', 'debacle', 'debate', 'debatequestionswewanttohear', 'debates', 'debbie', 'debris', 'debt', 'dec', 'decades', 'decals', 'decayed', 'deccgovuk', 'deceased', 'december', 'decent', 'decide', 'decided', 'decides', 'decision', 'decisions', 'decisionsondecisions', 'deck', 'decks', 'declarat', 'declaration', 'declared', 'declares', 'declaring', 'declined', 'deco', 'decomposition', 'deconstruct', 'decor', 'decorating', 'decoration', 'decrease', 'decreases', 'decree', 'decriminalized', 'dedicated', 'dedication', 'deductible', 'dee', 'deedee_casey', 'deeds', 'deeeznvtzzz', 'deejayempiresound', 'deemed', 'deep', 'deepak', 'deepest', 'deeply', 'deepthoughts', 'deepwater', 'deezercolombia', 'def', 'default', 'defeat', 'defeater', 'defeats', 'defective', 'defects', 'defence', 'defend', 'defendant', 'defendbutera', 'defender', 'defending', 'defense', 'defensenewscomus', 'defensive', 'define', 'defined', 'defines', 'definite', 'definitely', 'definition', 'deflategate', 'defs', 'deglin', 'degree', 'degrees', 'dehydration', 'dei', 'del', 'delanys', 'delay', 'delayed', 'delaying', 'delays', 'deldryden', 'delete', 'delhi', 'deliberately', 'delicious', 'deliciousvomit', 'deliver', 'delivered', 'delivers', 'dell', 'delmonts', 'delphi', 'delta', 'deltachildren', 'deluded', 'deluge', 'deluged', 'delusion', 'delusions', 'deluxe', 'dem', 'demand', 'demco', 'demeanor', 'demetae12', 'demi', 'demis', 'demise', 'demo', 'democracy', 'democrat', 'democratic', 'democrats', 'demolish', 'demolished', 'demolishes', 'demolition', 'demolition_d', 'demon', 'demoness', 'demonization', 'demons', 'demonstrated', 'demonstratio', 'demonstration', 'demonstrations', 'dems', 'den', 'denali', 'denial', 'denied', 'denier', 'deniers', 'denies', 'denim', 'deniseromano', 'denmark', 'density', 'dental', 'dented', 'denton', 'denver', 'deny', 'denying', 'deosl86', 'department', 'departments', 'dependency', 'depends', 'deploy', 'deployed', 'deployments', 'depot', 'depreciations', 'depressed', 'depressing', 'depression', 'dept', 'depth', 'deputies', 'deputy', 'der', 'derail', 'derailed', 'derailed_benchmark', 'derailment', 'derails', 'derby', 'dere', 'derivative', 'derivatives', 'derives', 'derma', 'descendants', 'descended', 'describe', 'describes', 'describing', 'description', 'descriptions', 'descriptive', 'desecrates', 'desert', 'deserve', 'deserved', 'deserves', 'design', 'designed', 'designer', 'designs', 'desire', 'desires', 'desk', 'desolate', 'desolation', 'desolationofsmaug', 'despair', 'desperate', 'desperation', 'despicable', 'despite', 'dessicated', 'destiel', 'destination', 'destinationimpact', 'destined', 'destiny', 'destinythegame', 'destroy', 'destroyd', 'destroyed', 'destroyer', 'destroying', 'destroys', 'destruction', 'destructive', 'details', 'detained', 'detains', 'detectado', 'detectors', 'determine', 'determined', 'detersion', 'detkenlang', 'detonate', 'detonated', 'detonates', 'detonation', 'detouring', 'detroit', 'detroitnews', 'detroitpls', 'deutsch', 'devalue', 'devastated', 'devastates', 'devastation', 'develop', 'developed', 'developer', 'developing', 'development', 'devereaux', 'devi', 'devia', 'deviating', 'device', 'devil', 'devinjoslyn', 'devise', 'devon_breneman', 'devote', 'devours', 'devpeace', 'dew', 'dewdney', 'dey', 'dfir', 'dfljev', 'dfr', 'dh3000', 'dhaka', 'dhalgren', 'dhs', 'dhsscitech', 'di', 'diablo', 'diageos', 'diagnosis', 'dial', 'dialyses', 'diamond', 'diamondkesawn', 'diamorfiend', 'dianneg', 'diaporama', 'diaries', 'diarrhea', 'diasporas', 'dibang', 'dice', 'dicehateme', 'dick', 'dickheads', 'dickson', 'dicky', 'dictator', 'did', 'didbut', 'didn', 'didnt', 'die', 'dieanpink95', 'diebold', 'died', 'diego', 'dierks', 'dies', 'diesel', 'diesis', 'diet', 'diff', 'differ', 'difference', 'different', 'differently', 'difficult', 'difficulties', 'difficultpeople', 'difficulty', 'dig', 'diggin', 'digging', 'digit', 'digital', 'digitalhealth', 'digits', 'dignity', 'dijk', 'dilawri', 'dill', 'dilute', 'dilutional', 'dimensions', 'dinallyhot', 'dinner', 'dinosaurdracula', 'dip', 'diplomacy', 'diplomat', 'dipping', 'direct', 'directed', 'directing', 'direction', 'directioners', 'directions', 'directly', 'director', 'directors', 'directory', 'diretube', 'dirk_nomissski', 'dirk_trossen', 'dirt', 'dirumah', 'dis', 'disabledveterans', 'disagreements', 'disappear', 'disappearance', 'disappeared', 'disappearing', 'disappears', 'disappointed', 'disappointing', 'disappoints', 'disarmed', 'disaster', 'disasterrecovery', 'disasters', 'disciplinary', 'disclaimer', 'disclos', 'disclosed', 'disco', 'disconnected', 'discount', 'discourse', 'discovered', 'discovery', 'discoverycntr', 'discuss', 'discussed', 'discusses', 'discussing', 'discussion', 'disdain', 'disea', 'disease', 'diseases', 'disembarkment', 'disfigured', 'disgrace', 'disgusting', 'disillusioned', 'disinfo', 'dislike', 'dislocation', 'dismantling', 'dismayed', 'dismissed', 'dismisses', 'disney', 'disneyirh', 'disneyland', 'disneys', 'disorder', 'disorders', 'disowned', 'disowns', 'dispatch', 'dispatchers', 'dispensary', 'dispersed', 'displace', 'displaced', 'displaces', 'display', 'displeased', 'dispute', 'disregard', 'disrespect', 'disrupted', 'disruptive', 'disrupts', 'diss', 'dissertation', 'dissuaded', 'distance', 'distinct', 'distinction', 'distraction', 'distress', 'distributed', 'distribution', 'district', 'disturbances', 'ditched', 'ditto', 'div', 'dive', 'diver', 'divers', 'diverse', 'diversification', 'diversified', 'diverted', 'diverts', 'divestitures', 'divided', 'divine', 'diving', 'division', 'divisions', 'dix', 'dixie', 'dixon', 'diyala', 'dj', 'djcoreygrand', 'djeddygnj', 'djicemoon', 'djiglobal', 'djjohnblaze', 'djknyce', 'djoneplustwo', 'djryanwolf', 'dk', 'dl', 'dlc', 'dlh', 'dlin71', 'dloesch', 'dm', 'dmac1043', 'dmassa5', 'dmd', 'dmoneydemi', 'dmpl', 'dmt', 'dna', 'dnb', 'dnbheaven', 'dnj_com', 'do', 'dobut', 'doc', 'dock', 'docked', 'docks', 'doco', 'doctor', 'doctordryadma', 'doctorfluxx', 'doctors', 'document', 'documentary', 'documenting', 'documents', 'dodge', 'doe', 'does', 'doesnt', 'doessnt', 'dog', 'dogg', 'dogger', 'dogs', 'doing', 'dojo', 'doll', 'dolla', 'dollar', 'dollars', 'dolls', 'dolphin', 'dolphins', 'dom', 'domain', 'domains', 'domestic', 'domesticate', 'dominance', 'dominant', 'domination', 'dominicana', 'don', 'donald', 'donate', 'donated', 'donation', 'donations', 'done', 'donington', 'doningtondash', 'donjazzy', 'donnelly', 'donnie', 'donny', 'dont', 'dontexpectnothing', 'donthate', 'dontpanic', 'donuts', 'donzilla', 'donå', 'doomed', 'doomsday', 'doone', 'door', 'doors', 'dope', 'dopeitsval', 'dopest', 'dopey', 'doping', 'doppler', 'dorette', 'doretts', 'doricreates', 'dorismatsui', 'doritos', 'dorling', 'dorman', 'dorret', 'dorrets', 'dorrian', 'dorrie', 'dose', 'dothraki', 'dotish', 'double', 'doublecups', 'doubleghats', 'doubt', 'douchebag', 'doug', 'dough', 'dougkessler', 'dougmartin17', 'dougs', 'dove', 'doves', 'down', 'downfall', 'downgraded', 'downing', 'download', 'downloading', 'downpours', 'downright', 'downside', 'downstairs', 'downtime', 'downtown', 'doylech', 'dozen', 'dozens', 'dq', 'dqsvyusy', 'dr', 'dr08', 'dr_baseball41', 'dr_johanfranzen', 'drafted', 'drag', 'drag0nking0201', 'dragneel', 'drago', 'dragon', 'dragons', 'dragonvale', 'drain', 'drained', 'drains', 'drake', 'drakes', 'drako', 'drama', 'dramaa_llama', 'dramatic', 'dramatically', 'drank', 'dratomic420', 'dravet', 'draw', 'drawing', 'drawn', 'drayesha', 'drdrewhln', 'dream', 'dreaming', 'dreamoforgonon', 'dreams', 'dreamy', 'dredougie', 'dren', 'dress', 'dressed', 'dressing', 'drew', 'drewscanlon', 'drewwtaylor', 'drfriedencdc', 'dribbling', 'dried', 'dries', 'drift', 'drifting', 'drill', 'driller', 'drink', 'drinkers', 'drinking', 'drinks', 'drive', 'driven', 'driver', 'driverless', 'driverlesscars', 'drivers', 'drives', 'driving', 'drjustinmazur', 'drmartyfox', 'drob', 'droid', 'drone', 'drones', 'drool', 'drools', 'drop', 'droppd', 'dropped', 'dropping', 'drops', 'drothvader', 'drought', 'droughtcheck', 'droughtgov', 'droughtmonitor', 'droughts', 'drove', 'drown', 'drowned', 'drowning', 'drowns', 'drphil', 'drrichardbesser', 'drsarwatzaib070', 'drug', 'drugs', 'drum', 'drumming', 'drummond', 'drumpf', 'drums', 'drumstep', 'drunk', 'drvox', 'dry', 'dryer', 'drying', 'ds', 'dserialpcilp', 'dt', 'dtb', 'dtn', 'dtop77', 'du19', 'dua', 'dual', 'dualcom', 'dub', 'dubai', 'dubbo', 'dublin', 'dublins', 'dubloadz', 'dubstep', 'duchovbutt', 'duck', 'ducks', 'duckvillelol', 'duda', 'dude', 'dudes', 'due', 'duh', 'dukes', 'dull', 'dum', 'dumb', 'dumbass', 'dumbfounded', 'dumle', 'dummies', 'dumping', 'dumuzid', 'dunbar', 'dundee', 'dune', 'dungeon', 'dunking', 'duo', 'dupe', 'dupree', 'durability', 'durant', 'durban', 'durban_knight', 'durham', 'during', 'durrellb', 'durvod', 'dust', 'dustinbrowder', 'dustpig', 'dustpiggies', 'duststorm', 'duststormfilm', 'dutch', 'duties', 'dutton', 'duty', 'dvbbs', 'dvc', 'dvd', 'dvds', 'dviyer', 'dw', 'dw_english', 'dwarfonjetpack', 'dwarves', 'dwight', 'dwilliams313', 'dyamiplotke', 'dyannbridges', 'dye', 'dyersburg', 'dying', 'dylanmcclure55', 'dynamix', 'dynastic', 'dynasty', 'dysfunctional', 'dystopian', 'dyxtmrydu', 'dzafic_haris', 'e112', 'eac4au', 'each', 'eagles', 'ear', 'earbuds', 'earl', 'earlier', 'early', 'early__may', 'earn', 'earned', 'earners', 'earnest', 'earnings', 'earrings', 'ears', 'earth', 'earthquake', 'earthquakenews', 'earthquakes', 'earths_voice', 'earthtwerk', 'easier', 'easily', 'east', 'eastbound', 'easter', 'eastern', 'easternoregon', 'easton', 'eastward', 'easy', 'eat', 'eaten', 'eating', 'eau', 'eazzy_p', 'eb', 'ebay', 'ebb', 'ebola', 'ebolatrends', 'ebrointheam', 'echoes', 'eco', 'eco11c', 'econom', 'economic', 'economically', 'economics', 'economies', 'economy', 'ecstatic', 'ect', 'ed', 'edcxo', 'eddy', 'eden', 'edfringe', 'edgarsgift', 'edge', 'edinburgh', 'edison', 'edit', 'editaxohaze', 'edition', 'editor', 'editorial', 'edk', 'edm', 'edmond', 'edmonton', 'edmund', 'edna', 'edsheeran', 'edt', 'education', 'edward', 'edwards', 'edwelchmusic', 'edwin', 'edwing', 'ee', 'eeasterling_2', 'eeenice221', 'eep', 'eerie', 'ef', 'efak', 'effect', 'effected', 'effective', 'effectiveness', 'effects', 'effiedeans', 'effort', 'efforts', 'efs', 'eganator2000', 'egg', 'eggalie', 'egged', 'eggs', 'ego', 'ego_resolution', 'egypt', 'egyptian', 'eh', 'eheks', 'eight', 'eighth', 'eighty', 'eileenmfl', 'eisenhower', 'either', 'ejaculating', 'ekiti', 'el', 'el_torro_loco', 'elaboration', 'elanorofrohan', 'elation', 'elbow', 'elderly', 'elecman', 'elect', 'election', 'elections', 'electr', 'electric', 'electrical', 'electricity', 'electro', 'electrocute', 'electrocuted', 'electrocutedboiling', 'electronic', 'electronicmusic', 'electrostatic', 'elem', 'element', 'elementary', 'elephant', 'elephantintheroom', 'elephants', 'eles_kaylee', 'elevated', 'elevation', 'elevator', 'elgato', 'elgeotaofeeq', 'elianaraquel', 'elielcruz', 'eligible', 'elijah', 'elijahmallari', 'eliminate', 'elisagxrcia', 'elite', 'elitesportsny', 'elitist', 'elizabeth', 'elk', 'elkhorn', 'ell', 'ella', 'ellenfromnowon', 'ellie', 'elliott', 'elm', 'elreynetwork', 'elsa', 'else', 'elses', 'elutranscendent', 'elven', 'elvia', 'elvis', 'elwoods', 'elxn42', 'em', 'emaaalay', 'email', 'emailed', 'emails', 'embarrassed', 'embarrassing', 'embarrassment', 'ember', 'emblem', 'embra', 'embrace', 'embraced', 'embroidered', 'emerg', 'emergencies', 'emergency', 'emergencymgtmag', 'emerges', 'emerging', 'emhub', 'emi', 'emiiliexirwin', 'emile', 'emilee', 'emilio', 'emiliorivera48', 'emily', 'emily4everever', 'emilymcfcheslop', 'emilyschuman', 'eminem', 'emittin', 'emmachosenone', 'emmanuel', 'emmerdale', 'emmy', 'emmychappy', 'emo', 'emotion', 'emotional', 'emotionally', 'emotions', 'emp', 'empathy', 'emperor', 'empire', 'empirikgaming', 'employed', 'employee', 'employs', 'empower', 'emptive', 'empty', 'ems', 'emsc', 'emsne', 'emts', 'emv', 'en', 'enabled', 'enablement', 'enabling', 'enacted', 'enacts', 'enca', 'encaustic', 'encoded', 'encore', 'encounter', 'encounters', 'encouraged', 'encouragement', 'encouraging', 'encyclopedia', 'end', 'endangered', 'endconflict', 'ended', 'enders', 'ending', 'endless', 'endlessly', 'endoccupation', 'endorsement', 'endorses', 'ends', 'endures', 'enduring', 'enemies', 'enemity', 'enemy', 'energy', 'enews', 'engage', 'engaged', 'engagement', 'engine', 'engineering', 'engineermatarai', 'engineers', 'engines', 'engineshed', 'england', 'englands', 'engle', 'english', 'engulfed', 'engulfs', 'engvaus', 'enhanced', 'enjoy', 'enjoyed', 'enjoying', 'enkelbiljett', 'enolagay', 'enormous', 'enough', 'enroute', 'enrt', 'ensued', 'ensuing', 'ensure', 'ensures', 'ensuring', 'enter', 'entered', 'entering', 'enterprise', 'entershikari', 'entertain', 'entertainer', 'entertainment', 'entire', 'entirely', 'entitlement', 'entity', 'entrances', 'entrepreneur', 'entretenimento', 'enugu', 'enviromental', 'environment', 'environmental', 'envision', 'envw98', 'envyseven', 'enzasbargains', 'eo', 'eonlinechat', 'eovm', 'ep', 'ep016', 'ep03', 'ep18', 'epa', 'epcotexplorer', 'epic', 'epic_insanity', 'epicenter', 'epicentre', 'epidemic', 'epidemics', 'epilepsy', 'epileptic', 'epiphanes', 'episcopal', 'episode', 'episodes', 'epl', 'epoch', 'epsom', 'eq', 'equal', 'equalizer', 'equally', 'equals', 'equate', 'equation', 'equestrian', 'equipment', 'equipments', 'er', 'era', 'erally', 'erasuterism', 'ercjmnea', 'erdogans', 'erected', 'ergo', 'eric', 'eric_bulak', 'eric_tsunami', 'erie', 'erinmariefishy', 'erker', 'ermac', 'erode', 'erodes', 'err', 'error', 'errr', 'erupting', 'eruption', 'erykah', 'es', 'escape', 'escaped', 'escaping', 'escorts', 'esevu', 'esh', 'esn', 'esoteric', 'esp', 'espargaro', 'especially', 'espn', 'esports', 'esquireattire', 'esse', 'essenceofme', 'essexweather', 'est', 'establishment', 'estate', 'estates', 'esteem', 'esteemed', 'estellasrevenge', 'estimate', 'estimated', 'estimates', 'et', 'etc', 'etcpb', 'eternity', 'ethereal', 'ethereal_7', 'ethical', 'ethics', 'ethiopia', 'ethiopian', 'etisalat', 'eto', 'etoffe', 'etp', 'etribune', 'eu', 'eudrylantiqua', 'eulogies', 'eunice_njoki', 'eur', 'euro', 'eurocrisis', 'europe', 'european', 'euroquake', 'eurotunnel', 'ev', 'evaaasr', 'evac', 'evacide', 'evacuate', 'evacuated', 'evacuating', 'evacuation', 'evacuations', 'evade', 'evaded', 'evahanderek', 'evangelical', 'evanston', 'evansville', 'eve', 'evebrigid', 'even', 'evening', 'event', 'events', 'eventspalmbeach', 'eventually', 'ever', 'everest', 'eversafe', 'everton', 'everwhe', 'every', 'everybody', 'everyday', 'everydaynaija', 'everyone', 'everyones', 'everythign', 'everything', 'everytime', 'everywhere', 'evidence', 'evil', 'evildead', 'evilempire', 'evolve', 'evolved', 'ex', 'exacerbated', 'exact', 'exactly', 'exaggerated', 'exam', 'examiner', 'examinercom', 'examining', 'example', 'examples', 'exams', 'exc', 'excellence', 'excellent', 'except', 'excepting', 'exceptional', 'exceptionally', 'excessive', 'exchange', 'exchanged', 'exchanging', 'excite', 'excited', 'excitement', 'exciting', 'exclamation', 'exclusive', 'exclusively', 'excuse', 'excuses', 'exec', 'executing', 'executives', 'exercise', 'exercised', 'exercises', 'exhausted', 'exhaustion', 'exhibition', 'exhibitor', 'exist', 'existant', 'existence', 'exit', 'exited', 'exits', 'exo', 'exofficio', 'exotic', 'exp', 'expand', 'expanded', 'expander', 'expanding', 'expansion', 'expansive', 'expect', 'expected', 'expecting', 'expense', 'expenses', 'expensive', 'experience', 'experienced', 'experiences', 'experiencesmh', 'experiencing', 'experimental', 'experiments', 'expert', 'experts', 'expertwhiner', 'expirehc', 'explain', 'explaining', 'explains', 'explanation', 'explicitly', 'explode', 'exploded', 'explodes', 'exploding', 'explodingkittens', 'exploit', 'exploration', 'explores', 'exploring', 'explosion', 'explosions', 'explosive', 'explosives', 'expo', 'exponential', 'exporting', 'expose', 'exposed', 'exposes', 'exposure', 'express', 'expressandstar', 'expressioncheeks', 'exquisite', 'extend', 'extended', 'extender', 'extends', 'extension', 'extensive', 'extent', 'exterminate', 'external', 'externally', 'extinction', 'extinguished', 'extra', 'extract', 'extraordinaire', 'extreme', 'extremely', 'exums', 'ey', 'eye', 'eyeball', 'eyecuts', 'eyefacts', 'eyes', 'eyesss', 'eyewitness', 'eyewitnesses', 'eytay', 'ezidigenocide', 'ezralevant', 'f496d', 'fa', 'fa07af174a71408', 'faan', 'fab', 'fabric', 'face', 'facebook', 'faced', 'faceless', 'facemarvins', 'faces', 'faceåê', 'facilities', 'facility', 'facing', 'fact', 'faction', 'factor', 'factors', 'factory', 'facts', 'factsheet', 'factual', 'faculty', 'fadc', 'fade', 'fadelurker', 'fading', 'fahlo', 'fail', 'failed', 'failing', 'failure', 'failures', 'faintly', 'faints', 'fair', 'fairfax', 'fairgrounds', 'fairly', 'fairx818x', 'fairy', 'faith', 'fake', 'faked', 'falcon', 'fall', 'fallacy', 'fallen', 'falling', 'fallontonight', 'falls', 'falmer', 'falphil', 'false', 'fam', 'fame', 'familia', 'familiar', 'families', 'family', 'famine', 'famineåêmemories', 'famous', 'fan', 'fanarmyfaceoff', 'fanbase', 'fanboys', 'fandom', 'fanfiction', 'fanged', 'fangirling', 'fans', 'fant4stic', 'fantabulous', 'fantastic', 'fantasticfour', 'fantasy', 'fantosex', 'faq', 'far', 'farce', 'farewell', 'faried', 'farm', 'farmers', 'farmland', 'farmr', 'farms', 'faroe', 'faroeislands', 'farrakhan', 'fart', 'fartanxiety', 'farther', 'farts', 'fascinating', 'fashion', 'fashionable', 'fast', 'faster', 'fastest', 'fastings', 'fastpitch', 'fat', 'fatal', 'fatalities', 'fatality', 'fatality_us', 'fatally', 'fatburning', 'fate', 'father', 'fathers', 'fault', 'faulty', 'faux', 'fav', 'faved', 'favor', 'favorable', 'favori', 'favorita', 'favorite', 'favorited', 'favorites', 'favoritism', 'favors', 'favourite', 'favs', 'faze_rain', 'fb', 'fb100', 'fbi', 'fci', 'fcked', 'fco', 'fd', 'fdbdp', 'fdny', 'fdx', 'fe', 'fear', 'feared', 'fears', 'feast', 'feat', 'feature', 'featured', 'features', 'featuring', 'fecal', 'fed', 'federal', 'fedex', 'fedporn', 'fee', 'feed', 'feeding', 'feeds', 'feel', 'feelin', 'feeling', 'feelingmanly', 'feelings', 'feels', 'feelslikefob', 'fees', 'feet', 'feinstein', 'fel', 'fell', 'fella', 'felons', 'felt', 'fem', 'fema', 'female', 'femalegilgameshs', 'femas', 'feminist', 'feminists', 'femnism', 'fence', 'fences', 'fennovoima', 'fentanyl', 'fergie', 'ferguson', 'fergusons', 'ferno', 'ferrell', 'ferrells', 'ferries', 'ferrochrome', 'ferry', 'fest', 'festac', 'festival', 'fetch', 'fettilootch', 'fever', 'fevwarrior', 'few', 'fewmoretweets', 'fez', 'ffa', 'fforecast', 'ffvii', 'fgcu', 'fi', 'fiasco', 'fiascothat', 'fiat', 'fiction', 'fidayeen', 'fiddle', 'fide', 'fieg', 'field', 'fiendnikki', 'fierce', 'fiery', 'fifa16', 'fife', 'fifth', 'fifty', 'fight', 'fighter', 'fighterdena', 'fighters', 'fightin', 'fighting', 'fightnope', 'fights', 'fightåêterrorism', 'figure', 'figured', 'figures', 'file', 'files', 'filipino', 'fill', 'filled', 'filling', 'film', 'film4', 'filmed', 'filming', 'filmmakers', 'films', 'filter', 'fin', 'final', 'finale', 'finalise', 'finall', 'finally', 'finance', 'financial', 'financially', 'financialreview', 'financialtimes', 'financing', 'find', 'finding', 'finds', 'fine', 'finer', 'finger', 'fingerrockfire', 'fingers', 'finish', 'finished', 'finishing', 'finite', 'finn', 'finna', 'finnish', 'finsup', 'fiona', 'fionagilbert_', 'fir', 'fire', 'fireand', 'firearm', 'fireball', 'fired', 'firefighte', 'firefighter', 'firefighters', 'firefighting', 'firefightr', 'firefigthers', 'fireman', 'firemen', 'firenews', 'firepower', 'fires', 'firetruck', 'firewise', 'firework', 'fireworks', 'firey', 'firing', 'firmly', 'firms', 'first', 'firstnations', 'firstpostin', 'fish', 'fishing', 'fist', 'fit', 'fitba', 'fitness', 'fits', 'fittscott', 'fitz', 'fitzgerald', 'five', 'fix', 'fixed', 'fixing', 'fiya', 'fizzy', 'fjords', 'fkhanage', 'fkn', 'fl', 'flag', 'flags', 'flakes', 'flame', 'flames', 'flames_nation', 'flamethrower', 'flaming', 'flared', 'flash', 'flashbacks', 'flashflood', 'flat', 'flatback', 'flatliners', 'flattened', 'flatts', 'flavafraz21', 'flavorchargedtea', 'flavored', 'flawless', 'flaws', 'flechadas', 'fled', 'flee', 'fleeing', 'fleek', 'fleet', 'fleets', 'fleetwood', 'flesh', 'fletcher', 'flew', 'flex', 'flgovscott', 'flickershowell', 'flight', 'flights', 'flint', 'flip', 'flipped', 'flips', 'float', 'floated', 'floatin', 'flood', 'flooded', 'flooding', 'floods', 'floor', 'floorburnt', 'floored4', 'floors', 'flopping', 'floral', 'florence', 'florid', 'florida', 'floridas', 'floridians', 'florin', 'flour', 'flow', 'flow397', 'flower', 'flowers', 'flowri', 'floyd', 'floydmayweather', 'floyds', 'fluctuations', 'fluffy', 'fluid', 'flunkie', 'flurry', 'flush', 'flushes', 'fly', 'flying', 'flynn', 'flyopinemonkey', 'fm', 'fn', 'fnaf', 'fnaf_talkmc', 'fo', 'foamcc', 'foamed', 'focus', 'focuses', 'fog', 'foiled', 'fold', 'folding', 'foliage', 'folieacat', 'folk', 'folks', 'follow', 'followback', 'followed', 'follower', 'followers', 'following', 'followlasg', 'followme', 'follownflnews', 'follows', 'fond', 'fondness', 'fonts', 'foo', 'food', 'foodborne', 'foods', 'foodscare', 'foodstand', 'fool', 'fooled', 'foolish', 'fools', 'foot', 'footage', 'football', 'footballs', 'footed', 'foothill', 'for', 'foragesecret', 'forbath', 'forbes', 'forbesasia', 'forbid', 'forbids', 'force', 'forced', 'forces', 'ford', 'foreboding', 'forecast', 'foreclosed', 'forefathers', 'forehead', 'foreign', 'foreman', 'foreskin', 'forest', 'forestfires', 'forests', 'forestservice', 'forever', 'forex', 'forfeiting', 'forget', 'forgeting', 'forgets', 'forgive', 'forgiven', 'forgiving', 'forgot', 'forgotten', 'form', 'format', 'formation', 'formed', 'former', 'forming', 'forms', 'formula', 'forney', 'forreal', 'forrest', 'forrestmankins', 'forsee', 'forsure', 'forsythe', 'fort', 'forth', 'forthright', 'fortunately', 'fortune', 'fortworth', 'forward', 'fossil', 'foster', 'foto', 'fotofill', 'fotoset', 'fought', 'foul', 'found', 'foundation', 'founder', 'founding', 'four', 'foursquare', 'fourth', 'fousey', 'fouseytube', 'fowlers', 'fox', 'fox5newsdc', 'foxa', 'foxdebatequestions', 'foxnew', 'foxnews', 'foxnewsinsider', 'foxnewsvideo', 'foxsportscom', 'foxtrot', 'foxy__siren', 'fpine', 'fpoj', 'fr', 'frackfree_eu', 'frackfreelancs', 'fraction', 'fragile', 'fragrance', 'frail', 'frame', 'fran', 'france', 'francis', 'francisco', 'francisunderwood', 'frank', 'franklin', 'frankly', 'franta', 'frats', 'fraud', 'frautrapani', 'freak', 'freaked', 'freakiest', 'freaking', 'freaks', 'freaky', 'freddie', 'freddiedeboer', 'fredolsencruise', 'fredosantana300', 'free', 'freeallfour', 'freeamirnow', 'freebesieged', 'freebitcoin', 'freed', 'freediscountbks', 'freedom', 'freedomoutpost', 'freefrom', 'freefromwolves', 'freegeezy17', 'freeing', 'freekashmir', 'freeman', 'freemurphy', 'freesikhpoliticalprisnors', 'freespeech', 'freestyle', 'freestyles', 'freeview', 'freeway', 'freeze', 'freezerdummy', 'freezing', 'freiza', 'fremont', 'french', 'frenzy', 'frequent', 'frequently', 'fresh', 'freshly', 'freshman', 'freshness', 'fresno', 'freud', 'freyas', 'fri', 'fricken', 'frickin', 'friday', 'fridays', 'fried', 'friedman', 'friend', 'friendly', 'friends', 'friendship', 'friendships', 'fries', 'friggin', 'frightening', 'frisco', 'frobeus_ns', 'frofrofro', 'frog', 'from', 'front', 'frontin', 'frontline', 'frontlines', 'frontpage', 'frost', 'frothy', 'froze', 'frozen', 'frp', 'fruit', 'fruits', 'frusciante', 'frustrated', 'frustration', 'frvrgrateful', 'frying', 'ft', 'fte', 'ftsn', 'ftsnnewsdesk', 'ftw', 'ftåêmop', 'fu', 'fuck', 'fuckboy', 'fucked', 'fuckface', 'fuckin', 'fucking', 'fucks', 'fucktard', 'fuckyeahcarey', 'fuddy', 'fuel', 'fueled', 'fueling', 'fuels', 'fujiwara', 'fukurodani', 'fukushima', 'fulfilling', 'full', 'fullscreen', 'fully', 'fun', 'function', 'fund', 'fundamentals', 'fundraiser', 'funds', 'fundwhen', 'funeral', 'funkflex', 'funko', 'funkylilshack', 'funniest', 'funny', 'funnydadcoach', 'funnynews', 'funtenna', 'funtimes', 'fur', 'furiosoxv', 'furious', 'furst', 'further', 'furtrix', 'fury', 'fusion', 'fuso', 'future', 'futurea', 'fvck', 'fwd', 'fwo', 'fwt', 'fwy', 'fx', 'fyi', 'fylde', 'g20', 'g3', 'g7', 'g90', 'ga', 'gabon', 'gadget', 'gadgets', 'gaelite', 'gag', 'gagnon', 'gaia', 'gail', 'gailsimone', 'gain', 'gained', 'gainesville', 'gaining', 'gains', 'gal', 'galactic', 'galactics', 'galaxy', 'galifianakis', 'galleria', 'gallipoli', 'galloway4mayor', 'gallup', 'galvnews', 'gambia', 'gambit', 'game', 'gamefeed', 'gameinsight', 'gameofkittens', 'gameplay', 'gamer', 'gamerant', 'gamergate', 'games', 'gamescom', 'gamesurl', 'gaming', 'gamma', 'gander', 'gang', 'gangstermail', 'gansey', 'ganseyman', 'gap', 'gaping', 'garage', 'garbage', 'garbanzobean23', 'garden', 'gardens', 'gards', 'garfield', 'gargoyle', 'gargron', 'gary', 'garza', 'gas', 'gasoline', 'gasparc', 'gasped', 'gasping', 'gassymexican', 'gastric', 'gate', 'gateau', 'gates', 'gauteng', 'gauze', 'gave', 'gawx', 'gay', 'gayler1969', 'gaynor', 'gays', 'gaza', 'gazans', 'gazebo', 'gazette', 'gba', 'gbay99', 'gbbo', 'gbbo2015', 'gbonyin', 'gc', 'gd', 'gear', 'gearing', 'gears', 'gecko', 'geek_apocalypse', 'gel', 'geller', 'gem', 'gemini', 'gemma', 'gemmahentsch', 'gemmasterful', 'gems', 'gemstone', 'gen', 'gene', 'general', 'generally', 'generalnews', 'generation', 'generational', 'generic', 'generous', 'geneva', 'genisys', 'genitals', 'genius', 'genocide', 'gentle', 'gentlementhe', 'gently', 'genuine', 'geoffrickly', 'geometric', 'george', 'georgecole', 'georgefoster72', 'georgegalloway', 'georgia', 'georgina', 'georgous__', 'geotech', 'gerenciatodos', 'german', 'germany', 'germs', 'gerryconnolly', 'ges', 'gesserit', 'gesture', 'get', 'gets', 'gettin', 'getting', 'gettinglost', 'geyser', 'geysers', 'gf', 'gfe', 'gfrost1985', 'gfzs', 'gg', 'gg_keeponrockin', 'ggindependencmessage', 'gh', 'ghe', 'ghetto', 'ghost', 'ghostoftheav', 'ghosts', 'ghostwriter', 'ghostwriting', 'ghoul', 'ghul', 'gi', 'giannis', 'giant', 'giantgiantsound', 'giants', 'gibraltar', 'gideonstrumpet', 'gidiexclusixe', 'gif', 'gift', 'gifts', 'gig', 'gigagil', 'gigant', 'gigawatts', 'giggling', 'gilbert23', 'gilderoy', 'gilgit', 'gillibrand', 'gilmanrocks7', 'gilmoreguysshow', 'gimp', 'gin', 'ginga', 'gio', 'giorgio', 'girardeau', 'girl', 'girlfriend', 'girls', 'girlslovecum', 'girlthatsrio', 'gis', 'giselle', 'gishwhes', 'gist', 'gisuserpr', 'give', 'giveaway', 'givebackkalinwhiteaccount', 'given', 'gives', 'giving', 'givingevidence', 'glacier', 'glad', 'gladbach', 'glanders', 'glass', 'glassanimals', 'glasses', 'glaucoma', 'gleaned', 'glen', 'glenn', 'glenstannard', 'glided', 'glimpses', 'glitch', 'glitter', 'global', 'globalwarming', 'globe', 'globi_inclusion', 'glononium', 'gloomy', 'gloria', 'gloriavelez', 'glorious', 'glory', 'glosblue66', 'gloucester', 'glove', 'glue', 'gm', 'gmail', 'gmcr', 'gmmbc', 'gms', 'gmt', 'gmtty', 'gn', 'gns', 'gnwt', 'go', 'goal', 'goals', 'goat', 'goats', 'goblue', 'gobsmacked', 'god', 'godlike', 'godly', 'godof_mischief_', 'gods', 'godsfirstson1', 'godslove', 'goes', 'gofundme', 'gog', 'goggles', 'gohan', 'goin', 'going', 'gokitgo', 'goku', 'gold', 'goldstein', 'golem', 'golf', 'golfball', 'gon', 'gone', 'goner', 'gonna', 'good', 'goodbye', 'goodbyes', 'goode', 'goodells', 'goodlookrunning', 'goodluck', 'goodness', 'goodnight', 'goodreads', 'goof', 'goofballs', 'google', 'googlemaps', 'goonc1ty', 'goonda', 'gooneratheist', 'gooo', 'goooaaal', 'gop', 'gopdebate', 'gordon', 'gordon_r74', 'gore', 'gorgeous', 'gorpuazikinak', 'gosh', 'goshen', 'gospel', 'gostei', 'got', 'gotham', 'gotriangle', 'gotta', 'gotten', 'gotthard', 'goulburn', 'goulding', 'gov', 'govegan', 'govern', 'government', 'governments', 'governor', 'govjaynixon', 'govt', 'govts', 'govwalker', 'goz', 'gpaulista5', 'gpm', 'gps', 'gpv', 'gr', 'grab', 'grabakahitman', 'grabbed', 'grabbers', 'grabbing', 'grabs', 'grace', 'grade', 'graduated', 'grahamwp', 'grains', 'grand', 'grandad', 'grande', 'grandeur', 'grandfather', 'grandma', 'grandmother', 'grandpa', 'grant_factory', 'granted', 'grantgordy', 'grants', 'granttamane8', 'grapes', 'graph', 'grass', 'grateful', 'gratia', 'grave', 'gravel', 'graveyard', 'gravity', 'gravitychat', 'gravitymovie', 'gravy', 'gray', 'grayed', 'graysondolan', 'graywardens', 'grazed', 'greasy', 'great', 'greatbritishbakeoff', 'greater', 'greateranglia', 'greatest', 'greatly', 'greece', 'greeces', 'greed', 'greedy', 'greek', 'green', 'greenbuildermag', 'greenharvard', 'greening', 'greenlacey', 'greenspace', 'greenway', 'greer', 'greet', 'greeting', 'greetingcards', 'greetings', 'greg', 'greggmair', 'gregory', 'gregorysanders', 'greinke', 'grenade', 'grenades', 'grew', 'grey', 'greyjoys', 'greystone', 'grid', 'gridlock', 'grief', 'griffin', 'grill', 'grille', 'grilled', 'grills', 'grimes', 'grimrail', 'grindhouse', 'grinds', 'grit', 'gritty', 'grizzly', 'groaning', 'groceries', 'grogparty', 'groin', 'groom', 'gross', 'ground', 'grounded', 'grounds', 'group', 'groupon_uk', 'groups', 'grove', 'grow', 'growing', 'growingupblack', 'growingupincolorado', 'growingupspoiled', 'grown', 'grows', 'growth', 'grrr', 'grtvnews', 'grubbing', 'grudges', 'grummz', 'grumpout', 'grupdates', 'gt', 'gt50', 'gt_', 'gta', 'gtan', 'gtas', 'gtbake', 'gtchocolate', 'gtcnn', 'gtfo', 'gthanover', 'gtmaintenance', 'gtosha', 'gtparis', 'gtservers', 'gtthis', 'gturl', 'gtxrwm', 'guabxfv', 'guage', 'guam', 'guaranteed', 'guard', 'guardian', 'guardrails', 'guards', 'guatemala', 'guatemalan', 'gucci', 'guess', 'guessing', 'guest', 'guests', 'guevara', 'guide', 'guided', 'guides', 'guidofawkes', 'guild', 'guillermo', 'guilty', 'guiltygearxxacp', 'guimaras', 'gujaratriot', 'gulags', 'gulf', 'gulfport', 'gulls', 'gum', 'gummy', 'gun', 'gunfail', 'gunfight', 'gunfire', 'gunk', 'gunman', 'gunmen', 'gunned', 'gunners', 'gunnersfan89', 'gunning', 'guns', 'gunsense', 'gunshot', 'guo', 'gurion', 'gurmeetramrahim', 'gust', 'gusto', 'gusts', 'gusty', 'gut', 'guthrie', 'guy', 'guy_reginald', 'guys', 'gv', 'gwatt', 'gwfrazee', 'gym', 'gymflow', 'gymtime', 'gyp', 'gypsy', 'gyrsi', 'h20', 'ha', 'haaa', 'haaretz', 'habbo', 'habit', 'habits', 'hack', 'hacked', 'hackers', 'hacks', 'had', 'hadnt', 'hagerstown', 'hah', 'haha', 'hahah', 'hahaha', 'hahahah', 'hahahaha', 'hai', 'hail', 'hail_youtsey', 'hail_zel', 'haildamage', 'hailing', 'hailstorm', 'hair', 'hairbut', 'haircuts', 'hairdryer', 'hairy', 'haiyan', 'haji_hunter762', 'hakogaku', 'haley', 'haley_whaley', 'half', 'halfhourhotel', 'halfway', 'halifax', 'hall', 'halljh1720', 'halloikbenwill', 'halsey', 'halt', 'ham', 'hamas', 'hamayun', 'hamburg', 'hamilton', 'hamlet', 'hammond', 'hampered', 'hampshire', 'hamptonroadsforme', 'hamstring', 'hana', 'hand', 'handbag', 'handbags', 'handed', 'handi', 'handicapped', 'handle', 'handled', 'handling', 'hands', 'handside', 'handsome', 'hang', 'hangin', 'hangout', 'hank', 'hanna', 'hanna_brooksie', 'hannah', 'hannahkauthor', 'hannaph', 'hannemans', 'hannomottola', 'hao', 'hapa', 'happen', 'happened', 'happening', 'happenings', 'happens', 'happily', 'happiness', 'happing', 'happy', 'har', 'hara', 'haram', 'harassed', 'harassment', 'harbhajan_singh', 'harbor', 'hard', 'harda', 'hardball', 'hardcore', 'hardcover', 'harden', 'harder', 'hardest', 'hardline', 'hardly', 'hardside', 'hardstyle', 'hardy', 'harlan', 'harm', 'harman', 'harmony', 'harms', 'harper', 'harperanetflixshow', 'harpers', 'harris', 'harrisgle', 'harrowing', 'harry', 'harrybecareful', 'harrystyles', 'harshly', 'harshness', 'hartford', 'harvardu', 'harvesting', 'harveymaine', 'harwich', 'has', 'hasbro', 'hashd', 'hashimoto', 'hashtag', 'hashtags', 'hashtagteaclub', 'hasil', 'hasnt', 'hassanrouhani', 'hassle', 'hastle', 'hasåêarrived', 'hat', 'hatchet', 'hate', 'hated', 'hater', 'hating', 'hatman', 'hatred', 'hatzolah', 'haunting', 'hav', 'have', 'havent', 'having', 'havnt', 'haw', 'hawaii', 'hawaiianpaddlesports', 'hawk', 'hay', 'hayden', 'haydnexists', 'hazard', 'hazardous', 'hazards', 'hazardu', 'hazelannmac', 'hazmat', 'hcg', 'hcsm', 'hd', 'hdumpty39', 'he', 'hea', 'head', 'headdesk', 'headed', 'header', 'heading', 'headline', 'headlinelike', 'headlines', 'headphones', 'headquarters', 'heads', 'headset', 'heal', 'healed', 'healing', 'heals', 'health', 'healthandsafety', 'healthcare', 'healthinsurance', 'healthweekly1', 'healthy', 'hear', 'heard', 'heared', 'hearing', 'hearitfrompa', 'hearitfrompatty', 'hears', 'heart', 'heartache', 'heartbeat', 'heartbreak', 'heartdisease', 'hearths', 'hearthstone', 'heartland', 'heartless', 'hearts', 'heartwarming', 'heat', 'heated', 'heather', 'heaven', 'heavenly', 'heavy', 'heavybag201', 'heavydirtysoul', 'heavyweight', 'heavyåêrain', 'hebron', 'hebrooon', 'hector', 'hed', 'heebsterrr_', 'heels', 'hehe', 'heheh', 'heidia1438', 'heights', 'heirs', 'held', 'helen', 'helene', 'helene_yancey', 'helens', 'heli', 'helicopter', 'helicopters', 'helios', 'hell', 'hella', 'heller', 'hellfire', 'hellfire_ev', 'hello', 'hellonwheelsamc', 'hellotybeeren', 'helm', 'helmet', 'helo', 'help', 'helping', 'helpline', 'helpme', 'helps', 'helsinki', 'hem', 'hempoil', 'henderson', 'hendricks', 'hendrixonfire', 'hendy_21', 'henley', 'henry', 'henshaw', 'her', 'here', 'herei', 'heres', 'hereticofethics', 'herman', 'hermancranston', 'hermitage', 'hero', 'heroes', 'heroin', 'heroine', 'heros', 'herring', 'hers', 'herself', 'hes', 'hesse', 'hew', 'hexagon', 'hey', 'heyimbeeyt', 'heyitsepark', 'heyot6', 'heyseto', 'heywood', 'hfxstanfield', 'hgf52611', 'hhahaha', 'hhbu', 'hhs', 'hi', 'hiatt', 'hibernating', 'hickson', 'hicksville', 'hidden', 'hide', 'hideous', 'hiding', 'hienshi', 'hieroglyphics', 'high', 'higher', 'highest', 'highland', 'highly', 'highqualitybird', 'highsmith', 'highway', 'higuains', 'hijack', 'hijacker', 'hijacking', 'hijinks1967', 'hikagezero', 'hike', 'hiker', 'hikers', 'hil', 'hilarious', 'hilda', 'hill', 'hillary', 'hillaryclinton', 'hillarymass', 'hills', 'hillside', 'hilly', 'hilversum', 'him', 'himalaya', 'himalayas', 'himeruisu', 'himself', 'hinata', 'hinatobot', 'hindsight', 'hindustan', 'hint', 'hinterestin', 'hinton', 'hints', 'hip', 'hiphop', 'hipster', 'hipsters', 'hired', 'hiring', 'hirochii', 'hiroshima', 'hiroshima70', 'hiroshimas', 'hirsch', 'his', 'hisao', 'hist', 'historic', 'historical', 'historicalmages', 'history', 'historys', 'hit', 'hitch', 'hitchhiking', 'hits', 'hitters', 'hitting', 'hixon', 'hlg', 'hlongwane', 'hlportal', 'hm', 'hmm', 'hmmm', 'hmmthis', 'hmu', 'ho', 'hoax', 'hobbit', 'hobby', 'hobo', 'hoc', 'hockey', 'hoe', 'hoes', 'hoffman', 'hogan', 'hogging', 'hoisting', 'hoke', 'hold', 'holdin', 'holding', 'holds', 'hole', 'holed', 'holes', 'holiday', 'holidays', 'holistic', 'holland', 'holly', 'hollyorange8', 'hollyw', 'hollywarnexx', 'hollywood', 'holmes', 'holmgren', 'holodomor', 'holomua', 'holt', 'holtz', 'holy', 'holymileyray', 'home', 'homealone2', 'homebuyer', 'homecoming', 'homefolks', 'homegrown', 'homeimprovement', 'homeland', 'homeless', 'homemade', 'homeowners', 'homepage', 'homers', 'homes', 'hometown', 'hometownglory', 'homeworldgym', 'homicides', 'homie', 'homies', 'homophobia', 'homosexuality', 'homs', 'homukami', 'hond', 'honda', 'honduran', 'honest', 'honestly', 'honey', 'honeybunzgem', 'honor', 'honored', 'honors', 'honour', 'honshu', 'hoo', 'hood', 'hoodedu', 'hoof', 'hook', 'hooligan', 'hooligans', 'hoops', 'hop', 'hope', 'hoped', 'hopefulbatgirl', 'hopefully', 'hopeinchrist', 'hopeinhearts', 'hopes', 'hopfer', 'hoping', 'hopped', 'horiikawa', 'horizon', 'horn', 'horndale', 'horno', 'horny', 'hornybigbadwolf', 'horoscope', 'horowitz', 'horrendous', 'horrible', 'horrific', 'horrifying', 'horror', 'horrormoviesca', 'horrors', 'horse', 'horses', 'horsetalknz', 'hospital', 'hospitality', 'hospitalized', 'hospitals', 'host', 'hostage', 'hostages', 'hosting', 'hosts', 'hot', 'hotbox', 'hotboy', 'hotel', 'hotnewscake', 'hotspot', 'hotter', 'hottest', 'hough_jeff', 'hour', 'hours', 'house', 'housed', 'household', 'households', 'houses', 'housing', 'houston', 'how', 'how_fans', 'howardu', 'howell', 'however', 'howre', 'hows', 'hpssjd', 'hr', 'hrefurl', 'hrips_k', 'hromadske', 'hronlinetweets', 'hrs', 'hrsto', 'hs', 'hs2', 'hse', 'hsjb215', 'hsu', 'htarvrgly', 'html', 'htt', 'http', 'https', 'hub', 'hubert', 'hubris', 'hudhud', 'hue', 'huebels', 'huffman', 'huffpostarts', 'huffpostcomedy', 'huffpostrelig', 'huffpostuk', 'hug', 'huge', 'hugged', 'hughes', 'hughes1128', 'hugomatz', 'hugs', 'huh', 'hull', 'human', 'humanconsumption', 'humanitarian', 'humanity', 'humanityi', 'humanrights', 'humans', 'humaza', 'humble', 'humbled', 'humboldt', 'humid', 'humidity', 'humofthecity', 'humor', 'hump', 'humphrey', 'hunchback', 'hundred', 'hundreds', 'hung', 'hunger', 'hungerarticles', 'hungover', 'hungrier', 'hungry', 'hunhry', 'hunk', 'hunt', 'hunted', 'hunterlove1995', 'hunters', 'hunterston', 'hunting', 'huntington', 'hunwx', 'hurled', 'hurricane', 'hurricane_dame', 'hurricane_dolce', 'hurricane_surge', 'hurricanes', 'hurry', 'hurt', 'hurting', 'hurts', 'husband', 'hush', 'hushhes', 'hushlegs', 'hutch', 'huyovoetripolye', 'huzzah', 'hvnewsnetwork', 'hw', 'hw18', 'hwo', 'hwrf', 'hwy', 'hwy401', 'hyatt', 'hybrid', 'hyderabad', 'hyider_ghost', 'hype', 'hyped', 'hyperbole', 'hypo', 'hypocrisy', 'hysteria', 'i10', 'i15', 'i405', 'i5', 'i580', 'i77', 'i_amtalia', 'i_electrocute', 'iaff36', 'iafflocal4416', 'iamdowntown', 'iamhorsefly', 'iamrrsb', 'iamtonyneal', 'ian', 'ian_bartlett', 'ian_hellfire', 'ianokavo96', 'iartg', 'iateyourfood', 'ib', 'ibaraki', 'ibeto', 'ibeyiofficial', 'ibiza', 'ibom', 'ibooklove', 'ibrahimmisau', 'icarus', 'icaseit', 'icc_realckt', 'icd10', 'ice', 'iceland', 'iceland_review', 'icelandreview', 'icemoon', 'icequeenfroslas', 'ices', 'icicle', 'iclowns', 'iconic', 'icrc', 'ictyosaur', 'icy', 'icymagistrate', 'icymi', 'id', 'idaho', 'idc', 'idea', 'ideals', 'ideas', 'idek', 'identical', 'identification', 'identitytheft', 'idfire', 'idgaf', 'idiot', 'idiots', 'idis', 'idk', 'idki', 'idlenomore', 'idm', 'idol', 'idols', 'idp', 'idps', 'idwpublishing', 'idwx', 'ie', 'ieansquad', 'ieee', 'iembot_hfo', 'if', 'ifak', 'iflcanada', 'ifs', 'ifunny', 'ig', 'iger', 'igers', 'ight', 'igmpj', 'ignite', 'ignited', 'ignition', 'ignoranceshe', 'ignorant', 'ignore', 'ignored', 'igs', 'ihave44episodesofgg', 'iheartradio', 'ihhen', 'ii', 'iii', 'iinet', 'iit', 'ij', 'ijetalerts', 'ijournal', 'ijustine', 'ik', 'ik4len', 'ika', 'ikpeazu', 'ilford', 'ill', 'illegal', 'illegality', 'illegally', 'illegals', 'illinois', 'illness', 'illnesses', 'illogical', 'illuminated', 'illusion', 'illusions', 'illusoria', 'illustrated', 'illustration', 'illustrations', 'ilnewsflash', 'im', 'im2ad', 'im_razed', 'ima', 'image', 'imagecomics', 'images', 'imaginable', 'imagine', 'imagined', 'imaging', 'imagini', 'imam', 'imawesome7986', 'imbalances', 'imdb', 'ime', 'imeshika', 'imkeepingmydayjob', 'immediate', 'immediately', 'immensely', 'immigrant', 'immigration', 'imminent', 'immortaltech', 'immune', 'imo', 'imouto', 'impact', 'impacted', 'impacting', 'impairs', 'impending', 'imperfect', 'imperialism', 'implication', 'implicit', 'implode', 'implores', 'imply', 'importance', 'important', 'imported', 'imposed', 'imposing', 'imposition', 'impossible', 'impressed', 'impressions', 'impressive', 'imprison', 'imprisoning', 'improve', 'improved', 'improvement', 'improvements', 'improves', 'impulse', 'impulsive', 'ims', 'imsort', 'imsushickoflove', 'imtariik', 'in', 'ina', 'inbetween', 'inbounds', 'inc', 'incapable', 'incase', 'incessant', 'inch', 'inches', 'incident', 'incidental', 'incidents', 'incinerator', 'incite', 'incitement', 'inciting', 'inciweb', 'include', 'included', 'includes', 'including', 'income', 'incompetent', 'increase', 'increased', 'increasing', 'increasingly', 'incredible', 'incredibly', 'incredulous', 'incremental', 'ind', 'indah', 'indecency', 'indecisiveness', 'indeed', 'independence', 'independent', 'indepth', 'index', 'indexing', 'indi', 'india', 'indiahttp', 'indiakomuntorjawabdo', 'indian', 'indiana', 'indianapolis', 'indiannews', 'indianperpetrated', 'indiansfor', 'indiatv', 'indictment', 'indie', 'indiefilm', 'indiegogo', 'indiepopmom', 'indifference', 'indigo6e', 'indiscriminate', 'indistinguishable', 'individl', 'individual', 'individuals', 'indo', 'indonesia', 'indonesian', 'indoors', 'indot', 'induced', 'industrial', 'industry', 'indy', 'indyfest', 'inec', 'ineedexposure', 'inequality', 'inevitable', 'inevitably', 'infact', 'infamous', 'infantry', 'infantryman', 'infected', 'infections', 'infectious', 'infectiousdiseases', 'inferior', 'inferno', 'infested', 'infield', 'infiltrated', 'infiltration', 'infinite', 'infinitegrace7', 'infinity', 'inflict', 'inflicted', 'influenced', 'influencers', 'influential', 'info', 'infographic', 'infomercial', 'informant', 'information', 'infosec', 'infowars', 'infrastructure', 'ing', 'inhofe', 'initial', 'initiative', 'inj', 'inject', 'injured', 'injures', 'injuries', 'injury', 'injustice', 'ink', 'inmate', 'inmates', 'inner', 'inning', 'innings', 'innit', 'innocent', 'innocents', 'innovation', 'innovative', 'inputs', 'inroices', 'insane', 'insanelimits', 'insas', 'insects', 'insert', 'inside', 'insides', 'insight', 'insomnia', 'insomniacs', 'inspect', 'inspection', 'inspections', 'inspi', 'inspiration', 'inspired', 'inspiring', 'inst', 'instagram', 'instagramers', 'instagrams', 'install', 'installation', 'installed', 'installment', 'instant', 'instantly', 'instapundit', 'instaquote', 'instead', 'instincts', 'institute', 'institutionalize', 'instruction', 'instructions', 'insubcontinent', 'insult', 'insults', 'insurance', 'insure', 'insurer', 'insurers', 'int', 'intact', 'intead', 'integrates', 'integrative', 'integrity', 'intel', 'intelligence', 'intelligencebar', 'intended', 'intending', 'intense', 'intensifies', 'intensity', 'intensive', 'intentions', 'interactions', 'interest', 'interested', 'interesting', 'interestraterise', 'interlaken', 'interlocking', 'intern', 'internal', 'internally', 'international', 'internet', 'internetradio', 'interpretation', 'interracial', 'interrogation', 'interrupt', 'intersectio', 'intersection', 'intersections', 'interspersed', 'interstate', 'intertissue', 'intertwine', 'interval', 'intervene', 'interview', 'interviewed', 'interviews', 'intl', 'into', 'intoxicated', 'intragenerational', 'intrigued', 'intriguing', 'intro', 'introduced', 'introducing', 'introduction', 'inundated', 'inundation', 'invaded', 'invading', 'invalid', 'invasion', 'invented', 'invest', 'invested', 'investigate', 'investigated', 'investigating', 'investigation', 'investigative', 'investigators', 'investing', 'investment', 'invincible', 'invisible', 'invited', 'inviting', 'invoices', 'invokces', 'involved', 'involves', 'involving', 'invzices', 'inws', 'inåêchaos', 'io', 'iof', 'iot', 'iowa', 'ip', 'ipa', 'ipad', 'iphone', 'iphooey', 'iphoto', 'ipo', 'ipod', 'ir', 'iran', 'irandeal', 'iranian', 'iranians', 'irannucleardeal', 'irans', 'iraq', 'iraqi', 'iraqis', 'iredell', 'ireland', 'irelandwe', 'ireporter', 'irish', 'irishirr', 'irishspy', 'irishtimesworld', 'iron', 'ironic', 'ironically', 'ironmanå', 'irons', 'irony', 'irrespective', 'irvine', 'irwin', 'is', 'isai', 'isaiah', 'isao', 'isea2015', 'ish', 'isi', 'isil', 'isinjury', 'isis', 'isisi', 'isla', 'islam', 'islamaphobe', 'islamic', 'islamist', 'island', 'islands', 'isle', 'isn', 'isnt', 'isolation', 'israel', 'israeli', 'issue', 'issued', 'issues', 'istg', 'it', 'italian', 'italianåêalps', 'italy', 'itblank', 'itd', 'item', 'items', 'itinerary', 'itll', 'itrawcwb', 'its', 'itself', 'itsjustinstuart', 'itsllikely', 'itsnasb', 'itsqueenbaby', 'itss_selenaluna', 'itunes', 'itunesmusic', 'itz', 'ivanberroa', 'ive', 'iwasdisappointedby', 'iwate', 'iwk', 'iwontmakeit', 'izi_garcia', 'j2bone', 'j3lyon', 'ja', 'jacinta', 'jack', 'jackass', 'jacket', 'jackets', 'jackholes', 'jackie', 'jackman', 'jackmulholland1', 'jackperu1', 'jackson', 'jacksoncalm', 'jacksonville', 'jackwilsheres', 'jaclynsonne', 'jacque', 'jacqui', 'jacquie', 'jade', 'jadehelm15', 'jag', 'jagexhelpdibi', 'jagexsupport', 'jagm', 'jaiden', 'jail', 'jailbreak', 'jailed', 'jaileens', 'jak', 'jakartapost', 'jake', 'jake_adavis', 'jake_blight', 'jakegint', 'jakeåê', 'jam', 'jamaica', 'jamaicans', 'jamaicaobserver', 'jamaicaplain', 'james', 'james_justus', 'jamesmelville', 'jamessnyder22', 'jamie', 'jamiegriff97', 'jamienye', 'jamilazzaini', 'jammed', 'jammu', 'jams', 'jan', 'janata', 'janeenorman', 'janenelson', 'janice', 'janiethekillr', 'jannellix0', 'jannet2208', 'janta', 'january', 'japan', 'japanese', 'japanjapan', 'japans', 'japs', 'japton', 'japì_n', 'jar', 'jared', 'jariana', 'jarmusch', 'jasalhad', 'jasmine', 'jasminehuerta24', 'jasmines', 'jason_floyd', 'jasoncundy05', 'jasonpope2', 'jasons', 'jaureguiswisdom', 'java', 'jawans', 'jax', 'jay', 'jaybig', 'jaycootchi', 'jaydennotjared', 'jaylenejoybeligan', 'jaymcleanauthor', 'jays', 'jazz', 'jazzs', 'jbouie', 'jbumzqpk', 'jcomanse', 'jdabe80', 'jealous', 'jeannamibian', 'jeannathomas', 'jeans', 'jeb', 'jebbush', 'jedi', 'jeep', 'jeepåêsunk', 'jeez', 'jeff', 'jefferson', 'jeffpalmer16', 'jen', 'jengriffinfnc', 'jennas', 'jennasjems', 'jennellensbb', 'jenner', 'jennife29916207', 'jennifer', 'jenniferarri_', 'jeremyduns', 'jerkface', 'jeromekem', 'jerry', 'jersey', 'jerseys', 'jerusalem', 'jesse', 'jessica_stclair', 'jessie_novoa_', 'jessienojoke', 'jessienovoarp', 'jesus', 'jesuss', 'jet', 'jetengine', 'jetixrestored', 'jets', 'jetstar', 'jewelry', 'jewels', 'jewhaditm', 'jewish', 'jewishpress', 'jews', 'jez', 'jfb', 'jfc', 'jhaustin', 'jhmnye', 'jiahahahha', 'jihad', 'jihadi', 'jihadis', 'jim', 'jimin', 'jimmozel', 'jimmy', 'jimmyfallon', 'jimskiv92', 'jinx', 'jishin_e', 'jitsu', 'jittering', 'jiwonle', 'jj', 'jj_dirty', 'jkl', 'jlabuz', 'jlester34', 'jmastrodonato', 'jmcwrites', 'job', 'jobbing', 'joboozoso', 'jobs', 'jocelyn', 'joe', 'joedawg42', 'joegoodmanjr', 'joel', 'joelsherman1', 'joes', 'joestrong', 'joeybats19', 'joeysterling', 'jogger', 'johannesburg', 'john', 'johndcgow', 'johnejefferson', 'johnfromcranber', 'johnfugelsang', 'johngreen', 'johnjcampbell', 'johnny', 'johns', 'johnson', 'johnsontionne', 'join', 'joined', 'joining', 'joint', 'joints', 'joinvroom', 'joke', 'joked', 'jokin', 'jolie', 'jolly_jinu', 'jon', 'jonas', 'jonathan', 'jonathanferrell', 'jones', 'jones94kyle', 'jones_luna', 'jonesboro', 'jonvoyage', 'joonma_', 'jordan', 'jorrynja', 'jose', 'josebasedgod', 'joseph', 'josephjett', 'josephus', 'josh', 'josh_lado', 'joshacagan', 'joshcorman', 'joshsternberg', 'joshua', 'joshuaassaraf', 'josie', 'jota', 'journal', 'journalism', 'journalist', 'journey', 'journeys', 'journo', 'joxroundtable', 'joy', 'joys', 'jozerphine', 'jp', 'jpanzar', 'jr', 'jrlallo', 'jrowah', 'js', 'jsdf', 'jst', 'jsunnews', 'jt_ruff23', 'jtw', 'juan', 'juanmthompson', 'juanny', 'judas', 'jude_mugabi', 'judge', 'judgement', 'judicial', 'judith', 'judson1360', 'juice', 'juicy', 'jul', 'julian', 'julian_lage', 'julie', 'juliechen', 'juliedicaro', 'juliekragt', 'juliet', 'july', 'jump', 'jumped', 'jumper', 'jumpin', 'jumps', 'jun', 'junction', 'june', 'juneau', 'jungle', 'junk', 'junko', 'junsuisengen', 'jupiters', 'jurors', 'jury', 'jus', 'jusreign', 'jusstdoitgirl', 'just', 'justaguess', 'justdepressing', 'justice', 'justicemalala', 'justiceno', 'justicepeace', 'justified', 'justifying', 'justin', 'justin_ling', 'justinbieber', 'justinejayyy', 'justintrudeau', 'justjon', 'justsaying', 'justthebottle', 'jwalkerlyle', 'jyheffect', 'k3', 'k_matako_bot', 'kabarmesir', 'kaboom', 'kabul', 'kabwandi', 'kach', 'kadiegrr', 'kaduna', 'kai', 'kainyusanagi', 'kaiseiw', 'kaiser', 'kakajambori', 'kakeru', 'kaldi', 'kalinandmyles', 'kalinwhite', 'kalle', 'kallemattsons', 'kalmikya', 'kamayani', 'kamchatka', 'kamindoz', 'kamkasteiiano', 'kamloops', 'kamon', 'kamunt', 'kane', 'kanger', 'kanglaonline', 'kansas', 'kanye', 'kaotix_blaze', 'kapokekito', 'kappa', 'kaputt21', 'karachi', 'karen', 'karijobe', 'karinagarciaxo_', 'karlsruhe', 'karma', 'karnakarank', 'karnal', 'karnythia', 'karymsky', 'kasab', 'kasabwe', 'kasad1lla', 'kashmir', 'kashmirconflict', 'kashs', 'kasiadear33', 'kasiakosek', 'kasich', 'kasitaroch', 'katherines', 'kathrynschulz', 'katiecool447', 'katiekatcubs', 'katramsland', 'katrina', 'katt', 'katterpì', 'katunews', 'kay', 'kayla', 'kaylak369', 'kbak', 'kbeastx', 'kc', 'kc5kh', 'kca', 'kcarosawmur', 'kcrw', 'ke', 'keampurley', 'kebab', 'keegan', 'keegan172', 'keen', 'keep', 'keeper', 'keeping', 'keepingtheviginaclean', 'keeps', 'keith', 'keithboykin', 'keithyy', 'keithyyl', 'kelby', 'kelbytomlinson', 'kellkane', 'kelloggs', 'kelly', 'kellyannwx', 'kellys', 'kelworldpeace', 'kemal_atlay', 'kenai', 'kendall', 'kendra_leigh13', 'kenji', 'kennedys', 'kennel', 'kenneth', 'kennethbauer_', 'kenny', 'kenosha', 'kenya', 'kept', 'keratin', 'keren_serpa', 'kern', 'kerri', 'kerricktrial', 'kerry', 'kerrykatona7', 'kesabaran', 'kessily', 'kessler', 'kettlebell', 'keurig', 'kevin', 'kevinbacon', 'kevinedwardsjr', 'kevr_7', 'key', 'kezi9', 'kfc', 'kfvs', 'kg4vaal', 'kgb', 'khadidon', 'khaki', 'khalidkkazi', 'khan', 'khans', 'khq', 'khqa', 'khrones', 'khulna', 'khuzdar', 'ki', 'kia', 'kick', 'kicked', 'kicking', 'kicks', 'kid', 'kiddie', 'kidding', 'kiddos', 'kidicalmassdc', 'kidnap', 'kidnapg', 'kidnapped', 'kidneys', 'kids', 'kidscompany', 'kidsthesedays', 'kierannicholson', 'kiernan', 'kiev', 'kijan', 'kijangbank', 'kijima_matako', 'kikes', 'kill', 'killed', 'killer', 'killers', 'killhard', 'killin', 'killing', 'killings', 'kills', 'killsåêone', 'kimkardashian', 'kind', 'kinda', 'kinder', 'kinder_morgan', 'kindermorgan', 'kindersley', 'kindle', 'kindlecountdown', 'kindly', 'kindness', 'kindof', 'kinesiology', 'kinetic', 'king', 'king_naruto_', 'kingdom', 'kinggerudo_', 'kingmyth1999', 'kings', 'kinkyconnors', 'kirafrog', 'kiranahmedd', 'kircut1', 'kiri', 'kirkmin', 'kiro7seattle', 'kirsten', 'kirstiealley', 'kisii', 'kiss', 'kissed', 'kisses', 'kissimmee', 'kissing', 'kit', 'kitana', 'kitchen', 'kith', 'kitten', 'kittens', 'kiwi_karyn', 'kjfordays', 'klarajoelsson', 'klavierstuk', 'klimkin', 'klitschko', 'klondike', 'km', 'kmactwn', 'kml', 'knee', 'kneel', 'kneelbot', 'knees', 'knew', 'knife', 'knight', 'knives', 'kno', 'knob', 'knobhead', 'knock', 'knocked', 'knocking', 'knockout', 'knocks', 'knott', 'know', 'knowing', 'knowlddge', 'knowledge', 'known', 'knows', 'knox', 'knoxville', 'knw', 'knx1070', 'kodak', 'kodiak', 'koin6news', 'kombat', 'kombatfans33', 'komen', 'komo', 'kontrolled', 'kooks', 'kopiteluke1892', 'korea', 'koreans', 'kororinpa', 'korzhonov', 'kosciusko', 'kosher', 'kotaweather', 'kotolily', 'kotowsa', 'kou', 'kowing', 'koz', 'kp', 'kpcc', 'kpdied', 'kppolice', 'kraft', 'krefeld', 'kristenkoin6', 'kristindavis', 'kristyleemusic', 'kro', 'ks', 'ks100', 'ks111', 'ks161', 'ks315', 'ks57', 'ks94', 'ksbynews', 'kshllcenterpri1', 'ktfounder', 'kttape', 'kuala', 'kulli', 'kunalkapoor', 'kung', 'kunstler', 'kurd', 'kurdish', 'kurdistan', 'kurds', 'kurokobot', 'kurt', 'kurtkamka', 'kurtschlichter', 'kushwush', 'kuualohax', 'kuwait', 'kuznetsova', 'kwaaa', 'kwislo', 'kwwwkwwwk', 'ky', 'kyee', 'kyle', 'kylekrenek', 'kylewappler', 'kynespeace', 'kyrikoni', 'l4', 'l6', 'l9udest', 'la', 'la_siren', 'lab', 'label', 'labelled', 'labor', 'laboratory', 'labour', 'labourleadership', 'labs', 'laced', 'lack', 'lad', 'laden', 'ladies', 'ladins', 'lady', 'ladyfleur', 'laevantine', 'lafayette', 'lag', 'lagos', 'laid', 'laighign', 'lake', 'lakeeffect', 'lakeisabella', 'lakes', 'lakh', 'lalaloopsy', 'lamarcus', 'lamb', 'lambasts', 'lame', 'lamha', 'lamp', 'lamps', 'lan', 'lana', 'lancaster', 'lancasteronline', 'lance', 'land', 'landfall', 'landi', 'landing', 'landolina', 'landowner', 'lands', 'landscape', 'landscapes', 'landsli', 'landslide', 'landslides', 'lane', 'lanes', 'lanetary', 'lanford', 'langata', 'langley', 'langtree', 'language', 'languages', 'languishing', 'lanjut', 'lansdowne', 'laois', 'laos', 'lapaka', 'laphamsquart', 'lapping', 'lapse', 'lara', 'large', 'larger', 'largest', 'larious', 'las', 'lashes', 'lashings', 'lassics', 'last', 'lasted', 'lasting', 'lastingness', 'lastma', 'lasvegaslocally', 'late', 'latechwatch', 'lately', 'later', 'lateral', 'laterim', 'latest', 'latestnews', 'latimes', 'latin', 'latina', 'latino', 'latinoand', 'latinos', 'lattice', 'lauded', 'laudner', 'laugh', 'laughing', 'laughs', 'laughtraders', 'launch', 'launches', 'laundry', 'laura', 'lauradeholanda', 'laurathorne97', 'lauren', 'lauren_miller_7', 'laurenjauregui', 'laurensicle', 'laurent', 'lava', 'lavapixcom', 'lavatory', 'lavenderpoetrycafe', 'law', 'lawfulsurvivor', 'lawn', 'lawrence', 'laws', 'lawsonofficial', 'lawsuit', 'lawton', 'lawx', 'lax', 'lay', 'layer', 'laylovetournay', 'layout', 'lbr', 'lcb', 'lcc', 'ldnr', 'lds', 'lead', 'leader', 'leaders', 'leadership', 'leading', 'leads', 'leafs', 'league', 'leagues', 'leak', 'leaked', 'leaking', 'leaks', 'lean', 'leandotorg', 'leaning', 'learn', 'learned', 'learni', 'learning', 'leashless', 'least', 'leather', 'leave', 'leaves', 'leaving', 'lebanon', 'led', 'ledofficial1', 'lee', 'leeds', 'leedsrouge', 'leedstraif', 'leejasper', 'leelanau', 'lees', 'left', 'lefties', 'leftwich', 'leg', 'legacy', 'legacyofthesith', 'legal', 'legend', 'legendary', 'legio', 'legion', 'legionna', 'legionnaires', 'legionnairesdisease', 'legionstrackandfield', 'legislation', 'legit', 'legitimate', 'legna989', 'lego', 'legs', 'leh', 'leiaorganasolo', 'leicester_merc', 'leisure', 'leitchfield', 'lemairelee', 'lembra', 'lemme', 'lemon', 'lemonade', 'len', 'lender', 'lengths', 'lenkaiswaifu', 'lenn_len', 'lennonparham', 'lennox', 'lenore', 'leo', 'leoblakecarter', 'leonalewis', 'leonardville', 'leones', 'leos', 'leprosy', 'ler', 'les', 'lesbian', 'lesbians', 'lesley_mariiee', 'lesleychappelle', 'lesnar', 'lesotho', 'less', 'lesson', 'lessonforlife', 'lessons', 'lest', 'let', 'letdown', 'lethal', 'lethbridge', 'lets', 'letsfootball', 'letter', 'letters', 'letting', 'level', 'leveled', 'levels', 'levy', 'lewis', 'lexi', 'lexi_purduee', 'lez', 'lga', 'lgbt', 'lgl', 'lgm', 'lh_movie', 'lhh', 'liability', 'liable', 'liana_novoa', 'liar', 'libby', 'liberal', 'libertarianluke', 'liberties', 'liberty', 'libertybell1000', 'libertygeek83', 'libraries', 'library', 'libraryeliza', 'libs', 'libya', 'libyan', 'license', 'licensed', 'licenses', 'lich', 'lickin', 'lie', 'lies', 'lieu', 'life', 'lifeaintfairkid', 'lifeguard', 'lifehacks', 'lifeits', 'lifelettercafe', 'lifeline', 'lifelong', 'lifestyle', 'lifetime', 'lifted', 'lifting', 'lifts', 'light', 'lightbulb', 'lightening', 'lighter', 'lighting', 'lightly', 'lightman', 'lightning', 'lightning_ooc', 'lightning_wolf_', 'lightningstrike', 'lightrail', 'lights', 'lightseraphs', 'lightumupbeast', 'liguistic', 'like', 'likeavillasboas', 'liked', 'likely', 'likened', 'likes', 'liking', 'lil', 'lilitan', 'lilithsaintcrow', 'lilourry', 'lilreese300', 'lily', 'lim', 'lima', 'limestone', 'limit', 'limited', 'limits', 'limpar33', 'lincoln', 'lind', 'lindasocvat', 'linden', 'lindenow', 'lindsay', 'lindsay_wynn3', 'line', 'linerless', 'lines', 'lining', 'link', 'linked', 'linkedin', 'links', 'linkury', 'lion', 'lionel', 'lions', 'lip', 'lips', 'lipstick', 'liqd', 'liquidation', 'lisatoddsutton', 'lisavanderpump', 'lisowski', 'lisp', 'list', 'listed', 'listen', 'listening', 'listenlive', 'listeria', 'listia', 'listing', 'listings', 'lit', 'litany', 'lite', 'literally', 'literarycakes', 'literature', 'lith', 'lithium', 'litter', 'little', 'littlebitofbass', 'littlewomenla', 'liv', 'liva_gotta', 'live', 'live_workshop', 'lived', 'liveleak', 'liveleakfun', 'livelihood', 'livelihoods', 'lively', 'livemint', 'liveonk2', 'liveonkbak', 'liveonstreamate', 'liver', 'liverpool', 'lives', 'livescience', 'livestream', 'livin', 'living', 'livingsafely', 'liye', 'lizard', 'lizards', 'lizbon', 'lizhphoto', 'lizzie', 'lk', 'll', 'llegaste', 'llf', 'lloyd', 'lloyds', 'lmao', 'lmaovv', 'lmfao', 'lmfaooo', 'lncolyellowstone', 'lnp', 'loa', 'load', 'loaded', 'loading', 'loads', 'loaf', 'loan', 'loans', 'loathing', 'lobbied', 'lobby', 'lobo_paranoico', 'local', 'local_arsonist', 'located', 'location', 'lock', 'lockdown', 'locke', 'locke_wiggins', 'locked', 'locker', 'locks', 'locksmith', 'locksmithing', 'locomotive', 'locomotives', 'locusts', 'lodisilverado', 'log', 'logan', 'logic', 'logically', 'logistics', 'logo', 'lokis', 'loko', 'lol', 'lolatjesus', 'lolgop', 'lolim', 'lolla', 'lollapalooza', 'lolly_knickers', 'lolo', 'lolol', 'lomasvisto', 'london', 'londonfire', 'lone', 'lonely', 'lonelyness', 'lonepine', 'loner', 'lonewolffur', 'long', 'longaberger', 'longbreastyat', 'longer', 'longest', 'longevity', 'longll', 'longs', 'loo', 'look', 'looked', 'lookg', 'looking', 'looks', 'lookss', 'looney', 'loool', 'loop', 'looping', 'loose', 'loosers', 'looses', 'loot', 'looters', 'looting', 'lopez', 'lopezandthelion', 'lord', 'lordbrathwaite', 'lordofbetrayal', 'lordrsbiscuits', 'lore', 'loretta', 'lorr', 'lorries', 'lorry', 'los', 'losangeles', 'losangelestimes', 'losdelsonido', 'lose', 'loseit', 'losers', 'loses', 'losing', 'loss', 'losses', 'lost', 'lot', 'lotg', 'lots', 'lotz', 'lou', 'loud', 'louderthings', 'loudest', 'lougheed', 'louis', 'louis_tomlinson', 'loupascale', 'lous', 'love', 'loved', 'lovefood', 'loveislove', 'lovely', 'lovelylikelaura', 'lovemydentist', 'lovemyjob', 'lovemywife1983', 'lover', 'loves', 'loveyouuu', 'loving', 'low', 'lower', 'lowered', 'lowkey', 'lowly', 'lowndes', 'loyalty', 'lpdkl', 'lpunbiggiewrap', 'lrt', 'ls', 'lt', 'lt3', 'lt3dave', 'lt75', 'lta', 'ltb', 'ltgasp', 'ltmeltdown', 'ltp', 'ltz', 'lu', 'lubbock', 'lubrication', 'lucas', 'luchaunderground', 'lucifer', 'lucio', 'luck', 'lucky', 'lucymayofficial', 'lucypalladino', 'lucysforsale', 'luhan', 'luis', 'luiz', 'lujo', 'luka', 'luke', 'luke5sos', 'luke_winkie', 'lukebox', 'lulgzimbestpicts', 'lulu', 'lumbar', 'lume', 'lumixusa', 'lumpur', 'lunasagalle', 'lunch', 'lungcancer', 'lungs', 'lured', 'lurkin', 'luv', 'luzukokoti', 'lvg', 'lvictoria', 'lvl', 'lwb', 'lwilliams_13', 'lyf', 'lying', 'lyme', 'lynch', 'lynchburg', 'lynchonsports', 'lyndon', 'lyrical', 'lyrically', 'lyrics', 'lyrium', 'lzk', 'lzkely', 'lzktjnox', 'm00nf00l', 'm151a1', 'm157', 'm194', 'm27329', 'm38', 'm4', 'm40', 'm416', 'm55', 'm6x100', 'm8', 'ma', 'ma3route', 'maaan', 'maailiss', 'maatmhi', 'mac', 'maca', 'macabrelolita', 'macbreck', 'macdaddy_leo', 'machidadid', 'machine', 'machinegunkelly', 'machines', 'machismo', 'macia', 'mackayim', 'mackinnon08', 'macon', 'macs', 'mad', 'madara', 'maddd', 'maddie', 'made', 'madhya', 'madinah', 'madison', 'madisonpa_', 'madmakny', 'madonnamking', 'mafia', 'mafireems', 'mag', 'magazines', 'mageavexis', 'magellan', 'mages', 'magginoodle', 'magic', 'magical', 'magichairbump', 'magics', 'magisters', 'magne', 'magner', 'magnetic', 'magnets', 'magnificent', 'magnitude', 'magnitudeåêåêml', 'magnum', 'magnums', 'magog', 'magu', 'mahalo', 'maid', 'maiga', 'mail', 'mailonline', 'main', 'maine', 'mainland', 'mainline', 'mainly', 'mainstage', 'maintain', 'maintained', 'maintenance', 'maj', 'majesty', 'major', 'majority', 'make', 'maker', 'makes', 'maketh', 'makewaterwork', 'making', 'makinmemories', 'malabamiandsons', 'malaysia', 'malaysiaairlines', 'malaysian', 'male', 'males', 'malik', 'malistkiss', 'mall', 'mallelis', 'mallord', 'malt', 'malta', 'mama', 'mamata', 'man', 'manage', 'managed', 'management', 'manager', 'managers', 'manchester', 'manchesterlite', 'mandate', 'mandatory', 'mandela', 'mandem', 'mane', 'manga', 'mango', 'manhood', 'mania', 'manifestation', 'manifesting', 'manitou', 'mankind', 'manly', 'mannequin', 'mannered', 'manor', 'mans', 'mansehra', 'manservant', 'mansion', 'manslaughter', 'mantra', 'manual', 'manually', 'manuel', 'manufactured', 'manure', 'manutd', 'many', 'manzanita', 'manåêarmed', 'map', 'maple', 'mapleridge', 'mapmyrun', 'maps', 'mar', 'maratha', 'marble', 'marc_holl', 'march', 'marcoarment', 'marek', 'marek1330', 'margaret', 'margarita', 'marge', 'marginoferror', 'maria', 'mariaf30', 'mariah', 'mariahcarey', 'mariankeyes', 'marians', 'mariasherwood2', 'marijuana', 'marilyn', 'marin', 'marinading', 'marine', 'marinelines', 'marines', 'mariomaraczi', 'mark', 'mark_argent', 'marked', 'marker', 'market', 'marketer', 'marketers', 'marketforce', 'marketing', 'marketingåêmediocrity', 'markets', 'marketwatch', 'markkriegsman', 'markoturner', 'marks', 'marksmaponyane', 'markwschaefer', 'marlene', 'marley', 'marleyknysh', 'marlon', 'marquei', 'marquez', 'marquis', 'marr', 'marriage', 'marrie', 'married', 'marshall', 'martial', 'martinmj', 'martinmj22', 'martsun', 'martynwaites', 'martyrs', 'marvel', 'marvellous', 'marxism', 'mary', 'maryland', 'marynmck', 'mas', 'mascara', 'mash', 'mashup', 'mask', 'masochisticmage', 'mason', 'masonite', 'mass', 'massacre', 'massage', 'masse', 'masses', 'massgrave', 'massive', 'master', 'masterchef', 'mastered', 'masterpiece', 'masters', 'masturbates', 'masturbation', 'mat', 'mataas', 'matako', 'matako_milk', 'match', 'matches', 'matching', 'matchwood', 'mate', 'mateo', 'material', 'materialism', 'materials', 'math', 'mathew_is_angry', 'matias', 'mats', 'matt', 'matt_bez', 'matt_kroschel', 'mattburgener', 'mattcohen4fake', 'matter', 'matters', 'matthew', 'matthews', 'mattingly', 'mattmosley', 'mattress', 'mattson', 'mattytalks', 'mauds99', 'maui', 'mauryn143', 'mav', 'max', 'maxed', 'maxi', 'maximum', 'maxsys', 'may', 'mayan', 'maybe', 'mayflower', 'mayhem', 'mayhem_114', 'mayonnaise', 'mayor', 'mayoroflondon', 'mayweathers', 'mazda', 'mazing', 'mb', 'mba', 'mbataweel', 'mbiwa', 'mc', 'mccain', 'mccainenl', 'mccauleysdesign', 'mcclain', 'mcconnell', 'mccormick', 'mcdonalds', 'mcfadden', 'mcfaul', 'mcgsecure', 'mcgwire', 'mchapmanwsaz', 'mchenry', 'mcilroy', 'mclaughlin', 'mcmahon', 'mcnabbychic', 'mcourt', 'mcpherson', 'mcr', 'mcv', 'md', 'mdt', 'me', 'meade', 'meaganerd', 'meals', 'mean', 'meaning', 'meaningless', 'means', 'meansit', 'meant', 'meanwhile', 'measles', 'measurement', 'measures', 'meat', 'meats', 'mechamacgyver', 'mechanic', 'mechanical', 'mechanicsburg', 'med', 'medals', 'meddling', 'media', 'media420', 'mediaguido', 'median', 'medic', 'medic914', 'medical', 'medicine', 'medics', 'medieval', 'medinah', 'meditation', 'meditationbymsg', 'mediterran', 'mediterranean', 'medium', 'meds', 'medusa', 'meek', 'meekmill', 'meelllttting', 'meerkat', 'meet', 'meeting', 'meetkakarotto', 'meets', 'meg', 'mega', 'megadeth', 'megalpolis', 'megan', 'meganbee92', 'megancoopy', 'megaquake', 'megatronafc', 'megynkelly', 'meinlcymbals', 'meis', 'melanie', 'melissaross9847', 'mello', 'melrises', 'melt', 'meltdown', 'meltdowni', 'melted', 'melts', 'member', 'members', 'membuahkan', 'meme', 'memenaar', 'memes', 'memorable', 'memorial', 'memories', 'memory', 'memphis', 'men', 'menahem', 'mencius', 'menolippu', 'mens', 'menswear', 'mental', 'mentalhealthgov', 'mentality', 'mentally', 'mention', 'mentioned', 'mentions', 'meowing', 'mercados', 'mercenary', 'mercury', 'mercy', 'mere', 'merged', 'merle', 'merycormier', 'mesh', 'meshnewsdesk', 'mesick', 'mesmerizing', 'mess', 'message', 'messages', 'messed', 'messenger', 'messengers', 'messeymetoo', 'messi', 'messiah', 'messnermatthew', 'messy', 'met', 'metal', 'metallica', 'metaphorically', 'metastatic', 'meteoearth', 'meteors', 'metepec', 'meter', 'meters', 'method', 'methods', 'metlife', 'metre', 'metrics', 'metro', 'metrobus', 'metrofmtalk', 'metroid', 'metropolis', 'metropolitan', 'metrotown', 'mets', 'mexican', 'mexico', 'meyerbjoern', 'mezcal', 'mf', 'mfalcon21', 'mfi', 'mfrwauthor', 'mfs', 'mgm', 'mgr', 'mgs', 'mgtab', 'mh', 'mh17', 'mh370', 'mhmmm', 'mht', 'mhtw', 'mi', 'mi_country_hick', 'mia', 'miami', 'mic', 'michael', 'michael5sos', 'michaelgbaron', 'michaelwestbiz', 'michel', 'michele', 'michele_nfpa', 'michelebachman', 'michelleellle', 'michigan', 'mickinyman', 'micom', 'microbes', 'microchip', 'microlight', 'microphone', 'microsoft', 'microsofts', 'microwave', 'mics', 'mid', 'middle', 'middleeasteye', 'mideast', 'midfield', 'midges', 'midget', 'midnight', 'mido', 'midst', 'midsummer', 'midtown', 'midweek', 'midwest', 'might', 'migraine', 'migrant', 'migrants', 'migrating', 'mihirssharma', 'mike', 'mikecroninwmur', 'mikeparractor', 'mil', 'mild', 'mile', 'mileena', 'miles', 'milf', 'mili_5499', 'miliooo_', 'milita', 'militant', 'militants', 'militarism', 'military', 'militarydotcom', 'militias', 'milk', 'milkshake', 'mill', 'millcityio', 'milledgeville', 'millennium', 'million', 'millions', 'milne', 'milwaukee', 'min', 'mina', 'minaj', 'minamisoma', 'minas', 'mind', 'mind_mischief', 'minded', 'mindless', 'minds', 'mindset', 'mine', 'minecraft', 'mineenjoy', 'mineenjoybabes', 'mineness', 'minerals', 'miners', 'mingo', 'minhazmerchant', 'mini', 'miniature', 'minimal', 'minimum', 'mining', 'minion', 'minions', 'minister', 'ministers', 'ministry', 'mink', 'mino', 'minor', 'minority', 'minors', 'mins', 'minsuwoongs', 'mint', 'minus', 'minuscule', 'minute', 'minutes', 'minutiae', 'mipasho', 'miprv', 'mir', 'miracle', 'mirad', 'mirage', 'mirkwood', 'mirmanda11', 'mirrorlady2', 'mirrors', 'miscalculation', 'misdirection', 'misery', 'misfit', 'misfitrarity', 'misfortunebut', 'misguided', 'misha', 'mishacollins', 'mishap', 'mishaps', 'misled', 'miss', 'miss_homasttopa', 'missambear', 'misscharleywebb', 'missdaoh', 'missed', 'misses', 'missiles', 'missing', 'mission', 'missionhills', 'mississauga', 'mississippi', 'missjadebrown', 'missleylaha', 'missouri', 'misstep', 'missy', 'mistake', 'mistaken', 'mistakes', 'mistreated', 'mistress', 'mistresspip', 'mistrustful', 'misty', 'mithitennis', 'mitigating', 'mitigation', 'mitt', 'mix', 'mixed', 'mixes', 'mixify', 'mixtape', 'mixxtail', 'miyagi', 'mizuta', 'mizzou', 'miì', 'mk', 'mk2', 'mkayla', 'mkx', 'ml', 'mlb', 'mlg', 'mlk', 'mlm', 'mlrydalch', 'mlstransfers', 'mm', 'mma', 'mmchale13', 'mmda', 'mmfa', 'mmk', 'mmm', 'mn', 'mnpdnashville', 'mo', 'moan', 'mobile', 'moblins', 'mochichiii', 'mock', 'mocked', 'mockery', 'mockingpanems', 'mod', 'mode', 'model', 'modelbubbles', 'models', 'moderate', 'moderately', 'modernize', 'modernized', 'modest', 'modestmouseremix', 'modi', 'modibo', 'modified', 'modiministry', 'modis', 'modnao23', 'modoc', 'moe', 'mofanon', 'mofo', 'mogacola', 'mohammed', 'moir', 'moist', 'molave', 'mold', 'mole', 'molecularly', 'molloy', 'molly_the_tanzs', 'molten', 'moly', 'molys', 'mom', 'moment', 'moments', 'mommyisbomb', 'mommys', 'momneedscoffee', 'moms', 'mon', 'monarchy', 'monday', 'mondays', 'monetary', 'money', 'monicas', 'monitor', 'monitoring', 'monkey', 'monkeys', 'monogram', 'monologue', 'monopolized', 'monotonous', 'monroes', 'mons', 'monsoon', 'monster', 'monsters', 'monstrosities', 'montalbanony', 'montana', 'montego', 'montetjwitter11', 'montgomery', 'month', 'monthly', 'months', 'montroseband', 'monty', 'monwabisi', 'mood', 'moon', 'moonbeam', 'mooniighthunty', 'moonlight', 'moore', 'moores', 'mooresville', 'moorlandschmbr', 'mop', 'mopheme', 'moral', 'morales', 'morality', 'morbid', 'morbidmovies', 'mordechai', 'more', 'morebut', 'morehouse64', 'moreland', 'morels', 'morethan', 'morevoices', 'morgan', 'morganite', 'morganlawgrp', 'mormon', 'morn', 'morning', 'morning_joe', 'mornings', 'morocco', 'moron', 'mortal', 'mortar', 'mortified', 'morty', 'moscow', 'moscow_ghost', 'moseby', 'mosh', 'moshav', 'mosque', 'mosquito', 'mosquitoes', 'most', 'moth', 'mothe', 'mother', 'mothernature', 'mothernaturenetwork', 'motion', 'motivated', 'motivation', 'motivator', 'motley', 'motogp', 'motor', 'motorcraft', 'motorcycle', 'motorcycles', 'motorcyclist', 'motordom', 'motorists', 'motors', 'moulding', 'mount', 'mount_wario', 'mountain', 'mountaineering', 'mountainous', 'mountains', 'mounting', 'mounts', 'mourning', 'mourns', 'mouse', 'mousse', 'mouth', 'move', 'moved', 'moveit', 'movement', 'moves', 'movie', 'movies', 'movietheatre', 'moving', 'moving2k15', 'movt', 'moyo', 'mp', 'mp3', 'mpc', 'mpers', 'mph', 'mpmy', 'mpp', 'mprnews', 'mr', 'mr_aamir_javaid', 'mraffleck', 'mrc', 'mre', 'mrmikeeaton', 'mrobama', 'mrrobinson', 'mrsbinker', 'mrtophypup', 'mrw', 'ms', 'msf', 'msf_sea', 'msgdoing111welfareworks', 'msmiggi', 'msmigot', 'msnbc', 'msoreo_', 'mt', 'mta', 'mtgrotto', 'mthe', 'mtr', 'mtsalert', 'mtvhottest', 'mtvsummerstar', 'muaytai', 'muazimus_prime', 'much', 'mud', 'mudslide', 'mueller', 'mufc', 'muffle', 'mugged', 'muhamadjabal', 'mukilteo', 'mulan', 'mulberry', 'mullah', 'mullin', 'multi', 'multidimensi', 'multidimensional', 'multiplayer', 'multiple', 'mum', 'mumbai', 'mumbailocals', 'mumbairiot92', 'mumbaitimes', 'mumbling', 'mums', 'munch', 'muncle_jim', 'municipal', 'muppet', 'murder', 'murdered', 'murderer', 'murderers', 'murderous', 'murders', 'murfreesboro', 'murlo', 'murphy', 'muschamps', 'muscle', 'muse', 'museawayfic', 'museum', 'mushroom', 'music', 'music212', 'musicadvisory', 'musician', 'musicians', 'musicvideo', 'musik', 'musk', 'muslim', 'muslims', 'must', 'mustachemurse', 'mustard', 'mustering', 'mustve', 'mutant', 'mute', 'mutek_montreal', 'mutilated', 'mutt', 'muttatek', 'mutual', 'muzzamil', 'muzzies', 'mv', 'mwednesday', 'mwjcdk', 'mwlippert', 'mwnhappy', 'mx', 'mxaaa', 'my', 'myanmar', 'myanmars', 'mybabies', 'mycareer', 'mydrought', 'myelf', 'myfitnesspal', 'myfriendmina', 'mygc', 'mylifestory', 'mylittlepwnies3', 'mypillowstudio', 'myreligion', 'myrtlegroggins', 'myself', 'mysteries', 'mystery', 'mystical', 'mythgriy', 'myths', 'myvintagesoul', 'mzgraciebaby', 'mzmandilynn', 'mì¼sica', 'n15b', 'na', 'naaa', 'naayf', 'nades', 'naemolgo', 'nafeezahmed', 'nagasaki', 'nagaski', 'nagel_ashley', 'nah', 'nail', 'nails', 'najib', 'najibrazak', 'naked', 'nalathekoala', 'name', 'named', 'namekians', 'names', 'namjoons', 'nan', 'nana', 'nankana', 'nanking', 'nanotech', 'naomi', 'nap', 'nar', 'narcissism', 'narendramodi', 'narrated', 'narrative', 'narrator', 'narrowly', 'narry', 'nars', 'nasa', 'nasahurricane', 'nasasolarsystem', 'nashhmu', 'nashsnewvideo', 'nashville', 'nashvillefd', 'nashvilletraffic', 'nasty', 'natalia', 'natalie', 'nataliealund', 'nataly', 'natasha_rideout', 'nate', 'natgeo', 'nathanfillion', 'nathans', 'nation', 'national', 'nationals', 'nations', 'native', 'nativehuman', 'nato', 'nats', 'natsnation', 'natsu', 'natural', 'naturaldisasters', 'naturalexample', 'naturally', 'nature', 'natures', 'natwest', 'naval', 'navbl', 'naved', 'navigate', 'navigating', 'navista7', 'navy', 'nawh', 'naypyidaw', 'nazi', 'nazis', 'nb', 'nba', 'nbanews', 'nbc', 'nbc15', 'nbcnews', 'nbcnightlynews', 'nbcpolitics', 'nbn', 'nc', 'ncms', 'ncwx', 'nd', 'nda', 'ndetention', 'ndtv', 'ndzedze', 'ne', 'neal', 'neanderrebel', 'neanea2724', 'near', 'nearby', 'nearing', 'nearly', 'nears', 'neat', 'neces', 'necessary', 'neck', 'necn', 'necros', 'need', 'needed', 'needing', 'needle', 'needs', 'negara', 'negative', 'neglect', 'negotiating', 'negotiations', 'negros', 'neighbor', 'neighborhood', 'neighboring', 'neighbors', 'neighbours', 'neil', 'neil_eastwood', 'neither', 'nelson', 'nema', 'nemesisk_pes', 'nennicook', 'neon', 'neoprogressive1', 'nepal', 'nepd_loyko', 'nephew', 'nervana_1', 'nerve', 'nervous', 'nester', 'nestleindia', 'net', 'netanyahu', 'netflix', 'netkicorp', 'netlabel', 'network', 'neur0sis', 'nevadas', 'nevaehburton33', 'never', 'neverforget', 'nevermore', 'new', 'new_hart2010', 'newave', 'newbeginningsanimalrescue', 'newberg', 'newbie', 'newcity', 'newep', 'newest', 'newidea', 'newly', 'newlyweds', 'newport', 'newrelease', 'news', 'news24680', 'news4buffalo', 'newsarama', 'newscomauhq', 'newsdict', 'newser', 'newsintweets', 'newspaper', 'newswatch', 'newyear', 'newyork', 'newyorkcity', 'newyorker', 'newz_sacramento', 'newåêheights', 'next', 'nexus', 'nf', 'nffc', 'nfl', 'nflexpertpicks', 'nfpa', 'ng2x5', 'ngata', 'nghlth', 'nh', 'nh1news', 'nhl', 'nhlducks', 'nhs', 'nia', 'niagara', 'niagaravehicles', 'niall', 'niallhariss', 'niamhosullivanx', 'nic', 'nice', 'nick', 'nickcannon', 'nickcocofree', 'nicki', 'nicklee8', 'nickscomics', 'nicolaclements4', 'nicole', 'nicolekidman', 'niece', 'nieces', 'nieuws', 'nigeltanner1', 'nigeria', 'nigerian', 'nigerians', 'nigga', 'niggas', 'nigh', 'night', 'nightbeat', 'nightmare', 'nightmares', 'nightmarish', 'nightmarishly', 'nights', 'niiice', 'nike', 'nikeplus', 'nikistitz', 'nikki', 'nikoniko', 'nikostar', 'nine', 'ninja', 'nino', 'nintendo', 'niqqa', 'nissan', 'nissannews', 'nitclub', 'nite', 'nitishkumar', 'nitroglycerin', 'nittys', 'nixon', 'nj', 'nj36', 'njenga', 'njturnpike', 'nkea', 'nkeajresq', 'nkulw', 'nl', 'nlccollide', 'nlm_dimrc', 'nlwx', 'nm', 'nne', 'nno', 'nnw', 'no', 'no2', 'no_periferico', 'noaa', 'noah', 'noah_anyname', 'noahcrothman', 'noahj456', 'noahshack', 'nobleman', 'nobody', 'noches', 'nochilllukehammings', 'nockthie', 'noel', 'noemotion', 'noi', 'noirandeal', 'noise', 'noises', 'nojoke', 'nola', 'nolesfan05', 'nominates', 'nominations', 'nomiya', 'nomorehandouts', 'non', 'none', 'nonprofit', 'nonucleariran', 'noob', 'noodles', 'nook', 'noonan', 'nooo', 'nope', 'nopower', 'nor', 'nora', 'noranda', 'norfolk', 'norge2040', 'normal', 'normally', 'norman', 'norse', 'nort', 'north', 'northampton', 'northbayhealth', 'northbound', 'northeast', 'northern', 'northerncalifornia', 'northgate', 'northland', 'northumberland', 'northumbria', 'northwest', 'northwestern', 'norwaymfa', 'nose', 'noses', 'nosso', 'nostalgia', 'nostrils', 'nosurrender', 'nosy_be', 'not', 'note', 'noted', 'notes', 'notexplained', 'notgoingoutinthat', 'nother', 'nothing', 'nothingness', 'notice', 'noticed', 'notices', 'notifications', 'notificationsu', 'notified', 'noting', 'notion', 'notley', 'notleys', 'notoriety', 'notorious', 'notre', 'notrocketscience', 'nottingham', 'nout', 'nov', 'nova', 'novalismi', 'novel', 'novels', 'november', 'now', 'nowhere', 'nowplay', 'nowplaying', 'nowt', 'nowww', 'noxdv', 'np', 'nprfreshair', 'nra', 'nrc', 'nrc_middleeast', 'nri', 'nro', 'ns', 'nsa', 'nsf', 'nsfw', 'nside', 'nsit_', 'nsw', 'ntsb', 'ntvde', 'nu', 'nuclear', 'nuclearweapons', 'nude', 'nudes', 'nueva', 'nuff', 'nugget', 'nuggets', 'nuh', 'nui', 'nuke', 'nuked', 'nukes', 'number', 'numbered', 'numbers', 'nurgle', 'nurse', 'nurses', 'nursing', 'nut', 'nuts', 'nutsandboltssp', 'nuu', 'nuys', 'nv', 'nvr', 'nw', 'nwo', 'nws', 'nwsbayarea', 'nwspocatello', 'nwt', 'nxwestmidlands', 'ny', 'ny1', 'ny1burst', 'ny35', 'nyack', 'nyc', 'nycbuildings', 'nycdivorcelaw', 'nycfc', 'nycha', 'nyg', 'nykaed_', 'nylon', 'nyozi', 'nypd', 'nypdnews', 'nyse', 'nyt', 'nytimes', 'nz', 'nå¼36', 'o784', 'o_magazine', 'o_o', 'oak', 'oakridge', 'oamsgajagahahah', 'obama', 'obamas', 'obedience', 'obispo', 'object', 'objection', 'objective', 'objects', 'obligations', 'obligatory', 'obliterate', 'obliterated', 'obliteration', 'oblivious', 'obscuring', 'observations', 'observed', 'observer', 'obsessed', 'obsolete', 'obstacles', 'obtaing', 'obviously', 'oc', 'oc73x', 'ocalan', 'ocampo', 'occasion', 'occasion2b', 'occupants', 'occupational', 'occur', 'occurred', 'occurrence', 'occurs', 'ocd', 'ocean', 'oceans', 'oclock', 'ocnj', 'oct', 'oct336', 'ocuana', 'odai', 'odd', 'oddball', 'odds', 'ode', 'odell', 'odeon', 'oef', 'oem', 'of', 'ofclans', 'ofcourse', 'ofentse_tsie', 'off', 'offended', 'offenders', 'offenses', 'offensive', 'offensiveåêcontent', 'offer', 'offers', 'offers2go', 'office', 'officeofrg', 'officer', 'officers', 'offices', 'official', 'officialcoredjs', 'officially', 'officialmqm', 'officialrealrap', 'officials', 'officialtjonez', 'offing', 'offline', 'offloading', 'offr', 'offramp', 'offroad', 'offs', 'offshoot', 'offshore', 'offside', 'offsite', 'offspring', 'offtrackhorse', 'oficial', 'ofnsixjks', 'ofr', 'often', 'ogt', 'ogtomd', 'ogun', 'oh', 'ohgod', 'ohh', 'ohhh', 'ohio', 'ohlordy', 'ohmygoshi', 'ohmyloz', 'ohyayyyay', 'oi', 'oif', 'oil', 'oilandgas', 'oiled', 'oils', 'ojoubot', 'ok', 'okanagan', 'okanowa', 'okay', 'okayyy', 'okcfox', 'okgabby_', 'okgooner', 'okinawa', 'okinawan', 'okla', 'oklahoma', 'oks', 'oktaviana', 'oktxduo', 'okwx', 'ol', 'olap', 'old', 'older', 'oldest', 'olds', 'oli', 'olive', 'oliver', 'olivers', 'oliviaapalmerr', 'oliviamiles', 'olliebailey11', 'ollymursaus', 'olrules', 'olympia', 'olympic', 'omaha', 'omar_molina036', 'omars', 'ombudsmanship', 'omega', 'omfg', 'omg', 'omgbethersss', 'omggg', 'omron', 'omw', 'on', 'onboard', 'once', 'one', 'oneborn', 'onegreenplanet', 'oneheartonemindonecss', 'ones', 'oneself', 'onesie', 'onfireanders', 'onihimedesu', 'onion', 'onlin', 'online', 'onlinea', 'onlinecommunities', 'onlinemh', 'only', 'onnn', 'onr', 'onshit', 'ontario', 'ontejc', 'onthisday', 'onto', 'onu_france', 'onå', 'onåêthe', 'oo', 'oocvg', 'ooh', 'oomf', 'oompah', 'oooh', 'ooohhh', 'ooohshit', 'oooureli', 'oops', 'ootd', 'op', 'opal', 'oped', 'open', 'opened', 'opener', 'opening', 'openly', 'opens', 'oper', 'opera', 'operation', 'operations', 'ophelia', 'ophiuchus2613', 'opinion', 'opinionated', 'opp', 'oppa', 'opportunity', 'oppose', 'opposed', 'opposite', 'opposition', 'oppressed', 'oppressions', 'oprah', 'ops', 'opseaworld', 'optic', 'optic_scumper', 'optical', 'optich3cz', 'optimistic', 'optimization', 'option', 'optioned', 'options', 'opus', 'or', 'oracle', 'oral', 'orange', 'orangi', 'orapinforma', 'orbette', 'orcas', 'orchard', 'orchardalley', 'orchestrated', 'orchid', 'orchs', 'orcot', 'ordained', 'order', 'ordered', 'orders', 'oregon', 'oregons', 'org', 'organ', 'organic', 'organicallyrude', 'organisms', 'organizations', 'organized', 'organizers', 'organizing', 'ori', 'orianna', 'origin', 'original', 'originalfunko', 'origins', 'ornament', 'orphanage', 'orpik', 'orpol', 'orshow', 'ortiz', 'oryx', 'os', 'osage', 'osama', 'osborn', 'osbourne', 'osi2016', 'oso', 'osp', 'ossington', 'osteen', 'ostentatious', 'otd', 'oth', 'other', 'others', 'otherwise', 'otherwisethey', 'otleyhour', 'otm', 'otp', 'otrametlife', 'otratmetlife', 'ou_wbball', 'ouch', 'ought', 'oun', 'oup', 'our', 'our_mother_mary', 'ourselves', 'out', 'outage', 'outbid', 'outbound', 'outbreak', 'outbreaks', 'outbreed', 'outburst', 'outcomes', 'outcry', 'outdoor', 'outfield', 'outfit', 'outflow', 'outlet', 'outlook', 'outnumbering', 'outrage', 'outright', 'outrun', 'outs', 'outside', 'outta', 'ouvindo', 'ouvir', 'ov', 'ovaries', 'oven', 'over', 'overall', 'overblown', 'overboard', 'overcharging', 'overcome', 'overdrive', 'overflow', 'overhead', 'overload', 'overloaded', 'overlooked', 'overlooking', 'overnight', 'overpriced', 'overrated', 'overrun', 'oversee', 'oversight', 'overtaking', 'overtime', 'overtook', 'overturesplease', 'overturn', 'overturned', 'overturns', 'overwatch', 'overwhelming', 'overwork', 'overzero', 'overåêhostages', 'ovo', 'ovofest', 'owen', 'owenrbroadhurst', 'own', 'owner', 'owners', 'ownership', 'oworoshoki', 'oyster', 'p2', 'p309943', 'p45perez', 'pa', 'pace', 'paci', 'pacific', 'pacifics', 'pacing', 'pack', 'package', 'packages', 'packed', 'packing', 'packs', 'packåêfor', 'pacquiao', 'pact', 'pada', 'padded', 'paddytomlinson1', 'padres', 'pads', 'paeds', 'pagasa', 'page', 'pageparkescorp', 'pages', 'pageshi', 'paging', 'paid', 'pain', 'paine', 'painful', 'paint', 'painthey', 'painting', 'paints', 'pair', 'pajamas', 'pak', 'pakistan', 'pakistani', 'pakistans', 'pakpattan', 'pakthey', 'pale', 'paleface', 'palermo', 'palestine', 'palestinian', 'palestinians', 'palin', 'palinfoen', 'palm', 'palmer', 'palmoil', 'palms', 'pam', 'pam_palmater', 'pamela', 'pampered', 'pams', 'pan', 'panama', 'panay', 'pancakes', 'panda', 'pandemic', 'pandemonium', 'pandemoniumiso', 'pandora', 'panel', 'panic', 'panicked', 'panicking', 'panics', 'panik', 'panoramic', 'pantalonesfuego', 'panther', 'pantherattack', 'panties', 'pantofel', 'pants', 'papa', 'papcrdoll', 'paper', 'paperback', 'paperwork', 'papi', 'papicongress', 'papiichampoo', 'para', 'paracord', 'parade', 'paradise', 'paraguay', 'paramedic', 'paramedics', 'paramore', 'paranormal', 'paratroopers', 'parched', 'pardon', 'parent', 'parental', 'parenthood', 'parents', 'parentsacrossam', 'paris', 'parisian', 'park', 'parkchat', 'parked', 'parker', 'parking', 'parks', 'parksboardfacts', 'parley', 'parleys', 'parliamentary', 'parliment', 'parole', 'pars', 'parsholics', 'part', 'partake', 'parter', 'partially', 'participate', 'participating', 'particular', 'particularly', 'particulatebreak', 'parties', 'partner', 'partners', 'partnerships', 'parts', 'party', 'partys', 'pascal', 'pascoe', 'pass', 'passed', 'passenger', 'passengers', 'passing', 'passion', 'passive', 'password', 'past', 'pasta', 'pastie', 'pastor', 'pastures', 'pat', 'patch', 'patched', 'pated', 'path', 'pathfinders', 'pathogen', 'pathogens', 'paths', 'patience', 'patient', 'patients', 'patio', 'patna', 'patricia_traina', 'patrick', 'patrickjbutler', 'patrickwsls', 'patriot', 'patriots', 'patriotsnation', 'patrol', 'patron', 'pattern', 'patterns', 'pattonoswalt', 'pattyds50', 'paul', 'paul_staubs', 'paulhollywood', 'paulista', 'pauls', 'paved', 'paws', 'pawsox', 'paxton', 'pay', 'payback', 'payday', 'paying', 'payment', 'paypile', 'pays', 'pb', 'pbban', 'pbcanpcx', 'pbohanna', 'pbs', 'pbx', 'pc', 'pcaldicott7', 'pci', 'pcps', 'pd', 'pdp', 'pdx911', 'pdxabq', 'pea', 'peace', 'peaceful', 'peacefully', 'peacetime', 'peak', 'peale', 'peanut', 'pearl', 'pearlharbor', 'peasants', 'pedals', 'pedestrian', 'pedestrians', 'pediatric', 'pedro', 'pee', 'peeked', 'peel', 'peeped', 'peeps', 'peers', 'peeters', 'peice', 'pelosis', 'penalties', 'penalty', 'pendleton', 'penetrate', 'peninsula', 'penn', 'penneys', 'pennies', 'pennington', 'pennlive', 'penny', 'pens', 'pension', 'people', 'peoples', 'pepper', 'pepperoni', 'per', 'perceive', 'percent', 'perfect', 'perfectly', 'perforated', 'perform', 'performance', 'performing', 'perhaps', 'period', 'periscope', 'perished', 'peritoengrafoscopia', 'periwinkle', 'perkpearl', 'permanent', 'permanently', 'permission', 'permits', 'perpetrators', 'perquisite', 'perrie', 'perrybellegarde', 'perrychat', 'persecution', 'persist', 'persistent', 'person', 'personal', 'personalinjury', 'personalize', 'personally', 'personnel', 'persons', 'perspective', 'perspectives', 'pertains', 'perth', 'pestle', 'pet', 'peta', 'petchary', 'pete', 'pete_r_knox', 'petebests', 'petel_mcguire', 'peterdutton_mp', 'petereallen', 'peterhowenecn', 'peterjukes', 'petersburg', 'petersens', 'petition', 'pets', 'petting', 'petty', 'pfannebeckers', 'pfft', 'pft', 'pg', 'pga', 'ph0tos', 'phalaborwa', 'phandom', 'phantasmal', 'phantom', 'pharaoh', 'pharma', 'pharrell', 'phase', 'phdsquares', 'phelimkine', 'phenomenal', 'phew', 'phiddleface', 'phil', 'philadelphia', 'philip', 'philipduncan', 'philippi', 'philippine', 'philippines', 'phillip', 'phillips', 'phillipten', 'philly', 'phnotf', 'phoenix', 'phone', 'phones', 'photo', 'photogenic', 'photographed', 'photographer', 'photographs', 'photography', 'photos', 'photoset', 'photoshop', 'phuket', 'physical', 'physically', 'physician', 'physicians', 'piano', 'pianohands', 'pic', 'pick', 'picked', 'pickens', 'pickerel', 'picking', 'pickle', 'pickles', 'pickpocket', 'pickup', 'pics', 'picthis', 'picture', 'pictured', 'pictures', 'pictwittercom', 'piece', 'pieceofme', 'pieces', 'pierc', 'pierce', 'piercing', 'piercings', 'piga', 'pigeon', 'pikachu', 'pikin', 'pile', 'pileq', 'piles', 'pileup', 'pilgrims', 'piling', 'pill', 'pilloried', 'pillow', 'pillows', 'pills', 'pilot', 'pilots', 'pin', 'pine', 'piner', 'pineview', 'pink', 'pinpoint', 'pioneer', 'pioneerpress', 'pipe', 'pipeline', 'pipeliners', 'piperwearsthepants', 'piping', 'piprhys', 'pir', 'piracy', 'pirate', 'pirates', 'pisces', 'pisco', 'pisgah', 'piss', 'pissed', 'pit', 'pitch', 'pitched', 'pitcher', 'pitchers', 'pitchwars', 'pitmix', 'pits', 'pittsburgh', 'pity', 'pivot', 'pixar', 'pixelcanuck', 'pixeljanosz', 'pixelsmovie', 'pizza', 'pizzarev', 'pizzas', 'pjcoyle', 'pjnet', 'pkk', 'pkwy', 'pl', 'place', 'placed', 'places', 'placing', 'plague', 'plaguing', 'plains', 'plan', 'plane', 'planes', 'planet', 'planing', 'plank', 'planned', 'plannedparenthood', 'planners', 'planning', 'plans', 'plant', 'plantations', 'planted', 'plants', 'plastic', 'plastics', 'plate', 'platform', 'platinum', 'platt', 'play', 'playa', 'played', 'player', 'players', 'playing', 'playingnow', 'playlist', 'playoffs', 'playoverwatch', 'plays', 'playstation', 'playthrough', 'plaza', 'pleaded', 'pleas', 'pleasant', 'pleasantly', 'please', 'pleasure', 'pleb', 'pledge', 'pledged', 'plenty', 'pletch', 'plez', 'pll', 'pllolz', 'ploppy', 'plot', 'plotted', 'pls', 'plsss', 'plug', 'plugin', 'plumbing', 'plummeted', 'plummeting', 'plunging', 'plus', 'pluto', 'plymouth', 'plz', 'pm', 'pmarca', 'pmharper', 'pneumonia', 'pnpizody', 'po', 'po_st', 'poc', 'pochette', 'pocket', 'pockets', 'poconorecord', 'pod', 'podcast', 'poem', 'pogo', 'poignant', 'point', 'pointing', 'pointless', 'points', 'poisoned', 'pokemon', 'pol', 'poland', 'polar', 'polaroids', 'pole', 'police', 'policeng', 'policies', 'policy', 'policyholders', 'policylab', 'polit', 'politely', 'politic', 'political', 'politicians', 'politicized', 'politics', 'politifiact', 'poll', 'pollster', 'polluted', 'pomo', 'pond', 'pone', 'ponting', 'pony', 'pool', 'poor', 'poorly', 'pop', 'pop2015', 'popcorn', 'pope', 'popehat', 'popeyes', 'poplar', 'pops', 'popular', 'populardemand', 'popularmmos', 'population', 'porcini', 'porcupine', 'porn', 'pornhub', 'porno', 'porridge', 'port', 'portable', 'portaloos', 'portfolio', 'portgassdk', 'portion', 'portland', 'portrait', 'portugal', 'pos', 'poses', 'positive', 'positively', 'positivity', 'poss', 'possesion', 'possess', 'possibility', 'possible', 'possibly', 'post', 'postal', 'postapocalypticflimflam', 'postcards', 'posted', 'poster', 'postering', 'posters', 'postexistence', 'posting', 'postponed', 'posts', 'pot', 'potatoes', 'potential', 'potentially', 'pots', 'potter', 'potus', 'pouch', 'pounded', 'pounding', 'pounds', 'pour', 'poured', 'pouring', 'pours', 'pov', 'poverty', 'pow', 'poway', 'powder', 'power', 'powerful', 'powerhiroshima', 'powerlines', 'powers', 'powerwow', 'pox', 'pozarmy', 'poze', 'pp', 'pp15000266818', 'pp15000266858', 'ppact', 'ppc', 'ppfa', 'ppl', 'pple', 'ppor', 'ppsellsbabyparts', 'pra', 'prabhu', 'prablematicla', 'practically', 'practice', 'practices', 'practicing', 'practitioner', 'pradesh', 'pragnik', 'prairie', 'praise', 'praiz8', 'pray', 'prayed', 'prayers', 'prayforsaipan', 'praying', 'pre', 'preacher', 'preaching', 'prebreak', 'precedent', 'precious', 'precipitation', 'precisionistic', 'preconditioning', 'predator', 'predict', 'predicted', 'prediction', 'predictions', 'prefecture', 'prefer', 'preferable', 'preferably', 'pregnant', 'prem', 'premature', 'premier', 'premiere', 'premises', 'premium', 'premonitions', 'prensa', 'preorder', 'prepare', 'prepared', 'preparedness', 'prepares', 'preparing', 'prepper', 'preppers', 'preppertalk', 'pres', 'presbad', 'preschool', 'preseason', 'preseasonworkouts', 'presence', 'present', 'presentation', 'presents', 'preservation', 'preserve', 'preset', 'president', 'presidential', 'presley', 'press', 'pressed', 'presser', 'pressing', 'presssec', 'presstv', 'pressure', 'prestige', 'preston', 'presume', 'pretend', 'pretenses', 'pretty', 'prettyboyshyflizzy', 'prevalent', 'prevent', 'preventative', 'prevention', 'preview', 'previews', 'previous', 'previously', 'prez', 'price', 'priceless', 'prices', 'pride', 'priest', 'priests', 'primal', 'primalkitchen', 'primarily', 'primary', 'prime', 'prince', 'princeoffencing', 'princessduck', 'principle', 'principles', 'print', 'printable', 'printed', 'printing', 'prints', 'prior', 'priorities', 'priority', 'prison', 'prisoner', 'prisoners', 'prisonplanet', 'privacy', 'private', 'privilege', 'pro', 'prob', 'probability', 'probably', 'probe', 'problem', 'problems', 'probs', 'proc', 'procedures', 'proceeds', 'process', 'prod', 'prodding', 'produc', 'produce', 'produced', 'producer', 'produces', 'product', 'producthunt', 'production', 'productive', 'profbriancox', 'professional', 'professionally', 'profile', 'profit', 'profittothepeople', 'program', 'programme', 'programs', 'progress', 'progress4ohio', 'progressive', 'progressives', 'prohibits', 'project', 'projected', 'projectiles', 'projects', 'proliferation', 'prolly', 'prolong', 'prom', 'promise', 'promised', 'promises', 'promo', 'promote', 'promoted', 'promotion', 'prompt', 'prompted', 'prompting', 'prompts', 'proms', 'prone', 'pronouncing', 'proof', 'propaganda', 'propane', 'propelled', 'proper', 'properly', 'property', 'prophecy', 'prophet', 'prophetmuhammad', 'prophets', 'proportions', 'proposal', 'proposed', 'pros', 'prosecute', 'prosecuted', 'prosper', 'prosser', 'prosyn', 'protect', 'protectdenaliwolves', 'protected', 'protecting', 'protection', 'protector', 'protein', 'protest', 'protesters', 'protesting', 'protestors', 'protests', 'proto', 'protoshoggoth', 'proud', 'proudgreenhome', 'prove', 'proven', 'provide', 'provided', 'providence', 'providers', 'province', 'provocation', 'provoke', 'provokes', 'proxies', 'proxy', 'prysmian', 'ps', 'ps1', 'ps2', 'ps3', 'ps4', 'psa', 'psalm', 'psalms', 'psd', 'pseudojuuzo', 'psfda', 'psm', 'psp', 'psqd', 'psychiatric', 'psychic', 'psychological', 'psychologist', 'psychrewatch', 'pt', 'pt1', 'pt4', 'ptbo', 'ptsd', 'ptsd_chat', 'ptsdchat', 'pub', 'public', 'publications', 'publichealth', 'publicityalthough', 'publicizing', 'publish', 'publishing', 'puckflattened', 'puddle', 'puerto', 'puff', 'pug', 'pugprobs', 'pugwash', 'puledo_tech_update', 'pulkovo', 'pull', 'pulled', 'pulling', 'pulls', 'pulse', 'pulwama', 'pummel', 'pump', 'pumped', 'pumper', 'pumpkin', 'pumpkins', 'pun', 'punch', 'puncture', 'pundit', 'pundits', 'punishable', 'punished', 'punishing', 'punishment', 'punjab', 'punk', 'punkblunts', 'puny', 'pup', 'puppet', 'puppies', 'puppy', 'puppyshogun', 'purchase', 'purchased', 'purdies', 'purely', 'purified', 'purple', 'purpleturtlerdg', 'purported', 'purpose', 'purposely', 'purse', 'push', 'pushing', 'pusssy', 'pussy', 'pussyxdestroyer', 'put', 'puth', 'putin', 'putins', 'puts', 'putting', 'pvc', 'pvris', 'pwhvgwax', 'pxnatosil', 'pydisney', 'pyjamas', 'pyramidhead76', 'pyrbliss', 'pyrotechnic', 'python', 'q1', 'q13', 'q2', 'q99', 'qave', 'qendil', 'qew', 'qiang', 'qld', 'qnh', 'qotring', 'qpr1980', 'qty', 'quadrillion', 'quake', 'qualit', 'quality', 'quals', 'quantit', 'quantum', 'quarantine', 'quarantined', 'quarrel', 'quarrels', 'quarter', 'quarters', 'quarterstaff', 'quartz', 'que', 'queen', 'queenmy', 'queens', 'queensland', 'queenswharf', 'queenwendy_', 'queenåê', 'queer', 'quem', 'quest', 'questergirl', 'question', 'questionfatalityflawless', 'questioning', 'questions', 'quests', 'quick', 'quicker', 'quickly', 'quiet', 'quirk', 'quit', 'quite', 'quiz', 'quizzed', 'quora', 'quot', 'quote', 'quoted', 'quoteoftheday', 'quotes', 'quotesttg', 'quran', 'qvc', 'qz', 'qzloremft', 'r1354', 'r21', 'r3do', 'r5live', 'r_lauren83199', 'ra', 'raabchar_28', 'rabaa', 'rabbit', 'rabidmonkeys', 'racco', 'raccoons', 'race', 'racer', 'rachelcaine', 'rachelrofe', 'racial', 'racing', 'racist', 'radar', 'radiation', 'radical', 'radio', 'radioactive', 'radioriffrocks', 'radios', 'radler', 'radneck', 'radychildrens', 'raffi_rc', 'raft', 'rag', 'rage', 'rages', 'raging', 'raheel', 'raheelsharif', 'rahulkanwal', 'raid', 'raiders', 'raidersreporter', 'rail', 'railed', 'railguns', 'railing', 'railroad', 'rails', 'railway', 'railways', 'rain', 'rainbows', 'rained', 'raineishida', 'rainfall', 'rainforestresq', 'rainier', 'raining', 'rains', 'rainstorm', 'rainy', 'raised', 'raishimi33', 'raisinfingers', 'rally', 'ralph', 'ram', 'ramag', 'ramat', 'rammed', 'ramp', 'rampage', 'rams', 'ran', 'rand', 'randallpinkston', 'randerson62', 'random', 'random_tourist', 'randomthought', 'randpaul', 'randy', 'rang', 'range', 'rangerkaitimay', 'raniakhalek', 'rank', 'ranked', 'ranking', 'ranks', 'ransacked', 'ransomware', 'rant', 'rants', 'rap', 'rape', 'raped', 'rapidcity', 'rapidly', 'rapper', 'rappers', 'rapping', 'raptorsbeg', 'rar', 'rare', 'rascal', 'rat', 'rate', 'rated', 'rates', 'rather', 'rating', 'ratingbut', 'ratings', 'ratio', 'rationing', 'raung', 'rave', 'ravioliåêwith', 'raw', 'rawfoodbliss', 'ray', 'raychielovesu', 'raynbowaffair', 'rayner', 'raynor', 'rayquazaerk', 'rays', 'razak', 'razed', 'razedåê', 'razing', 'raì¼l', 'rb', 'rbcinsurance', 'rbi', 'rchs', 'rcmp', 'rd', 'rdconsider', 'rdg', 're', 're_shrimplevy', 'rea', 'reaad', 'reach', 'reached', 'reaches', 'reaching', 'react', 'reacted', 'reactions', 'reactor', 'reactors', 'reacts', 'read', 'reader', 'readiness', 'reading', 'reads', 'ready', 'reafs', 'reagan', 'reagans', 'real', 'real_liam_payne', 'realdonaldtrump', 'realestate', 'realhiphop', 'realhotcullen', 'realise', 'realised', 'realism', 'realistic', 'realities', 'reality', 'realization', 'realizations', 'realize', 'realized', 'realjaxclone', 'really', 'realm', 'realmandyrain', 'realtime', 'reap', 'rear', 'reason', 'reasons', 'reassigned', 'reator', 'rebahes', 'rebecca', 'rebeccaforreal', 'rebelled', 'rebelmage2', 'reblogged', 'reboot', 'rebooting', 'rebound', 'rebuilding', 'rec', 'recal', 'recall', 'recalled', 'recalls', 'recap', 'receipts', 'receive', 'receives', 'receiving', 'recent', 'recently', 'recip', 'recipe', 'recipes', 'reckless', 'reckon', 'recluse', 'recognised', 'recognition', 'recognize', 'recoil', 'recommend', 'recommendations', 'recommended', 'reconnect', 'record', 'recordand', 'recorded', 'recording', 'recount', 'recover', 'recovered', 'recovery', 'recreates', 'recruiting', 'recruitment', 'recycling', 'red', 'redblood', 'redbull', 'redcliffe', 'redcoatjackpot', 'reddakushgodd', 'reddish', 'reddit', 'reddits', 'redeem', 'redeemer', 'redeemeth', 'redemption', 'redesigned', 'redesigning', 'rediscover', 'rediscovered', 'redistribute', 'redlands', 'redo', 'reds', 'redskins', 'redsox', 'reduce', 'reduced', 'reduces', 'redwing', 'reebok', 'reed', 'reef', 'reeves', 'refer', 'reference', 'referencereference', 'referred', 'referring', 'reflect', 'reflected', 'reflections', 'reflects', 'refugee', 'refugees', 'refugeesmatter', 'refugio', 'refund', 'refunds', 'refuse', 'refused', 'refuses', 'reg', 'regard', 'regarding', 'regardless', 'regc', 'regent', 'reggaeboyz', 'regime', 'regimes', 'region', 'regional', 'register', 'registered', 'regr', 'regress', 'regret', 'regular', 'reid', 'reidlake', 'reids', 'reign_coco', 'reimagining', 'reince', 'reined', 'reinstate', 'reiterate', 'reject', 'rejectdcartoons', 'rejected', 'rejects', 'rejoice', 'related', 'relations', 'relationship', 'relatives', 'relax', 'relaxing', 'relaxinpr', 'relay', 'release', 'released', 'releases', 'releasing', 'relegation', 'relentless', 'relevance', 'relief', 'reliefweb', 'religion', 'religious', 'relive', 'remade', 'remain', 'remaining', 'remainontop', 'remains', 'remand', 'remark', 'remarkably', 'remaster', 'rembr', 'remedial', 'remember', 'remembered', 'remembering', 'rememberrabaa', 'remembers', 'remembrance', 'remind', 'reminded', 'reminder', 'reminders', 'reminds', 'remix', 'remixes', 'remodeled', 'remorse', 'remorseless', 'remote', 'removal', 'remove', 'removed', 'removing', 'remymarcel', 'ren', 'renamed', 'render', 'rendered', 'rene', 'renew911health', 'renewed', 'renewsit', 'renison', 'reno', 'renovation', 'rent', 'renunciedilma', 'reopen', 'reopened', 'reopening', 'reopens', 'rep', 'repair', 'repairs', 'repatriated', 'repatriating', 'repay', 'repdonbeyer', 'repeat', 'repjohnkatko', 'replace', 'replaced', 'replacement', 'replacing', 'reply', 'report', 'reported', 'reportedly', 'reporters', 'reporting', 'reportly', 'reports', 'repped', 'representative', 'representing', 'represents', 'repression', 'reprises', 'reprocussions', 'reps', 'republic', 'republican', 'republicans', 'repulsive', 'reputation', 'reqd', 'requa', 'request', 'requests', 'requiem', 'required', 'requiring', 'reriellechan', 'res', 'rescind', 'rescue', 'rescued', 'rescuedagain', 'rescuers', 'rescuersthe', 'rescuing', 'research', 'researchers', 'resemblance', 'reserved', 'reserves', 'reset', 'reshape', 'reshapes', 'reshareworthy', 'residence', 'residential', 'residents', 'residual', 'residualincome', 'resigninshame', 'resilience', 'resin', 'resistant', 'resoluteshield', 'resolutevanity', 'resolved', 'resort', 'resource', 'resources', 'respect', 'respected', 'respecting', 'respects', 'respond', 'responded', 'respondents', 'responder', 'responders', 'responding', 'responds', 'response', 'responsibility', 'responsible', 'resque', 'rest', 'restart', 'restaurant', 'restaurants', 'resting', 'restive', 'restlessness', 'restore', 'restoring', 'restoringpaths', 'restricted', 'restrospect', 'result', 'resulted', 'resulting', 'results', 'resumed', 'retail', 'retainers', 'retard', 'retiredfilth', 'retirees', 'retirement', 'retooled', 'retract', 'retreat', 'retro', 'retroactive', 'return', 'returned', 'returning', 'returns', 'retweet', 'retweeted', 'reunion', 'reunite', 'reusing', 'reuters', 'rev', 'revealed', 'revealing', 'reveals', 'reveillertm', 'revel', 'revelation', 'revenge', 'revenues', 'revere', 'reversal', 'reverse', 'review', 'reviewers', 'reviewing', 'reviews', 'revise', 'revitup', 'reviving', 'revolt', 'revolution', 'reward', 'rewatchingthepilot', 'reworked', 'rexyy', 'rey', 'rezaphotography', 'rfcgeom66', 'rfp', 'rgj', 'rhee1975', 'rhett', 'rhiannon', 'rhinestone', 'rhode', 'rhymes', 'ri', 'ribbon', 'rice', 'riceechrispies', 'rich', 'rich_chandler', 'richard', 'richardson', 'richarkkirkarch', 'richelieu', 'riches', 'richhomeydon', 'richmond', 'ricin', 'rick', 'rickets', 'rickperry', 'rickybonessxm', 'rico', 'ricotta', 'rid', 'ridah', 'riddler', 'ride', 'rider', 'riders', 'ridge', 'ridiculous', 'ridiculously', 'riding', 'rifle', 'rifles', 'rig', 'rigga', 'rigged', 'right', 'righteous', 'rightly', 'rights', 'rightsgenerally', 'rightways', 'rightwaystan', 'rigour', 'rihanna', 'rijn', 'rin', 'rindou', 'ring', 'rinkydnk2', 'rio', 'rio2016', 'riooos', 'rioslade', 'riot', 'rioters', 'rioting', 'riots', 'rip', 'ripped', 'ripping', 'ripple', 'ripples', 'ripriprip', 'rips', 'ririnsider', 'ris', 'rise', 'riser', 'rises', 'rising', 'risk', 'risks', 'risky', 'rite', 'ritual', 'ritualistic', 'ritzy_jewels', 'rivalry', 'rivals', 'riveeer', 'river', 'riverroaming', 'rivers', 'rivieres', 'riyadh', 'rizzo', 'rjg0789', 'rjkrraj', 'rl', 'rly', 'rlyeh', 'rn', 'rnk', 'road', 'roadid', 'roads', 'roadway', 'roadworks', 'roanoke', 'roanoketimes', 'roar', 'rob', 'robbed', 'robbie', 'robbiewilliams', 'robdelaney', 'robert', 'robertbenglunds', 'robertcalifornia', 'robertharding', 'robertmeyer9', 'robertoneill31', 'roberts', 'robertwelch', 'robinson', 'roblox', 'robot', 'robot_rainstorm', 'robotcoingame', 'robots', 'robpulsenews', 'robsimss', 'robthier_en', 'rochdale', 'rock', 'rockbottomradfm', 'rockefeller_chi', 'rockefellerunivheiress', 'rocket', 'rockin', 'rocking', 'rockingham', 'rockn', 'rocks', 'rockstar', 'rocky', 'rockyfire', 'rodarmer21', 'roddypiperautos', 'rodkiai', 'rods', 'roga', 'roger', 'rogers', 'rogue', 'roguewatson', 'roh', 'roh3', 'roh3smantibatam', 'rohingya', 'rohnertparkdps', 'roimentor', 'rokiieee_', 'rolandonabeats', 'role', 'roleplay', 'roles', 'roll', 'roller', 'rolling', 'rollingstones', 'rolls', 'rolo', 'rom', 'roman', 'romanatwoodvlogs', 'romance', 'romania', 'romantic', 'romanticsuspense', 'rome', 'romeo', 'romeocrow', 'romero', 'romes', 'romford', 'romp', 'ron', 'ronald', 'ronaldo', 'ronda', 'rondarousey', 'ronge', 'ronin_carbon', 'ronnie', 'ronwyden', 'roof', 'roofers', 'roofing', 'rooftops', 'room', 'roomr', 'rooms', 'roosevelt', 'root', 'ropes', 'rorington95', 'rory', 'rosalie', 'rose', 'rosemarytravale', 'rosenbergs', 'rosenthal', 'roses', 'roskomnadzor', 'ross', 'rossbarton', 'rossmartin7', 'rossum', 'roster', 'rosters', 'rotary', 'rotating', 'rotation', 'rotations', 'rotator', 'rotten', 'rottentomatoes', 'rotting', 'roughdeal1', 'round', 'round2', 'roundhouse', 'rousey', 'route', 'routecomplex', 'router', 'routes', 'routine', 'routing', 'rover', 'roving', 'row', 'rowyso', 'rowysolouisville', 'roy', 'royal', 'royalcarribean', 'royals', 'rp', 'rpn', 'rq', 'rrbc', 'rrusa', 'rs', 'rs4000cr', 'rs5', 'rsa', 'rsf', 'rskarim1', 'rslm72254', 'rspca', 'rss', 'rsx', 'rt', 'rt_4_a_mention', 'rt_america', 'rt_com', 'rtrrt', 'rtrrtcoach', 'rts', 'ru', 'rub', 'rubber', 'rubbery', 'rubbin', 'rubbing', 'rubble', 'rubi_', 'ruby', 'rubybot', 'rudd', 'ruddyyy', 'rude', 'ruebs', 'ruhl', 'ruin', 'ruined', 'ruining', 'ruins', 'rule', 'ruled', 'ruler', 'rules', 'ruling', 'rum', 'rumah', 'rumbling', 'rumor', 'run', 'runabout', 'runaway', 'runjewels', 'runkeeper', 'runner', 'runner_joy', 'runners', 'runnin', 'running', 'runs', 'runway', 'ruor', 'rupaul', 'rural', 'rush', 'rushlimbaugh', 'russaky', 'russell', 'russellville', 'russia', 'russian', 'ruthann', 'rutherford', 'rv', 'rvacchianonydn', 'rvfriedmann', 'rwa', 'rwrabbit', 'rwy', 'ryan', 'ryanoss123', 'ryans', 'ryleedowns02', 'ryrotheunaware', 'ryt', 'rzimmermanjr', 'rì', 's01e09', 's2g', 's3xleak', 's5', 's61231a', 's_casualty', 'sa', 'sa15t', 'saadthe', 'saalon', 'saat', 'sabcnewsroom', 'sabotage', 'sabrina', 'sac', 'sackings', 'sackville', 'sacramento', 'sacrifice', 'sad', 'saddle', 'saddlebrooke', 'saddledome', 'sadly', 'safari', 'safaris', 'safe', 'safeco', 'safely', 'safer', 'saferåê', 'safes', 'safety', 'safferoonicle', 'safsufa', 'safyuan', 'sagacioussaber', 'sahel', 'sahib', 'said', 'sail', 'sailing', 'sailors', 'saint', 'saintrobinho86', 'saintsfc', 'saipan', 'saison', 'sake', 'sakhalintribune', 'saku', 'saku_uchiha_', 'saladinahmed', 'salado', 'sale', 'salem', 'sales', 'salisbury', 'sally', 'salman', 'salmanmydarling', 'salmon', 'salon', 'salopek', 'salt', 'salted', 'saltriverwildhorses', 'salty', 'salute', 'salvador', 'salvadoran', 'salvadors', 'salvages', 'salvation', 'salvis', 'salyers', 'sam', 'sama', 'samajp32', 'samanthaturne19', 'samaritans', 'same', 'samel_samel', 'sami', 'samihonkonen', 'sammy', 'sammysosita', 'sample', 'samples', 'sampling', 'samsmithworld', 'samsung', 'san', 'sanchez', 'sanction', 'sanctioned', 'sanctions', 'sand', 'sandbox', 'sanders', 'sandiego', 'sandra', 'sandstorm', 'sandunes', 'sandwich', 'sandy', 'sanelesstheory', 'sanford', 'sanfrancisco', 'sang', 'sanitised', 'sanitizing', 'sanity', 'sanjaynirupam', 'sanonofre', 'sansa', 'santa', 'santaclara', 'santanico', 'santiago', 'santos', 'sapphirescallop', 'sara', 'sarah', 'sarahksilverman', 'sarahmcpants', 'sarcasm', 'sarcastic', 'sarniamakchris', 'sarumi', 'sasha', 'sask', 'sassy', 'sat', 'satan', 'satanaofhell', 'satans', 'satchel', 'satellite', 'satellites', 'satin', 'satire', 'satisfying', 'satoshis', 'saturated', 'saturation', 'saturday', 'saturn', 'saudi', 'saudiarabia', 'saudies', 'saudiåêmosque', 'sauldale305', 'saumur', 'saunders', 'savagenation', 'savages', 'savannahross_4', 'save', 'savebees', 'saved', 'savedenaliwolves', 'saver', 'saves', 'saveti', 'saving', 'savings', 'savior', 'savour', 'savs', 'saw', 'say', 'sayed_ridha', 'sayin', 'saying', 'sayn_ae', 'says', 'sb', 'sb57', 'sbee', 'sbnation', 'scabs', 'scale', 'scaligero', 'scalpium', 'scam', 'scandal', 'scandals', 'scare', 'scared', 'scares', 'scarier', 'scariest', 'scarlet', 'scars', 'scary', 'scaryeven', 'scattered', 'scegnews', 'scenario', 'scene', 'scenes', 'schedule', 'scheer', 'schelbertgeorg', 'scheme', 'schiphol', 'schism', 'schoenfeld', 'scholars', 'school', 'schoolboy', 'schools', 'schulz', 'schwarber', 'scichat', 'science', 'sciencefiction', 'scientist', 'scientists', 'scifi', 'scissor', 'scmp_news', 'scofield', 'scoopit', 'scorched', 'score', 'scored', 'scorpions', 'scotiabank', 'scotland', 'scotrail', 'scott', 'scottdpierce', 'scotto519', 'scottwalker', 'scourge', 'scourgue', 'scout', 'scouts', 'scraped', 'scraptrident', 'scratches', 'scratching', 'scream', 'screamed', 'screaming', 'screamqueens', 'screams', 'screeching', 'screen', 'screening', 'screenshot', 'screenshots', 'screw', 'screwed', 'scriptettesar', 'scrolling', 'scseestapreparando', 'sct', 'scuf', 'scum', 'scvsupremecourt', 'scwx', 'scynic1', 'sd', 'se', 'sea', 'seagull07', 'seagulls', 'seal', 'seamstress', 'sean', 'seanhannity', 'seanpeconi', 'search', 'searching', 'seas', 'seashore', 'season', 'seasonfrom', 'seasons', 'seat', 'seatbelt', 'seats', 'seattle', 'seattledot', 'seattles', 'seattletimes', 'seawalls', 'seaworld', 'sebee', 'sec', 'seclusion', 'second', 'secondhand', 'seconds', 'secret', 'secrets', 'sectarian', 'section', 'sections', 'sectors', 'secured', 'secures', 'securing', 'security', 'sedan', 'sedar', 'seduction', 'see', 'seed', 'seeds', 'seeing', 'seek', 'seeker', 'seekers', 'seeking', 'seeks', 'seem', 'seemed', 'seemeth', 'seemly', 'seems', 'seen', 'sees', 'seeweed', 'seeyouatamicos', 'sef', 'segas', 'segment', 'seismic', 'seismicsoftware', 'seize', 'seizing', 'sejorg', 'sel', 'select', 'selection', 'selects', 'self', 'selfavowed', 'selfie', 'selfies', 'sell', 'selling', 'selmo', 'selmooo', 'semasirtalks', 'semi', 'seminars', 'sen', 'senate', 'senatemajldr', 'senator', 'senators', 'send', 'sending', 'sends', 'senfeinstein', 'senior', 'sens', 'sensanders', 'senschumer', 'sense', 'sensei', 'sensitive', 'senso', 'sensor', 'sensory', 'sent', 'sentenced', 'sentient', 'sentinel', 'senzu', 'sep', 'separate', 'separated', 'separation', 'sept', 'september', 'septic', 'sequalae', 'sequel', 'sequence', 'ser', 'seras', 'serbian', 'serene', 'serephina', 'sergiopiaggio', 'serial', 'series', 'serious', 'seriously', 'servants', 'serve', 'served', 'server', 'servers', 'service', 'services', 'servicin', 'serving', 'session', 'sessions', 'set', 'setanta', 'sethalphaeus', 'setlist', 'sets', 'setsuko', 'setting', 'setting4success', 'settle', 'settlement', 'setzorah', 'seven', 'sevenfigz', 'sevenfold', 'seventies', 'several', 'severe', 'severely', 'severing', 'sewage', 'seward', 'sewer', 'sewing', 'sex', 'sexist', 'sexual', 'sexuality', 'sexy', 'sexycumshots', 'sexydragonmagic', 'sf', 'sfa', 'sfgate', 'sfgiants', 'sfor', 'sg', 'sgc72', 'sh', 'sha', 'shaabi', 'shad', 'shade', 'shadow', 'shadowed', 'shadowflame', 'shadowman', 'shadows', 'shaheed', 'shake', 'shaken', 'shakeology', 'shaker', 'shakes', 'shakespeares', 'shaking', 'shakingcatching', 'shakjn', 'shall', 'sham', 'shame', 'shanaynay', 'shanghai', 'shania', 'shaniatwain', 'shantae', 'shantaeforsmash', 'shantaehalfgeniehero', 'shantaeskyy', 'shaolin', 'shape', 'shapeand', 'shaped', 'shaper', 'shaping', 'shar', 'share', 'shareaholic', 'shared', 'shares', 'sharethis', 'sharia', 'sharif', 'sharing', 'shark', 'sharp', 'sharper', 'sharply', 'shatter', 'shattered', 'shaw', 'shawie', 'shay', 'shayoly', 'she', 'shear', 'shed', 'shedding', 'shedid', 'sheer', 'sheeran', 'sheet', 'sheeting', 'shekhargupta', 'shelby', 'shell', 'shelli', 'shells', 'shelter', 'shemesh', 'shen', 'shepherd', 'sherfield', 'sheriff', 'sheriffs', 'shes', 'shestooyoung', 'shevlin', 'shia', 'shias', 'shiddd', 'shield', 'shift', 'shifted', 'shifter', 'shifts', 'shii', 'shimmyfab', 'shines', 'ship', 'shipping', 'ships', 'shipsxanchors', 'shipwreck', 'shira', 'shirley', 'shirt', 'shirts', 'shit', 'shite', 'shitton', 'shitty', 'shiver', 'shizune', 'shoalstraffic', 'shock', 'shocked', 'shocking', 'shoe', 'shoes', 'sholt87', 'shook', 'shoook', 'shoot', 'shootas', 'shooter', 'shooting', 'shootings', 'shootoutåê', 'shop', 'shoppe', 'shopping', 'shops', 'shore', 'short', 'shortfalls', 'shorts', 'shot', 'shotgun', 'shots', 'should', 'shoulder', 'shoulders', 'shouldnt', 'shouldve', 'shouout', 'shout', 'shouted', 'shouting', 'shoutout', 'shove', 'shovel', 'show', 'showcase', 'showdown', 'showed', 'shower', 'showers', 'showing', 'shows', 'showwent', 'shrews', 'shrewsbury', 'sht', 'shtap', 'shtf', 'shud', 'shuffle', 'shuffled', 'shunichiro', 'shut', 'shutdown', 'shuts', 'si', 'sibling', 'sicily', 'sick', 'side', 'sided', 'sidelines', 'sidelinesavage', 'sides', 'sidewalk', 'siding', 'sidjsjdjekdjskdjd', 'siena', 'sif', 'sifting', 'sigalert', 'sigh', 'sight', 'sigmund', 'sign', 'signal', 'signatureschange', 'signed', 'significance', 'significant', 'signing', 'signs', 'sigue', 'sikh', 'silas', 'silence', 'silenced', 'silent', 'silent0siris', 'silentmind', 'silinski', 'silly', 'silo', 'silver', 'silverhusky', 'silverman', 'silverstar58200', 'silverwood', 'silvery', 'similar', 'simmering', 'simmons', 'simon', 'simple', 'simplify', 'simply', 'simply_vain', 'simpson', 'simulate', 'simulating', 'simulation', 'simultaneous', 'sin', 'since', 'sincere', 'sincerely', 'sincerelyevelnn', 'sindh', 'sing', 'singing', 'single', 'singled', 'singles', 'sinistras', 'sinjar', 'sink', 'sinkhole', 'sinking', 'sinkingshipindy', 'sins', 'sioux', 'siouxlan', 'siouxland', 'sip', 'sippin', 'sir', 'sirbrandonknt', 'siren', 'siren_song21', 'siren_voice', 'sirens', 'sirensicebreaker', 'sirius', 'sirmione', 'sirmixalot', 'sirtitan45', 'sirtophamhat', 'sis', 'siskiyou', 'sismo', 'sister', 'sisters', 'sit', 'site', 'siteinvestigating', 'sites', 'sitting', 'sittway', 'sittwe', 'situ', 'situation', 'sivan', 'six', 'sixpenceee', 'sixth', 'size', 'sized', 'sizewell', 'sizygwwf', 'sj', 'sjubb', 'sk398', 'skaggs', 'skanndtyagi', 'skardu', 'skarletan', 'skateboards', 'skc', 'skeleton', 'sketch', 'sketchbook', 'skh', 'ski', 'skies', 'skiing', 'skill', 'skills', 'skimmed', 'skims', 'skin', 'skinless', 'skinny', 'skip', 'skipping', 'skippy6gaming', 'skirt', 'skull', 'sky', 'skye', 'skylanders', 'skyler', 'skyline', 'skynet', 'skynews', 'skype', 'skyrim', 'skys', 'skyscrapers', 'skywarn', 'skywars', 'skyåênews', 'sl', 'slabs', 'slain', 'slam', 'slammed', 'slamming', 'slams', 'slander', 'slanglucci', 'slapping', 'slash', 'slate', 'slated', 'slating', 'slatukip', 'slaughter', 'slave', 'slavery', 'slaves', 'slay', 'slayer', 'sleep', 'sleeper', 'sleeping', 'sleepjunkies', 'slept', 'slew', 'sliced', 'slicker', 'slide', 'slides', 'slideshare', 'sliding', 'slight', 'slightest', 'slightly', 'slikrickdarula', 'slimebeast', 'slingnews', 'slip', 'slipped', 'slipper', 'slipping', 'slips', 'slit', 'slithering', 'slogan', 'slone', 'slopeofhope', 'slosher', 'slosheriff', 'slow', 'slower', 'slowly', 'slowpoke', 'slows', 'slsandpet', 'slsp', 'slumber', 'slums', 'sm', 'smack', 'small', 'smallbiz', 'smallbusiness', 'smaller', 'smallforestelf', 'smantibatam', 'smart', 'smartnews', 'smartteks', 'smash', 'smashing', 'smaug', 'smb', 'smeared', 'smell', 'smelled', 'smelling', 'smells', 'smem', 'smfh', 'smh', 'smile', 'smiles', 'smiling', 'smirking', 'smithereens', 'smithsonian', 'smoak_queen', 'smoke', 'smokers', 'smokes', 'smokey', 'smoking', 'smoky', 'smoochy', 'smooth', 'smoothed', 'smores', 'smp', 'sms', 'smth', 'smug', 'smugglers', 'smugglersåênabbed', 'smusx16475', 'sn', 'snack', 'snacks', 'snake', 'snakes', 'snap', 'snapchat', 'snapchatselfie', 'snapharmony', 'snapping', 'snazzychipz', 'snd', 'sneak', 'sneaks', 'sneezing', 'sni', 'sniff', 'sniiiff', 'snipe', 'sniping', 'snippets', 'snooker', 'snoop', 'snort', 'snotgreen', 'snow', 'snowball', 'snowden', 'snowflake', 'snowstorm', 'snowstormdespite', 'snowy', 'snowywolf5', 'snuck', 'snuff', 'so', 'soak', 'soaked', 'soaker', 'soaking', 'soap', 'soapscoop', 'soaring', 'sobbing', 'soc', 'socal', 'soccer', 'social', 'socialism', 'socialists', 'socially', 'socialmedia', 'socialnews', 'socialtimes', 'socialwots', 'society', 'sock', 'socket', 'sockets', 'sodamntrue', 'sods', 'sofa', 'soft', 'softball', 'softenza', 'software', 'soggy', 'soil', 'solano', 'solar', 'sold', 'soldi', 'soldier', 'soldiers', 'sole', 'solelinks', 'solicitor', 'solid', 'solitude', 'solo', 'soloquiero', 'solution', 'solve', 'solved', 'solving', 'somalia', 'some', 'somebody', 'someday', 'somehow', 'someone', 'someones', 'somethin', 'something', 'sometimes', 'sometimesi', 'somewhere', 'somme', 'son', 'sona', 'sond', 'soner', 'song', 'songfor', 'songhey89', 'songs', 'soni', 'sonia', 'sonisoner', 'sonofbaldwin', 'sonofbobbob', 'sonofliberty357', 'sonoranrattler', 'sons', 'sony', 'sonyprousa', 'soo', 'soon', 'soonergrunt', 'soonermagic_', 'soonersportstv', 'sooo', 'soothmyslumber', 'sopameer', 'sophie', 'sophieingle01', 'sophiewisey', 'sophistication', 'sore', 'sorely', 'sorrow', 'sorrower', 'sorrowful', 'sorrows', 'sorry', 'sorrybutitstrue', 'sort', 'sos', 'sothwest', 'souda', 'soudelor', 'soudelors', 'sought', 'soul', 'soulja', 'souls', 'soultech', 'sound', 'soundcloud', 'sounders', 'sounding', 'sounds', 'soundtrack', 'soup', 'sour', 'source', 'sources', 'sourmashnumber7', 'sousse', 'south', 'southaccident', 'southampton', 'southbound', 'southdown', 'southdowns', 'southeast', 'southern', 'southkorea', 'southline', 'southridgelife', 'southwest', 'soviet', 'sow', 'soz', 'sp', 'spa', 'space', 'space_wolverine', 'spaceangelseven', 'spaceship', 'spaceshiptwo', 'spacex', 'spain', 'spam', 'spammers', 'span', 'spaniel', 'spaniels', 'spanish', 'spark', 'sparked', 'sparking', 'sparks', 'sparkz', 'spartans', 'sparxxx', 'speak', 'speaker', 'speaking', 'speakingfromexperience', 'spears', 'speccy', 'special', 'specialguest', 'specialist', 'specialists', 'specialize', 'specialized', 'specially', 'specialneeds', 'specials', 'species', 'specif', 'specific', 'specifically', 'specimens', 'specs', 'spectacular', 'spectrum', 'speculatio', 'speculation', 'speech', 'speed', 'speeding', 'speedtech', 'spell', 'spells', 'spen', 'spencer_fearon', 'spencers', 'spend', 'spending', 'spends', 'spent', 'spice', 'spicybreads', 'spider', 'spiderweb', 'spies', 'spike', 'spill', 'spilled', 'spilt', 'spin', 'spinnellii', 'spinning', 'spinningbot', 'spins', 'spirit', 'spirits', 'spit', 'spits', 'splash', 'splatdown', 'splatling', 'splatoon', 'splattershot', 'splifs', 'split', 'splottdave', 'spoil', 'spoiled', 'spokane', 'spoke', 'spokes', 'sponge', 'spongea', 'sponsor', 'sponsorships', 'spontaneously', 'spookyfob', 'sport', 'sport_en', 'sportinggoods', 'sports', 'sportsroadhouse', 'sportwatch', 'spos', 'spot', 'spotlight', 'spots', 'spotting', 'spouse', 'spouting', 'sprains', 'spray', 'spread', 'spreading', 'spreads', 'spree', 'spring', 'springer', 'springs', 'sprinklers', 'sprinter', 'sprite', 'spsgsp', 'spså', 'spur', 'spurgeon', 'spurs', 'sputnik', 'sputnikint', 'sputtering', 'spx', 'spying', 'spyro', 'sq', 'squabble', 'squad', 'square', 'squeaky', 'squeaver', 'squeeze', 'squeezed', 'squibby_', 'squirrel', 'sqwizzix', 'sr', 'sr14', 'sr22', 'sr37', 'sriramk', 'srk', 'srs', 'srsly', 'ssb', 'ssp', 'ssshhheeesshh', 'sssnell', 'ssu', 'ssw', 'st', 'stab', 'stabbing', 'stable', 'stacdemon', 'stacedemon', 'stacey', 'stack', 'stacks', 'stacy', 'stadium', 'staff', 'staffing', 'stage', 'staged', 'stages', 'staid', 'staining', 'stalag', 'stalins', 'stalled', 'stallion150', 'stamp', 'stan', 'stand', 'standard', 'standardised', 'standardized', 'standards', 'standforwolves', 'standing', 'stands', 'standstill', 'standup', 'standwithpp', 'stankyboy88', 'stans', 'star', 'starbs', 'starbuck_scully', 'starbucks', 'stardate', 'stare', 'starflame_girl', 'stark', 'starks', 'starmade', 'starr', 'starring', 'stars', 'start', 'started', 'startelegram', 'starter', 'startide', 'starting', 'startrek', 'starts', 'startup', 'startups', 'starve', 'starving', 'stat', 'state', 'statement', 'statements', 'states', 'statesville', 'station', 'stationcdrkelly', 'stations', 'statistically', 'stats', 'status', 'stavernise', 'stavola', 'stay', 'stayed', 'staying', 'stays', 'stds', 'steady', 'steak', 'steal', 'stealing', 'steals', 'stealth', 'steam', 'steamship', 'stearns', 'steel', 'steel_lord', 'steep', 'stefanejones', 'stefano', 'stem', 'stemming', 'step', 'steph93065', 'stephanenny', 'stephaniemarija', 'stephen', 'stephen_georg', 'stephenking', 'stephenscifi', 'stephenson', 'stepkans', 'stepped', 'steps', 'stereo', 'sterling', 'sterlingknight', 'stern', 'sterotypical', 'steve', 'steven', 'stevenontwatter', 'stevenrulles', 'steveycheese99', 'stevie', 'stew', 'stewart', 'stfxuniversity', 'sthing', 'stick', 'sticker', 'sticking', 'sticks', 'sticky', 'stickynyc', 'stil', 'still', 'stillness', 'stir', 'stirring', 'stl', 'stlnd', 'stlouis', 'sto', 'stock', 'stockholm', 'stocks', 'stockton', 'stockwell', 'stokes', 'stole', 'stolen', 'stomach', 'stone', 'stonebrewingco', 'stones', 'stonewall', 'stony', 'stood', 'stool', 'stop', 'stopevictions', 'stopharper', 'stoponesounds', 'stopped', 'stopping', 'stops', 'store', 'storen', 'stores', 'storey', 'stories', 'storm', 'stormbeard', 'stormchase', 'stormcoming', 'storming', 'stormlike', 'storms', 'stormtrooper', 'stormy', 'story', 'stout', 'stowing', 'straight', 'straighten', 'straightfire', 'strain', 'strains', 'straits', 'strand', 'stranded', 'strange', 'strangers', 'strap', 'strategicpatience', 'strategies', 'strategy', 'strategyhua', 'stratford', 'strawberries', 'strawberrysoryu', 'stray', 'streak', 'stream', 'streaming', 'streams', 'streamyx', 'stree', 'street', 'streetjamzdotnet', 'streetlight', 'streets', 'strength', 'strengthening', 'stress', 'stressed', 'stresses', 'stressful', 'stressing', 'stretched', 'stretcher', 'stretches', 'strickskin', 'strict', 'strictly', 'strike', 'striked', 'striker', 'strikers', 'strikes', 'strikesstrikes', 'striking', 'strip', 'stripe', 'stripped', 'strips', 'striptease', 'strives', 'stroke', 'strong', 'stronger', 'strongest', 'strongly', 'struck', 'structural', 'structure', 'structures', 'structuring', 'struggle', 'struggles', 'struggling', 'strutted', 'strutting', 'sts', 'stu', 'stuart', 'stuartbroad8', 'stuck', 'stuckinbooks', 'studded', 'studebaker', 'student', 'students', 'studies', 'studio', 'study', 'studying', 'stuff', 'stuffin', 'stump', 'stunckle', 'stung', 'stunned', 'stunningly', 'stuns', 'stupid', 'stupid_niggr', 'sturgis', 'stury', 'stvmlly', 'style', 'styled', 'stylish', 'stylishly', 'stylist', 'su', 'sub', 'subatomic', 'subcommittee', 'subconscious', 'subcontractor', 'subject', 'subjected', 'submerged', 'submissions', 'submitt', 'submitting', 'subreddits', 'subs', 'subscription', 'subsd', 'subsequent', 'substance', 'substantial', 'subtle', 'subtlety', 'subway', 'succeed', 'success', 'such', 'suck', 'sucked', 'suckers', 'sucking', 'sucks', 'sudan', 'sudden', 'suddenly', 'sue', 'sued', 'suelinflower', 'suffer', 'suffered', 'suffering', 'suffers', 'suffice', 'sufficiently', 'suffield', 'sugar', 'suggs', 'suh', 'suho', 'suicide', 'suicides', 'suing', 'suit', 'suitable', 'suited', 'suites', 'sul', 'sultry', 'summary', 'summer', 'summer2k15', 'summerfate', 'summerhallery', 'summerinsweden', 'summers', 'summerslam', 'summertime', 'summervibes', 'summit', 'summon', 'summons', 'sumn', 'sumo', 'sun', 'sunbathe', 'sunburned', 'sunburst', 'suncorp', 'sunday', 'sundaydont', 'sundays', 'sundercr', 'sundowns', 'sunflower', 'sunk', 'sunnis', 'sunny', 'sunnymeade', 'sunrays', 'suns', 'sunset', 'sunsets', 'sunshine', 'suny_orange', 'super', 'superb', 'superbug', 'superficial', 'superfood', 'superhero', 'superintende', 'superintendent', 'superiority', 'superman', 'supermarket', 'supernatural', 'supernovalester', 'superpower', 'superstition', 'superstitions', 'superv', 'supervisor', 'supply', 'support', 'supporters', 'supporting', 'supportive', 'supports', 'suppose', 'supposed', 'supposedly', 'supremacist', 'supreme', 'supremo', 'surah', 'sure', 'surely', 'suresh', 'sureshpprabhu', 'sureshprabhu', 'surety', 'surf', 'surf_photo', 'surface', 'surfers', 'surge', 'surgery', 'surges', 'surgical', 'surprise', 'surprised', 'surprises', 'surrender', 'surrounded', 'surrounding', 'suruc', 'suruì', 'survey', 'surveys', 'survival', 'survive', 'survived', 'surviving', 'survivor', 'survivors', 'survivorsr', 'suryaray', 'susanj357', 'sushi', 'susinesses', 'susiya', 'suspect', 'suspected', 'suspects', 'suspend', 'suspended', 'suspending', 'suspense', 'suspicious', 'sustainability', 'sustainable', 'sustainourearth', 'sutherland', 'suv', 'suvs', 'sux', 'svetlana', 'sw', 'sw_trains', 'swag', 'swallowed', 'swallows', 'swam', 'swami', 'swanger', 'swansea', 'swarm', 'swayback', 'swayoung01', 'swb1192', 'swea', 'swear', 'sweat', 'sweated', 'sweater', 'sweatfyi', 'sweaty', 'sweden', 'swedish', 'sweep', 'sweeping', 'sweeps', 'sweet', 'sweet2young', 'sweetiebirks', 'sweetpeas', 'sweets', 'swell', 'swells', 'swellyjetevo', 'swept', 'swiftly', 'swiftycommissh', 'swim', 'swiming', 'swimming', 'swing', 'swingman', 'swiss', 'switch', 'switching', 'switzerland', 'swivels', 'swollen', 'swooping', 'swords', 'sworn', 'sws', 'syd', 'sydney', 'sydtraffic', 'syjexo', 'symantec', 'symbol', 'sympathy', 'symphony', 'symptoms', 'synapsenkotze', 'syndrome', 'syria', 'syrian', 'syringetoanger', 'sys', 'system', 'systematic', 'systems', 'szmnextdoor', 'szuter', 't1000s', 't_t', 'taaylordarr', 'tab', 'table', 'tablet', 'tac', 'tacit', 'tackettdc', 'taco', 'tacoma', 'tacos', 'tactful', 'tactical', 'tactics', 'tadhgtgmtel', 'tae', 'tafs', 'tag', 'tagged', 'tagging', 'tahini', 'tahoe', 'tail', 'tailor', 'taint', 'taipei', 'taiwan', 'tak', 'take', 'takeaways', 'takecare', 'taken', 'takeoff', 'takes', 'takin', 'taking', 'takis', 'tale', 'talent', 'tales', 'taliban', 'talibans', 'talisman', 'talk', 'talkecology', 'talked', 'talkin', 'talking', 'talkinghell', 'talkradio', 'talks', 'tallest', 'tambo', 'tambourine', 'tammy_w1997', 'tampa', 'tampabay', 'tampons', 'tan', 'tanehisicoates', 'tangled', 'tangletalk', 'tank', 'tanks', 'tanslash', 'tanstaafl23', 'tantonationalforest', 'tantrums', 'tanzania', 'taoistinsight', 'tapas', 'tape', 'taraswart', 'tareksocal', 'targe', 'target', 'targeted', 'targeting', 'targets', 'tarleton_sophie', 'tarmineta', 'tarp', 'tarynel', 'tarzana', 'task', 'tasks', 'tasmanias', 'taste', 'tasted', 'tastemycupcakee', 'tastes', 'tat', 'tattoo', 'tattooed', 'tattoos', 'taufikcj', 'taught', 'taungbazar', 'tawfmcaw', 'tax', 'taxes', 'taxi', 'taxis', 'taxiways', 'taxpayers', 'taxreturn', 'taxstone', 'tayiorrmade', 'taykreidler', 'taylor', 'taylors', 'taylorswift13', 'tb', 'tbh', 'tblack', 'tbr', 'tbs', 'tbt', 'tc', 'tcc', 'tcgreno', 'tch', 'tconnellyr', 'tcot', 'tcotåê', 'tdm', 'tdp', 'te', 'tea', 'teacher', 'teachers', 'teaching', 'teafrystlik', 'teahivetweets', 'team', 'teamatowinner', 'teamfollowback', 'teamhendrick', 'teamhennessy', 'teammates', 'teamo', 'teampalestina', 'teams', 'teamscorpion', 'teamstream', 'teamsurvivors', 'teamvodg', 'tear', 'tears', 'teases', 'tech', 'techesback', 'technews', 'technica', 'technical', 'techniqu', 'technique', 'technologies', 'technology', 'tecno', 'ted', 'tedcruz2016', 'teddy', 'teduka', 'tee', 'teeess', 'teemo', 'teen', 'teena_797', 'teenagers', 'teenfiction', 'teens', 'teeth', 'telangana', 'telegraph', 'telegraphworld', 'telekinesis', 'telemarketing', 'teleported', 'television', 'tell', 'telling', 'tells', 'telltales', 'telly', 'tellyfckngo', 'telnet', 'tem', 'temecafreeman', 'temecula', 'temp', 'temper', 'temperature', 'tempered', 'templates', 'temple', 'temporarily', 'temporary', 'temps', 'temptation', 'ten', 'tend', 'tends', 'tenn', 'tennessean', 'tennessee', 'tennews', 'tennis', 'tenno', 'tennoatax', 'tens', 'tenshi', 'tension', 'tent', 'tents', 'tepat', 'tepco', 'ter_ell', 'term', 'terminated', 'termn8r13', 'terms', 'terrain', 'terrible', 'terrific', 'terrified', 'terrifying', 'territory', 'terror', 'terrorism', 'terrorist', 'terrorists', 'tersestuff', 'terwilliger', 'tesco', 'teslas', 'test', 'testa', 'tested', 'testicles', 'testified', 'testify', 'testimonials', 'testimony', 'testing', 'tests', 'testy', 'texans', 'texansdc', 'texas', 'texaschainsawmassacre', 'text', 'texting', 'texts', 'texture', 'tf', 'tfb', 'tfl', 'tflbusalerts', 'tfw', 'tg', 'tgirl', 'th', 'tha', 'thai', 'thailand', 'thalapathi', 'than', 'thank', 'thankful', 'thankfully', 'thanking', 'thankkk', 'thanks', 'thanku', 'thankyou', 'that', 'that_fat_guy', 'thatd', 'thatdes', 'thatnot', 'thatpersianguy', 'thatrussianman', 'thats', 'thatsabinegirl', 'thatswhatfriendsarefor', 'thatwitchem', 'thda', 'the', 'the_af', 'theadvocatemag', 'theashes', 'theater', 'theatershooting', 'theatlantic', 'theatre', 'theatres', 'thebachelorette', 'thebargain', 'theblackshag', 'theblaze', 'thebookclub', 'theboyofmasks', 'thebriankrause', 'thebuffshow', 'theburnageblue', 'thecomedyquote', 'theconspiracytheory', 'thedailybeast', 'thedailyshow', 'thedarktower', 'thedayct', 'thedoolinggroup', 'thee', 'theeconomist', 'theellenshow', 'theemobrago', 'theevilolives', 'theft', 'thegame', 'theghostparty', 'thegreenparty', 'thehammers_', 'thehighfessions', 'thehobbit', 'their', 'theirs', 'thejenmorillo', 'thejonesesvoice', 'theleadernews', 'thelegendblue', 'thelonevirologi', 'them', 'themagickidraps', 'themaine', 'themale_madonna', 'theme', 'themed', 'themermacorn', 'themhe', 'themselves', 'themthen', 'then', 'theneeds', 'thenewshype', 'thenissonian', 'theological', 'theory', 'thepartyofmeanness', 'theramin', 'therapies', 'therapy', 'there', 'thereal', 'therealrittz', 'therefore', 'therein', 'thereisonlysex', 'thereof', 'theres', 'theresmorewherethatcamefrom', 'these', 'thesensualeye', 'thesewphist', 'thesmallclark', 'thesteveharveyshow', 'thestrain', 'thetawniest', 'thetimepast', 'thetshirtkid', 'thetwisterokc', 'thetxi', 'thewebbeffect19', 'thewesterngaz', 'thexfiles201days', 'they', 'theyd', 'theyll', 'theyre', 'theyve', 'thh', 'thi', 'thick', 'thief', 'thigh', 'thighs', 'thin', 'thing', 'things', 'thingsihate', 'think', 'thinking', 'thinkpink', 'thinks', 'thinner', 'third', 'thirst', 'thirsty', 'thirty', 'this', 'thisdayinhistory', 'thisisfaz', 'thisishavehope', 'thisisperidot', 'thisispublichealth', 'thisiswhywecanthavenicethings', 'thisizbwright', 'thnk', 'tho', 'thomas', 'thomashcrown', 'thomassmonson', 'thomasvissman22', 'thorgan', 'thorins', 'thorium', 'thoroughly', 'those', 'thou', 'though', 'thought', 'thoughts', 'thoughwill', 'thousand', 'thousands', 'thoutaylorbrown', 'thr', 'thranduil', 'thrarchives', 'thread', 'threat', 'threatconnect', 'threaten', 'threatening', 'threatens', 'threatintel', 'threats', 'three', 'threesome', 'threw', 'thriller', 'thriving', 'throat', 'thrones', 'through', 'throughout', 'throw', 'throwback', 'throwin', 'throwing', 'throwingknifes', 'thrown', 'thru', 'thrusts', 'thruuu', 'tht', 'thu', 'thucydiplease', 'thuggin', 'thugging', 'thunder', 'thundering', 'thundersnow', 'thunderstorm', 'thunderstorms', 'thurlow', 'thurs', 'thursd', 'thursday', 'thursdays', 'thus', 'thx', 'thy', 'thyroid', 'tianta', 'tiara_marei', 'tic', 'ticket', 'ticketed', 'tickets', 'ticklemeshawn', 'tidal', 'tidalhifi', 'tide', 'tides', 'tie', 'tied', 'tier', 'tiffanyfrizzell', 'tigers', 'tigersjostun', 'tiggr_', 'tight', 'tightly', 'til', 'til_now', 'till', 'tim_a_roberts', 'tim_micallef', 'timber', 'time', 'time4me_sews', 'timebomb', 'timed', 'timeline', 'times', 'timesofindia', 'timestack', 'timeworld', 'timey', 'timing', 'timkaine', 'tin', 'tinder', 'tinderbox', 'tindering', 'ting', 'tinted', 'tiny', 'tinybaby', 'tinyjecht', 'tip', 'tips', 'tipster', 'tire', 'tired', 'tirelessly', 'tita', 'titan', 'titania', 'titanic', 'tithenai', 'title', 'titolo', 'titortau', 'tittie', 'titty', 'tix', 'tj', 'tj_robertson2', 'tkyonly', 'tlc', 'tlk', 'tloz', 'tlvfaces', 'tmp', 'tms7', 'tn', 'tna', 'tneazzy', 'tnn', 'tnwx', 'to', 'tobias_ellwood', 'tod', 'today', 'todayhave', 'todayim', 'todayng', 'todayngr', 'todays', 'todaythat', 'todd', 'todd_calfee', 'toddler', 'toddstarnes', 'toddyrockstar', 'toe', 'toenail', 'toes', 'together', 'togthe', 'toiindianews', 'toilet', 'toilets', 'tokes', 'tokteacher', 'tokyo', 'told', 'tolerance', 'tolerated', 'tolewantg', 'toll', 'tolled', 'tom', 'tomarse99', 'tomatoes', 'tomcatarts', 'tomclancy', 'tomdean86', 'tomfromireland', 'tomislav', 'tomlinson', 'tommorow', 'tomorrow', 'tomorrows', 'ton', 'tone', 'tongue', 'tonight', 'tonights', 'tonne', 'tons', 'tonto', 'tony', 'tony_burke', 'tonyabbottmhr', 'tonyakappes11', 'tonycottee1986', 'tonyhsieh', 'tonymcguinness', 'tonysandos', 'too', 'toocodtodd', 'took', 'tookem', 'tookitlikeaman', 'tool', 'tools', 'tooo', 'toosoon', 'tooth', 'tootrue', 'top', 'topic', 'topnews', 'tops', 'topstories', 'tor', 'tora', 'torch', 'torching', 'tore', 'tories', 'tormented', 'tornado', 'tornadoes', 'tornadogiveaway', 'tornados', 'toronto', 'torontorc', 'torrance', 'torrecilla', 'torrent', 'torrential', 'torso', 'tort', 'torture', 'tory', 'tos', 'toss', 'tosu', 'total', 'totaling', 'totalitarian', 'totalitarianism', 'totally', 'tote', 'totes', 'totooo', 'totteham', 'tottenham', 'touch', 'touchdown', 'touched', 'touching', 'tough', 'toughens', 'tounge', 'tour', 'tourists', 'tournament', 'tournaments', 'tourofutah', 'tours', 'tow', 'toward', 'towards', 'towboat', 'towel', 'tower', 'towing', 'town', 'towns', 'township', 'toxic', 'toxiccancerdiseasehazardous', 'toxicsavior_', 'toyota', 'tozlet', 'tprimo24', 'tps', 'tr', 'tr_jdavis', 'tra', 'trace', 'traces', 'tracey', 'track', 'tracking', 'tracklist', 'tracks', 'traction', 'tractor', 'tracy', 'trad', 'tradcatknight', 'trade', 'trader', 'trading', 'traditional', 'traditionalist', 'traffic', 'trafficalert', 'trafficnetwork', 'trafford', 'tragedy', 'tragic', 'trail', 'trailed', 'trailer', 'trailheads', 'trails', 'train', 'trained', 'training', 'trains', 'traintragedy', 'traitor', 'trajectories', 'tram', 'trampling', 'trancy', 'trans', 'transcend', 'transcription', 'transfer', 'transformation', 'transformed', 'transgender', 'transgendered', 'transgress', 'transit', 'translated', 'transport', 'transporta', 'transportation', 'transporting', 'transwomen', 'trap', 'traplord_29', 'trapmusic', 'trapped', 'trash', 'trashed', 'trauma', 'traumatised', 'travel', 'travelelixir', 'traveling', 'travellers', 'travelling', 'traverse', 'travis', 'tray', 'trc', 'treasure', 'treasures', 'treat', 'treated', 'treating', 'treatmen', 'treatment', 'treatments', 'treaty', 'treblinka', 'tree', 'treeporn', 'trees', 'treescape', 'trek', 'trekkers', 'tremblayeh', 'tremont', 'tremor', 'tremors', 'tren', 'trench', 'trend', 'trending', 'trends', 'trent', 'trespass', 'trestle', 'trey', 'treyarch', 'trfc', 'triad', 'trial', 'trials', 'triangle', 'trib', 'tribal', 'tribe', 'tribez', 'tribune', 'triciaoneill', 'triciaoneillphoto', 'trick', 'trickier', 'trickshot', 'trickxie', 'tricky', 'tricycle', 'trident', 'tried', 'tries', 'trigger', 'triggered', 'trillac_', 'trillion', 'trim', 'trinity', 'trinna', 'trip', 'triple', 'tripoli', 'triumph', 'triumphant', 'triumphs', 'trivium', 'trixie_drowned', 'trois', 'troll', 'trolley', 'trollingtilmeekdiss', 'trollkrattos', 'trombonetristan', 'trooper', 'troops', 'tropes', 'trophies', 'trophy', 'trophyhunt', 'tropical', 'trouble', 'troubleonmymind', 'troubling', 'troupe', 'troy', 'troye', 'troylercraft', 'troyslaby22', 'trp', 'trpreston01', 'trs', 'tru', 'trubgme', 'truck', 'truckcrash', 'trucking', 'truckload', 'trucks', 'true', 'truediagnosis', 'truelove', 'truestory', 'truly', 'truly_stings', 'trump', 'trump2016', 'trunk', 'trunks', 'trust', 'trusted', 'trusting', 'trusty', 'trustymclusty', 'truth', 'truths', 'try', 'trying', 'tryna', 'trynna', 'tryout', 'tryouts', 'ts', 'tsipras', 'tsunami', 'tsunami_esh', 'tsunami_nopeach', 'tsunamis', 'tsutomi', 'tt', 'ttes', 'ttw', 'tu', 'tub', 'tube', 'tubestrike', 'tucson', 'tuesday', 'tuesdays', 'tuffers', 'tuicruises', 'tullamarine', 'tulowitzki', 'tumbles', 'tumbling', 'tumblr', 'tunas', 'tune', 'tuned', 'tunein', 'tunes', 'tunes_wgg', 'tuning', 'tunis', 'tunisia', 'tunisian', 'tunnel', 'turbine', 'turbojet', 'turdnado', 'turkey', 'turkish', 'turkmen', 'turn', 'turned', 'turnedonfetaboo', 'turner', 'turning', 'turns', 'tusky', 'tutor', 'tutorial', 'tutorials', 'tv', 'tvjnews', 'tvshowtime', 'tw4rw', 'twain', 'twcnews', 'twcnewsclt', 'tweak', 'tween', 'tweet', 'tweet4taiji', 'tweeted', 'tweeting', 'tweetinglew', 'tweetlikeitsseptember11th2001', 'tweets', 'tweetstorm', 'twelve', 'twenty', 'twentynine', 'twi', 'twia', 'twice', 'twilightfairy', 'twilights', 'twill', 'twimbos', 'twin', 'twins', 'twist', 'twister', 'twisterlovesshania', 'twit_san_diego', 'twitch', 'twitter', 'two', 'twoptwips', 'twos', 'twx', 'tx', 'txlege', 'txt', 'ty', 'tyar', 'tyler', 'tyleroakley', 'type', 'types', 'typewriter', 'typhoon', 'typical', 'typing', 'typography', 'typos', 'tyrant', 'tyre', 'tyrone', 'tìüp', 'u2', 'uabstephenlong', 'uae', 'uber', 'uchicago', 'ud', 'udhampur', 'udhampuragain', 'udom', 'ufn', 'ufo4ublogeurope', 'uganda', 'ugc', 'ugh', 'ugliest', 'ugliness', 'ugly', 'uglypeople', 'uh', 'uhc', 'uhhh', 'uhmmm', 'uk', 'uke', 'ukfloods', 'uknews', 'ukraine', 'ukraines', 'ullman', 'ultimalucha', 'ultimate', 'ultimatum', 'ultra', 'uluru', 'um', 'umbrella', 'umm', 'umntu', 'un', 'un_women', 'unable', 'unaddressed', 'unarmed', 'unauthorized', 'unavoidable', 'unaware', 'unawares', 'unbelievably', 'uncertain', 'uncertaintyeconomic', 'uncle', 'uncles', 'uncomfortable', 'uncommon', 'unconditional', 'unconfirmed', 'unconscious', 'unconsciously', 'uncontrollable', 'uncontrolled', 'uncover', 'under', 'undercover', 'underestimate', 'underground', 'undergroundbestsellers', 'undergroundrailraod', 'undermine', 'underpasses', 'understand', 'understandable', 'understanding', 'understood', 'underwater', 'underway', 'underwood', 'underwriter', 'undeserving', 'undetected', 'undone', 'unending', 'unexercised', 'unexplainable', 'unfair', 'unfilled', 'unfml', 'unfold', 'unfolded', 'unfollow', 'unfortunately', 'unfortunemelody', 'ungodly', 'unhappiness', 'unhappy', 'unharmed', 'unhealed', 'unhinged', 'uniform', 'uniforms', 'unimpressed', 'uninvestigated', 'union', 'unions', 'unique', 'unit', 'unite', 'uniteblue', 'united', 'units', 'unity', 'universe', 'university', 'universityoflaw', 'univsfoundation', 'unkn', 'unknowingly', 'unknown', 'unless', 'unlicensed', 'unloads', 'unlocked', 'unlocking', 'unnecessary', 'unnewsteam', 'unpacked', 'unplug', 'unprecedented', 'unpredictable', 'unprepared', 'unqualified', 'unr', 'unreal', 'unrealtouch', 'unrecognized', 'unrelenting', 'unrest', 'unsafe', 'unscreened', 'unsecured', 'unsensibly', 'unsigned', 'unstable', 'unstablethe', 'unstoppable', 'unsuccessful', 'unsuckdcmetro', 'unsure', 'unsurprisingly', 'untameddirewolf', 'untangle', 'until', 'untill', 'unto', 'unu', 'unveiled', 'unwanted', 'unwarranted', 'up', 'upa', 'upcoming', 'update', 'updated', 'updates', 'upgrade', 'upgraded', 'upgrades', 'upgrading', 'upheaval', 'uphill', 'upi', 'uplifting', 'uploading', 'upon', 'upper', 'uprootin', 'uprooting', 'upset', 'upsetting', 'upstairs', 'uptown', 'uptown_jorge', 'upward', 'upwards', 'upwindstorm', 'ur', 'uranium', 'urban', 'urbanfashion', 'urbanisation', 'urg', 'urged', 'urgent', 'urgentthere', 'uribe', 'uriminzok', 'urine', 'url', 'urogyn', 'urs', 'urself', 'ursula', 'uruan', 'urufusanragu', 'us', 'us101', 'us70', 'usa', 'usage', 'usagi', 'usagov', 'usama', 'usami', 'usar15', 'usar2015', 'usarmy', 'usat', 'usatoday', 'usatoday_nfl', 'usd', 'usdot', 'use', 'used', 'useless', 'user', 'users', 'uses', 'usfs', 'usg', 'usgs', 'ushanka', 'ushed', 'ushiocomics', 'using', 'usmnt', 'usnwsgov', 'uspacific', 'usual', 'usually', 'usw', 'uswarcrimes', 'ut', 'utahcanary', 'utahgrizz', 'utc', 'utd', 'utfire', 'utica', 'utility', 'utilized', 'utopian', 'utp', 'utter', 'utterly', 'utv', 'uud', 'uv', 'uve', 'uvopwz', 'ux', 'v452', 'v6', 'v8', 'va', 'vabengal', 'vaca', 'vacancies', 'vacant', 'vacation', 'vaccine', 'vaccines', 'vagersedolla', 'vaginaorcake', 'vai', 'vail', 'val', 'valdes1978', 'vale', 'valentines', 'valle', 'vallerand', 'valley', 'valleywx', 'valuations', 'value', 'values', 'vampires', 'vampiro', 'van', 'vancouver', 'vancouveråêisland', 'vandalized', 'vanderbilt', 'vanessa', 'vanessas', 'vanilla', 'vanished', 'vanishing', 'vannuyscouncil', 'vanpoli', 'vantage', 'vanuatu', 'vape', 'vaping', 'varagesale', 'variety', 'various', 'vashon', 'vassalboro', 'vast', 'vault', 'vaxshill', 've', 'vector', 'veg', 'vegan', 'vegas', 'vegetable', 'vegetables', 'vegetarian', 'veggies', 'vehicle', 'vehicles', 'veil', 'veins', 'vela', 'veld', 'veldfest', 'veneto', 'venezuela', 'venice', 'venoms', 'vent', 'ventilated', 'venture', 'verde', 'verdict', 'verge', 'vergil', 'verhoek', 'vermilion', 'vermont', 'vern', 'veronicadlcruz', 'versethe', 'version', 'versions', 'versus', 'very', 'vessel', 'vessels', 'vest', 'vestment', 'vet', 'veteran', 'veterans', 'vets', 'vets78734', 'vgbootcamp', 'vi', 'via', 'viab', 'vibe', 'vibez', 'vibrate', 'vibrates', 'vibrator', 'vic', 'vice', 'vicinity', 'vicken52', 'vickers', 'vickie627', 'vickybrush', 'victim', 'victimiser', 'victims', 'victoriagittins', 'victorian', 'victorias', 'victorinox', 'victorious', 'victory', 'vid', 'vida', 'video', 'videoclip', 'videogame', 'videos', 'videoveranomtv', 'vienna_butcher', 'vietnam', 'vietnamese', 'view', 'views', 'vigilent', 'vigils', 'vikings', 'vilelunar', 'villa', 'village', 'villagers', 'villages', 'ville', 'villicanaalicia', 'vimeo', 'vimvith', 'vince', 'vincent', 'vine', 'vines', 'vinnie', 'vintage', 'vinustrip', 'vinyl', 'violated', 'violation', 'violations', 'violators', 'violence', 'violent', 'violentfeminazi', 'violets', 'violin', 'vip', 'viper', 'vir', 'viralspell', 'virg', 'virgil', 'virgin', 'virtual', 'virus', 'visage', 'viscous', 'visibility', 'visible', 'vision', 'visionzero', 'visit', 'visited', 'visiting', 'visits', 'visting', 'visto', 'vita', 'vital', 'vitalvegas', 'vitaly', 'vitesse', 'vivaargentina', 'vivian', 'vivian_giang', 'vivianunhcr', 'vivid', 'vixmeldrew', 'vixstuart', 'vj44', 'vladimir', 'vmas', 'vocal', 'vocalist', 'vocals', 'vocpetroleum', 'vodka', 'vods', 'voice', 'voices', 'void', 'vol', 'volcanic', 'volcano', 'volcano_tornado', 'volcanodiscover', 'volcanoes', 'volcanoåêinåêrussia', 'volfan326', 'volga', 'volgagrad', 'volleyball', 'voltaic', 'voltaire', 'voluntary', 'volunteer', 'volunteers', 'voodoo', 'voodoo_ben', 'voortrekker', 'vortex', 'vosloorus', 'vote', 'voted', 'votejkt48id', 'voter', 'voters', 'votes', 'voting', 'vp', 'vra50', 'vroman', 'vs', 'vtc', 'vuitton', 'vulcan', 'vuln', 'vulnera', 'vulnerability', 'vulnerable', 'vuzuhustle', 'vvorm', 'vzwsupport', 'vì_deo', 'wa', 'wackoes', 'wackos', 'wafer', 'wage', 'wahhabism', 'wahpeton', 'waimate', 'waimea', 'waist', 'wait', 'waited', 'waiting', 'waits', 'waiver', 'wake', 'wakeupflorida', 'wakho', 'waking', 'waldo', 'wale', 'walerga', 'wales', 'walk', 'walked', 'walker', 'walking', 'walkthrough', 'wall', 'walls', 'wallybaiter', 'walmart', 'waltdisney', 'walter', 'wander', 'wank', 'wanna', 'wannabe', 'want', 'wanted', 'wanting', 'wantmyabsback', 'wants', 'war', 'warcraft', 'ward', 'wardens', 'warfare', 'warfighting', 'warlord_queen', 'warm', 'warmbodies', 'warming', 'warmth', 'warn', 'warne', 'warned', 'warnerrobins', 'warning', 'warnings', 'warns', 'warped', 'warra', 'warranted', 'warrior', 'warriorcord', 'wars', 'wars_goddess', 'warship', 'warships', 'wart', 'warthen', 'wartime', 'was', 'waseembadami', 'wash', 'washable', 'washard', 'washed', 'washing', 'washington', 'washingtonpost', 'wasilla', 'wasn', 'wasnt', 'wasp', 'waste', 'wasted', 'wastelands', 'wastenoxious', 'wasting', 'watch', 'watched', 'watches', 'watchin', 'watching', 'watchout', 'watchthevideo', 'water', 'waterboarding', 'waterfur', 'watermeloann', 'watermelon', 'waterproof', 'waters', 'watersafety', 'watertown', 'waterways', 'wattashit3', 'wattle', 'wattpad', 'wattys2015', 'wave', 'waved', 'waves', 'waving', 'way', 'wayfieldstone', 'wayi', 'wayne', 'waynesteratl', 'ways', 'wayward', 'waziristan', 'wb', 'wbc2015', 'wbcshirl2', 'wbre', 'wbu', 'wc', 'wccorosen', 'wce', 'wctv', 'wcvb', 'wcw', 'wd', 'wdtv', 'wdym', 'wdyouth', 'we', 'weak', 'weakening', 'weakness', 'weaknesses', 'wealilknowa', 'weallheartonedirection', 'wealth', 'wealthy', 'weapon', 'weapon_x_music', 'weapons', 'wear', 'wearethenews', 'wearing', 'wears', 'weather', 'weatherit', 'weathernetwork', 'weatherstay', 'web', 'webinar', 'website', 'websites', 'wed', 'wedaug', 'wedding', 'weddinghour', 'weddings', 'wedgie', 'wedn', 'wedneday', 'wednes', 'wednesday', 'wednesdays', 'wee', 'weebly', 'weed', 'weei', 'week', 'weekend', 'weekends', 'weeklong', 'weeks', 'weep', 'weigh', 'weighs', 'weight', 'weightless', 'weights', 'weiqin', 'weird', 'weirdo', 'welcome', 'welcomes', 'welfare', 'well', 'welles_7', 'wells', 'welovela', 'weloverobdyrdek', 'weloveyoulouis', 'welshninja87', 'wen', 'wendell', 'wenger', 'went', 'were', 'weren', 'werent', 'wesley', 'wesleylowery', 'west', 'westchester', 'western', 'westerncanadadrought', 'westeros', 'westerosnah', 'westmarch', 'westminister', 'weston', 'wests', 'westward', 'wet', 'weve', 'wew', 'wews', 'wexler', 'weyburn', 'weymouth', 'weyrey_gidi', 'wfaaweather', 'wfp', 'wftv', 'wha', 'whack', 'whag', 'whale', 'whales', 'whao', 'what', 'whatcanthedo', 'whatever', 'whatevs', 'whats', 'whatsapp', 'wheat', 'wheatley', 'whedonesque', 'wheel', 'wheeler', 'wheelers', 'wheels', 'whelen', 'when', 'whenever', 'whensoever', 'where', 'whereas', 'wheres', 'whether', 'which', 'while', 'whimsy', 'whine', 'whipe', 'whipped', 'whippenz', 'whirlwind', 'whiskey', 'whistle', 'whistleblower', 'whistled', 'whitbourne', 'white', 'whitehouse', 'whitewalkers', 'whitewashes', 'whitt', 'who', 'whoa', 'whocares', 'whod', 'whoever', 'whole', 'wholesale', 'wholesaleent', 'wholeteam3', 'whomever', 'whoops', 'whopper_jr_760', 'whos', 'whose', 'wht', 'whvholst', 'why', 'whyor', 'wi', 'wicked', 'wickett', 'widda16', 'wide', 'wider', 'widespread', 'widout', 'width', 'wiedemer', 'wielding', 'wife', 'wifi', 'wii', 'wikipedia', 'wild', 'wild_lionx3', 'wilden', 'wildfire', 'wildfires', 'wildhorses', 'wildlife', 'wildwestsixgun', 'will', 'willhillbet', 'william', 'williams', 'willian', 'willie_am_i', 'willienelson', 'willing', 'willinghearted', 'willis', 'willow', 'wilshere', 'wilsons', 'wimbledon', 'wimp', 'win', 'wind', 'window', 'windowgatribble', 'windows', 'windows10', 'windowsill', 'winds', 'windsor', 'windstorm', 'windstormfollow', 'windstormåêinsurer', 'windwaker', 'windy', 'wine', 'winechat', 'wineisdumbcom', 'wing', 'winged', 'wingers', 'wings', 'winik', 'winner', 'winning', 'winnipeg', 'wins', 'winston', 'winter', 'wiped', 'wipes', 'wipp', 'wire', 'wired', 'wireless', 'wisconsin', 'wisdc', 'wisdom', 'wisdomwed', 'wise', 'wisely', 'wish', 'wished', 'wishing', 'wishlist', 'wit', 'witch', 'witches', 'with', 'withdraw', 'withdraws', 'wither', 'withering', 'within', 'without', 'withstand', 'withåêannihilation', 'witness', 'witnessed', 'witnesses', 'witnessing', 'witter', 'wiwnpfxa', 'wizard', 'wizkidayo', 'wk', 'wknd', 'wkrn', 'wld', 'wm', 'wmata', 'wmur', 'wmv', 'wn', 'wnd', 'wniagospel', 'wnw', 'wo', 'woah', 'wocowae', 'wod', 'woes', 'wogc', 'woke', 'woken', 'wolf', 'wolforth', 'wolter', 'wolves', 'wom', 'woman', 'womans', 'womb', 'womem', 'women', 'womengirls', 'womens', 'womppp', 'won', 'wonder', 'wonderful', 'wonderfully', 'wondering', 'wonderkid', 'wonderousallure', 'wonders', 'wont', 'woo', 'wood', 'woodchucks', 'wooden', 'woodland', 'woodlawn', 'woods', 'woodward', 'wooo', 'word', 'wording', 'wordk', 'wordpressdotcom', 'words', 'work', 'workd', 'worked', 'worker', 'workers', 'workforce', 'working', 'workout', 'workplace', 'works', 'workspace', 'world', 'worldlets', 'worldnetdaily', 'worldnews', 'worldoil', 'worldpay', 'worlds', 'worldvision', 'worldwatchesferguson', 'worldwide', 'worm', 'worn', 'worried', 'worries', 'worry', 'worrying', 'worse', 'worseits', 'worsen', 'worship', 'worst', 'worstoverdose', 'worstsummerjob', 'worth', 'worthless', 'would', 'wouldelectrocute', 'wouldn', 'wouldnt', 'wouldve', 'wound', 'wounded', 'woundedpigeon', 'wounds', 'wow', 'wowo', 'wowsavannah', 'wpo', 'wpri', 'wps', 'wpt', 'wqow', 'wr', 'wraith', 'wrap', 'wrapped', 'wrapup', 'wreak', 'wreck', 'wreckage', 'wrecked', 'wrestleon', 'wrestler', 'wrightsboro', 'wrinkled', 'wrist', 'wristband', 'write', 'writebothfists', 'writer', 'writers', 'writes4coffee', 'writing', 'writings', 'writingtips', 'written', 'wrked', 'wrong', 'wrongdejavu', 'wrongperson', 'wrote', 'wroug', 'wrought', 'wsaz_brittany', 'wsj', 'wsjthinktank', 'wsls', 'wsoc', 'wsvr', 'wtc', 'wtf', 'wth', 'wud', 'wut', 'ww', 'ww1', 'ww2', 'ww3', 'wwa', 'wwe', 'wwexdreamer', 'wwi', 'wwii', 'wwp', 'www', 'wwwbigbaldhead', 'wwwcbplawyers', 'wwwinformationngcom', 'wx', 'wxia', 'wxii', 'wxky', 'wy', 'wyattb23', 'wyou', 'wyrmwood', 'wzbt', 'x1386', 'x1392', 'x1402', 'x1411', 'x1434', 'x1441', 'x2', 'xavier', 'xavier_marquis', 'xb1', 'xbox', 'xboxone', 'xd', 'xdescry', 'xdojjj', 'xekstrin', 'xela', 'xeni', 'xgn_infinity', 'xhnews', 'xii', 'xkdrx', 'xl', 'xl61', 'xmas', 'xo', 'xojademarie124', 'xoxo', 'xp', 'xtra1360', 'xv', 'xvii', 'xxhjesc', 'xxx', 'xylodemon', 'ya', 'ya_boi_luke', 'yagitudeh', 'yahistorical', 'yahoo', 'yahoo7', 'yahoocare', 'yahoofinance', 'yahoonews', 'yahoonewsdigest', 'yahooschwab', 'yahootv', 'yakub', 'yall', 'yamaguchi', 'yamashiro', 'yankees', 'yard', 'yay', 'yazidi', 'yazidi_shingal_genocide', 'yazidis', 'ybtheprophet', 'yday', 'ye', 'yea', 'yeaahh', 'yeah', 'yeahs', 'year', 'years', 'yeat', 'yeda', 'yee', 'yehuda', 'yell', 'yelled', 'yelling', 'yelllowheather', 'yellow', 'yellows', 'yelp', 'yemen', 'yemenis', 'yennora', 'yep', 'yes', 'yeshayad', 'yessum', 'yesterday', 'yesterdays', 'yet', 'yeyeulala', 'yh', 'yhngsjlg', 'yiayplan', 'yield', 'yikes', 'yiraneuni', 'ykelquiban', 'ymcglaun', 'yo', 'yobe', 'yoenis', 'yoga', 'yogurt', 'yolandaph', 'yolk', 'yonews', 'yor', 'york', 'yorker', 'yorkshire', 'yosemite', 'you', 'youd', 'yougov', 'youheat', 'youll', 'young', 'younger', 'youngheroesid', 'youngins', 'youngsafe', 'youno', 'your', 'your4state', 'yourboy_shawn', 'youre', 'yours', 'yourself', 'yourselves', 'youssefyamani', 'youth', 'youtu', 'youtube', 'youuu', 'youve', 'ypg', 'ypres', 'yr', 'yrs', 'yu_nita99', 'yuan', 'yug', 'yugvani', 'yukis', 'yum', 'yumiko', 'yup', 'yuppies', 'yuuko', 'yuvi', 'yyc', 'yycfringe', 'yycstorm', 'yycwalks', 'yycweather', 'yyeso', 'yyj', 'yzf', 'z10', 'z3ke_sk1', 'zaatari', 'zabadani', 'zacb_', 'zach', 'zachlowe_nba', 'zachzaidman', 'zaibatsunews', 'zaire2005', 'zak_bagans', 'zakuun', 'zaman', 'zamtriossu', 'zar', 'zarharzar', 'zarry', 'zayn', 'zaynmaiikist', 'zaynmalik', 'zeal', 'zehrs', 'zenande_mcfen', 'zenit', 'zeno001', 'zepp1978', 'zergele', 'zero', 'zeros', 'zhejiang', 'zhenghxn', 'zicac', 'zimbabwe', 'zimmer', 'zimmerman', 'zimpapersviews', 'zionism', 'zionist', 'zionists', 'zip', 'ziphimup', 'zipped', 'zippednews', 'zipper', 'zippers', 'zippoline', 'ziuw', 'zmne', 'zodiac', 'zojadelin', 'zomatoaus', 'zombie', 'zombiefunrun2014', 'zombies', 'zone', 'zones', 'zonewolf', 'zoom', 'zotar', 'zouma', 'zourryart', 'zrnf', 'zss', 'zumiez', 'zurich', 'zxathetis', 'zzz', 'ââ', 'å_', 'åç', 'åè', 'åèmgn', 'åê', 'åêdemolition', 'åêfedex', 'åêi', 'ìñ', 'ìñ1', 'ìü', 'û_', 'û_1', 'û_ahhh', 'û_one', 'û_t', 'û_that', 'û_turns', 'û_url', 'û_you', 'ûª', 'ûª93', 'ûªa', 'ûªarabia', 'ûªd', 'ûªll', 'ûªm', 'ûªre', 'ûªs', 'ûªt', 'ûªve', 'ûï', 'ûïa', 'ûïafter', 'ûïairplane', 'ûïall', 'ûïcat', 'ûïdetonate', 'ûïfor', 'ûïhatchet', 'ûïi', 'ûïlittle', 'ûïlove', 'ûïmake', 'ûïnews', 'ûïnobody', 'ûïnumbers', 'ûïparties', 'ûïplans', 'ûïrichmond', 'ûïsippin', 'ûïstretcher', 'ûïthat', 'ûïthe', 'ûïwe', 'ûïwhen', 'ûïyou', 'ûò', 'ûò8000', 'ûòthe', 'ûòåêcnbc', 'ûó', 'ûóher', 'ûókody', 'ûónegligence', 'ûótech', 'ûówe']\n"
          ],
          "name": "stdout"
        }
      ]
    },
    {
      "cell_type": "code",
      "metadata": {
        "id": "5tozM9wis_AP",
        "colab_type": "code",
        "colab": {
          "base_uri": "https://localhost:8080/",
          "height": 202
        },
        "outputId": "ddf3868c-4a44-41ce-b8b6-6cf8b2fc6e74"
      },
      "source": [
        "!wget -P /root/input/ -c \"https://s3.amazonaws.com/dl4j-distribution/GoogleNews-vectors-negative300.bin.gz\""
      ],
      "execution_count": 3,
      "outputs": [
        {
          "output_type": "stream",
          "text": [
            "--2020-08-01 20:26:06--  https://s3.amazonaws.com/dl4j-distribution/GoogleNews-vectors-negative300.bin.gz\n",
            "Resolving s3.amazonaws.com (s3.amazonaws.com)... 52.216.251.70\n",
            "Connecting to s3.amazonaws.com (s3.amazonaws.com)|52.216.251.70|:443... connected.\n",
            "HTTP request sent, awaiting response... 200 OK\n",
            "Length: 1647046227 (1.5G) [application/x-gzip]\n",
            "Saving to: ‘/root/input/GoogleNews-vectors-negative300.bin.gz’\n",
            "\n",
            "GoogleNews-vectors- 100%[===================>]   1.53G  43.9MB/s    in 37s     \n",
            "\n",
            "2020-08-01 20:26:43 (42.5 MB/s) - ‘/root/input/GoogleNews-vectors-negative300.bin.gz’ saved [1647046227/1647046227]\n",
            "\n"
          ],
          "name": "stdout"
        }
      ]
    },
    {
      "cell_type": "code",
      "metadata": {
        "id": "zAGXYqxLgGVB",
        "colab_type": "code",
        "colab": {
          "base_uri": "https://localhost:8080/",
          "height": 302
        },
        "outputId": "225553a1-dbd3-46cc-8f7c-5a8f7fdb8651"
      },
      "source": [
        "!pip install gensim\n",
        "from gensim.models import KeyedVectors"
      ],
      "execution_count": 1,
      "outputs": [
        {
          "output_type": "stream",
          "text": [
            "Requirement already satisfied: gensim in /usr/local/lib/python3.6/dist-packages (3.6.0)\n",
            "Requirement already satisfied: six>=1.5.0 in /usr/local/lib/python3.6/dist-packages (from gensim) (1.15.0)\n",
            "Requirement already satisfied: numpy>=1.11.3 in /usr/local/lib/python3.6/dist-packages (from gensim) (1.18.5)\n",
            "Requirement already satisfied: smart-open>=1.2.1 in /usr/local/lib/python3.6/dist-packages (from gensim) (2.1.0)\n",
            "Requirement already satisfied: scipy>=0.18.1 in /usr/local/lib/python3.6/dist-packages (from gensim) (1.4.1)\n",
            "Requirement already satisfied: requests in /usr/local/lib/python3.6/dist-packages (from smart-open>=1.2.1->gensim) (2.23.0)\n",
            "Requirement already satisfied: boto3 in /usr/local/lib/python3.6/dist-packages (from smart-open>=1.2.1->gensim) (1.14.30)\n",
            "Requirement already satisfied: boto in /usr/local/lib/python3.6/dist-packages (from smart-open>=1.2.1->gensim) (2.49.0)\n",
            "Requirement already satisfied: urllib3!=1.25.0,!=1.25.1,<1.26,>=1.21.1 in /usr/local/lib/python3.6/dist-packages (from requests->smart-open>=1.2.1->gensim) (1.24.3)\n",
            "Requirement already satisfied: certifi>=2017.4.17 in /usr/local/lib/python3.6/dist-packages (from requests->smart-open>=1.2.1->gensim) (2020.6.20)\n",
            "Requirement already satisfied: idna<3,>=2.5 in /usr/local/lib/python3.6/dist-packages (from requests->smart-open>=1.2.1->gensim) (2.10)\n",
            "Requirement already satisfied: chardet<4,>=3.0.2 in /usr/local/lib/python3.6/dist-packages (from requests->smart-open>=1.2.1->gensim) (3.0.4)\n",
            "Requirement already satisfied: jmespath<1.0.0,>=0.7.1 in /usr/local/lib/python3.6/dist-packages (from boto3->smart-open>=1.2.1->gensim) (0.10.0)\n",
            "Requirement already satisfied: s3transfer<0.4.0,>=0.3.0 in /usr/local/lib/python3.6/dist-packages (from boto3->smart-open>=1.2.1->gensim) (0.3.3)\n",
            "Requirement already satisfied: botocore<1.18.0,>=1.17.30 in /usr/local/lib/python3.6/dist-packages (from boto3->smart-open>=1.2.1->gensim) (1.17.30)\n",
            "Requirement already satisfied: python-dateutil<3.0.0,>=2.1 in /usr/local/lib/python3.6/dist-packages (from botocore<1.18.0,>=1.17.30->boto3->smart-open>=1.2.1->gensim) (2.8.1)\n",
            "Requirement already satisfied: docutils<0.16,>=0.10 in /usr/local/lib/python3.6/dist-packages (from botocore<1.18.0,>=1.17.30->boto3->smart-open>=1.2.1->gensim) (0.15.2)\n"
          ],
          "name": "stdout"
        }
      ]
    },
    {
      "cell_type": "code",
      "metadata": {
        "id": "Ym8M2wjkf2_e",
        "colab_type": "code",
        "colab": {
          "base_uri": "https://localhost:8080/",
          "height": 70
        },
        "outputId": "7189406e-a3e2-418c-9bfb-11b914639c84"
      },
      "source": [
        "EMBEDDING_FILE = '/root/input/GoogleNews-vectors-negative300.bin.gz' # from above\n",
        "word2vec = KeyedVectors.load_word2vec_format(EMBEDDING_FILE, binary=True)"
      ],
      "execution_count": 4,
      "outputs": [
        {
          "output_type": "stream",
          "text": [
            "/usr/local/lib/python3.6/dist-packages/smart_open/smart_open_lib.py:254: UserWarning: This function is deprecated, use smart_open.open instead. See the migration notes for details: https://github.com/RaRe-Technologies/smart_open/blob/master/README.rst#migrating-to-the-new-open-function\n",
            "  'See the migration notes for details: %s' % _MIGRATION_NOTES_URL\n"
          ],
          "name": "stderr"
        }
      ]
    },
    {
      "cell_type": "code",
      "metadata": {
        "id": "J16ILtXSCUy_",
        "colab_type": "code",
        "colab": {}
      },
      "source": [
        "def cos(x1, x2):\n",
        "  return np.dot(x1, x2)/(np.linalg.norm(x1)*np.linalg.norm(x2))"
      ],
      "execution_count": 7,
      "outputs": []
    },
    {
      "cell_type": "code",
      "metadata": {
        "id": "ArRuFW4vCYOF",
        "colab_type": "code",
        "colab": {}
      },
      "source": [
        ""
      ],
      "execution_count": null,
      "outputs": []
    },
    {
      "cell_type": "code",
      "metadata": {
        "id": "xHlwPPqIB-0p",
        "colab_type": "code",
        "colab": {
          "base_uri": "https://localhost:8080/",
          "height": 238
        },
        "outputId": "fdc9bdb6-64c1-4604-dbad-38fb965bd955"
      },
      "source": [
        "#Jugando con word2vec\n",
        "cos(word2vec['coronavirus'],word2vec['pandemic'])\n",
        "word2vec.most_similar(positive=['car','crash'])"
      ],
      "execution_count": 22,
      "outputs": [
        {
          "output_type": "stream",
          "text": [
            "/usr/local/lib/python3.6/dist-packages/gensim/matutils.py:737: FutureWarning: Conversion of the second argument of issubdtype from `int` to `np.signedinteger` is deprecated. In future, it will be treated as `np.int64 == np.dtype(int).type`.\n",
            "  if np.issubdtype(vec.dtype, np.int):\n"
          ],
          "name": "stderr"
        },
        {
          "output_type": "execute_result",
          "data": {
            "text/plain": [
              "[('accident', 0.6770085096359253),\n",
              " ('wreck', 0.6625399589538574),\n",
              " ('vehicle', 0.6519672274589539),\n",
              " ('SUV', 0.6443443298339844),\n",
              " ('Driver_flees', 0.6319849491119385),\n",
              " ('driver', 0.6299632787704468),\n",
              " ('Biker_dies', 0.6203857660293579),\n",
              " ('Motorist_dies', 0.6154729127883911),\n",
              " ('minvan', 0.6148028373718262),\n",
              " ('rear_ender', 0.6093763709068298)]"
            ]
          },
          "metadata": {
            "tags": []
          },
          "execution_count": 22
        }
      ]
    },
    {
      "cell_type": "code",
      "metadata": {
        "id": "NgTCWt2WCwx_",
        "colab_type": "code",
        "colab": {}
      },
      "source": [
        ""
      ],
      "execution_count": null,
      "outputs": []
    },
    {
      "cell_type": "code",
      "metadata": {
        "id": "kGMZtxdEGfZ1",
        "colab_type": "code",
        "colab": {}
      },
      "source": [
        "pred"
      ],
      "execution_count": null,
      "outputs": []
    },
    {
      "cell_type": "code",
      "metadata": {
        "id": "4reTzgwTE4bC",
        "colab_type": "code",
        "colab": {}
      },
      "source": [
        "#--------- Prediccion-------\n",
        "#pred = pd.DataFrame()\n",
        "#pred['id'] = df_test['id']\n",
        "#pred_data = model.predict(df_test_x)\n",
        "#pred['target'] = pred_data.tolist()\n",
        "#pred['target'] = pred['target'].apply(lambda x : convertStates(x))"
      ],
      "execution_count": null,
      "outputs": []
    },
    {
      "cell_type": "code",
      "metadata": {
        "id": "FOMb7uJcrTyX",
        "colab_type": "code",
        "colab": {
          "base_uri": "https://localhost:8080/",
          "height": 34
        },
        "outputId": "5a4d36db-e5af-4cb9-d371-0b231c26f6d0"
      },
      "source": [
        "#Random forest de rama\n",
        "from sklearn import preprocessing\n",
        "from sklearn import tree\n",
        "from sklearn.ensemble import RandomForestRegressor\n",
        "le = preprocessing.LabelEncoder()\n",
        "\n",
        "#df_train[\"text\"] = le.fit_transform(df_train['text'])\n",
        "#df_train[\"target\"] = le.fit_transform(df_train[\"target\"])\n",
        "regressor = RandomForestRegressor(n_estimators = 50, random_state = 0) \n",
        "\n",
        "regressor.fit(X_train_clf,y_train)\n",
        "\n",
        "Y_pred = regressor.predict(X_test_clf)  # test the output by changing values \n",
        "print(Y_pred)"
      ],
      "execution_count": 25,
      "outputs": [
        {
          "output_type": "stream",
          "text": [
            "[1.         0.82       0.36747619 ... 1.         0.07579458 0.2267409 ]\n"
          ],
          "name": "stdout"
        }
      ]
    },
    {
      "cell_type": "code",
      "metadata": {
        "id": "TDCB0JNwtJ5Q",
        "colab_type": "code",
        "colab": {}
      },
      "source": [
        "#fig, axes = plt.subplots(nrows = 1,ncols = 1,figsize = (4,4), dpi=400)\n",
        "#tree.plot_tree(regressor.estimators_[0], feature_names = X_train_clf.columns, filled = True);"
      ],
      "execution_count": 26,
      "outputs": []
    },
    {
      "cell_type": "code",
      "metadata": {
        "id": "usmGeO5MuW0w",
        "colab_type": "code",
        "colab": {
          "base_uri": "https://localhost:8080/",
          "height": 296
        },
        "outputId": "868e326c-f236-49ed-a895-820045cc6fc8"
      },
      "source": [
        "plt.bar(X_train_clf.columns, regressor.feature_importances_)\n",
        "plt.xlabel('Features')\n",
        "plt.ylabel('Importancia')\n",
        "plt.title('Importancia Features con RF')\n",
        "plt.show()"
      ],
      "execution_count": 27,
      "outputs": [
        {
          "output_type": "display_data",
          "data": {
            "image/png": "[encoded data removed]",
            "text/plain": [
              "<Figure size 432x288 with 1 Axes>"
            ]
          },
          "metadata": {
            "tags": [],
            "needs_background": "light"
          }
        }
      ]
    },
    {
      "cell_type": "code",
      "metadata": {
        "id": "mm-7Wqptvm86",
        "colab_type": "code",
        "colab": {
          "base_uri": "https://localhost:8080/",
          "height": 67
        },
        "outputId": "3ff811e0-4376-4a01-c9a5-7dc97a1e3c28"
      },
      "source": [
        "X_train_clf.columns"
      ],
      "execution_count": 28,
      "outputs": [
        {
          "output_type": "execute_result",
          "data": {
            "text/plain": [
              "Index(['count_words', 'num_no_stopwords', 'no_stpw / count_words',\n",
              "       'count_catastrophe', 'contains_location', 'count_url'],\n",
              "      dtype='object')"
            ]
          },
          "metadata": {
            "tags": []
          },
          "execution_count": 28
        }
      ]
    },
    {
      "cell_type": "code",
      "metadata": {
        "id": "JQcYt2qEwJTz",
        "colab_type": "code",
        "colab": {}
      },
      "source": [
        "#csv de randomforest\n",
        "from google.colab import files\n",
        "pred = pd.DataFrame()\n",
        "pred['id'] = X_test['id']\n",
        "pred['target'] = Y_pred.tolist()\n",
        "pred['target'] = pred['target'].apply(lambda x : round(x))\n",
        "pred.to_csv('resultRFWF.csv',index=False)\n",
        "files.download('resultRFWF.csv')"
      ],
      "execution_count": null,
      "outputs": []
    }
  ]
}