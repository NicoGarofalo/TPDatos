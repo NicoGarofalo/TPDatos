{
 "cells": [
  {
   "cell_type": "markdown",
   "metadata": {
    "colab_type": "text",
    "id": "W6bWqgOVmrjA"
   },
   "source": [
    "# Notebook oficial - TP Datos"
   ]
  },
  {
   "cell_type": "code",
   "execution_count": 134,
   "metadata": {
    "colab": {},
    "colab_type": "code",
    "id": "IKyPFVKemrAK"
   },
   "outputs": [],
   "source": [
    "# Importando librerias\n",
    "import pandas as pd\n",
    "import numpy as np\n",
    "import seaborn as sns\n",
    "from wordcloud import WordCloud\n",
    "import matplotlib.pyplot as plt\n",
    "import matplotlib.dates as mdates\n",
    "import datetime\n",
    "import warnings"
   ]
  },
  {
   "cell_type": "code",
   "execution_count": 135,
   "metadata": {
    "scrolled": true
   },
   "outputs": [
    {
     "name": "stdout",
     "output_type": "stream",
     "text": [
      "La dimension del dataset es:  7613 registros, 5 columnas\n"
     ]
    },
    {
     "data": {
      "text/html": [
       "<div>\n",
       "<style scoped>\n",
       "    .dataframe tbody tr th:only-of-type {\n",
       "        vertical-align: middle;\n",
       "    }\n",
       "\n",
       "    .dataframe tbody tr th {\n",
       "        vertical-align: top;\n",
       "    }\n",
       "\n",
       "    .dataframe thead th {\n",
       "        text-align: right;\n",
       "    }\n",
       "</style>\n",
       "<table border=\"1\" class=\"dataframe\">\n",
       "  <thead>\n",
       "    <tr style=\"text-align: right;\">\n",
       "      <th></th>\n",
       "      <th>id</th>\n",
       "      <th>keyword</th>\n",
       "      <th>location</th>\n",
       "      <th>text</th>\n",
       "      <th>target</th>\n",
       "    </tr>\n",
       "  </thead>\n",
       "  <tbody>\n",
       "    <tr>\n",
       "      <th>0</th>\n",
       "      <td>1</td>\n",
       "      <td>NaN</td>\n",
       "      <td>NaN</td>\n",
       "      <td>Our Deeds are the Reason of this #earthquake M...</td>\n",
       "      <td>1</td>\n",
       "    </tr>\n",
       "    <tr>\n",
       "      <th>1</th>\n",
       "      <td>4</td>\n",
       "      <td>NaN</td>\n",
       "      <td>NaN</td>\n",
       "      <td>Forest fire near La Ronge Sask. Canada</td>\n",
       "      <td>1</td>\n",
       "    </tr>\n",
       "    <tr>\n",
       "      <th>2</th>\n",
       "      <td>5</td>\n",
       "      <td>NaN</td>\n",
       "      <td>NaN</td>\n",
       "      <td>All residents asked to 'shelter in place' are ...</td>\n",
       "      <td>1</td>\n",
       "    </tr>\n",
       "    <tr>\n",
       "      <th>3</th>\n",
       "      <td>6</td>\n",
       "      <td>NaN</td>\n",
       "      <td>NaN</td>\n",
       "      <td>13,000 people receive #wildfires evacuation or...</td>\n",
       "      <td>1</td>\n",
       "    </tr>\n",
       "    <tr>\n",
       "      <th>4</th>\n",
       "      <td>7</td>\n",
       "      <td>NaN</td>\n",
       "      <td>NaN</td>\n",
       "      <td>Just got sent this photo from Ruby #Alaska as ...</td>\n",
       "      <td>1</td>\n",
       "    </tr>\n",
       "  </tbody>\n",
       "</table>\n",
       "</div>"
      ],
      "text/plain": [
       "   id keyword location                                               text  \\\n",
       "0   1     NaN      NaN  Our Deeds are the Reason of this #earthquake M...   \n",
       "1   4     NaN      NaN             Forest fire near La Ronge Sask. Canada   \n",
       "2   5     NaN      NaN  All residents asked to 'shelter in place' are ...   \n",
       "3   6     NaN      NaN  13,000 people receive #wildfires evacuation or...   \n",
       "4   7     NaN      NaN  Just got sent this photo from Ruby #Alaska as ...   \n",
       "\n",
       "   target  \n",
       "0       1  \n",
       "1       1  \n",
       "2       1  \n",
       "3       1  \n",
       "4       1  "
      ]
     },
     "execution_count": 135,
     "metadata": {},
     "output_type": "execute_result"
    }
   ],
   "source": [
    "#Carga del dataset\n",
    "df_tweets = pd.read_csv('data/train.csv')\n",
    "#Dimension\n",
    "print('La dimension del dataset es: ',df_tweets.shape[0], 'registros,', df_tweets.shape[1],'columnas')\n",
    "# Vista de los primeros registros\n",
    "df_tweets.head(5)\n",
    "# Data:\n",
    "# id - identificador unico para cada tweet\n",
    "# keyword - un keyword para el tweet (podría faltar)\n",
    "# location - ubicación desde donde fue enviado (podría no estar)\n",
    "# text - el texto del tweet\n",
    "# target - indica si se trata de un desastre real (1) o no (0)"
   ]
  },
  {
   "cell_type": "code",
   "execution_count": 136,
   "metadata": {},
   "outputs": [],
   "source": [
    "#Definición de tipos\n",
    "df_tweets['id'] = df_tweets['id'].astype(int)\n",
    "df_tweets['keyword'] = df_tweets['keyword'].astype('string')\n",
    "df_tweets['location'] = df_tweets['location'].astype('string')\n",
    "df_tweets['text'] = df_tweets['text'].astype('string')\n",
    "df_tweets['target'] = df_tweets['target'].astype('bool')"
   ]
  },
  {
   "cell_type": "code",
   "execution_count": 137,
   "metadata": {},
   "outputs": [],
   "source": [
    "#Elimino duplicados\n",
    "df_tweets.drop_duplicates(inplace=True)"
   ]
  },
  {
   "cell_type": "code",
   "execution_count": 138,
   "metadata": {},
   "outputs": [
    {
     "data": {
      "text/html": [
       "<div>\n",
       "<style scoped>\n",
       "    .dataframe tbody tr th:only-of-type {\n",
       "        vertical-align: middle;\n",
       "    }\n",
       "\n",
       "    .dataframe tbody tr th {\n",
       "        vertical-align: top;\n",
       "    }\n",
       "\n",
       "    .dataframe thead th {\n",
       "        text-align: right;\n",
       "    }\n",
       "</style>\n",
       "<table border=\"1\" class=\"dataframe\">\n",
       "  <thead>\n",
       "    <tr style=\"text-align: right;\">\n",
       "      <th></th>\n",
       "      <th>id</th>\n",
       "      <th>keyword</th>\n",
       "      <th>location</th>\n",
       "      <th>text</th>\n",
       "      <th>target</th>\n",
       "    </tr>\n",
       "  </thead>\n",
       "  <tbody>\n",
       "    <tr>\n",
       "      <th>count</th>\n",
       "      <td>7613.000000</td>\n",
       "      <td>7552</td>\n",
       "      <td>5080</td>\n",
       "      <td>7613</td>\n",
       "      <td>7613</td>\n",
       "    </tr>\n",
       "    <tr>\n",
       "      <th>unique</th>\n",
       "      <td>NaN</td>\n",
       "      <td>221</td>\n",
       "      <td>3341</td>\n",
       "      <td>7503</td>\n",
       "      <td>2</td>\n",
       "    </tr>\n",
       "    <tr>\n",
       "      <th>top</th>\n",
       "      <td>NaN</td>\n",
       "      <td>fatalities</td>\n",
       "      <td>USA</td>\n",
       "      <td>11-Year-Old Boy Charged With Manslaughter of T...</td>\n",
       "      <td>False</td>\n",
       "    </tr>\n",
       "    <tr>\n",
       "      <th>freq</th>\n",
       "      <td>NaN</td>\n",
       "      <td>45</td>\n",
       "      <td>104</td>\n",
       "      <td>10</td>\n",
       "      <td>4342</td>\n",
       "    </tr>\n",
       "    <tr>\n",
       "      <th>mean</th>\n",
       "      <td>5441.934848</td>\n",
       "      <td>NaN</td>\n",
       "      <td>NaN</td>\n",
       "      <td>NaN</td>\n",
       "      <td>NaN</td>\n",
       "    </tr>\n",
       "    <tr>\n",
       "      <th>std</th>\n",
       "      <td>3137.116090</td>\n",
       "      <td>NaN</td>\n",
       "      <td>NaN</td>\n",
       "      <td>NaN</td>\n",
       "      <td>NaN</td>\n",
       "    </tr>\n",
       "    <tr>\n",
       "      <th>min</th>\n",
       "      <td>1.000000</td>\n",
       "      <td>NaN</td>\n",
       "      <td>NaN</td>\n",
       "      <td>NaN</td>\n",
       "      <td>NaN</td>\n",
       "    </tr>\n",
       "    <tr>\n",
       "      <th>25%</th>\n",
       "      <td>2734.000000</td>\n",
       "      <td>NaN</td>\n",
       "      <td>NaN</td>\n",
       "      <td>NaN</td>\n",
       "      <td>NaN</td>\n",
       "    </tr>\n",
       "    <tr>\n",
       "      <th>50%</th>\n",
       "      <td>5408.000000</td>\n",
       "      <td>NaN</td>\n",
       "      <td>NaN</td>\n",
       "      <td>NaN</td>\n",
       "      <td>NaN</td>\n",
       "    </tr>\n",
       "    <tr>\n",
       "      <th>75%</th>\n",
       "      <td>8146.000000</td>\n",
       "      <td>NaN</td>\n",
       "      <td>NaN</td>\n",
       "      <td>NaN</td>\n",
       "      <td>NaN</td>\n",
       "    </tr>\n",
       "    <tr>\n",
       "      <th>max</th>\n",
       "      <td>10873.000000</td>\n",
       "      <td>NaN</td>\n",
       "      <td>NaN</td>\n",
       "      <td>NaN</td>\n",
       "      <td>NaN</td>\n",
       "    </tr>\n",
       "  </tbody>\n",
       "</table>\n",
       "</div>"
      ],
      "text/plain": [
       "                  id     keyword location  \\\n",
       "count    7613.000000        7552     5080   \n",
       "unique           NaN         221     3341   \n",
       "top              NaN  fatalities      USA   \n",
       "freq             NaN          45      104   \n",
       "mean     5441.934848         NaN      NaN   \n",
       "std      3137.116090         NaN      NaN   \n",
       "min         1.000000         NaN      NaN   \n",
       "25%      2734.000000         NaN      NaN   \n",
       "50%      5408.000000         NaN      NaN   \n",
       "75%      8146.000000         NaN      NaN   \n",
       "max     10873.000000         NaN      NaN   \n",
       "\n",
       "                                                     text target  \n",
       "count                                                7613   7613  \n",
       "unique                                               7503      2  \n",
       "top     11-Year-Old Boy Charged With Manslaughter of T...  False  \n",
       "freq                                                   10   4342  \n",
       "mean                                                  NaN    NaN  \n",
       "std                                                   NaN    NaN  \n",
       "min                                                   NaN    NaN  \n",
       "25%                                                   NaN    NaN  \n",
       "50%                                                   NaN    NaN  \n",
       "75%                                                   NaN    NaN  \n",
       "max                                                   NaN    NaN  "
      ]
     },
     "execution_count": 138,
     "metadata": {},
     "output_type": "execute_result"
    }
   ],
   "source": [
    "df_tweets.describe(include=\"all\")"
   ]
  },
  {
   "cell_type": "code",
   "execution_count": 139,
   "metadata": {},
   "outputs": [
    {
     "name": "stdout",
     "output_type": "stream",
     "text": [
      "<class 'pandas.core.frame.DataFrame'>\n",
      "Int64Index: 7613 entries, 0 to 7612\n",
      "Data columns (total 5 columns):\n",
      " #   Column    Non-Null Count  Dtype \n",
      "---  ------    --------------  ----- \n",
      " 0   id        7613 non-null   int64 \n",
      " 1   keyword   7552 non-null   string\n",
      " 2   location  5080 non-null   string\n",
      " 3   text      7613 non-null   string\n",
      " 4   target    7613 non-null   bool  \n",
      "dtypes: bool(1), int64(1), string(3)\n",
      "memory usage: 304.8 KB\n",
      "None\n"
     ]
    }
   ],
   "source": [
    "print(df_tweets.info())\n",
    "# Tenemos:\n",
    "# -> 100% datos id, text y target\n",
    "# -> 99,19% datos keyword\n",
    "# -> 66,73% datos location"
   ]
  },
  {
   "cell_type": "code",
   "execution_count": 140,
   "metadata": {},
   "outputs": [
    {
     "name": "stdout",
     "output_type": "stream",
     "text": [
      "Las key son 222 keywords:\n"
     ]
    },
    {
     "data": {
      "text/plain": [
       "fatalities               45\n",
       "armageddon               42\n",
       "deluge                   42\n",
       "harm                     41\n",
       "body%20bags              41\n",
       "                         ..\n",
       "forest%20fire            19\n",
       "epicentre                12\n",
       "threat                   11\n",
       "inundation               10\n",
       "radiation%20emergency     9\n",
       "Name: keyword, Length: 221, dtype: Int64"
      ]
     },
     "execution_count": 140,
     "metadata": {},
     "output_type": "execute_result"
    }
   ],
   "source": [
    "keywords = df_tweets['keyword']\n",
    "print('Las key son',len(keywords.unique()), 'keywords:')\n",
    "keywords.value_counts()"
   ]
  },
  {
   "cell_type": "code",
   "execution_count": 141,
   "metadata": {},
   "outputs": [
    {
     "name": "stdout",
     "output_type": "stream",
     "text": [
      "La locations son 3342 locations:\n"
     ]
    },
    {
     "data": {
      "text/plain": [
       "USA                104\n",
       "New York            71\n",
       "United States       50\n",
       "London              45\n",
       "Canada              29\n",
       "Nigeria             28\n",
       "UK                  27\n",
       "Los Angeles, CA     26\n",
       "India               24\n",
       "Mumbai              22\n",
       "Name: location, dtype: Int64"
      ]
     },
     "execution_count": 141,
     "metadata": {},
     "output_type": "execute_result"
    }
   ],
   "source": [
    "location = df_tweets['location']\n",
    "print('La locations son',len(location.unique()), 'locations:')\n",
    "location.value_counts().head(10)"
   ]
  },
  {
   "cell_type": "code",
   "execution_count": 142,
   "metadata": {},
   "outputs": [],
   "source": [
    "# Análisis sobre las keywords más frecuentes para los eventos falsos y verdaderos"
   ]
  },
  {
   "cell_type": "code",
   "execution_count": 143,
   "metadata": {},
   "outputs": [],
   "source": [
    "falseEvents = df_tweets[df_tweets['target'] < 1]\n",
    "falseEventsKeys = falseEvents['keyword']\n",
    "trueEvents = df_tweets[df_tweets['target'] == 1]\n",
    "trueEventsKeys = trueEvents['keyword']\n",
    "freqTrueKeys = trueEventsKeys.value_counts()\n",
    "freqFalseKeys = falseEventsKeys.value_counts()"
   ]
  },
  {
   "cell_type": "code",
   "execution_count": 144,
   "metadata": {},
   "outputs": [
    {
     "name": "stdout",
     "output_type": "stream",
     "text": [
      "Las key falsas son 219 keywords:\n"
     ]
    },
    {
     "data": {
      "text/plain": [
       "body%20bags          40\n",
       "armageddon           37\n",
       "harm                 37\n",
       "ruin                 36\n",
       "wrecked              36\n",
       "                     ..\n",
       "typhoon               1\n",
       "outbreak              1\n",
       "oil%20spill           1\n",
       "suicide%20bombing     1\n",
       "suicide%20bomber      1\n",
       "Name: keyword, Length: 218, dtype: Int64"
      ]
     },
     "execution_count": 144,
     "metadata": {},
     "output_type": "execute_result"
    }
   ],
   "source": [
    "print('Las key falsas son',len(falseEventsKeys.unique()), 'keywords:')\n",
    "freqFalseKeys"
   ]
  },
  {
   "cell_type": "code",
   "execution_count": 145,
   "metadata": {},
   "outputs": [
    {
     "name": "stdout",
     "output_type": "stream",
     "text": [
      "Las key verdaderas son 221 keywords:\n"
     ]
    },
    {
     "data": {
      "text/plain": [
       "derailment     39\n",
       "wreckage       39\n",
       "outbreak       39\n",
       "typhoon        37\n",
       "oil%20spill    37\n",
       "               ..\n",
       "electrocute     1\n",
       "body%20bag      1\n",
       "epicentre       1\n",
       "body%20bags     1\n",
       "ruin            1\n",
       "Name: keyword, Length: 220, dtype: Int64"
      ]
     },
     "execution_count": 145,
     "metadata": {},
     "output_type": "execute_result"
    }
   ],
   "source": [
    "print('Las key verdaderas son',len(trueEventsKeys.unique()), 'keywords:')\n",
    "freqTrueKeys"
   ]
  },
  {
   "cell_type": "code",
   "execution_count": 146,
   "metadata": {},
   "outputs": [
    {
     "data": {
      "image/png": "[encoded data removed]",
      "text/plain": [
       "<Figure size 432x288 with 1 Axes>"
      ]
     },
     "metadata": {
      "needs_background": "light"
     },
     "output_type": "display_data"
    }
   ],
   "source": [
    "#Wordcloud de False keys en base a su ocurrencia\n",
    "wordcloud = WordCloud(width=3000,height=2500, max_words= len(freqFalseKeys),relative_scaling=1,normalize_plurals=False).generate_from_frequencies(freqFalseKeys)\n",
    "plt.imshow(wordcloud, interpolation='bilinear')\n",
    "plt.axis(\"off\")\n",
    "plt.title('Keyword mas ocurrentes para tweets falsos')\n",
    "plt.show()"
   ]
  },
  {
   "cell_type": "code",
   "execution_count": 147,
   "metadata": {},
   "outputs": [
    {
     "data": {
      "image/png": "[encoded data removed]",
      "text/plain": [
       "<Figure size 432x288 with 1 Axes>"
      ]
     },
     "metadata": {
      "needs_background": "light"
     },
     "output_type": "display_data"
    }
   ],
   "source": [
    "#Wordcloud de True keys en base a su ocurrencia\n",
    "wordcloud = WordCloud(width=3000,height=2500, max_words=len(freqTrueKeys),relative_scaling=0.5,normalize_plurals=False).generate_from_frequencies(freqTrueKeys)\n",
    "plt.imshow(wordcloud, interpolation='bilinear')\n",
    "plt.axis(\"off\")\n",
    "plt.title('Keyword mas ocurrentes para tweets verdaderos')\n",
    "plt.show()"
   ]
  },
  {
   "cell_type": "code",
   "execution_count": 148,
   "metadata": {},
   "outputs": [
    {
     "data": {
      "text/html": [
       "<div>\n",
       "<style scoped>\n",
       "    .dataframe tbody tr th:only-of-type {\n",
       "        vertical-align: middle;\n",
       "    }\n",
       "\n",
       "    .dataframe tbody tr th {\n",
       "        vertical-align: top;\n",
       "    }\n",
       "\n",
       "    .dataframe thead th {\n",
       "        text-align: right;\n",
       "    }\n",
       "</style>\n",
       "<table border=\"1\" class=\"dataframe\">\n",
       "  <thead>\n",
       "    <tr style=\"text-align: right;\">\n",
       "      <th></th>\n",
       "      <th>id</th>\n",
       "      <th>keyword</th>\n",
       "      <th>location</th>\n",
       "      <th>text</th>\n",
       "      <th>target</th>\n",
       "    </tr>\n",
       "  </thead>\n",
       "  <tbody>\n",
       "    <tr>\n",
       "      <th>0</th>\n",
       "      <td>1</td>\n",
       "      <td>&lt;NA&gt;</td>\n",
       "      <td>&lt;NA&gt;</td>\n",
       "      <td>Our Deeds are the Reason of this #earthquake M...</td>\n",
       "      <td>True</td>\n",
       "    </tr>\n",
       "    <tr>\n",
       "      <th>1</th>\n",
       "      <td>4</td>\n",
       "      <td>&lt;NA&gt;</td>\n",
       "      <td>&lt;NA&gt;</td>\n",
       "      <td>Forest fire near La Ronge Sask. Canada</td>\n",
       "      <td>True</td>\n",
       "    </tr>\n",
       "    <tr>\n",
       "      <th>2</th>\n",
       "      <td>5</td>\n",
       "      <td>&lt;NA&gt;</td>\n",
       "      <td>&lt;NA&gt;</td>\n",
       "      <td>All residents asked to 'shelter in place' are ...</td>\n",
       "      <td>True</td>\n",
       "    </tr>\n",
       "    <tr>\n",
       "      <th>3</th>\n",
       "      <td>6</td>\n",
       "      <td>&lt;NA&gt;</td>\n",
       "      <td>&lt;NA&gt;</td>\n",
       "      <td>13,000 people receive #wildfires evacuation or...</td>\n",
       "      <td>True</td>\n",
       "    </tr>\n",
       "    <tr>\n",
       "      <th>4</th>\n",
       "      <td>7</td>\n",
       "      <td>&lt;NA&gt;</td>\n",
       "      <td>&lt;NA&gt;</td>\n",
       "      <td>Just got sent this photo from Ruby #Alaska as ...</td>\n",
       "      <td>True</td>\n",
       "    </tr>\n",
       "    <tr>\n",
       "      <th>5</th>\n",
       "      <td>8</td>\n",
       "      <td>&lt;NA&gt;</td>\n",
       "      <td>&lt;NA&gt;</td>\n",
       "      <td>#RockyFire Update =&gt; California Hwy. 20 closed...</td>\n",
       "      <td>True</td>\n",
       "    </tr>\n",
       "    <tr>\n",
       "      <th>6</th>\n",
       "      <td>10</td>\n",
       "      <td>&lt;NA&gt;</td>\n",
       "      <td>&lt;NA&gt;</td>\n",
       "      <td>#flood #disaster Heavy rain causes flash flood...</td>\n",
       "      <td>True</td>\n",
       "    </tr>\n",
       "    <tr>\n",
       "      <th>7</th>\n",
       "      <td>13</td>\n",
       "      <td>&lt;NA&gt;</td>\n",
       "      <td>&lt;NA&gt;</td>\n",
       "      <td>I'm on top of the hill and I can see a fire in...</td>\n",
       "      <td>True</td>\n",
       "    </tr>\n",
       "    <tr>\n",
       "      <th>8</th>\n",
       "      <td>14</td>\n",
       "      <td>&lt;NA&gt;</td>\n",
       "      <td>&lt;NA&gt;</td>\n",
       "      <td>There's an emergency evacuation happening now ...</td>\n",
       "      <td>True</td>\n",
       "    </tr>\n",
       "    <tr>\n",
       "      <th>9</th>\n",
       "      <td>15</td>\n",
       "      <td>&lt;NA&gt;</td>\n",
       "      <td>&lt;NA&gt;</td>\n",
       "      <td>I'm afraid that the tornado is coming to our a...</td>\n",
       "      <td>True</td>\n",
       "    </tr>\n",
       "  </tbody>\n",
       "</table>\n",
       "</div>"
      ],
      "text/plain": [
       "   id keyword location                                               text  \\\n",
       "0   1    <NA>     <NA>  Our Deeds are the Reason of this #earthquake M...   \n",
       "1   4    <NA>     <NA>             Forest fire near La Ronge Sask. Canada   \n",
       "2   5    <NA>     <NA>  All residents asked to 'shelter in place' are ...   \n",
       "3   6    <NA>     <NA>  13,000 people receive #wildfires evacuation or...   \n",
       "4   7    <NA>     <NA>  Just got sent this photo from Ruby #Alaska as ...   \n",
       "5   8    <NA>     <NA>  #RockyFire Update => California Hwy. 20 closed...   \n",
       "6  10    <NA>     <NA>  #flood #disaster Heavy rain causes flash flood...   \n",
       "7  13    <NA>     <NA>  I'm on top of the hill and I can see a fire in...   \n",
       "8  14    <NA>     <NA>  There's an emergency evacuation happening now ...   \n",
       "9  15    <NA>     <NA>  I'm afraid that the tornado is coming to our a...   \n",
       "\n",
       "   target  \n",
       "0    True  \n",
       "1    True  \n",
       "2    True  \n",
       "3    True  \n",
       "4    True  \n",
       "5    True  \n",
       "6    True  \n",
       "7    True  \n",
       "8    True  \n",
       "9    True  "
      ]
     },
     "execution_count": 148,
     "metadata": {},
     "output_type": "execute_result"
    }
   ],
   "source": [
    "#Las columnas que nos interesan son text y target, las renombramos para que sea mas comodo y facil de medir  \n",
    "tweets = df_tweets\n",
    "tweets.head(10)"
   ]
  },
  {
   "cell_type": "code",
   "execution_count": 149,
   "metadata": {
    "scrolled": true
   },
   "outputs": [],
   "source": [
    "#Conseguimos las keywords\n",
    "ocurrenciasTotales = tweets[\"keyword\"].dropna().value_counts().to_dict()"
   ]
  },
  {
   "cell_type": "code",
   "execution_count": 150,
   "metadata": {},
   "outputs": [],
   "source": [
    "ocurrenciasKeywordsVerdaderas = freqTrueKeys.to_dict()"
   ]
  },
  {
   "cell_type": "code",
   "execution_count": 151,
   "metadata": {},
   "outputs": [],
   "source": [
    "ocurrenciasKeywordsFalsas = freqFalseKeys.to_dict()"
   ]
  },
  {
   "cell_type": "code",
   "execution_count": 152,
   "metadata": {},
   "outputs": [],
   "source": [
    "#Creo un diccionario con las keywords y una tupla que contiene los valores de las ocurrencias verdaderas y las falsas \n",
    "# asi no perdemos el orden de la keyword con sus ocurrencias\n",
    "mergeDict = {}\n",
    "for key in ocurrenciasTotales:\n",
    "    mergeDict[key] = (ocurrenciasKeywordsVerdaderas[key] if key in ocurrenciasKeywordsVerdaderas else 0, \\\n",
    "                     ocurrenciasKeywordsFalsas[key] if key in ocurrenciasKeywordsFalsas else 0)\n"
   ]
  },
  {
   "cell_type": "code",
   "execution_count": 153,
   "metadata": {},
   "outputs": [],
   "source": [
    "##Pasamos el dict a keys para los graficos\n",
    "ocurrenciasTrue = []\n",
    "ocurrenciasFalse = []\n",
    "\n",
    "for key in mergeDict:\n",
    "    ocurrenciasTrue.append(mergeDict[key][0])\n",
    "    ocurrenciasFalse.append(mergeDict[key][1])\n",
    "\n",
    "keys = list(mergeDict.keys())"
   ]
  },
  {
   "cell_type": "code",
   "execution_count": 220,
   "metadata": {},
   "outputs": [
    {
     "data": {
      "image/png": "[encoded data removed]",
      "text/plain": [
       "<Figure size 1152x2880 with 2 Axes>"
      ]
     },
     "metadata": {
      "needs_background": "light"
     },
     "output_type": "display_data"
    }
   ],
   "source": [
    "#Ploteamos el pyramid barchart\n",
    "labels = keys\n",
    "valuesTrue = np.array(ocurrenciasTrue)\n",
    "valuesFalse = np.array(ocurrenciasFalse)\n",
    "                               \n",
    "idx = valuesTrue.argsort()\n",
    "labels, valuesTrue, valuesFalse = [np.take(x, idx) for x in [labels, valuesTrue, valuesFalse]]\n",
    "\n",
    "y = np.arange(valuesFalse.size)\n",
    "\n",
    "fig, axes = plt.subplots(ncols=2, sharey=True)\n",
    "\n",
    "fig.set_size_inches(16, 40, forward=True)\n",
    "\n",
    "axes[0].barh(y, valuesTrue, align='center', color='green', zorder=10)\n",
    "axes[0].set(title='Cantidad de tweets verdaderos por keyword')\n",
    "axes[1].barh(y, valuesFalse, align='center', color='red', zorder=10)\n",
    "axes[1].set(title='Cantidad de tweets falsos por keyword')\n",
    "\n",
    "axes[0].invert_xaxis()\n",
    "axes[0].set(yticks=y, yticklabels=labels)\n",
    "axes[0].yaxis.tick_right()\n",
    "\n",
    "\n",
    "for ax in axes.flat:\n",
    "    ax.margins(0.005)\n",
    "    ax.grid(True)\n",
    "\n",
    "fig.tight_layout()\n",
    "fig.subplots_adjust(wspace=0.3)\n",
    "plt.show()"
   ]
  },
  {
   "cell_type": "code",
   "execution_count": 155,
   "metadata": {
    "scrolled": true
   },
   "outputs": [],
   "source": [
    "#Agarramos el top 5\n",
    "keysTrueTop ={}\n",
    "contador = 0\n",
    "for key in ocurrenciasKeywordsVerdaderas:\n",
    "    if contador in range(5):\n",
    "        keysTrueTop[key] = (mergeDict[key][0],mergeDict[key][1])\n",
    "    contador+=1\n",
    "        \n",
    "labels = list(keysTrueTop.keys())\n",
    "\n",
    "valuesTrue = []\n",
    "for key in keysTrueTop:\n",
    "    valuesTrue.append(keysTrueTop[key][0])\n",
    "\n",
    "\n",
    "valuesFalse = []\n",
    "for key in keysTrueTop:\n",
    "    valuesFalse.append(keysTrueTop[key][1])"
   ]
  },
  {
   "cell_type": "code",
   "execution_count": 156,
   "metadata": {},
   "outputs": [
    {
     "data": {
      "text/plain": [
       "Text(0.5, 1.0, 'Top 5 de keywords con mas tweets verdaderos')"
      ]
     },
     "execution_count": 156,
     "metadata": {},
     "output_type": "execute_result"
    },
    {
     "data": {
      "image/png": "[encoded data removed]",
      "text/plain": [
       "<Figure size 432x288 with 1 Axes>"
      ]
     },
     "metadata": {
      "needs_background": "light"
     },
     "output_type": "display_data"
    }
   ],
   "source": [
    "#Este es el top 5 de la lista de keywords\n",
    "df = pd.DataFrame({'Tweets verdaderos': valuesTrue,'Tweets falsos': valuesFalse}, index=labels)\n",
    "ax = df.plot.barh()\n",
    "ax.set_title(\"Top 5 de keywords con mas tweets verdaderos\", fontsize=18) "
   ]
  },
  {
   "cell_type": "code",
   "execution_count": 211,
   "metadata": {},
   "outputs": [],
   "source": [
    "#Agarramos el bot 5\n",
    "keysTrueBot ={}\n",
    "contador = 0\n",
    "for key in ocurrenciasKeywordsVerdaderas:\n",
    "    if contador in range(216,220):\n",
    "        keysTrueBot[key] = (mergeDict[key][0],mergeDict[key][1])\n",
    "    contador+=1\n",
    "\n",
    "##caso particular, no hay trues en aftershock\n",
    "aftershock = \"aftershock\"\n",
    "keysTrueBot[aftershock]= (mergeDict[aftershock][0],mergeDict[aftershock][1])\n",
    "## \n",
    "\n",
    "labels = list(keysTrueBot.keys())\n",
    "labels\n",
    "\n",
    "valuesTrue = []\n",
    "for key in keysTrueBot:\n",
    "    valuesTrue.append(keysTrueBot[key][0])\n",
    "\n",
    "\n",
    "valuesFalse = []\n",
    "for key in keysTrueBot:\n",
    "    valuesFalse.append(keysTrueBot[key][1])\n"
   ]
  },
  {
   "cell_type": "code",
   "execution_count": 212,
   "metadata": {},
   "outputs": [
    {
     "data": {
      "text/plain": [
       "Text(0.5, 1.0, 'Top 5 de keywords con mas tweets falsos')"
      ]
     },
     "execution_count": 212,
     "metadata": {},
     "output_type": "execute_result"
    },
    {
     "data": {
      "image/png": "[encoded data removed]",
      "text/plain": [
       "<Figure size 432x288 with 1 Axes>"
      ]
     },
     "metadata": {
      "needs_background": "light"
     },
     "output_type": "display_data"
    }
   ],
   "source": [
    "#Este es el bot five de la lista de keywords\n",
    "df = pd.DataFrame({'Tweets Verdaderos': valuesTrue,'Tweets Falsos': valuesFalse}, index=labels)\n",
    "ax = df.plot.barh()\n",
    "ax.set_title(\"Top 5 de keywords con mas tweets falsos\", fontsize=18) "
   ]
  },
  {
   "cell_type": "code",
   "execution_count": 213,
   "metadata": {},
   "outputs": [],
   "source": [
    "tweetsConKeyword = tweets\n",
    "tweetsConKeyword = tweetsConKeyword.drop(columns = [\"target\", \"location\",\"id\"]).dropna()"
   ]
  },
  {
   "cell_type": "code",
   "execution_count": 214,
   "metadata": {},
   "outputs": [],
   "source": [
    "tweetsConKeyword[\"keyword\"] = tweetsConKeyword[\"keyword\"].str.replace(\"%20\",\" \")\n",
    "ocurrenciasTotales = tweetsConKeyword[\"keyword\"].dropna().value_counts().to_dict()"
   ]
  },
  {
   "cell_type": "code",
   "execution_count": 215,
   "metadata": {},
   "outputs": [],
   "source": [
    "ocurrenciasTotales = tweetsConKeyword[\"keyword\"].dropna().value_counts().to_dict()\n",
    "\n",
    "for key in ocurrenciasTotales:\n",
    "    tweetDeKeyword = tweetsConKeyword.loc[tweetsConKeyword[\"keyword\"] == key]\n",
    "    ocurrenciasTotales[key] = tweetDeKeyword[\"text\"].str.contains(key).value_counts().to_dict()\n"
   ]
  },
  {
   "cell_type": "code",
   "execution_count": 216,
   "metadata": {},
   "outputs": [
    {
     "name": "stdout",
     "output_type": "stream",
     "text": [
      "143 75 3\n"
     ]
    }
   ],
   "source": [
    "keywordsMayorTrue = {}\n",
    "keywordsMayorFalse = {}\n",
    "keywordsEqualTrueFalse = {}\n",
    "\n",
    "for key in ocurrenciasTotales:\n",
    "    cantidadTrue = 0\n",
    "    cantidadFalse = 0\n",
    "    for key2 in ocurrenciasTotales[key]:\n",
    "        if key2 is True:\n",
    "            cantidadTrue = (ocurrenciasTotales[key][key2])\n",
    "        else:\n",
    "            cantidadFalse = (ocurrenciasTotales[key][key2])\n",
    "    if cantidadTrue > cantidadFalse:\n",
    "        keywordsMayorTrue[key] = (\"Mayoria True\" ,cantidadTrue)\n",
    "    elif cantidadTrue < cantidadFalse:\n",
    "        keywordsMayorFalse[key]= (\"Mayoria False\",cantidadFalse)\n",
    "    else:\n",
    "        keywordsEqualTrueFalse[key]= (\"Cantidad True y False\" ,cantidadTrue,cantidadFalse)\n",
    "        \n",
    "keywordMatchTrue = len(keywordsMayorTrue.keys())\n",
    "keywordMatchFalse = len(keywordsMayorFalse.keys())\n",
    "keywordMatchEqual = len(keywordsEqualTrueFalse.keys())\n",
    "print(keywordMatchTrue,keywordMatchFalse,keywordMatchEqual)"
   ]
  },
  {
   "cell_type": "code",
   "execution_count": 217,
   "metadata": {},
   "outputs": [
    {
     "name": "stdout",
     "output_type": "stream",
     "text": [
      "keyword    7552\n",
      "text       7552\n",
      "dtype: int64\n"
     ]
    },
    {
     "data": {
      "text/html": [
       "<div>\n",
       "<style scoped>\n",
       "    .dataframe tbody tr th:only-of-type {\n",
       "        vertical-align: middle;\n",
       "    }\n",
       "\n",
       "    .dataframe tbody tr th {\n",
       "        vertical-align: top;\n",
       "    }\n",
       "\n",
       "    .dataframe thead th {\n",
       "        text-align: right;\n",
       "    }\n",
       "</style>\n",
       "<table border=\"1\" class=\"dataframe\">\n",
       "  <thead>\n",
       "    <tr style=\"text-align: right;\">\n",
       "      <th></th>\n",
       "      <th>keyword</th>\n",
       "      <th>text</th>\n",
       "    </tr>\n",
       "  </thead>\n",
       "  <tbody>\n",
       "    <tr>\n",
       "      <th>31</th>\n",
       "      <td>ablaze</td>\n",
       "      <td>@bbcmtd Wholesale Markets ablaze http://t.co/l...</td>\n",
       "    </tr>\n",
       "    <tr>\n",
       "      <th>32</th>\n",
       "      <td>ablaze</td>\n",
       "      <td>We always try to bring the heavy. #metal #RT h...</td>\n",
       "    </tr>\n",
       "    <tr>\n",
       "      <th>33</th>\n",
       "      <td>ablaze</td>\n",
       "      <td>#AFRICANBAZE: Breaking news:Nigeria flag set a...</td>\n",
       "    </tr>\n",
       "    <tr>\n",
       "      <th>34</th>\n",
       "      <td>ablaze</td>\n",
       "      <td>Crying out for more! Set me ablaze</td>\n",
       "    </tr>\n",
       "    <tr>\n",
       "      <th>35</th>\n",
       "      <td>ablaze</td>\n",
       "      <td>On plus side LOOK AT THE SKY LAST NIGHT IT WAS...</td>\n",
       "    </tr>\n",
       "    <tr>\n",
       "      <th>...</th>\n",
       "      <td>...</td>\n",
       "      <td>...</td>\n",
       "    </tr>\n",
       "    <tr>\n",
       "      <th>7578</th>\n",
       "      <td>wrecked</td>\n",
       "      <td>@jt_ruff23 @cameronhacker and I wrecked you both</td>\n",
       "    </tr>\n",
       "    <tr>\n",
       "      <th>7579</th>\n",
       "      <td>wrecked</td>\n",
       "      <td>Three days off from work and they've pretty mu...</td>\n",
       "    </tr>\n",
       "    <tr>\n",
       "      <th>7580</th>\n",
       "      <td>wrecked</td>\n",
       "      <td>#FX #forex #trading Cramer: Iger's 3 words tha...</td>\n",
       "    </tr>\n",
       "    <tr>\n",
       "      <th>7581</th>\n",
       "      <td>wrecked</td>\n",
       "      <td>@engineshed Great atmosphere at the British Li...</td>\n",
       "    </tr>\n",
       "    <tr>\n",
       "      <th>7582</th>\n",
       "      <td>wrecked</td>\n",
       "      <td>Cramer: Iger's 3 words that wrecked Disney's s...</td>\n",
       "    </tr>\n",
       "  </tbody>\n",
       "</table>\n",
       "<p>7552 rows × 2 columns</p>\n",
       "</div>"
      ],
      "text/plain": [
       "      keyword                                               text\n",
       "31     ablaze  @bbcmtd Wholesale Markets ablaze http://t.co/l...\n",
       "32     ablaze  We always try to bring the heavy. #metal #RT h...\n",
       "33     ablaze  #AFRICANBAZE: Breaking news:Nigeria flag set a...\n",
       "34     ablaze                 Crying out for more! Set me ablaze\n",
       "35     ablaze  On plus side LOOK AT THE SKY LAST NIGHT IT WAS...\n",
       "...       ...                                                ...\n",
       "7578  wrecked   @jt_ruff23 @cameronhacker and I wrecked you both\n",
       "7579  wrecked  Three days off from work and they've pretty mu...\n",
       "7580  wrecked  #FX #forex #trading Cramer: Iger's 3 words tha...\n",
       "7581  wrecked  @engineshed Great atmosphere at the British Li...\n",
       "7582  wrecked  Cramer: Iger's 3 words that wrecked Disney's s...\n",
       "\n",
       "[7552 rows x 2 columns]"
      ]
     },
     "execution_count": 217,
     "metadata": {},
     "output_type": "execute_result"
    }
   ],
   "source": [
    "print(tweetsConKeyword.count())\n",
    "tweetsConKeyword"
   ]
  },
  {
   "cell_type": "code",
   "execution_count": 164,
   "metadata": {},
   "outputs": [
    {
     "name": "stdout",
     "output_type": "stream",
     "text": [
      "keyword    7465\n",
      "text       7465\n",
      "dtype: int64\n"
     ]
    }
   ],
   "source": [
    "tweetsConKeywordSinDuplicados = tweetsConKeyword\n",
    "tweetDeKeyword = tweetsConKeywordSinDuplicados.drop_duplicates(inplace=True)\n",
    "print(tweetsConKeywordSinDuplicados.count())\n"
   ]
  },
  {
   "cell_type": "code",
   "execution_count": 165,
   "metadata": {},
   "outputs": [],
   "source": [
    "ocurrenciasTotalesSinDuplicados = tweetsConKeywordSinDuplicados[\"keyword\"].dropna().value_counts().to_dict()\n",
    "\n",
    "for key in ocurrenciasTotalesSinDuplicados:\n",
    "    tweetDeKeyword = tweetsConKeywordSinDuplicados.loc[tweetsConKeywordSinDuplicados[\"keyword\"] == key]\n",
    "    ocurrenciasTotalesSinDuplicados[key] = tweetDeKeyword[\"text\"].str.contains(key).value_counts().to_dict()\n"
   ]
  },
  {
   "cell_type": "code",
   "execution_count": 166,
   "metadata": {},
   "outputs": [
    {
     "data": {
      "text/html": [
       "<div>\n",
       "<style scoped>\n",
       "    .dataframe tbody tr th:only-of-type {\n",
       "        vertical-align: middle;\n",
       "    }\n",
       "\n",
       "    .dataframe tbody tr th {\n",
       "        vertical-align: top;\n",
       "    }\n",
       "\n",
       "    .dataframe thead th {\n",
       "        text-align: right;\n",
       "    }\n",
       "</style>\n",
       "<table border=\"1\" class=\"dataframe\">\n",
       "  <thead>\n",
       "    <tr style=\"text-align: right;\">\n",
       "      <th></th>\n",
       "      <th>keyword</th>\n",
       "      <th>text</th>\n",
       "    </tr>\n",
       "  </thead>\n",
       "  <tbody>\n",
       "    <tr>\n",
       "      <th>5875</th>\n",
       "      <td>sandstorm</td>\n",
       "      <td>@CTAZtrophe31 Everything must be OK because sh...</td>\n",
       "    </tr>\n",
       "    <tr>\n",
       "      <th>5876</th>\n",
       "      <td>sandstorm</td>\n",
       "      <td>Watch This Airport Get Swallowed Up By A Sands...</td>\n",
       "    </tr>\n",
       "    <tr>\n",
       "      <th>5877</th>\n",
       "      <td>sandstorm</td>\n",
       "      <td>Watch This Airport Get Swallowed Up By A Sands...</td>\n",
       "    </tr>\n",
       "    <tr>\n",
       "      <th>5878</th>\n",
       "      <td>sandstorm</td>\n",
       "      <td>@Hienshi @Gbay99 it wouldnt turn into a sandst...</td>\n",
       "    </tr>\n",
       "    <tr>\n",
       "      <th>5879</th>\n",
       "      <td>sandstorm</td>\n",
       "      <td>Watch This Airport Get Swallowed Up By A Sands...</td>\n",
       "    </tr>\n",
       "    <tr>\n",
       "      <th>5880</th>\n",
       "      <td>sandstorm</td>\n",
       "      <td>I liked a @YouTube video http://t.co/xR3xJJ8gJ...</td>\n",
       "    </tr>\n",
       "    <tr>\n",
       "      <th>5881</th>\n",
       "      <td>sandstorm</td>\n",
       "      <td>Watch This Airport Get Swallowed Up By A Sands...</td>\n",
       "    </tr>\n",
       "    <tr>\n",
       "      <th>5882</th>\n",
       "      <td>sandstorm</td>\n",
       "      <td>Watch This Airport Get Swallowed Up By A Sands...</td>\n",
       "    </tr>\n",
       "    <tr>\n",
       "      <th>5883</th>\n",
       "      <td>sandstorm</td>\n",
       "      <td>Watch This Airport Get Swallowed Up By A Sands...</td>\n",
       "    </tr>\n",
       "    <tr>\n",
       "      <th>5884</th>\n",
       "      <td>sandstorm</td>\n",
       "      <td>Watch This Airport Get Swallowed Up By A Sands...</td>\n",
       "    </tr>\n",
       "    <tr>\n",
       "      <th>5885</th>\n",
       "      <td>sandstorm</td>\n",
       "      <td>Watch This Airport Get Swallowed Up By A Sands...</td>\n",
       "    </tr>\n",
       "    <tr>\n",
       "      <th>5886</th>\n",
       "      <td>sandstorm</td>\n",
       "      <td>A sandstorm in Jordan has coated the Middle Ea...</td>\n",
       "    </tr>\n",
       "    <tr>\n",
       "      <th>5887</th>\n",
       "      <td>sandstorm</td>\n",
       "      <td>SANDSTORM!!! WOO HOO!!</td>\n",
       "    </tr>\n",
       "    <tr>\n",
       "      <th>5888</th>\n",
       "      <td>sandstorm</td>\n",
       "      <td>Watch This Airport Get Swallowed Up By A Sands...</td>\n",
       "    </tr>\n",
       "    <tr>\n",
       "      <th>5889</th>\n",
       "      <td>sandstorm</td>\n",
       "      <td>Watch This Airport Get Swallowed Up By A Sands...</td>\n",
       "    </tr>\n",
       "    <tr>\n",
       "      <th>5890</th>\n",
       "      <td>sandstorm</td>\n",
       "      <td>Watch This Airport Get Swallowed Up By A Sands...</td>\n",
       "    </tr>\n",
       "    <tr>\n",
       "      <th>5891</th>\n",
       "      <td>sandstorm</td>\n",
       "      <td>Watch This Airport Get Swallowed Up By A Sands...</td>\n",
       "    </tr>\n",
       "    <tr>\n",
       "      <th>5892</th>\n",
       "      <td>sandstorm</td>\n",
       "      <td>Who need friends when there's booze and Darude...</td>\n",
       "    </tr>\n",
       "    <tr>\n",
       "      <th>5893</th>\n",
       "      <td>sandstorm</td>\n",
       "      <td>SocialWOTS: GLOBI_inclusion: RT NRC_MiddleEast...</td>\n",
       "    </tr>\n",
       "    <tr>\n",
       "      <th>5894</th>\n",
       "      <td>sandstorm</td>\n",
       "      <td>Watch This Airport Get Swallowed Up By A Sands...</td>\n",
       "    </tr>\n",
       "    <tr>\n",
       "      <th>5895</th>\n",
       "      <td>sandstorm</td>\n",
       "      <td>Watch This Airport Get Swallowed Up By A Sands...</td>\n",
       "    </tr>\n",
       "    <tr>\n",
       "      <th>5896</th>\n",
       "      <td>sandstorm</td>\n",
       "      <td>Watch This Airport Get Swallowed Up By A Sands...</td>\n",
       "    </tr>\n",
       "    <tr>\n",
       "      <th>5897</th>\n",
       "      <td>sandstorm</td>\n",
       "      <td>Watch This Airport Get Swallowed Up By A Sands...</td>\n",
       "    </tr>\n",
       "    <tr>\n",
       "      <th>5898</th>\n",
       "      <td>sandstorm</td>\n",
       "      <td>Watch This Airport Get Swallowed Up By A Sands...</td>\n",
       "    </tr>\n",
       "    <tr>\n",
       "      <th>5899</th>\n",
       "      <td>sandstorm</td>\n",
       "      <td>@SunderCR two hours of Sandstorm remixes. All ...</td>\n",
       "    </tr>\n",
       "    <tr>\n",
       "      <th>5900</th>\n",
       "      <td>sandstorm</td>\n",
       "      <td>Watch This Airport Get Swallowed Up By A Sands...</td>\n",
       "    </tr>\n",
       "    <tr>\n",
       "      <th>5901</th>\n",
       "      <td>sandstorm</td>\n",
       "      <td>Watch This Airport Get Swallowed Up By A Sands...</td>\n",
       "    </tr>\n",
       "    <tr>\n",
       "      <th>5902</th>\n",
       "      <td>sandstorm</td>\n",
       "      <td>PUT SANDSTORM DOWN!!!! https://t.co/EfKCoegJck</td>\n",
       "    </tr>\n",
       "    <tr>\n",
       "      <th>5903</th>\n",
       "      <td>sandstorm</td>\n",
       "      <td>Watch This Airport Get Swallowed Up By A Sands...</td>\n",
       "    </tr>\n",
       "    <tr>\n",
       "      <th>5904</th>\n",
       "      <td>sandstorm</td>\n",
       "      <td>Watch This Airport Get Swallowed Up By A Sands...</td>\n",
       "    </tr>\n",
       "    <tr>\n",
       "      <th>5905</th>\n",
       "      <td>sandstorm</td>\n",
       "      <td>Watch This Airport Get Swallowed Up By A Sands...</td>\n",
       "    </tr>\n",
       "    <tr>\n",
       "      <th>5906</th>\n",
       "      <td>sandstorm</td>\n",
       "      <td>Come out to Sandstorm tryouts Aug 15th at Lowe...</td>\n",
       "    </tr>\n",
       "    <tr>\n",
       "      <th>5907</th>\n",
       "      <td>sandstorm</td>\n",
       "      <td>Watch This Airport Get Swallowed Up By A Sands...</td>\n",
       "    </tr>\n",
       "    <tr>\n",
       "      <th>5908</th>\n",
       "      <td>sandstorm</td>\n",
       "      <td>@VillicanaAlicia [[Is it Darude Sandstorm?]]</td>\n",
       "    </tr>\n",
       "    <tr>\n",
       "      <th>5909</th>\n",
       "      <td>sandstorm</td>\n",
       "      <td>I can't listen to Darude Sandstorm without exp...</td>\n",
       "    </tr>\n",
       "    <tr>\n",
       "      <th>5910</th>\n",
       "      <td>sandstorm</td>\n",
       "      <td>Now playing: Darude - Sandstorm - radio edit h...</td>\n",
       "    </tr>\n",
       "    <tr>\n",
       "      <th>5911</th>\n",
       "      <td>sandstorm</td>\n",
       "      <td>Watch This Airport Get Swallowed Up By A Sands...</td>\n",
       "    </tr>\n",
       "  </tbody>\n",
       "</table>\n",
       "</div>"
      ],
      "text/plain": [
       "        keyword                                               text\n",
       "5875  sandstorm  @CTAZtrophe31 Everything must be OK because sh...\n",
       "5876  sandstorm  Watch This Airport Get Swallowed Up By A Sands...\n",
       "5877  sandstorm  Watch This Airport Get Swallowed Up By A Sands...\n",
       "5878  sandstorm  @Hienshi @Gbay99 it wouldnt turn into a sandst...\n",
       "5879  sandstorm  Watch This Airport Get Swallowed Up By A Sands...\n",
       "5880  sandstorm  I liked a @YouTube video http://t.co/xR3xJJ8gJ...\n",
       "5881  sandstorm  Watch This Airport Get Swallowed Up By A Sands...\n",
       "5882  sandstorm  Watch This Airport Get Swallowed Up By A Sands...\n",
       "5883  sandstorm  Watch This Airport Get Swallowed Up By A Sands...\n",
       "5884  sandstorm  Watch This Airport Get Swallowed Up By A Sands...\n",
       "5885  sandstorm  Watch This Airport Get Swallowed Up By A Sands...\n",
       "5886  sandstorm  A sandstorm in Jordan has coated the Middle Ea...\n",
       "5887  sandstorm                             SANDSTORM!!! WOO HOO!!\n",
       "5888  sandstorm  Watch This Airport Get Swallowed Up By A Sands...\n",
       "5889  sandstorm  Watch This Airport Get Swallowed Up By A Sands...\n",
       "5890  sandstorm  Watch This Airport Get Swallowed Up By A Sands...\n",
       "5891  sandstorm  Watch This Airport Get Swallowed Up By A Sands...\n",
       "5892  sandstorm  Who need friends when there's booze and Darude...\n",
       "5893  sandstorm  SocialWOTS: GLOBI_inclusion: RT NRC_MiddleEast...\n",
       "5894  sandstorm  Watch This Airport Get Swallowed Up By A Sands...\n",
       "5895  sandstorm  Watch This Airport Get Swallowed Up By A Sands...\n",
       "5896  sandstorm  Watch This Airport Get Swallowed Up By A Sands...\n",
       "5897  sandstorm  Watch This Airport Get Swallowed Up By A Sands...\n",
       "5898  sandstorm  Watch This Airport Get Swallowed Up By A Sands...\n",
       "5899  sandstorm  @SunderCR two hours of Sandstorm remixes. All ...\n",
       "5900  sandstorm  Watch This Airport Get Swallowed Up By A Sands...\n",
       "5901  sandstorm  Watch This Airport Get Swallowed Up By A Sands...\n",
       "5902  sandstorm     PUT SANDSTORM DOWN!!!! https://t.co/EfKCoegJck\n",
       "5903  sandstorm  Watch This Airport Get Swallowed Up By A Sands...\n",
       "5904  sandstorm  Watch This Airport Get Swallowed Up By A Sands...\n",
       "5905  sandstorm  Watch This Airport Get Swallowed Up By A Sands...\n",
       "5906  sandstorm  Come out to Sandstorm tryouts Aug 15th at Lowe...\n",
       "5907  sandstorm  Watch This Airport Get Swallowed Up By A Sands...\n",
       "5908  sandstorm       @VillicanaAlicia [[Is it Darude Sandstorm?]]\n",
       "5909  sandstorm  I can't listen to Darude Sandstorm without exp...\n",
       "5910  sandstorm  Now playing: Darude - Sandstorm - radio edit h...\n",
       "5911  sandstorm  Watch This Airport Get Swallowed Up By A Sands..."
      ]
     },
     "execution_count": 166,
     "metadata": {},
     "output_type": "execute_result"
    }
   ],
   "source": [
    "tweetsSandstorm = tweetsConKeywordSinDuplicados.loc[tweetsConKeywordSinDuplicados[\"keyword\"] == \"sandstorm\"]\n",
    "tweetsSandstorm"
   ]
  },
  {
   "cell_type": "markdown",
   "metadata": {},
   "source": [
    " ### aca empezamos a analizar en base a location"
   ]
  },
  {
   "cell_type": "code",
   "execution_count": 167,
   "metadata": {},
   "outputs": [
    {
     "data": {
      "text/plain": [
       "id          5080\n",
       "keyword     5080\n",
       "location    5080\n",
       "text        5080\n",
       "target      5080\n",
       "dtype: int64"
      ]
     },
     "execution_count": 167,
     "metadata": {},
     "output_type": "execute_result"
    }
   ],
   "source": [
    "tweets_with_location = df_tweets.loc[df_tweets['location'].notnull()]\n",
    "tweets_with_location.count()"
   ]
  },
  {
   "cell_type": "markdown",
   "metadata": {},
   "source": [
    "dato curioso: todos los tweets con location tienen keyword tambien"
   ]
  },
  {
   "cell_type": "code",
   "execution_count": 168,
   "metadata": {},
   "outputs": [
    {
     "name": "stderr",
     "output_type": "stream",
     "text": [
      "/home/nico/anaconda3/lib/python3.7/site-packages/ipykernel_launcher.py:2: SettingWithCopyWarning: \n",
      "A value is trying to be set on a copy of a slice from a DataFrame.\n",
      "Try using .loc[row_indexer,col_indexer] = value instead\n",
      "\n",
      "See the caveats in the documentation: https://pandas.pydata.org/pandas-docs/stable/user_guide/indexing.html#returning-a-view-versus-a-copy\n",
      "  \n"
     ]
    }
   ],
   "source": [
    "#casteo target de bool a int para poder sumarlo\n",
    "tweets_with_location['target'] = tweets_with_location['target'].astype(int)"
   ]
  },
  {
   "cell_type": "code",
   "execution_count": 169,
   "metadata": {},
   "outputs": [
    {
     "data": {
      "text/html": [
       "<div>\n",
       "<style scoped>\n",
       "    .dataframe tbody tr th:only-of-type {\n",
       "        vertical-align: middle;\n",
       "    }\n",
       "\n",
       "    .dataframe tbody tr th {\n",
       "        vertical-align: top;\n",
       "    }\n",
       "\n",
       "    .dataframe thead tr th {\n",
       "        text-align: left;\n",
       "    }\n",
       "\n",
       "    .dataframe thead tr:last-of-type th {\n",
       "        text-align: right;\n",
       "    }\n",
       "</style>\n",
       "<table border=\"1\" class=\"dataframe\">\n",
       "  <thead>\n",
       "    <tr>\n",
       "      <th></th>\n",
       "      <th>location</th>\n",
       "      <th>target</th>\n",
       "    </tr>\n",
       "    <tr>\n",
       "      <th></th>\n",
       "      <th>count</th>\n",
       "      <th>sum</th>\n",
       "    </tr>\n",
       "    <tr>\n",
       "      <th>location</th>\n",
       "      <th></th>\n",
       "      <th></th>\n",
       "    </tr>\n",
       "  </thead>\n",
       "  <tbody>\n",
       "    <tr>\n",
       "      <th>USA</th>\n",
       "      <td>104</td>\n",
       "      <td>67</td>\n",
       "    </tr>\n",
       "    <tr>\n",
       "      <th>New York</th>\n",
       "      <td>71</td>\n",
       "      <td>16</td>\n",
       "    </tr>\n",
       "    <tr>\n",
       "      <th>United States</th>\n",
       "      <td>50</td>\n",
       "      <td>27</td>\n",
       "    </tr>\n",
       "    <tr>\n",
       "      <th>London</th>\n",
       "      <td>45</td>\n",
       "      <td>16</td>\n",
       "    </tr>\n",
       "    <tr>\n",
       "      <th>Canada</th>\n",
       "      <td>29</td>\n",
       "      <td>13</td>\n",
       "    </tr>\n",
       "    <tr>\n",
       "      <th>Nigeria</th>\n",
       "      <td>28</td>\n",
       "      <td>22</td>\n",
       "    </tr>\n",
       "    <tr>\n",
       "      <th>UK</th>\n",
       "      <td>27</td>\n",
       "      <td>16</td>\n",
       "    </tr>\n",
       "    <tr>\n",
       "      <th>Los Angeles, CA</th>\n",
       "      <td>26</td>\n",
       "      <td>8</td>\n",
       "    </tr>\n",
       "    <tr>\n",
       "      <th>India</th>\n",
       "      <td>24</td>\n",
       "      <td>20</td>\n",
       "    </tr>\n",
       "    <tr>\n",
       "      <th>Mumbai</th>\n",
       "      <td>22</td>\n",
       "      <td>19</td>\n",
       "    </tr>\n",
       "  </tbody>\n",
       "</table>\n",
       "</div>"
      ],
      "text/plain": [
       "                location target\n",
       "                   count    sum\n",
       "location                       \n",
       "USA                  104     67\n",
       "New York              71     16\n",
       "United States         50     27\n",
       "London                45     16\n",
       "Canada                29     13\n",
       "Nigeria               28     22\n",
       "UK                    27     16\n",
       "Los Angeles, CA       26      8\n",
       "India                 24     20\n",
       "Mumbai                22     19"
      ]
     },
     "execution_count": 169,
     "metadata": {},
     "output_type": "execute_result"
    }
   ],
   "source": [
    "#agrupo los tweets por location\n",
    "grouped_by_location = tweets_with_location.groupby(['location']).agg({'location':['count'], 'target':['sum'] })\n",
    "grouped_by_location.sort_values(('location', 'count'), ascending = False).head(10)"
   ]
  },
  {
   "cell_type": "code",
   "execution_count": 170,
   "metadata": {},
   "outputs": [
    {
     "data": {
      "text/html": [
       "<div>\n",
       "<style scoped>\n",
       "    .dataframe tbody tr th:only-of-type {\n",
       "        vertical-align: middle;\n",
       "    }\n",
       "\n",
       "    .dataframe tbody tr th {\n",
       "        vertical-align: top;\n",
       "    }\n",
       "\n",
       "    .dataframe thead tr th {\n",
       "        text-align: left;\n",
       "    }\n",
       "\n",
       "    .dataframe thead tr:last-of-type th {\n",
       "        text-align: right;\n",
       "    }\n",
       "</style>\n",
       "<table border=\"1\" class=\"dataframe\">\n",
       "  <thead>\n",
       "    <tr>\n",
       "      <th></th>\n",
       "      <th>location</th>\n",
       "      <th colspan=\"2\" halign=\"left\">target</th>\n",
       "    </tr>\n",
       "    <tr>\n",
       "      <th></th>\n",
       "      <th>count</th>\n",
       "      <th>sum</th>\n",
       "      <th>false_tweets</th>\n",
       "    </tr>\n",
       "    <tr>\n",
       "      <th>location</th>\n",
       "      <th></th>\n",
       "      <th></th>\n",
       "      <th></th>\n",
       "    </tr>\n",
       "  </thead>\n",
       "  <tbody>\n",
       "    <tr>\n",
       "      <th>New York</th>\n",
       "      <td>71</td>\n",
       "      <td>16</td>\n",
       "      <td>55</td>\n",
       "    </tr>\n",
       "    <tr>\n",
       "      <th>USA</th>\n",
       "      <td>104</td>\n",
       "      <td>67</td>\n",
       "      <td>37</td>\n",
       "    </tr>\n",
       "    <tr>\n",
       "      <th>London</th>\n",
       "      <td>45</td>\n",
       "      <td>16</td>\n",
       "      <td>29</td>\n",
       "    </tr>\n",
       "    <tr>\n",
       "      <th>United States</th>\n",
       "      <td>50</td>\n",
       "      <td>27</td>\n",
       "      <td>23</td>\n",
       "    </tr>\n",
       "    <tr>\n",
       "      <th>Los Angeles, CA</th>\n",
       "      <td>26</td>\n",
       "      <td>8</td>\n",
       "      <td>18</td>\n",
       "    </tr>\n",
       "  </tbody>\n",
       "</table>\n",
       "</div>"
      ],
      "text/plain": [
       "                location target             \n",
       "                   count    sum false_tweets\n",
       "location                                    \n",
       "New York              71     16           55\n",
       "USA                  104     67           37\n",
       "London                45     16           29\n",
       "United States         50     27           23\n",
       "Los Angeles, CA       26      8           18"
      ]
     },
     "execution_count": 170,
     "metadata": {},
     "output_type": "execute_result"
    }
   ],
   "source": [
    "#creo una nueva columna que contiene la cantidad tweets falsos para cada location\n",
    "grouped_by_location[('target', 'false_tweets')] = grouped_by_location[('location', 'count')] - grouped_by_location[('target', 'sum')]\n",
    "grouped_by_location.sort_values(('target', 'false_tweets'), ascending = False).head()"
   ]
  },
  {
   "cell_type": "markdown",
   "metadata": {},
   "source": [
    " CANTIDAD TOTAL DE LOCATIONS = 3342"
   ]
  },
  {
   "cell_type": "code",
   "execution_count": 171,
   "metadata": {},
   "outputs": [
    {
     "data": {
      "text/html": [
       "<div>\n",
       "<style scoped>\n",
       "    .dataframe tbody tr th:only-of-type {\n",
       "        vertical-align: middle;\n",
       "    }\n",
       "\n",
       "    .dataframe tbody tr th {\n",
       "        vertical-align: top;\n",
       "    }\n",
       "\n",
       "    .dataframe thead tr th {\n",
       "        text-align: left;\n",
       "    }\n",
       "\n",
       "    .dataframe thead tr:last-of-type th {\n",
       "        text-align: right;\n",
       "    }\n",
       "</style>\n",
       "<table border=\"1\" class=\"dataframe\">\n",
       "  <thead>\n",
       "    <tr>\n",
       "      <th></th>\n",
       "      <th>location</th>\n",
       "      <th colspan=\"2\" halign=\"left\">target</th>\n",
       "    </tr>\n",
       "    <tr>\n",
       "      <th></th>\n",
       "      <th>count</th>\n",
       "      <th>sum</th>\n",
       "      <th>false_tweets</th>\n",
       "    </tr>\n",
       "    <tr>\n",
       "      <th>location</th>\n",
       "      <th></th>\n",
       "      <th></th>\n",
       "      <th></th>\n",
       "    </tr>\n",
       "  </thead>\n",
       "  <tbody>\n",
       "    <tr>\n",
       "      <th>304</th>\n",
       "      <td>9</td>\n",
       "      <td>0</td>\n",
       "      <td>9</td>\n",
       "    </tr>\n",
       "    <tr>\n",
       "      <th>Pennsylvania, USA</th>\n",
       "      <td>7</td>\n",
       "      <td>0</td>\n",
       "      <td>7</td>\n",
       "    </tr>\n",
       "    <tr>\n",
       "      <th>Morioh, Japan</th>\n",
       "      <td>6</td>\n",
       "      <td>0</td>\n",
       "      <td>6</td>\n",
       "    </tr>\n",
       "    <tr>\n",
       "      <th>Wisconsin</th>\n",
       "      <td>5</td>\n",
       "      <td>0</td>\n",
       "      <td>5</td>\n",
       "    </tr>\n",
       "    <tr>\n",
       "      <th>Coventry</th>\n",
       "      <td>5</td>\n",
       "      <td>0</td>\n",
       "      <td>5</td>\n",
       "    </tr>\n",
       "  </tbody>\n",
       "</table>\n",
       "</div>"
      ],
      "text/plain": [
       "                  location target             \n",
       "                     count    sum false_tweets\n",
       "location                                      \n",
       "304                      9      0            9\n",
       "Pennsylvania, USA        7      0            7\n",
       "Morioh, Japan            6      0            6\n",
       "Wisconsin                5      0            5\n",
       "Coventry                 5      0            5"
      ]
     },
     "execution_count": 171,
     "metadata": {},
     "output_type": "execute_result"
    }
   ],
   "source": [
    "#busco las locations que solo tienen tweets Falsos. Muestro el top 5\n",
    "only_false_tweets = grouped_by_location.loc[grouped_by_location[('location','count')] == grouped_by_location[('target', 'false_tweets')]]\n",
    "only_false_tweets.sort_values(('location', 'count'), ascending = False).head(5)"
   ]
  },
  {
   "cell_type": "code",
   "execution_count": 172,
   "metadata": {},
   "outputs": [
    {
     "data": {
      "text/plain": [
       "location  count           1828\n",
       "target    sum             1828\n",
       "          false_tweets    1828\n",
       "dtype: int64"
      ]
     },
     "execution_count": 172,
     "metadata": {},
     "output_type": "execute_result"
    }
   ],
   "source": [
    "#cuento cuantas locations SOLO tienen tweets falsos\n",
    "only_false_tweets.count()"
   ]
  },
  {
   "cell_type": "code",
   "execution_count": 173,
   "metadata": {},
   "outputs": [
    {
     "data": {
      "text/plain": [
       "54.69778575703172"
      ]
     },
     "execution_count": 173,
     "metadata": {},
     "output_type": "execute_result"
    }
   ],
   "source": [
    "#calculo el porcentaje de locations que solo tiene tweets falsos\n",
    "pct_only_false = 1828/3342*100\n",
    "pct_only_false"
   ]
  },
  {
   "cell_type": "markdown",
   "metadata": {},
   "source": [
    "54,69% de las locations usadas solo contienen tweets falsos"
   ]
  },
  {
   "cell_type": "code",
   "execution_count": 174,
   "metadata": {},
   "outputs": [
    {
     "data": {
      "text/html": [
       "<div>\n",
       "<style scoped>\n",
       "    .dataframe tbody tr th:only-of-type {\n",
       "        vertical-align: middle;\n",
       "    }\n",
       "\n",
       "    .dataframe tbody tr th {\n",
       "        vertical-align: top;\n",
       "    }\n",
       "\n",
       "    .dataframe thead tr th {\n",
       "        text-align: left;\n",
       "    }\n",
       "\n",
       "    .dataframe thead tr:last-of-type th {\n",
       "        text-align: right;\n",
       "    }\n",
       "</style>\n",
       "<table border=\"1\" class=\"dataframe\">\n",
       "  <thead>\n",
       "    <tr>\n",
       "      <th></th>\n",
       "      <th>location</th>\n",
       "      <th colspan=\"2\" halign=\"left\">target</th>\n",
       "    </tr>\n",
       "    <tr>\n",
       "      <th></th>\n",
       "      <th>count</th>\n",
       "      <th>sum</th>\n",
       "      <th>false_tweets</th>\n",
       "    </tr>\n",
       "    <tr>\n",
       "      <th>location</th>\n",
       "      <th></th>\n",
       "      <th></th>\n",
       "      <th></th>\n",
       "    </tr>\n",
       "  </thead>\n",
       "  <tbody>\n",
       "    <tr>\n",
       "      <th>Portland, Oregon</th>\n",
       "      <td>4</td>\n",
       "      <td>4</td>\n",
       "      <td>0</td>\n",
       "    </tr>\n",
       "    <tr>\n",
       "      <th>Midwest</th>\n",
       "      <td>4</td>\n",
       "      <td>4</td>\n",
       "      <td>0</td>\n",
       "    </tr>\n",
       "    <tr>\n",
       "      <th>Calgary</th>\n",
       "      <td>4</td>\n",
       "      <td>4</td>\n",
       "      <td>0</td>\n",
       "    </tr>\n",
       "    <tr>\n",
       "      <th>canada</th>\n",
       "      <td>4</td>\n",
       "      <td>4</td>\n",
       "      <td>0</td>\n",
       "    </tr>\n",
       "    <tr>\n",
       "      <th>Jakarta/Kuala Lumpur/S'pore</th>\n",
       "      <td>4</td>\n",
       "      <td>4</td>\n",
       "      <td>0</td>\n",
       "    </tr>\n",
       "  </tbody>\n",
       "</table>\n",
       "</div>"
      ],
      "text/plain": [
       "                            location target             \n",
       "                               count    sum false_tweets\n",
       "location                                                \n",
       "Portland, Oregon                   4      4            0\n",
       "Midwest                            4      4            0\n",
       "Calgary                            4      4            0\n",
       "canada                             4      4            0\n",
       "Jakarta/Kuala Lumpur/S'pore        4      4            0"
      ]
     },
     "execution_count": 174,
     "metadata": {},
     "output_type": "execute_result"
    }
   ],
   "source": [
    "#busco las locations que solo tienen tweets verdaderos. Muestro el top 5\n",
    "only_true_tweets = grouped_by_location.loc[grouped_by_location[('location','count')] == grouped_by_location[('target', 'sum')]]\n",
    "only_true_tweets.sort_values(('location', 'count'), ascending = False).head()"
   ]
  },
  {
   "cell_type": "code",
   "execution_count": 175,
   "metadata": {},
   "outputs": [
    {
     "data": {
      "text/plain": [
       "location  count           1199\n",
       "target    sum             1199\n",
       "          false_tweets    1199\n",
       "dtype: int64"
      ]
     },
     "execution_count": 175,
     "metadata": {},
     "output_type": "execute_result"
    }
   ],
   "source": [
    "# cuento cantidad de locations con tweets SOLO verdaderos\n",
    "only_true_tweets.count()"
   ]
  },
  {
   "cell_type": "code",
   "execution_count": 176,
   "metadata": {},
   "outputs": [
    {
     "data": {
      "text/plain": [
       "35.87672052663076"
      ]
     },
     "execution_count": 176,
     "metadata": {},
     "output_type": "execute_result"
    }
   ],
   "source": [
    "pct_only_true = 1199/3342*100\n",
    "pct_only_true"
   ]
  },
  {
   "cell_type": "markdown",
   "metadata": {},
   "source": [
    "35.87% de todas las locations contienen tweets que solamente son verdaderos"
   ]
  },
  {
   "cell_type": "code",
   "execution_count": 177,
   "metadata": {},
   "outputs": [
    {
     "data": {
      "text/plain": [
       "9.42549371633752"
      ]
     },
     "execution_count": 177,
     "metadata": {},
     "output_type": "execute_result"
    }
   ],
   "source": [
    "#calculo porcentaje de locations que tienen tanto tweets verdaderos como falsos\n",
    "100 -pct_only_true - pct_only_false"
   ]
  },
  {
   "cell_type": "markdown",
   "metadata": {},
   "source": [
    "Solo 9,4% de las locations tienen tweets tantos verdaderos como falsos"
   ]
  },
  {
   "cell_type": "markdown",
   "metadata": {},
   "source": [
    "podemos hacer un pie chart de estos porcentajes"
   ]
  },
  {
   "cell_type": "code",
   "execution_count": 178,
   "metadata": {},
   "outputs": [
    {
     "data": {
      "image/png": "[encoded data removed]",
      "text/plain": [
       "<Figure size 432x288 with 1 Axes>"
      ]
     },
     "metadata": {},
     "output_type": "display_data"
    }
   ],
   "source": [
    "labels = [r'Solo contienen tweets Falsos (1828)', r'Solo contienen tweets Verdaderos (1199)', \n",
    "r'contienen tweets verdaderos y falsos (315)']\n",
    "sizes = [54.7, 35.9, 9.4]\n",
    "\n",
    "patches, texts, _ = plt.pie(sizes, autopct = '%1.1f%%', startangle=90)\n",
    "plt.legend(patches, labels, loc=\"best\")\n",
    "\n",
    "\n",
    "plt.title('Porcentaje de Locations segun la veracidad de todos sus tweets')\n",
    "# Set aspect ratio to be equal so that pie is drawn as a circle.\n",
    "plt.axis('equal')\n",
    "plt.tight_layout()\n",
    "plt.show()"
   ]
  },
  {
   "cell_type": "markdown",
   "metadata": {},
   "source": [
    "#### Para las locations mas populares, cuales son las keywords mas usadas? habra alguna relacion entre ellas?"
   ]
  },
  {
   "cell_type": "code",
   "execution_count": 179,
   "metadata": {},
   "outputs": [
    {
     "data": {
      "text/plain": [
       "['USA',\n",
       " 'New York',\n",
       " 'United States',\n",
       " 'London',\n",
       " 'Canada',\n",
       " 'Nigeria',\n",
       " 'UK',\n",
       " 'Los Angeles, CA',\n",
       " 'India',\n",
       " 'Mumbai']"
      ]
     },
     "execution_count": 179,
     "metadata": {},
     "output_type": "execute_result"
    }
   ],
   "source": [
    "# creo una lista con las 10 locations mas usadas\n",
    "most_used_locations = grouped_by_location.nlargest(10, ('location','count')).index.values.tolist()\n",
    "most_used_locations"
   ]
  },
  {
   "cell_type": "code",
   "execution_count": 180,
   "metadata": {},
   "outputs": [
    {
     "data": {
      "text/plain": [
       "id          426\n",
       "keyword     426\n",
       "location    426\n",
       "text        426\n",
       "target      426\n",
       "dtype: int64"
      ]
     },
     "execution_count": 180,
     "metadata": {},
     "output_type": "execute_result"
    }
   ],
   "source": [
    "# filtro los tweets en un nuevo dataframe\n",
    "df_tweets_for_most_used_location = tweets_with_location.loc[tweets_with_location['location'].isin(most_used_locations)]\n",
    "df_tweets_for_most_used_location.count()"
   ]
  },
  {
   "cell_type": "code",
   "execution_count": 181,
   "metadata": {},
   "outputs": [
    {
     "data": {
      "text/plain": [
       "sandstorm       21\n",
       "flood           19\n",
       "derailment      12\n",
       "wreckage        11\n",
       "body%20bag      10\n",
       "                ..\n",
       "rainstorm        1\n",
       "electrocute      1\n",
       "fire%20truck     1\n",
       "seismic          1\n",
       "razed            1\n",
       "Name: keyword, Length: 164, dtype: Int64"
      ]
     },
     "execution_count": 181,
     "metadata": {},
     "output_type": "execute_result"
    }
   ],
   "source": [
    "df_tweets_for_most_used_location['keyword'].value_counts()"
   ]
  },
  {
   "cell_type": "markdown",
   "metadata": {},
   "source": [
    "de 426 tweets correspondientes a las 10 locations mas usadas, solo hay 164 keywords distintas"
   ]
  },
  {
   "cell_type": "code",
   "execution_count": 182,
   "metadata": {},
   "outputs": [
    {
     "data": {
      "text/html": [
       "<div>\n",
       "<style scoped>\n",
       "    .dataframe tbody tr th:only-of-type {\n",
       "        vertical-align: middle;\n",
       "    }\n",
       "\n",
       "    .dataframe tbody tr th {\n",
       "        vertical-align: top;\n",
       "    }\n",
       "\n",
       "    .dataframe thead tr th {\n",
       "        text-align: left;\n",
       "    }\n",
       "\n",
       "    .dataframe thead tr:last-of-type th {\n",
       "        text-align: right;\n",
       "    }\n",
       "</style>\n",
       "<table border=\"1\" class=\"dataframe\">\n",
       "  <thead>\n",
       "    <tr>\n",
       "      <th></th>\n",
       "      <th>keyword</th>\n",
       "      <th>target</th>\n",
       "    </tr>\n",
       "    <tr>\n",
       "      <th></th>\n",
       "      <th>count</th>\n",
       "      <th>sum</th>\n",
       "    </tr>\n",
       "    <tr>\n",
       "      <th>keyword</th>\n",
       "      <th></th>\n",
       "      <th></th>\n",
       "    </tr>\n",
       "  </thead>\n",
       "  <tbody>\n",
       "    <tr>\n",
       "      <th>sandstorm</th>\n",
       "      <td>21</td>\n",
       "      <td>19</td>\n",
       "    </tr>\n",
       "    <tr>\n",
       "      <th>flood</th>\n",
       "      <td>19</td>\n",
       "      <td>7</td>\n",
       "    </tr>\n",
       "    <tr>\n",
       "      <th>derailment</th>\n",
       "      <td>12</td>\n",
       "      <td>12</td>\n",
       "    </tr>\n",
       "    <tr>\n",
       "      <th>wreckage</th>\n",
       "      <td>11</td>\n",
       "      <td>11</td>\n",
       "    </tr>\n",
       "    <tr>\n",
       "      <th>body%20bag</th>\n",
       "      <td>10</td>\n",
       "      <td>0</td>\n",
       "    </tr>\n",
       "    <tr>\n",
       "      <th>suicide%20bomb</th>\n",
       "      <td>9</td>\n",
       "      <td>9</td>\n",
       "    </tr>\n",
       "    <tr>\n",
       "      <th>destroyed</th>\n",
       "      <td>7</td>\n",
       "      <td>0</td>\n",
       "    </tr>\n",
       "    <tr>\n",
       "      <th>hazardous</th>\n",
       "      <td>6</td>\n",
       "      <td>6</td>\n",
       "    </tr>\n",
       "    <tr>\n",
       "      <th>rescued</th>\n",
       "      <td>5</td>\n",
       "      <td>4</td>\n",
       "    </tr>\n",
       "    <tr>\n",
       "      <th>hail</th>\n",
       "      <td>5</td>\n",
       "      <td>5</td>\n",
       "    </tr>\n",
       "  </tbody>\n",
       "</table>\n",
       "</div>"
      ],
      "text/plain": [
       "               keyword target\n",
       "                 count    sum\n",
       "keyword                      \n",
       "sandstorm           21     19\n",
       "flood               19      7\n",
       "derailment          12     12\n",
       "wreckage            11     11\n",
       "body%20bag          10      0\n",
       "suicide%20bomb       9      9\n",
       "destroyed            7      0\n",
       "hazardous            6      6\n",
       "rescued              5      4\n",
       "hail                 5      5"
      ]
     },
     "execution_count": 182,
     "metadata": {},
     "output_type": "execute_result"
    }
   ],
   "source": [
    "# hago un groupby de keywords y me fijo cuantos de los tweets que tienen cada keyword son TRUE\n",
    "grouped_keywords_from_locations = df_tweets_for_most_used_location.groupby(['keyword']).agg({'keyword':['count'], 'target': ['sum']})\n",
    "grouped_keywords_from_locations.sort_values(('keyword', 'count'), ascending = False).head(10)"
   ]
  },
  {
   "cell_type": "code",
   "execution_count": 183,
   "metadata": {},
   "outputs": [
    {
     "data": {
      "text/plain": [
       "id          202\n",
       "keyword     202\n",
       "location    202\n",
       "text        202\n",
       "target      202\n",
       "dtype: int64"
      ]
     },
     "execution_count": 183,
     "metadata": {},
     "output_type": "execute_result"
    }
   ],
   "source": [
    "df_tweets_for_most_used_location.loc[df_tweets_for_most_used_location['target'] == False].count()"
   ]
  },
  {
   "cell_type": "markdown",
   "metadata": {},
   "source": [
    "de un total de 426 tweets, hay 202 falsos"
   ]
  },
  {
   "cell_type": "code",
   "execution_count": 184,
   "metadata": {},
   "outputs": [
    {
     "data": {
      "text/html": [
       "<div>\n",
       "<style scoped>\n",
       "    .dataframe tbody tr th:only-of-type {\n",
       "        vertical-align: middle;\n",
       "    }\n",
       "\n",
       "    .dataframe tbody tr th {\n",
       "        vertical-align: top;\n",
       "    }\n",
       "\n",
       "    .dataframe thead tr th {\n",
       "        text-align: left;\n",
       "    }\n",
       "\n",
       "    .dataframe thead tr:last-of-type th {\n",
       "        text-align: right;\n",
       "    }\n",
       "</style>\n",
       "<table border=\"1\" class=\"dataframe\">\n",
       "  <thead>\n",
       "    <tr>\n",
       "      <th></th>\n",
       "      <th>keyword</th>\n",
       "      <th>target</th>\n",
       "    </tr>\n",
       "    <tr>\n",
       "      <th></th>\n",
       "      <th>count</th>\n",
       "      <th>sum</th>\n",
       "    </tr>\n",
       "    <tr>\n",
       "      <th>keyword</th>\n",
       "      <th></th>\n",
       "      <th></th>\n",
       "    </tr>\n",
       "  </thead>\n",
       "  <tbody>\n",
       "    <tr>\n",
       "      <th>sandstorm</th>\n",
       "      <td>21</td>\n",
       "      <td>19</td>\n",
       "    </tr>\n",
       "    <tr>\n",
       "      <th>flood</th>\n",
       "      <td>19</td>\n",
       "      <td>7</td>\n",
       "    </tr>\n",
       "    <tr>\n",
       "      <th>derailment</th>\n",
       "      <td>12</td>\n",
       "      <td>12</td>\n",
       "    </tr>\n",
       "    <tr>\n",
       "      <th>wreckage</th>\n",
       "      <td>11</td>\n",
       "      <td>11</td>\n",
       "    </tr>\n",
       "    <tr>\n",
       "      <th>body%20bag</th>\n",
       "      <td>10</td>\n",
       "      <td>0</td>\n",
       "    </tr>\n",
       "    <tr>\n",
       "      <th>suicide%20bomb</th>\n",
       "      <td>9</td>\n",
       "      <td>9</td>\n",
       "    </tr>\n",
       "    <tr>\n",
       "      <th>destroyed</th>\n",
       "      <td>7</td>\n",
       "      <td>0</td>\n",
       "    </tr>\n",
       "    <tr>\n",
       "      <th>hazardous</th>\n",
       "      <td>6</td>\n",
       "      <td>6</td>\n",
       "    </tr>\n",
       "    <tr>\n",
       "      <th>blight</th>\n",
       "      <td>5</td>\n",
       "      <td>1</td>\n",
       "    </tr>\n",
       "    <tr>\n",
       "      <th>emergency%20services</th>\n",
       "      <td>5</td>\n",
       "      <td>2</td>\n",
       "    </tr>\n",
       "  </tbody>\n",
       "</table>\n",
       "</div>"
      ],
      "text/plain": [
       "                     keyword target\n",
       "                       count    sum\n",
       "keyword                            \n",
       "sandstorm                 21     19\n",
       "flood                     19      7\n",
       "derailment                12     12\n",
       "wreckage                  11     11\n",
       "body%20bag                10      0\n",
       "suicide%20bomb             9      9\n",
       "destroyed                  7      0\n",
       "hazardous                  6      6\n",
       "blight                     5      1\n",
       "emergency%20services       5      2"
      ]
     },
     "execution_count": 184,
     "metadata": {},
     "output_type": "execute_result"
    }
   ],
   "source": [
    "#obtengo las 10 keywords mas usadas\n",
    "most_used_keywords = grouped_keywords_from_locations.nlargest(10, ('keyword','count'))\n",
    "most_used_keywords"
   ]
  },
  {
   "cell_type": "code",
   "execution_count": 185,
   "metadata": {},
   "outputs": [
    {
     "data": {
      "text/plain": [
       "['sandstorm',\n",
       " 'flood',\n",
       " 'derailment',\n",
       " 'wreckage',\n",
       " 'body%20bag',\n",
       " 'suicide%20bomb',\n",
       " 'destroyed',\n",
       " 'hazardous',\n",
       " 'blight',\n",
       " 'emergency%20services']"
      ]
     },
     "execution_count": 185,
     "metadata": {},
     "output_type": "execute_result"
    }
   ],
   "source": [
    "#convierto las 10 keywords mas usadas a una lista\n",
    "most_used_keywords_list = most_used_keywords.index.values.tolist()\n",
    "most_used_keywords_list"
   ]
  },
  {
   "cell_type": "code",
   "execution_count": 186,
   "metadata": {},
   "outputs": [
    {
     "data": {
      "text/html": [
       "<div>\n",
       "<style scoped>\n",
       "    .dataframe tbody tr th:only-of-type {\n",
       "        vertical-align: middle;\n",
       "    }\n",
       "\n",
       "    .dataframe tbody tr th {\n",
       "        vertical-align: top;\n",
       "    }\n",
       "\n",
       "    .dataframe thead th {\n",
       "        text-align: right;\n",
       "    }\n",
       "</style>\n",
       "<table border=\"1\" class=\"dataframe\">\n",
       "  <thead>\n",
       "    <tr style=\"text-align: right;\">\n",
       "      <th></th>\n",
       "      <th>id</th>\n",
       "      <th>keyword</th>\n",
       "      <th>location</th>\n",
       "      <th>text</th>\n",
       "      <th>target</th>\n",
       "    </tr>\n",
       "  </thead>\n",
       "  <tbody>\n",
       "    <tr>\n",
       "      <th>784</th>\n",
       "      <td>1136</td>\n",
       "      <td>blight</td>\n",
       "      <td>London</td>\n",
       "      <td>Poor Jack ??</td>\n",
       "      <td>0</td>\n",
       "    </tr>\n",
       "    <tr>\n",
       "      <th>792</th>\n",
       "      <td>1149</td>\n",
       "      <td>blight</td>\n",
       "      <td>USA</td>\n",
       "      <td>City program to help turn blight into greenspa...</td>\n",
       "      <td>0</td>\n",
       "    </tr>\n",
       "    <tr>\n",
       "      <th>801</th>\n",
       "      <td>1162</td>\n",
       "      <td>blight</td>\n",
       "      <td>UK</td>\n",
       "      <td>Sexual Revolution:Blight For Women is out! htt...</td>\n",
       "      <td>0</td>\n",
       "    </tr>\n",
       "    <tr>\n",
       "      <th>803</th>\n",
       "      <td>1166</td>\n",
       "      <td>blight</td>\n",
       "      <td>London</td>\n",
       "      <td>@WillHillBet what is double result live on the...</td>\n",
       "      <td>0</td>\n",
       "    </tr>\n",
       "    <tr>\n",
       "      <th>808</th>\n",
       "      <td>1174</td>\n",
       "      <td>blight</td>\n",
       "      <td>UK</td>\n",
       "      <td>The #Palestinian #refugee tragedy is a blight ...</td>\n",
       "      <td>1</td>\n",
       "    </tr>\n",
       "    <tr>\n",
       "      <th>...</th>\n",
       "      <td>...</td>\n",
       "      <td>...</td>\n",
       "      <td>...</td>\n",
       "      <td>...</td>\n",
       "      <td>...</td>\n",
       "    </tr>\n",
       "    <tr>\n",
       "      <th>7534</th>\n",
       "      <td>10772</td>\n",
       "      <td>wreckage</td>\n",
       "      <td>Mumbai</td>\n",
       "      <td>Wreckage 'Conclusively Confirmed' as From MH37...</td>\n",
       "      <td>1</td>\n",
       "    </tr>\n",
       "    <tr>\n",
       "      <th>7536</th>\n",
       "      <td>10775</td>\n",
       "      <td>wreckage</td>\n",
       "      <td>Mumbai</td>\n",
       "      <td>Wreckage 'Conclusively Confirmed' as From MH37...</td>\n",
       "      <td>1</td>\n",
       "    </tr>\n",
       "    <tr>\n",
       "      <th>7537</th>\n",
       "      <td>10776</td>\n",
       "      <td>wreckage</td>\n",
       "      <td>India</td>\n",
       "      <td>Wreckage 'Conclusively Confirmed' as From MH37...</td>\n",
       "      <td>1</td>\n",
       "    </tr>\n",
       "    <tr>\n",
       "      <th>7540</th>\n",
       "      <td>10780</td>\n",
       "      <td>wreckage</td>\n",
       "      <td>Mumbai</td>\n",
       "      <td>Wreckage 'Conclusively Confirmed' as From MH37...</td>\n",
       "      <td>1</td>\n",
       "    </tr>\n",
       "    <tr>\n",
       "      <th>7543</th>\n",
       "      <td>10784</td>\n",
       "      <td>wreckage</td>\n",
       "      <td>Mumbai</td>\n",
       "      <td>Wreckage 'Conclusively Confirmed' as From MH37...</td>\n",
       "      <td>1</td>\n",
       "    </tr>\n",
       "  </tbody>\n",
       "</table>\n",
       "<p>105 rows × 5 columns</p>\n",
       "</div>"
      ],
      "text/plain": [
       "         id   keyword location  \\\n",
       "784    1136    blight   London   \n",
       "792    1149    blight      USA   \n",
       "801    1162    blight       UK   \n",
       "803    1166    blight   London   \n",
       "808    1174    blight       UK   \n",
       "...     ...       ...      ...   \n",
       "7534  10772  wreckage   Mumbai   \n",
       "7536  10775  wreckage   Mumbai   \n",
       "7537  10776  wreckage    India   \n",
       "7540  10780  wreckage   Mumbai   \n",
       "7543  10784  wreckage   Mumbai   \n",
       "\n",
       "                                                   text  target  \n",
       "784                                        Poor Jack ??       0  \n",
       "792   City program to help turn blight into greenspa...       0  \n",
       "801   Sexual Revolution:Blight For Women is out! htt...       0  \n",
       "803   @WillHillBet what is double result live on the...       0  \n",
       "808   The #Palestinian #refugee tragedy is a blight ...       1  \n",
       "...                                                 ...     ...  \n",
       "7534  Wreckage 'Conclusively Confirmed' as From MH37...       1  \n",
       "7536  Wreckage 'Conclusively Confirmed' as From MH37...       1  \n",
       "7537  Wreckage 'Conclusively Confirmed' as From MH37...       1  \n",
       "7540  Wreckage 'Conclusively Confirmed' as From MH37...       1  \n",
       "7543  Wreckage 'Conclusively Confirmed' as From MH37...       1  \n",
       "\n",
       "[105 rows x 5 columns]"
      ]
     },
     "execution_count": 186,
     "metadata": {},
     "output_type": "execute_result"
    }
   ],
   "source": [
    "#para el df que tiene los tweets de las 10 locations mas mencionadas, me quedo con los tweets que tienen como keyword, alguna del top 10\n",
    "most_used_loc_and_keys = df_tweets_for_most_used_location.loc[df_tweets_for_most_used_location['keyword']\\\n",
    "                                                              .isin(most_used_keywords_list)]\n",
    "most_used_loc_and_keys"
   ]
  },
  {
   "cell_type": "code",
   "execution_count": 187,
   "metadata": {},
   "outputs": [
    {
     "name": "stderr",
     "output_type": "stream",
     "text": [
      "/home/nico/anaconda3/lib/python3.7/site-packages/ipykernel_launcher.py:5: SettingWithCopyWarning: \n",
      "A value is trying to be set on a copy of a slice from a DataFrame.\n",
      "Try using .loc[row_indexer,col_indexer] = value instead\n",
      "\n",
      "See the caveats in the documentation: https://pandas.pydata.org/pandas-docs/stable/user_guide/indexing.html#returning-a-view-versus-a-copy\n",
      "  \"\"\"\n"
     ]
    },
    {
     "data": {
      "text/html": [
       "<div>\n",
       "<style scoped>\n",
       "    .dataframe tbody tr th:only-of-type {\n",
       "        vertical-align: middle;\n",
       "    }\n",
       "\n",
       "    .dataframe tbody tr th {\n",
       "        vertical-align: top;\n",
       "    }\n",
       "\n",
       "    .dataframe thead th {\n",
       "        text-align: right;\n",
       "    }\n",
       "</style>\n",
       "<table border=\"1\" class=\"dataframe\">\n",
       "  <thead>\n",
       "    <tr style=\"text-align: right;\">\n",
       "      <th></th>\n",
       "      <th>keyword</th>\n",
       "      <th>location</th>\n",
       "      <th>value</th>\n",
       "    </tr>\n",
       "  </thead>\n",
       "  <tbody>\n",
       "    <tr>\n",
       "      <th>784</th>\n",
       "      <td>blight</td>\n",
       "      <td>London</td>\n",
       "      <td>1</td>\n",
       "    </tr>\n",
       "    <tr>\n",
       "      <th>792</th>\n",
       "      <td>blight</td>\n",
       "      <td>USA</td>\n",
       "      <td>1</td>\n",
       "    </tr>\n",
       "    <tr>\n",
       "      <th>801</th>\n",
       "      <td>blight</td>\n",
       "      <td>UK</td>\n",
       "      <td>1</td>\n",
       "    </tr>\n",
       "    <tr>\n",
       "      <th>803</th>\n",
       "      <td>blight</td>\n",
       "      <td>London</td>\n",
       "      <td>1</td>\n",
       "    </tr>\n",
       "    <tr>\n",
       "      <th>808</th>\n",
       "      <td>blight</td>\n",
       "      <td>UK</td>\n",
       "      <td>1</td>\n",
       "    </tr>\n",
       "    <tr>\n",
       "      <th>...</th>\n",
       "      <td>...</td>\n",
       "      <td>...</td>\n",
       "      <td>...</td>\n",
       "    </tr>\n",
       "    <tr>\n",
       "      <th>7534</th>\n",
       "      <td>wreckage</td>\n",
       "      <td>Mumbai</td>\n",
       "      <td>1</td>\n",
       "    </tr>\n",
       "    <tr>\n",
       "      <th>7536</th>\n",
       "      <td>wreckage</td>\n",
       "      <td>Mumbai</td>\n",
       "      <td>1</td>\n",
       "    </tr>\n",
       "    <tr>\n",
       "      <th>7537</th>\n",
       "      <td>wreckage</td>\n",
       "      <td>India</td>\n",
       "      <td>1</td>\n",
       "    </tr>\n",
       "    <tr>\n",
       "      <th>7540</th>\n",
       "      <td>wreckage</td>\n",
       "      <td>Mumbai</td>\n",
       "      <td>1</td>\n",
       "    </tr>\n",
       "    <tr>\n",
       "      <th>7543</th>\n",
       "      <td>wreckage</td>\n",
       "      <td>Mumbai</td>\n",
       "      <td>1</td>\n",
       "    </tr>\n",
       "  </tbody>\n",
       "</table>\n",
       "<p>105 rows × 3 columns</p>\n",
       "</div>"
      ],
      "text/plain": [
       "       keyword location  value\n",
       "784     blight   London      1\n",
       "792     blight      USA      1\n",
       "801     blight       UK      1\n",
       "803     blight   London      1\n",
       "808     blight       UK      1\n",
       "...        ...      ...    ...\n",
       "7534  wreckage   Mumbai      1\n",
       "7536  wreckage   Mumbai      1\n",
       "7537  wreckage    India      1\n",
       "7540  wreckage   Mumbai      1\n",
       "7543  wreckage   Mumbai      1\n",
       "\n",
       "[105 rows x 3 columns]"
      ]
     },
     "execution_count": 187,
     "metadata": {},
     "output_type": "execute_result"
    }
   ],
   "source": [
    "#solo me interesan las keywords y locations\n",
    "reduced_df = most_used_loc_and_keys[['keyword', 'location']]\n",
    "\n",
    "#agrego una nueva columna con 1, la idea es usarla como contador para los proximos pasos\n",
    "reduced_df['value'] = 1\n",
    "reduced_df"
   ]
  },
  {
   "cell_type": "code",
   "execution_count": 188,
   "metadata": {},
   "outputs": [
    {
     "data": {
      "text/html": [
       "<div>\n",
       "<style scoped>\n",
       "    .dataframe tbody tr th:only-of-type {\n",
       "        vertical-align: middle;\n",
       "    }\n",
       "\n",
       "    .dataframe tbody tr th {\n",
       "        vertical-align: top;\n",
       "    }\n",
       "\n",
       "    .dataframe thead tr th {\n",
       "        text-align: left;\n",
       "    }\n",
       "\n",
       "    .dataframe thead tr:last-of-type th {\n",
       "        text-align: right;\n",
       "    }\n",
       "</style>\n",
       "<table border=\"1\" class=\"dataframe\">\n",
       "  <thead>\n",
       "    <tr>\n",
       "      <th></th>\n",
       "      <th></th>\n",
       "      <th>value</th>\n",
       "    </tr>\n",
       "    <tr>\n",
       "      <th></th>\n",
       "      <th></th>\n",
       "      <th>sum</th>\n",
       "    </tr>\n",
       "    <tr>\n",
       "      <th>keyword</th>\n",
       "      <th>location</th>\n",
       "      <th></th>\n",
       "    </tr>\n",
       "  </thead>\n",
       "  <tbody>\n",
       "    <tr>\n",
       "      <th rowspan=\"3\" valign=\"top\">blight</th>\n",
       "      <th>London</th>\n",
       "      <td>2</td>\n",
       "    </tr>\n",
       "    <tr>\n",
       "      <th>UK</th>\n",
       "      <td>2</td>\n",
       "    </tr>\n",
       "    <tr>\n",
       "      <th>USA</th>\n",
       "      <td>1</td>\n",
       "    </tr>\n",
       "    <tr>\n",
       "      <th>body%20bag</th>\n",
       "      <th>New York</th>\n",
       "      <td>10</td>\n",
       "    </tr>\n",
       "    <tr>\n",
       "      <th rowspan=\"3\" valign=\"top\">derailment</th>\n",
       "      <th>India</th>\n",
       "      <td>7</td>\n",
       "    </tr>\n",
       "    <tr>\n",
       "      <th>Mumbai</th>\n",
       "      <td>4</td>\n",
       "    </tr>\n",
       "    <tr>\n",
       "      <th>UK</th>\n",
       "      <td>1</td>\n",
       "    </tr>\n",
       "    <tr>\n",
       "      <th>destroyed</th>\n",
       "      <th>USA</th>\n",
       "      <td>7</td>\n",
       "    </tr>\n",
       "    <tr>\n",
       "      <th rowspan=\"3\" valign=\"top\">emergency%20services</th>\n",
       "      <th>London</th>\n",
       "      <td>1</td>\n",
       "    </tr>\n",
       "    <tr>\n",
       "      <th>Los Angeles, CA</th>\n",
       "      <td>3</td>\n",
       "    </tr>\n",
       "    <tr>\n",
       "      <th>USA</th>\n",
       "      <td>1</td>\n",
       "    </tr>\n",
       "    <tr>\n",
       "      <th rowspan=\"3\" valign=\"top\">flood</th>\n",
       "      <th>New York</th>\n",
       "      <td>13</td>\n",
       "    </tr>\n",
       "    <tr>\n",
       "      <th>USA</th>\n",
       "      <td>3</td>\n",
       "    </tr>\n",
       "    <tr>\n",
       "      <th>United States</th>\n",
       "      <td>3</td>\n",
       "    </tr>\n",
       "    <tr>\n",
       "      <th rowspan=\"3\" valign=\"top\">hazardous</th>\n",
       "      <th>Canada</th>\n",
       "      <td>1</td>\n",
       "    </tr>\n",
       "    <tr>\n",
       "      <th>USA</th>\n",
       "      <td>1</td>\n",
       "    </tr>\n",
       "    <tr>\n",
       "      <th>United States</th>\n",
       "      <td>4</td>\n",
       "    </tr>\n",
       "    <tr>\n",
       "      <th rowspan=\"2\" valign=\"top\">sandstorm</th>\n",
       "      <th>USA</th>\n",
       "      <td>17</td>\n",
       "    </tr>\n",
       "    <tr>\n",
       "      <th>United States</th>\n",
       "      <td>4</td>\n",
       "    </tr>\n",
       "    <tr>\n",
       "      <th>suicide%20bomb</th>\n",
       "      <th>Nigeria</th>\n",
       "      <td>9</td>\n",
       "    </tr>\n",
       "    <tr>\n",
       "      <th rowspan=\"2\" valign=\"top\">wreckage</th>\n",
       "      <th>India</th>\n",
       "      <td>1</td>\n",
       "    </tr>\n",
       "    <tr>\n",
       "      <th>Mumbai</th>\n",
       "      <td>10</td>\n",
       "    </tr>\n",
       "  </tbody>\n",
       "</table>\n",
       "</div>"
      ],
      "text/plain": [
       "                                     value\n",
       "                                       sum\n",
       "keyword              location             \n",
       "blight               London              2\n",
       "                     UK                  2\n",
       "                     USA                 1\n",
       "body%20bag           New York           10\n",
       "derailment           India               7\n",
       "                     Mumbai              4\n",
       "                     UK                  1\n",
       "destroyed            USA                 7\n",
       "emergency%20services London              1\n",
       "                     Los Angeles, CA     3\n",
       "                     USA                 1\n",
       "flood                New York           13\n",
       "                     USA                 3\n",
       "                     United States       3\n",
       "hazardous            Canada              1\n",
       "                     USA                 1\n",
       "                     United States       4\n",
       "sandstorm            USA                17\n",
       "                     United States       4\n",
       "suicide%20bomb       Nigeria             9\n",
       "wreckage             India               1\n",
       "                     Mumbai             10"
      ]
     },
     "execution_count": 188,
     "metadata": {},
     "output_type": "execute_result"
    }
   ],
   "source": [
    "#agrupo por keywords Y locations, y aplico 'sum' a la columna value\n",
    "keywords_per_locations = reduced_df.groupby(['keyword','location']).agg({'value':['sum']})\n",
    "keywords_per_locations"
   ]
  },
  {
   "cell_type": "markdown",
   "metadata": {},
   "source": [
    "me queda: para cada keyword: las locations correspondientes a sus tweets, y cuantos fueron enviados desde dichas locations"
   ]
  },
  {
   "cell_type": "code",
   "execution_count": 189,
   "metadata": {},
   "outputs": [
    {
     "data": {
      "text/html": [
       "<div>\n",
       "<style scoped>\n",
       "    .dataframe tbody tr th:only-of-type {\n",
       "        vertical-align: middle;\n",
       "    }\n",
       "\n",
       "    .dataframe tbody tr th {\n",
       "        vertical-align: top;\n",
       "    }\n",
       "\n",
       "    .dataframe thead tr th {\n",
       "        text-align: left;\n",
       "    }\n",
       "\n",
       "    .dataframe thead tr:last-of-type th {\n",
       "        text-align: right;\n",
       "    }\n",
       "</style>\n",
       "<table border=\"1\" class=\"dataframe\">\n",
       "  <thead>\n",
       "    <tr>\n",
       "      <th></th>\n",
       "      <th colspan=\"10\" halign=\"left\">sum</th>\n",
       "    </tr>\n",
       "    <tr>\n",
       "      <th>location</th>\n",
       "      <th>Canada</th>\n",
       "      <th>India</th>\n",
       "      <th>London</th>\n",
       "      <th>Los Angeles, CA</th>\n",
       "      <th>Mumbai</th>\n",
       "      <th>New York</th>\n",
       "      <th>Nigeria</th>\n",
       "      <th>UK</th>\n",
       "      <th>USA</th>\n",
       "      <th>United States</th>\n",
       "    </tr>\n",
       "    <tr>\n",
       "      <th>keyword</th>\n",
       "      <th></th>\n",
       "      <th></th>\n",
       "      <th></th>\n",
       "      <th></th>\n",
       "      <th></th>\n",
       "      <th></th>\n",
       "      <th></th>\n",
       "      <th></th>\n",
       "      <th></th>\n",
       "      <th></th>\n",
       "    </tr>\n",
       "  </thead>\n",
       "  <tbody>\n",
       "    <tr>\n",
       "      <th>blight</th>\n",
       "      <td>0.0</td>\n",
       "      <td>0.0</td>\n",
       "      <td>2.0</td>\n",
       "      <td>0.0</td>\n",
       "      <td>0.0</td>\n",
       "      <td>0.0</td>\n",
       "      <td>0.0</td>\n",
       "      <td>2.0</td>\n",
       "      <td>1.0</td>\n",
       "      <td>0.0</td>\n",
       "    </tr>\n",
       "    <tr>\n",
       "      <th>body%20bag</th>\n",
       "      <td>0.0</td>\n",
       "      <td>0.0</td>\n",
       "      <td>0.0</td>\n",
       "      <td>0.0</td>\n",
       "      <td>0.0</td>\n",
       "      <td>10.0</td>\n",
       "      <td>0.0</td>\n",
       "      <td>0.0</td>\n",
       "      <td>0.0</td>\n",
       "      <td>0.0</td>\n",
       "    </tr>\n",
       "    <tr>\n",
       "      <th>derailment</th>\n",
       "      <td>0.0</td>\n",
       "      <td>7.0</td>\n",
       "      <td>0.0</td>\n",
       "      <td>0.0</td>\n",
       "      <td>4.0</td>\n",
       "      <td>0.0</td>\n",
       "      <td>0.0</td>\n",
       "      <td>1.0</td>\n",
       "      <td>0.0</td>\n",
       "      <td>0.0</td>\n",
       "    </tr>\n",
       "    <tr>\n",
       "      <th>destroyed</th>\n",
       "      <td>0.0</td>\n",
       "      <td>0.0</td>\n",
       "      <td>0.0</td>\n",
       "      <td>0.0</td>\n",
       "      <td>0.0</td>\n",
       "      <td>0.0</td>\n",
       "      <td>0.0</td>\n",
       "      <td>0.0</td>\n",
       "      <td>7.0</td>\n",
       "      <td>0.0</td>\n",
       "    </tr>\n",
       "    <tr>\n",
       "      <th>emergency%20services</th>\n",
       "      <td>0.0</td>\n",
       "      <td>0.0</td>\n",
       "      <td>1.0</td>\n",
       "      <td>3.0</td>\n",
       "      <td>0.0</td>\n",
       "      <td>0.0</td>\n",
       "      <td>0.0</td>\n",
       "      <td>0.0</td>\n",
       "      <td>1.0</td>\n",
       "      <td>0.0</td>\n",
       "    </tr>\n",
       "    <tr>\n",
       "      <th>flood</th>\n",
       "      <td>0.0</td>\n",
       "      <td>0.0</td>\n",
       "      <td>0.0</td>\n",
       "      <td>0.0</td>\n",
       "      <td>0.0</td>\n",
       "      <td>13.0</td>\n",
       "      <td>0.0</td>\n",
       "      <td>0.0</td>\n",
       "      <td>3.0</td>\n",
       "      <td>3.0</td>\n",
       "    </tr>\n",
       "    <tr>\n",
       "      <th>hazardous</th>\n",
       "      <td>1.0</td>\n",
       "      <td>0.0</td>\n",
       "      <td>0.0</td>\n",
       "      <td>0.0</td>\n",
       "      <td>0.0</td>\n",
       "      <td>0.0</td>\n",
       "      <td>0.0</td>\n",
       "      <td>0.0</td>\n",
       "      <td>1.0</td>\n",
       "      <td>4.0</td>\n",
       "    </tr>\n",
       "    <tr>\n",
       "      <th>sandstorm</th>\n",
       "      <td>0.0</td>\n",
       "      <td>0.0</td>\n",
       "      <td>0.0</td>\n",
       "      <td>0.0</td>\n",
       "      <td>0.0</td>\n",
       "      <td>0.0</td>\n",
       "      <td>0.0</td>\n",
       "      <td>0.0</td>\n",
       "      <td>17.0</td>\n",
       "      <td>4.0</td>\n",
       "    </tr>\n",
       "    <tr>\n",
       "      <th>suicide%20bomb</th>\n",
       "      <td>0.0</td>\n",
       "      <td>0.0</td>\n",
       "      <td>0.0</td>\n",
       "      <td>0.0</td>\n",
       "      <td>0.0</td>\n",
       "      <td>0.0</td>\n",
       "      <td>9.0</td>\n",
       "      <td>0.0</td>\n",
       "      <td>0.0</td>\n",
       "      <td>0.0</td>\n",
       "    </tr>\n",
       "    <tr>\n",
       "      <th>wreckage</th>\n",
       "      <td>0.0</td>\n",
       "      <td>1.0</td>\n",
       "      <td>0.0</td>\n",
       "      <td>0.0</td>\n",
       "      <td>10.0</td>\n",
       "      <td>0.0</td>\n",
       "      <td>0.0</td>\n",
       "      <td>0.0</td>\n",
       "      <td>0.0</td>\n",
       "      <td>0.0</td>\n",
       "    </tr>\n",
       "  </tbody>\n",
       "</table>\n",
       "</div>"
      ],
      "text/plain": [
       "                        sum                                               \\\n",
       "location             Canada India London Los Angeles, CA Mumbai New York   \n",
       "keyword                                                                    \n",
       "blight                  0.0   0.0    2.0             0.0    0.0      0.0   \n",
       "body%20bag              0.0   0.0    0.0             0.0    0.0     10.0   \n",
       "derailment              0.0   7.0    0.0             0.0    4.0      0.0   \n",
       "destroyed               0.0   0.0    0.0             0.0    0.0      0.0   \n",
       "emergency%20services    0.0   0.0    1.0             3.0    0.0      0.0   \n",
       "flood                   0.0   0.0    0.0             0.0    0.0     13.0   \n",
       "hazardous               1.0   0.0    0.0             0.0    0.0      0.0   \n",
       "sandstorm               0.0   0.0    0.0             0.0    0.0      0.0   \n",
       "suicide%20bomb          0.0   0.0    0.0             0.0    0.0      0.0   \n",
       "wreckage                0.0   1.0    0.0             0.0   10.0      0.0   \n",
       "\n",
       "                                                       \n",
       "location             Nigeria   UK   USA United States  \n",
       "keyword                                                \n",
       "blight                   0.0  2.0   1.0           0.0  \n",
       "body%20bag               0.0  0.0   0.0           0.0  \n",
       "derailment               0.0  1.0   0.0           0.0  \n",
       "destroyed                0.0  0.0   7.0           0.0  \n",
       "emergency%20services     0.0  0.0   1.0           0.0  \n",
       "flood                    0.0  0.0   3.0           3.0  \n",
       "hazardous                0.0  0.0   1.0           4.0  \n",
       "sandstorm                0.0  0.0  17.0           4.0  \n",
       "suicide%20bomb           9.0  0.0   0.0           0.0  \n",
       "wreckage                 0.0  0.0   0.0           0.0  "
      ]
     },
     "execution_count": 189,
     "metadata": {},
     "output_type": "execute_result"
    }
   ],
   "source": [
    "# hago operacion de pivot para luego poder graficar: las nuevas columnas van a ser las locations.\n",
    "pivot = keywords_per_locations.pivot_table(index='keyword', columns='location', values= 'value', aggfunc = np.sum)\n",
    "\n",
    "# Relleno los NaN con 0, ya que si el valor es NaN, es porque para esa keyword,\n",
    "# no hay ningun tweet que haya sido enviado desde la location correspondiente\n",
    "pivot = pivot.fillna(0)\n",
    "pivot"
   ]
  },
  {
   "cell_type": "code",
   "execution_count": 190,
   "metadata": {},
   "outputs": [
    {
     "data": {
      "text/plain": [
       "('Canada',\n",
       " 'India',\n",
       " 'London',\n",
       " 'Los Angeles, CA',\n",
       " 'Mumbai',\n",
       " 'New York',\n",
       " 'Nigeria',\n",
       " 'UK',\n",
       " 'USA',\n",
       " 'United States')"
      ]
     },
     "execution_count": 190,
     "metadata": {},
     "output_type": "execute_result"
    }
   ],
   "source": [
    "# para que me quede lindo en el grafico tengo que eliminar el nivel 'sum'\n",
    "# que engloba las columnas\n",
    "column_rename = pivot.columns.tolist()\n",
    "garbo, columns_list = zip(*column_rename)\n",
    "columns_list"
   ]
  },
  {
   "cell_type": "code",
   "execution_count": 191,
   "metadata": {},
   "outputs": [
    {
     "data": {
      "text/html": [
       "<div>\n",
       "<style scoped>\n",
       "    .dataframe tbody tr th:only-of-type {\n",
       "        vertical-align: middle;\n",
       "    }\n",
       "\n",
       "    .dataframe tbody tr th {\n",
       "        vertical-align: top;\n",
       "    }\n",
       "\n",
       "    .dataframe thead th {\n",
       "        text-align: right;\n",
       "    }\n",
       "</style>\n",
       "<table border=\"1\" class=\"dataframe\">\n",
       "  <thead>\n",
       "    <tr style=\"text-align: right;\">\n",
       "      <th></th>\n",
       "      <th>Canada</th>\n",
       "      <th>India</th>\n",
       "      <th>London</th>\n",
       "      <th>Los Angeles, CA</th>\n",
       "      <th>Mumbai</th>\n",
       "      <th>New York</th>\n",
       "      <th>Nigeria</th>\n",
       "      <th>UK</th>\n",
       "      <th>USA</th>\n",
       "      <th>United States</th>\n",
       "    </tr>\n",
       "    <tr>\n",
       "      <th>keyword</th>\n",
       "      <th></th>\n",
       "      <th></th>\n",
       "      <th></th>\n",
       "      <th></th>\n",
       "      <th></th>\n",
       "      <th></th>\n",
       "      <th></th>\n",
       "      <th></th>\n",
       "      <th></th>\n",
       "      <th></th>\n",
       "    </tr>\n",
       "  </thead>\n",
       "  <tbody>\n",
       "    <tr>\n",
       "      <th>blight</th>\n",
       "      <td>0.0</td>\n",
       "      <td>0.0</td>\n",
       "      <td>2.0</td>\n",
       "      <td>0.0</td>\n",
       "      <td>0.0</td>\n",
       "      <td>0.0</td>\n",
       "      <td>0.0</td>\n",
       "      <td>2.0</td>\n",
       "      <td>1.0</td>\n",
       "      <td>0.0</td>\n",
       "    </tr>\n",
       "    <tr>\n",
       "      <th>body%20bag</th>\n",
       "      <td>0.0</td>\n",
       "      <td>0.0</td>\n",
       "      <td>0.0</td>\n",
       "      <td>0.0</td>\n",
       "      <td>0.0</td>\n",
       "      <td>10.0</td>\n",
       "      <td>0.0</td>\n",
       "      <td>0.0</td>\n",
       "      <td>0.0</td>\n",
       "      <td>0.0</td>\n",
       "    </tr>\n",
       "    <tr>\n",
       "      <th>derailment</th>\n",
       "      <td>0.0</td>\n",
       "      <td>7.0</td>\n",
       "      <td>0.0</td>\n",
       "      <td>0.0</td>\n",
       "      <td>4.0</td>\n",
       "      <td>0.0</td>\n",
       "      <td>0.0</td>\n",
       "      <td>1.0</td>\n",
       "      <td>0.0</td>\n",
       "      <td>0.0</td>\n",
       "    </tr>\n",
       "    <tr>\n",
       "      <th>destroyed</th>\n",
       "      <td>0.0</td>\n",
       "      <td>0.0</td>\n",
       "      <td>0.0</td>\n",
       "      <td>0.0</td>\n",
       "      <td>0.0</td>\n",
       "      <td>0.0</td>\n",
       "      <td>0.0</td>\n",
       "      <td>0.0</td>\n",
       "      <td>7.0</td>\n",
       "      <td>0.0</td>\n",
       "    </tr>\n",
       "    <tr>\n",
       "      <th>emergency%20services</th>\n",
       "      <td>0.0</td>\n",
       "      <td>0.0</td>\n",
       "      <td>1.0</td>\n",
       "      <td>3.0</td>\n",
       "      <td>0.0</td>\n",
       "      <td>0.0</td>\n",
       "      <td>0.0</td>\n",
       "      <td>0.0</td>\n",
       "      <td>1.0</td>\n",
       "      <td>0.0</td>\n",
       "    </tr>\n",
       "    <tr>\n",
       "      <th>flood</th>\n",
       "      <td>0.0</td>\n",
       "      <td>0.0</td>\n",
       "      <td>0.0</td>\n",
       "      <td>0.0</td>\n",
       "      <td>0.0</td>\n",
       "      <td>13.0</td>\n",
       "      <td>0.0</td>\n",
       "      <td>0.0</td>\n",
       "      <td>3.0</td>\n",
       "      <td>3.0</td>\n",
       "    </tr>\n",
       "    <tr>\n",
       "      <th>hazardous</th>\n",
       "      <td>1.0</td>\n",
       "      <td>0.0</td>\n",
       "      <td>0.0</td>\n",
       "      <td>0.0</td>\n",
       "      <td>0.0</td>\n",
       "      <td>0.0</td>\n",
       "      <td>0.0</td>\n",
       "      <td>0.0</td>\n",
       "      <td>1.0</td>\n",
       "      <td>4.0</td>\n",
       "    </tr>\n",
       "    <tr>\n",
       "      <th>sandstorm</th>\n",
       "      <td>0.0</td>\n",
       "      <td>0.0</td>\n",
       "      <td>0.0</td>\n",
       "      <td>0.0</td>\n",
       "      <td>0.0</td>\n",
       "      <td>0.0</td>\n",
       "      <td>0.0</td>\n",
       "      <td>0.0</td>\n",
       "      <td>17.0</td>\n",
       "      <td>4.0</td>\n",
       "    </tr>\n",
       "    <tr>\n",
       "      <th>suicide%20bomb</th>\n",
       "      <td>0.0</td>\n",
       "      <td>0.0</td>\n",
       "      <td>0.0</td>\n",
       "      <td>0.0</td>\n",
       "      <td>0.0</td>\n",
       "      <td>0.0</td>\n",
       "      <td>9.0</td>\n",
       "      <td>0.0</td>\n",
       "      <td>0.0</td>\n",
       "      <td>0.0</td>\n",
       "    </tr>\n",
       "    <tr>\n",
       "      <th>wreckage</th>\n",
       "      <td>0.0</td>\n",
       "      <td>1.0</td>\n",
       "      <td>0.0</td>\n",
       "      <td>0.0</td>\n",
       "      <td>10.0</td>\n",
       "      <td>0.0</td>\n",
       "      <td>0.0</td>\n",
       "      <td>0.0</td>\n",
       "      <td>0.0</td>\n",
       "      <td>0.0</td>\n",
       "    </tr>\n",
       "  </tbody>\n",
       "</table>\n",
       "</div>"
      ],
      "text/plain": [
       "                      Canada  India  London  Los Angeles, CA  Mumbai  \\\n",
       "keyword                                                                \n",
       "blight                   0.0    0.0     2.0              0.0     0.0   \n",
       "body%20bag               0.0    0.0     0.0              0.0     0.0   \n",
       "derailment               0.0    7.0     0.0              0.0     4.0   \n",
       "destroyed                0.0    0.0     0.0              0.0     0.0   \n",
       "emergency%20services     0.0    0.0     1.0              3.0     0.0   \n",
       "flood                    0.0    0.0     0.0              0.0     0.0   \n",
       "hazardous                1.0    0.0     0.0              0.0     0.0   \n",
       "sandstorm                0.0    0.0     0.0              0.0     0.0   \n",
       "suicide%20bomb           0.0    0.0     0.0              0.0     0.0   \n",
       "wreckage                 0.0    1.0     0.0              0.0    10.0   \n",
       "\n",
       "                      New York  Nigeria   UK   USA  United States  \n",
       "keyword                                                            \n",
       "blight                     0.0      0.0  2.0   1.0            0.0  \n",
       "body%20bag                10.0      0.0  0.0   0.0            0.0  \n",
       "derailment                 0.0      0.0  1.0   0.0            0.0  \n",
       "destroyed                  0.0      0.0  0.0   7.0            0.0  \n",
       "emergency%20services       0.0      0.0  0.0   1.0            0.0  \n",
       "flood                     13.0      0.0  0.0   3.0            3.0  \n",
       "hazardous                  0.0      0.0  0.0   1.0            4.0  \n",
       "sandstorm                  0.0      0.0  0.0  17.0            4.0  \n",
       "suicide%20bomb             0.0      9.0  0.0   0.0            0.0  \n",
       "wreckage                   0.0      0.0  0.0   0.0            0.0  "
      ]
     },
     "execution_count": 191,
     "metadata": {},
     "output_type": "execute_result"
    }
   ],
   "source": [
    "# reemplazo las columnas con las nuevas\n",
    "pivot.columns = columns_list\n",
    "pivot"
   ]
  },
  {
   "cell_type": "code",
   "execution_count": 192,
   "metadata": {},
   "outputs": [
    {
     "data": {
      "text/plain": [
       "[Text(0.5, 0, 'Canada'),\n",
       " Text(1.5, 0, 'India'),\n",
       " Text(2.5, 0, 'London'),\n",
       " Text(3.5, 0, 'Los Angeles, CA'),\n",
       " Text(4.5, 0, 'Mumbai'),\n",
       " Text(5.5, 0, 'New York'),\n",
       " Text(6.5, 0, 'Nigeria'),\n",
       " Text(7.5, 0, 'UK'),\n",
       " Text(8.5, 0, 'USA'),\n",
       " Text(9.5, 0, 'United States')]"
      ]
     },
     "execution_count": 192,
     "metadata": {},
     "output_type": "execute_result"
    },
    {
     "data": {
      "image/png": "[encoded data removed]",
      "text/plain": [
       "<Figure size 432x288 with 2 Axes>"
      ]
     },
     "metadata": {
      "needs_background": "light"
     },
     "output_type": "display_data"
    }
   ],
   "source": [
    "visu = sns.heatmap(pivot, cmap = 'viridis', vmin=0)\n",
    "\n",
    "visu.set_title(\"distribucion de keywords mas usadas en base a Locations mas ocurrentes\")\n",
    "visu.set_ylabel(\"keywords mas usadas para las Locations\")\n",
    "visu.set_xlabel(\"Locations con mayor cantidad de tweets\")\n",
    "\n",
    "visu.set_xticklabels(visu.get_xticklabels(), rotation=75)"
   ]
  },
  {
   "cell_type": "markdown",
   "metadata": {},
   "source": [
    "##### analisis en base a la longitud de los tweets"
   ]
  },
  {
   "cell_type": "code",
   "execution_count": 193,
   "metadata": {},
   "outputs": [],
   "source": [
    "#Calculo len de los tweets\n",
    "len_tw = df_tweets['text'].str.len()"
   ]
  },
  {
   "cell_type": "code",
   "execution_count": 194,
   "metadata": {},
   "outputs": [
    {
     "data": {
      "text/html": [
       "<div>\n",
       "<style scoped>\n",
       "    .dataframe tbody tr th:only-of-type {\n",
       "        vertical-align: middle;\n",
       "    }\n",
       "\n",
       "    .dataframe tbody tr th {\n",
       "        vertical-align: top;\n",
       "    }\n",
       "\n",
       "    .dataframe thead th {\n",
       "        text-align: right;\n",
       "    }\n",
       "</style>\n",
       "<table border=\"1\" class=\"dataframe\">\n",
       "  <thead>\n",
       "    <tr style=\"text-align: right;\">\n",
       "      <th></th>\n",
       "      <th>keyword</th>\n",
       "      <th>len_txt</th>\n",
       "    </tr>\n",
       "  </thead>\n",
       "  <tbody>\n",
       "    <tr>\n",
       "      <th>31</th>\n",
       "      <td>ablaze</td>\n",
       "      <td>55</td>\n",
       "    </tr>\n",
       "    <tr>\n",
       "      <th>32</th>\n",
       "      <td>ablaze</td>\n",
       "      <td>67</td>\n",
       "    </tr>\n",
       "    <tr>\n",
       "      <th>33</th>\n",
       "      <td>ablaze</td>\n",
       "      <td>82</td>\n",
       "    </tr>\n",
       "    <tr>\n",
       "      <th>34</th>\n",
       "      <td>ablaze</td>\n",
       "      <td>34</td>\n",
       "    </tr>\n",
       "    <tr>\n",
       "      <th>35</th>\n",
       "      <td>ablaze</td>\n",
       "      <td>76</td>\n",
       "    </tr>\n",
       "    <tr>\n",
       "      <th>...</th>\n",
       "      <td>...</td>\n",
       "      <td>...</td>\n",
       "    </tr>\n",
       "    <tr>\n",
       "      <th>7578</th>\n",
       "      <td>wrecked</td>\n",
       "      <td>48</td>\n",
       "    </tr>\n",
       "    <tr>\n",
       "      <th>7579</th>\n",
       "      <td>wrecked</td>\n",
       "      <td>107</td>\n",
       "    </tr>\n",
       "    <tr>\n",
       "      <th>7580</th>\n",
       "      <td>wrecked</td>\n",
       "      <td>93</td>\n",
       "    </tr>\n",
       "    <tr>\n",
       "      <th>7581</th>\n",
       "      <td>wrecked</td>\n",
       "      <td>104</td>\n",
       "    </tr>\n",
       "    <tr>\n",
       "      <th>7582</th>\n",
       "      <td>wrecked</td>\n",
       "      <td>80</td>\n",
       "    </tr>\n",
       "  </tbody>\n",
       "</table>\n",
       "<p>7552 rows × 2 columns</p>\n",
       "</div>"
      ],
      "text/plain": [
       "      keyword  len_txt\n",
       "31     ablaze       55\n",
       "32     ablaze       67\n",
       "33     ablaze       82\n",
       "34     ablaze       34\n",
       "35     ablaze       76\n",
       "...       ...      ...\n",
       "7578  wrecked       48\n",
       "7579  wrecked      107\n",
       "7580  wrecked       93\n",
       "7581  wrecked      104\n",
       "7582  wrecked       80\n",
       "\n",
       "[7552 rows x 2 columns]"
      ]
     },
     "execution_count": 194,
     "metadata": {},
     "output_type": "execute_result"
    }
   ],
   "source": [
    "#Creo un dataframe con las 2 columnas que utilizo\n",
    "tw_slice = pd.DataFrame({'keyword':keywords,'len_txt':len_tw})\n",
    "tw_slice = tw_slice.dropna()\n",
    "tw_slice"
   ]
  },
  {
   "cell_type": "code",
   "execution_count": 195,
   "metadata": {},
   "outputs": [
    {
     "data": {
      "text/plain": [
       "101.25648834745763"
      ]
     },
     "execution_count": 195,
     "metadata": {},
     "output_type": "execute_result"
    }
   ],
   "source": [
    "#Calculo promedio del largo de tweets\n",
    "len_tw_mean = tw_slice['len_txt'].mean()\n",
    "len_tw_mean"
   ]
  },
  {
   "cell_type": "code",
   "execution_count": 196,
   "metadata": {},
   "outputs": [
    {
     "data": {
      "text/plain": [
       "129.12824417372883"
      ]
     },
     "execution_count": 196,
     "metadata": {},
     "output_type": "execute_result"
    }
   ],
   "source": [
    "#Propongo una cota maxima: (len del tweet maximo + promedio len) /2\n",
    "len_tw_max = tw_slice['len_txt'].max()\n",
    "cout_max = (len_tw_max + len_tw_mean)/2\n",
    "cout_max"
   ]
  },
  {
   "cell_type": "code",
   "execution_count": 197,
   "metadata": {},
   "outputs": [
    {
     "data": {
      "text/plain": [
       "54.12824417372882"
      ]
     },
     "execution_count": 197,
     "metadata": {},
     "output_type": "execute_result"
    }
   ],
   "source": [
    "#Propongo una cota minima: (len del tweet maximo + promedio len) /2\n",
    "len_tw_min = tw_slice['len_txt'].min()\n",
    "cout_min = (len_tw_min + len_tw_mean)/2\n",
    "cout_min"
   ]
  },
  {
   "cell_type": "code",
   "execution_count": 198,
   "metadata": {},
   "outputs": [
    {
     "data": {
      "text/plain": [
       "outbreak       31\n",
       "wreckage       28\n",
       "rescuers       28\n",
       "devastation    25\n",
       "deaths         24\n",
       "               ..\n",
       "war%20zone      2\n",
       "mudslide        1\n",
       "crush           1\n",
       "blood           1\n",
       "wrecked         1\n",
       "Name: keyword, Length: 221, dtype: Int64"
      ]
     },
     "execution_count": 198,
     "metadata": {},
     "output_type": "execute_result"
    }
   ],
   "source": [
    "#Me quedo con los registros cuya longitud superan la cota maxima\n",
    "len_plus_avg = tw_slice.loc[tw_slice['len_txt'] > cout_max]\n",
    "len_plus_avg['keyword'].value_counts()"
   ]
  },
  {
   "cell_type": "code",
   "execution_count": 199,
   "metadata": {},
   "outputs": [
    {
     "data": {
      "text/plain": [
       "outbreak       35\n",
       "devastation    32\n",
       "wreckage       32\n",
       "rescuers       31\n",
       "weapons        31\n",
       "               ..\n",
       "bleeding        6\n",
       "threat          5\n",
       "inundation      5\n",
       "crush           4\n",
       "sandstorm       3\n",
       "Name: keyword, Length: 221, dtype: Int64"
      ]
     },
     "execution_count": 199,
     "metadata": {},
     "output_type": "execute_result"
    }
   ],
   "source": [
    "#Me quedo con los registros cuya longitud superan el promedio de len\n",
    "len_plus_avg = tw_slice.loc[tw_slice['len_txt'] >= len_tw_mean]\n",
    "len_plus_avg['keyword'].value_counts()"
   ]
  },
  {
   "cell_type": "code",
   "execution_count": 200,
   "metadata": {},
   "outputs": [
    {
     "data": {
      "text/plain": [
       "sandstorm                34\n",
       "crush                    33\n",
       "bleeding                 29\n",
       "blizzard                 29\n",
       "wrecked                  29\n",
       "                         ..\n",
       "emergency%20services      5\n",
       "devastation               4\n",
       "rescuers                  4\n",
       "body%20bag                4\n",
       "radiation%20emergency     3\n",
       "Name: keyword, Length: 221, dtype: Int64"
      ]
     },
     "execution_count": 200,
     "metadata": {},
     "output_type": "execute_result"
    }
   ],
   "source": [
    "#Me quedo con los registros cuya longitud  no superan el promedio de len\n",
    "len_plus_avg = tw_slice.loc[tw_slice['len_txt'] < len_tw_mean]\n",
    "len_plus_avg['keyword'].value_counts()"
   ]
  },
  {
   "cell_type": "code",
   "execution_count": 201,
   "metadata": {},
   "outputs": [
    {
     "data": {
      "text/plain": [
       "crush             15\n",
       "thunder           15\n",
       "smoke             15\n",
       "crushed           14\n",
       "screams           14\n",
       "                  ..\n",
       "derail             1\n",
       "annihilation       1\n",
       "suicide%20bomb     1\n",
       "electrocuted       1\n",
       "flood              1\n",
       "Name: keyword, Length: 189, dtype: Int64"
      ]
     },
     "execution_count": 201,
     "metadata": {},
     "output_type": "execute_result"
    }
   ],
   "source": [
    "#me quedo con los registros que el len del text no superan la cota minima\n",
    "len_plus_avg = tw_slice.loc[tw_slice['len_txt'] < cout_min]\n",
    "len_plus_avg['keyword'].value_counts()"
   ]
  },
  {
   "cell_type": "code",
   "execution_count": 202,
   "metadata": {},
   "outputs": [
    {
     "data": {
      "text/plain": [
       "96.02380952380952"
      ]
     },
     "execution_count": 202,
     "metadata": {},
     "output_type": "execute_result"
    }
   ],
   "source": [
    "#Calculo el promedio del largo de los tweets verdaderos sin keyword ni location\n",
    "tw_loc_key_null = df_tweets.loc[df_tweets['location'].isnull() & df_tweets['keyword'].isnull()]\n",
    "true_loc_key_null = tw_loc_key_null.loc[tw_loc_key_null['target'] == True]\n",
    "len_true_key_loc_null = true_loc_key_null['text'].str.len()\n",
    "len_true_key_loc_null.mean()"
   ]
  },
  {
   "cell_type": "code",
   "execution_count": 203,
   "metadata": {},
   "outputs": [
    {
     "data": {
      "text/plain": [
       "25.05263157894737"
      ]
     },
     "execution_count": 203,
     "metadata": {},
     "output_type": "execute_result"
    }
   ],
   "source": [
    "#Calculo el promedio del largo de los tweets falsos sin keyword ni location\n",
    "false_loc_null = tw_loc_key_null.loc[tw_loc_key_null['target'] == False]\n",
    "len_tw_key_loc_null = false_loc_null['text'].str.len()\n",
    "len_tw_key_loc_null.mean()"
   ]
  },
  {
   "cell_type": "code",
   "execution_count": 204,
   "metadata": {},
   "outputs": [
    {
     "data": {
      "text/html": [
       "<div>\n",
       "<style scoped>\n",
       "    .dataframe tbody tr th:only-of-type {\n",
       "        vertical-align: middle;\n",
       "    }\n",
       "\n",
       "    .dataframe tbody tr th {\n",
       "        vertical-align: top;\n",
       "    }\n",
       "\n",
       "    .dataframe thead th {\n",
       "        text-align: right;\n",
       "    }\n",
       "</style>\n",
       "<table border=\"1\" class=\"dataframe\">\n",
       "  <thead>\n",
       "    <tr style=\"text-align: right;\">\n",
       "      <th></th>\n",
       "      <th>len_txt</th>\n",
       "      <th>target</th>\n",
       "    </tr>\n",
       "  </thead>\n",
       "  <tbody>\n",
       "    <tr>\n",
       "      <th>0</th>\n",
       "      <td>69.0</td>\n",
       "      <td>True</td>\n",
       "    </tr>\n",
       "    <tr>\n",
       "      <th>1</th>\n",
       "      <td>38.0</td>\n",
       "      <td>True</td>\n",
       "    </tr>\n",
       "    <tr>\n",
       "      <th>2</th>\n",
       "      <td>133.0</td>\n",
       "      <td>True</td>\n",
       "    </tr>\n",
       "    <tr>\n",
       "      <th>3</th>\n",
       "      <td>65.0</td>\n",
       "      <td>True</td>\n",
       "    </tr>\n",
       "    <tr>\n",
       "      <th>4</th>\n",
       "      <td>88.0</td>\n",
       "      <td>True</td>\n",
       "    </tr>\n",
       "    <tr>\n",
       "      <th>...</th>\n",
       "      <td>...</td>\n",
       "      <td>...</td>\n",
       "    </tr>\n",
       "    <tr>\n",
       "      <th>7608</th>\n",
       "      <td>83.0</td>\n",
       "      <td>True</td>\n",
       "    </tr>\n",
       "    <tr>\n",
       "      <th>7609</th>\n",
       "      <td>125.0</td>\n",
       "      <td>True</td>\n",
       "    </tr>\n",
       "    <tr>\n",
       "      <th>7610</th>\n",
       "      <td>65.0</td>\n",
       "      <td>True</td>\n",
       "    </tr>\n",
       "    <tr>\n",
       "      <th>7611</th>\n",
       "      <td>137.0</td>\n",
       "      <td>True</td>\n",
       "    </tr>\n",
       "    <tr>\n",
       "      <th>7612</th>\n",
       "      <td>94.0</td>\n",
       "      <td>True</td>\n",
       "    </tr>\n",
       "  </tbody>\n",
       "</table>\n",
       "<p>61 rows × 2 columns</p>\n",
       "</div>"
      ],
      "text/plain": [
       "      len_txt  target\n",
       "0        69.0    True\n",
       "1        38.0    True\n",
       "2       133.0    True\n",
       "3        65.0    True\n",
       "4        88.0    True\n",
       "...       ...     ...\n",
       "7608     83.0    True\n",
       "7609    125.0    True\n",
       "7610     65.0    True\n",
       "7611    137.0    True\n",
       "7612     94.0    True\n",
       "\n",
       "[61 rows x 2 columns]"
      ]
     },
     "execution_count": 204,
     "metadata": {},
     "output_type": "execute_result"
    }
   ],
   "source": [
    "#Creo un nuevo dataframe con target y len para tweets sin location ni keywords\n",
    "tw_slice_target_len = pd.DataFrame()\n",
    "tw_slice_target_len['len_txt'] = tw_loc_key_null['text'].str.len().astype('float')\n",
    "tw_slice_target_len['target'] = tw_loc_key_null['target']\n",
    "tw_slice_target_len"
   ]
  },
  {
   "cell_type": "code",
   "execution_count": 205,
   "metadata": {},
   "outputs": [
    {
     "data": {
      "image/png": "[encoded data removed]",
      "text/plain": [
       "<Figure size 800x640 with 1 Axes>"
      ]
     },
     "metadata": {
      "needs_background": "light"
     },
     "output_type": "display_data"
    }
   ],
   "source": [
    "#Boxplot para cantidad de caracteres de tweets sin keyword ni location\n",
    "plt.figure(figsize=(10,8), dpi= 80)\n",
    "boxplot = sns.boxplot(x='target', y='len_txt', data=tw_slice_target_len)\n",
    "plt.title('Distribución de cantidad de caracteres para tweets sin keyword ni location', fontsize=22)\n",
    "boxplot.set_xlabel('Tweets')\n",
    "boxplot.set_ylabel('Cantidad de caracteres')\n",
    "plt.show()"
   ]
  }
 ],
 "metadata": {
  "colab": {
   "include_colab_link": true,
   "name": "TP1.ipynb",
   "provenance": []
  },
  "kernelspec": {
   "display_name": "Python 3",
   "language": "python",
   "name": "python3"
  },
  "language_info": {
   "codemirror_mode": {
    "name": "ipython",
    "version": 3
   },
   "file_extension": ".py",
   "mimetype": "text/x-python",
   "name": "python",
   "nbconvert_exporter": "python",
   "pygments_lexer": "ipython3",
   "version": "3.7.6"
  }
 },
 "nbformat": 4,
 "nbformat_minor": 4
}
