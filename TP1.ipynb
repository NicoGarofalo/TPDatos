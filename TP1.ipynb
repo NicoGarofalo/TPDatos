{
 "cells": [
  {
   "cell_type": "markdown",
   "metadata": {
    "colab_type": "text",
    "id": "W6bWqgOVmrjA"
   },
   "source": [
    "# Notebook oficial - TP Datos"
   ]
  },
  {
   "cell_type": "code",
   "execution_count": 1,
   "metadata": {
    "colab": {},
    "colab_type": "code",
    "id": "IKyPFVKemrAK"
   },
   "outputs": [],
   "source": [
    "# Importando librerias\n",
    "import pandas as pd\n",
    "import numpy as np\n",
    "import seaborn as sns\n",
    "from wordcloud import WordCloud\n",
    "import matplotlib.pyplot as plt\n",
    "import matplotlib.dates as mdates\n",
    "import datetime\n",
    "import warnings"
   ]
  },
  {
   "cell_type": "code",
   "execution_count": 2,
   "metadata": {
    "scrolled": true
   },
   "outputs": [
    {
     "name": "stdout",
     "output_type": "stream",
     "text": [
      "La dimension del dataset es:  7613 registros, 5 columnas\n"
     ]
    },
    {
     "data": {
      "text/html": [
       "<div>\n",
       "<style scoped>\n",
       "    .dataframe tbody tr th:only-of-type {\n",
       "        vertical-align: middle;\n",
       "    }\n",
       "\n",
       "    .dataframe tbody tr th {\n",
       "        vertical-align: top;\n",
       "    }\n",
       "\n",
       "    .dataframe thead th {\n",
       "        text-align: right;\n",
       "    }\n",
       "</style>\n",
       "<table border=\"1\" class=\"dataframe\">\n",
       "  <thead>\n",
       "    <tr style=\"text-align: right;\">\n",
       "      <th></th>\n",
       "      <th>id</th>\n",
       "      <th>keyword</th>\n",
       "      <th>location</th>\n",
       "      <th>text</th>\n",
       "      <th>target</th>\n",
       "    </tr>\n",
       "  </thead>\n",
       "  <tbody>\n",
       "    <tr>\n",
       "      <th>0</th>\n",
       "      <td>1</td>\n",
       "      <td>NaN</td>\n",
       "      <td>NaN</td>\n",
       "      <td>Our Deeds are the Reason of this #earthquake M...</td>\n",
       "      <td>1</td>\n",
       "    </tr>\n",
       "    <tr>\n",
       "      <th>1</th>\n",
       "      <td>4</td>\n",
       "      <td>NaN</td>\n",
       "      <td>NaN</td>\n",
       "      <td>Forest fire near La Ronge Sask. Canada</td>\n",
       "      <td>1</td>\n",
       "    </tr>\n",
       "    <tr>\n",
       "      <th>2</th>\n",
       "      <td>5</td>\n",
       "      <td>NaN</td>\n",
       "      <td>NaN</td>\n",
       "      <td>All residents asked to 'shelter in place' are ...</td>\n",
       "      <td>1</td>\n",
       "    </tr>\n",
       "    <tr>\n",
       "      <th>3</th>\n",
       "      <td>6</td>\n",
       "      <td>NaN</td>\n",
       "      <td>NaN</td>\n",
       "      <td>13,000 people receive #wildfires evacuation or...</td>\n",
       "      <td>1</td>\n",
       "    </tr>\n",
       "    <tr>\n",
       "      <th>4</th>\n",
       "      <td>7</td>\n",
       "      <td>NaN</td>\n",
       "      <td>NaN</td>\n",
       "      <td>Just got sent this photo from Ruby #Alaska as ...</td>\n",
       "      <td>1</td>\n",
       "    </tr>\n",
       "  </tbody>\n",
       "</table>\n",
       "</div>"
      ],
      "text/plain": [
       "   id keyword location                                               text  \\\n",
       "0   1     NaN      NaN  Our Deeds are the Reason of this #earthquake M...   \n",
       "1   4     NaN      NaN             Forest fire near La Ronge Sask. Canada   \n",
       "2   5     NaN      NaN  All residents asked to 'shelter in place' are ...   \n",
       "3   6     NaN      NaN  13,000 people receive #wildfires evacuation or...   \n",
       "4   7     NaN      NaN  Just got sent this photo from Ruby #Alaska as ...   \n",
       "\n",
       "   target  \n",
       "0       1  \n",
       "1       1  \n",
       "2       1  \n",
       "3       1  \n",
       "4       1  "
      ]
     },
     "execution_count": 2,
     "metadata": {},
     "output_type": "execute_result"
    }
   ],
   "source": [
    "#Carga del dataset\n",
    "df_tweets = pd.read_csv('data/train.csv')\n",
    "#Dimension\n",
    "print('La dimension del dataset es: ',df_tweets.shape[0], 'registros,', df_tweets.shape[1],'columnas')\n",
    "# Vista de los primeros registros\n",
    "df_tweets.head(5)\n",
    "# Data:\n",
    "# id - identificador unico para cada tweet\n",
    "# keyword - un keyword para el tweet (podría faltar)\n",
    "# location - ubicación desde donde fue enviado (podría no estar)\n",
    "# text - el texto del tweet\n",
    "# target - indica si se trata de un desastre real (1) o no (0)"
   ]
  },
  {
   "cell_type": "code",
   "execution_count": 3,
   "metadata": {},
   "outputs": [],
   "source": [
    "#Definición de tipos\n",
    "df_tweets['id'] = df_tweets['id'].astype(int)\n",
    "df_tweets['keyword'] = df_tweets['keyword'].astype('string')\n",
    "df_tweets['location'] = df_tweets['location'].astype('string')\n",
    "df_tweets['text'] = df_tweets['text'].astype('string')\n",
    "df_tweets['target'] = df_tweets['target'].astype('bool')"
   ]
  },
  {
   "cell_type": "code",
   "execution_count": 4,
   "metadata": {},
   "outputs": [],
   "source": [
    "#Elimino duplicados\n",
    "df_tweets.drop_duplicates(inplace=True)"
   ]
  },
  {
   "cell_type": "code",
   "execution_count": 5,
   "metadata": {},
   "outputs": [
    {
     "data": {
      "text/html": [
       "<div>\n",
       "<style scoped>\n",
       "    .dataframe tbody tr th:only-of-type {\n",
       "        vertical-align: middle;\n",
       "    }\n",
       "\n",
       "    .dataframe tbody tr th {\n",
       "        vertical-align: top;\n",
       "    }\n",
       "\n",
       "    .dataframe thead th {\n",
       "        text-align: right;\n",
       "    }\n",
       "</style>\n",
       "<table border=\"1\" class=\"dataframe\">\n",
       "  <thead>\n",
       "    <tr style=\"text-align: right;\">\n",
       "      <th></th>\n",
       "      <th>id</th>\n",
       "      <th>keyword</th>\n",
       "      <th>location</th>\n",
       "      <th>text</th>\n",
       "      <th>target</th>\n",
       "    </tr>\n",
       "  </thead>\n",
       "  <tbody>\n",
       "    <tr>\n",
       "      <th>count</th>\n",
       "      <td>7613.000000</td>\n",
       "      <td>7552</td>\n",
       "      <td>5080</td>\n",
       "      <td>7613</td>\n",
       "      <td>7613</td>\n",
       "    </tr>\n",
       "    <tr>\n",
       "      <th>unique</th>\n",
       "      <td>NaN</td>\n",
       "      <td>221</td>\n",
       "      <td>3341</td>\n",
       "      <td>7503</td>\n",
       "      <td>2</td>\n",
       "    </tr>\n",
       "    <tr>\n",
       "      <th>top</th>\n",
       "      <td>NaN</td>\n",
       "      <td>fatalities</td>\n",
       "      <td>USA</td>\n",
       "      <td>11-Year-Old Boy Charged With Manslaughter of T...</td>\n",
       "      <td>False</td>\n",
       "    </tr>\n",
       "    <tr>\n",
       "      <th>freq</th>\n",
       "      <td>NaN</td>\n",
       "      <td>45</td>\n",
       "      <td>104</td>\n",
       "      <td>10</td>\n",
       "      <td>4342</td>\n",
       "    </tr>\n",
       "    <tr>\n",
       "      <th>mean</th>\n",
       "      <td>5441.934848</td>\n",
       "      <td>NaN</td>\n",
       "      <td>NaN</td>\n",
       "      <td>NaN</td>\n",
       "      <td>NaN</td>\n",
       "    </tr>\n",
       "    <tr>\n",
       "      <th>std</th>\n",
       "      <td>3137.116090</td>\n",
       "      <td>NaN</td>\n",
       "      <td>NaN</td>\n",
       "      <td>NaN</td>\n",
       "      <td>NaN</td>\n",
       "    </tr>\n",
       "    <tr>\n",
       "      <th>min</th>\n",
       "      <td>1.000000</td>\n",
       "      <td>NaN</td>\n",
       "      <td>NaN</td>\n",
       "      <td>NaN</td>\n",
       "      <td>NaN</td>\n",
       "    </tr>\n",
       "    <tr>\n",
       "      <th>25%</th>\n",
       "      <td>2734.000000</td>\n",
       "      <td>NaN</td>\n",
       "      <td>NaN</td>\n",
       "      <td>NaN</td>\n",
       "      <td>NaN</td>\n",
       "    </tr>\n",
       "    <tr>\n",
       "      <th>50%</th>\n",
       "      <td>5408.000000</td>\n",
       "      <td>NaN</td>\n",
       "      <td>NaN</td>\n",
       "      <td>NaN</td>\n",
       "      <td>NaN</td>\n",
       "    </tr>\n",
       "    <tr>\n",
       "      <th>75%</th>\n",
       "      <td>8146.000000</td>\n",
       "      <td>NaN</td>\n",
       "      <td>NaN</td>\n",
       "      <td>NaN</td>\n",
       "      <td>NaN</td>\n",
       "    </tr>\n",
       "    <tr>\n",
       "      <th>max</th>\n",
       "      <td>10873.000000</td>\n",
       "      <td>NaN</td>\n",
       "      <td>NaN</td>\n",
       "      <td>NaN</td>\n",
       "      <td>NaN</td>\n",
       "    </tr>\n",
       "  </tbody>\n",
       "</table>\n",
       "</div>"
      ],
      "text/plain": [
       "                  id     keyword location  \\\n",
       "count    7613.000000        7552     5080   \n",
       "unique           NaN         221     3341   \n",
       "top              NaN  fatalities      USA   \n",
       "freq             NaN          45      104   \n",
       "mean     5441.934848         NaN      NaN   \n",
       "std      3137.116090         NaN      NaN   \n",
       "min         1.000000         NaN      NaN   \n",
       "25%      2734.000000         NaN      NaN   \n",
       "50%      5408.000000         NaN      NaN   \n",
       "75%      8146.000000         NaN      NaN   \n",
       "max     10873.000000         NaN      NaN   \n",
       "\n",
       "                                                     text target  \n",
       "count                                                7613   7613  \n",
       "unique                                               7503      2  \n",
       "top     11-Year-Old Boy Charged With Manslaughter of T...  False  \n",
       "freq                                                   10   4342  \n",
       "mean                                                  NaN    NaN  \n",
       "std                                                   NaN    NaN  \n",
       "min                                                   NaN    NaN  \n",
       "25%                                                   NaN    NaN  \n",
       "50%                                                   NaN    NaN  \n",
       "75%                                                   NaN    NaN  \n",
       "max                                                   NaN    NaN  "
      ]
     },
     "execution_count": 5,
     "metadata": {},
     "output_type": "execute_result"
    }
   ],
   "source": [
    "df_tweets.describe(include=\"all\")"
   ]
  },
  {
   "cell_type": "code",
   "execution_count": 6,
   "metadata": {},
   "outputs": [
    {
     "name": "stdout",
     "output_type": "stream",
     "text": [
      "<class 'pandas.core.frame.DataFrame'>\n",
      "Int64Index: 7613 entries, 0 to 7612\n",
      "Data columns (total 5 columns):\n",
      " #   Column    Non-Null Count  Dtype \n",
      "---  ------    --------------  ----- \n",
      " 0   id        7613 non-null   int32 \n",
      " 1   keyword   7552 non-null   string\n",
      " 2   location  5080 non-null   string\n",
      " 3   text      7613 non-null   string\n",
      " 4   target    7613 non-null   bool  \n",
      "dtypes: bool(1), int32(1), string(3)\n",
      "memory usage: 275.1 KB\n",
      "None\n"
     ]
    }
   ],
   "source": [
    "print(df_tweets.info())\n",
    "# Tenemos:\n",
    "# -> 100% datos id, text y target\n",
    "# -> 99,19% datos keyword\n",
    "# -> 66,73% datos location"
   ]
  },
  {
   "cell_type": "code",
   "execution_count": 7,
   "metadata": {},
   "outputs": [
    {
     "name": "stdout",
     "output_type": "stream",
     "text": [
      "Las key son 222 keywords:\n"
     ]
    },
    {
     "data": {
      "text/plain": [
       "fatalities               45\n",
       "armageddon               42\n",
       "deluge                   42\n",
       "sinking                  41\n",
       "body%20bags              41\n",
       "                         ..\n",
       "forest%20fire            19\n",
       "epicentre                12\n",
       "threat                   11\n",
       "inundation               10\n",
       "radiation%20emergency     9\n",
       "Name: keyword, Length: 221, dtype: Int64"
      ]
     },
     "execution_count": 7,
     "metadata": {},
     "output_type": "execute_result"
    }
   ],
   "source": [
    "keywords = df_tweets['keyword']\n",
    "print('Las key son',len(keywords.unique()), 'keywords:')\n",
    "keywords.value_counts()"
   ]
  },
  {
   "cell_type": "code",
   "execution_count": 8,
   "metadata": {},
   "outputs": [
    {
     "name": "stdout",
     "output_type": "stream",
     "text": [
      "La locations son 3342 locations:\n"
     ]
    },
    {
     "data": {
      "text/plain": [
       "USA                104\n",
       "New York            71\n",
       "United States       50\n",
       "London              45\n",
       "Canada              29\n",
       "Nigeria             28\n",
       "UK                  27\n",
       "Los Angeles, CA     26\n",
       "India               24\n",
       "Mumbai              22\n",
       "Name: location, dtype: Int64"
      ]
     },
     "execution_count": 8,
     "metadata": {},
     "output_type": "execute_result"
    }
   ],
   "source": [
    "location = df_tweets['location']\n",
    "print('La locations son',len(location.unique()), 'locations:')\n",
    "location.value_counts().head(10)"
   ]
  },
  {
   "cell_type": "code",
   "execution_count": 9,
   "metadata": {},
   "outputs": [],
   "source": [
    "# Análisis sobre las keywords más frecuentes para los eventos falsos y verdaderos"
   ]
  },
  {
   "cell_type": "code",
   "execution_count": 10,
   "metadata": {},
   "outputs": [],
   "source": [
    "falseEvents = df_tweets[df_tweets['target'] < 1]\n",
    "falseEventsKeys = falseEvents['keyword']\n",
    "trueEvents = df_tweets[df_tweets['target'] == 1]\n",
    "trueEventsKeys = trueEvents['keyword']\n",
    "freqTrueKeys = trueEventsKeys.value_counts()\n",
    "freqFalseKeys = falseEventsKeys.value_counts()"
   ]
  },
  {
   "cell_type": "code",
   "execution_count": 11,
   "metadata": {},
   "outputs": [
    {
     "name": "stdout",
     "output_type": "stream",
     "text": [
      "Las key falsas son 219 keywords:\n"
     ]
    },
    {
     "data": {
      "text/plain": [
       "body%20bags          40\n",
       "harm                 37\n",
       "armageddon           37\n",
       "ruin                 36\n",
       "wrecked              36\n",
       "                     ..\n",
       "typhoon               1\n",
       "suicide%20bombing     1\n",
       "oil%20spill           1\n",
       "suicide%20bomber      1\n",
       "outbreak              1\n",
       "Name: keyword, Length: 218, dtype: Int64"
      ]
     },
     "execution_count": 11,
     "metadata": {},
     "output_type": "execute_result"
    }
   ],
   "source": [
    "print('Las key falsas son',len(falseEventsKeys.unique()), 'keywords:')\n",
    "freqFalseKeys"
   ]
  },
  {
   "cell_type": "code",
   "execution_count": 12,
   "metadata": {},
   "outputs": [
    {
     "name": "stdout",
     "output_type": "stream",
     "text": [
      "Las key verdaderas son 221 keywords:\n"
     ]
    },
    {
     "data": {
      "text/plain": [
       "derailment     39\n",
       "outbreak       39\n",
       "wreckage       39\n",
       "debris         37\n",
       "oil%20spill    37\n",
       "               ..\n",
       "epicentre       1\n",
       "body%20bag      1\n",
       "electrocute     1\n",
       "body%20bags     1\n",
       "ruin            1\n",
       "Name: keyword, Length: 220, dtype: Int64"
      ]
     },
     "execution_count": 12,
     "metadata": {},
     "output_type": "execute_result"
    }
   ],
   "source": [
    "print('Las key verdaderas son',len(trueEventsKeys.unique()), 'keywords:')\n",
    "freqTrueKeys"
   ]
  },
  {
   "cell_type": "code",
   "execution_count": 13,
   "metadata": {},
   "outputs": [
    {
     "data": {
      "image/png": "[encoded data removed]",
      "text/plain": [
       "<Figure size 432x288 with 1 Axes>"
      ]
     },
     "metadata": {
      "needs_background": "light"
     },
     "output_type": "display_data"
    }
   ],
   "source": [
    "#Wordcloud de False keys en base a su ocurrencia\n",
    "wordcloud = WordCloud(width=3000,height=2500, max_words= len(freqFalseKeys),relative_scaling=1,normalize_plurals=False).generate_from_frequencies(freqFalseKeys)\n",
    "plt.imshow(wordcloud, interpolation='bilinear')\n",
    "plt.axis(\"off\")\n",
    "plt.show()"
   ]
  },
  {
   "cell_type": "code",
   "execution_count": null,
   "metadata": {},
   "outputs": [],
   "source": [
    "#Wordcloud de True keys en base a su ocurrencia\n",
    "wordcloud = WordCloud(width=3000,height=2500, max_words=len(freqTrueKeys),relative_scaling=0.5,normalize_plurals=False).generate_from_frequencies(freqTrueKeys)\n",
    "plt.imshow(wordcloud, interpolation='bilinear')\n",
    "plt.axis(\"off\")\n",
    "plt.show()"
   ]
  },
  {
   "cell_type": "code",
   "execution_count": null,
   "metadata": {},
   "outputs": [],
   "source": [
    "#Las columnas que nos interesan son text y target, las renombramos para que sea mas comodo y facil de medir  \n",
    "tweets = df_tweets\n",
    "tweets.head(10)"
   ]
  },
  {
   "cell_type": "code",
   "execution_count": null,
   "metadata": {
    "scrolled": true
   },
   "outputs": [],
   "source": [
    "#Conseguimos las keywords\n",
    "ocurrenciasTotales = tweets[\"keyword\"].dropna().value_counts().to_dict()"
   ]
  },
  {
   "cell_type": "code",
   "execution_count": null,
   "metadata": {},
   "outputs": [],
   "source": [
    "ocurrenciasKeywordsVerdaderas = freqTrueKeys.to_dict()"
   ]
  },
  {
   "cell_type": "code",
   "execution_count": null,
   "metadata": {},
   "outputs": [],
   "source": [
    "ocurrenciasKeywordsFalsas = freqFalseKeys.to_dict()"
   ]
  },
  {
   "cell_type": "code",
   "execution_count": null,
   "metadata": {},
   "outputs": [],
   "source": [
    "#Creo un diccionario con las keywords y una tupla que contiene los valores de las ocurrencias verdaderas y las falsas \n",
    "# asi no perdemos el orden de la keyword con sus ocurrencias\n",
    "mergeDict = {}\n",
    "for key in ocurrenciasTotales:\n",
    "    mergeDict[key] = (ocurrenciasKeywordsVerdaderas[key] if key in ocurrenciasKeywordsVerdaderas else 0, \\\n",
    "                     ocurrenciasKeywordsFalsas[key] if key in ocurrenciasKeywordsFalsas else 0)\n"
   ]
  },
  {
   "cell_type": "code",
   "execution_count": null,
   "metadata": {},
   "outputs": [],
   "source": [
    "##Pasamos el dict a keys para los graficos\n",
    "ocurrenciasTrue = []\n",
    "ocurrenciasFalse = []\n",
    "\n",
    "for key in mergeDict:\n",
    "    ocurrenciasTrue.append(mergeDict[key][0])\n",
    "    ocurrenciasFalse.append(mergeDict[key][1])\n",
    "\n",
    "keys = list(mergeDict.keys())"
   ]
  },
  {
   "cell_type": "code",
   "execution_count": null,
   "metadata": {},
   "outputs": [],
   "source": [
    "#Ploteamos el pyramid barchart\n",
    "labels = keys\n",
    "valuesTrue = np.array(ocurrenciasTrue)\n",
    "valuesFalse = np.array(ocurrenciasFalse)\n",
    "                               \n",
    "idx = valuesTrue.argsort()\n",
    "labels, valuesTrue, valuesFalse = [np.take(x, idx) for x in [labels, valuesTrue, valuesFalse]]\n",
    "\n",
    "y = np.arange(valuesFalse.size)\n",
    "\n",
    "fig, axes = plt.subplots(ncols=2, sharey=True)\n",
    "\n",
    "fig.set_size_inches(16, 40, forward=True)\n",
    "\n",
    "axes[0].barh(y, valuesTrue, align='center', color='green', zorder=10)\n",
    "axes[0].set(title='Cantidad de tweets verdaderos por keyword')\n",
    "axes[1].barh(y, valuesFalse, align='center', color='red', zorder=10)\n",
    "axes[1].set(title='Cantidad de tweets falsos por keyword')\n",
    "\n",
    "axes[0].invert_xaxis()\n",
    "axes[0].set(yticks=y, yticklabels=labels)\n",
    "axes[0].yaxis.tick_right()\n",
    "\n",
    "\n",
    "for ax in axes.flat:\n",
    "    ax.margins(0.005)\n",
    "    ax.grid(True)\n",
    "\n",
    "fig.tight_layout()\n",
    "fig.subplots_adjust(wspace=0.3)\n",
    "plt.show()"
   ]
  },
  {
   "cell_type": "code",
   "execution_count": null,
   "metadata": {
    "scrolled": true
   },
   "outputs": [],
   "source": [
    "#Agarramos el top 5\n",
    "keysTrueTop ={}\n",
    "contador = 0\n",
    "for key in ocurrenciasKeywordsVerdaderas:\n",
    "    if contador in range(5):\n",
    "        keysTrueTop[key] = (mergeDict[key][0],mergeDict[key][1])\n",
    "    contador+=1\n",
    "        \n",
    "labels = list(keysTrueTop.keys())\n",
    "\n",
    "valuesTrue = []\n",
    "for key in keysTrueTop:\n",
    "    valuesTrue.append(keysTrueTop[key][0])\n",
    "\n",
    "\n",
    "valuesFalse = []\n",
    "for key in keysTrueTop:\n",
    "    valuesFalse.append(keysTrueTop[key][1])"
   ]
  },
  {
   "cell_type": "code",
   "execution_count": null,
   "metadata": {},
   "outputs": [],
   "source": [
    "#Este es el top 5 de la lista de keywords\n",
    "df = pd.DataFrame({'Tweets verdaderos': valuesTrue,'Tweets falsos': valuesFalse}, index=labels)\n",
    "ax = df.plot.barh()\n",
    "ax.set_title(\"Top 5 de keywords con mas tweets verdaderos\", fontsize=18) "
   ]
  },
  {
   "cell_type": "code",
   "execution_count": null,
   "metadata": {},
   "outputs": [],
   "source": [
    "#Agarramos el bot 5\n",
    "keysTrueBot ={}\n",
    "contador = 0\n",
    "for key in ocurrenciasKeywordsVerdaderas:\n",
    "    if contador in range(216,220):\n",
    "        keysTrueBot[key] = (mergeDict[key][0],mergeDict[key][1])\n",
    "    contador+=1\n",
    "\n",
    "##caso particular, no hay trues en aftershock\n",
    "aftershock = \"aftershock\"\n",
    "keysTrueBot[aftershock]= (mergeDict[aftershock][0],mergeDict[aftershock][1])\n",
    "## \n",
    "\n",
    "labels = list(keysTrueBot.keys())\n",
    "labels\n",
    "\n",
    "valuesTrue = []\n",
    "for key in keysTrueBot:\n",
    "    valuesTrue.append(keysTrueBot[key][0])\n",
    "\n",
    "\n",
    "valuesFalse = []\n",
    "for key in keysTrueBot:\n",
    "    valuesFalse.append(keysTrueBot[key][1])\n"
   ]
  },
  {
   "cell_type": "code",
   "execution_count": null,
   "metadata": {},
   "outputs": [],
   "source": [
    "#Este es el bot five de la lista de keywords\n",
    "df = pd.DataFrame({'Tweets Verdaderos': valuesTrue,'Tweets Falsos': valuesFalse}, index=labels)\n",
    "ax = df.plot.barh()\n",
    "ax.set_title(\"Top 5 de keywords con mas tweets falsos\", fontsize=18) "
   ]
  },
  {
   "cell_type": "code",
   "execution_count": null,
   "metadata": {},
   "outputs": [],
   "source": [
    "tweetsConKeyword = tweets\n",
    "tweetsConKeyword = tweetsConKeyword.drop(columns = [\"target\", \"location\",\"id\"]).dropna()"
   ]
  },
  {
   "cell_type": "code",
   "execution_count": null,
   "metadata": {},
   "outputs": [],
   "source": [
    "tweetsConKeyword[\"keyword\"] = tweetsConKeyword[\"keyword\"].str.replace(\"%20\",\" \")\n",
    "ocurrenciasTotales = tweetsConKeyword[\"keyword\"].dropna().value_counts().to_dict()"
   ]
  },
  {
   "cell_type": "code",
   "execution_count": null,
   "metadata": {},
   "outputs": [],
   "source": [
    "ocurrenciasTotales = tweetsConKeyword[\"keyword\"].dropna().value_counts().to_dict()\n",
    "\n",
    "for key in ocurrenciasTotales:\n",
    "    tweetDeKeyword = tweetsConKeyword.loc[tweetsConKeyword[\"keyword\"] == key]\n",
    "    ocurrenciasTotales[key] = tweetDeKeyword[\"text\"].str.contains(key).value_counts().to_dict()\n"
   ]
  },
  {
   "cell_type": "code",
   "execution_count": null,
   "metadata": {},
   "outputs": [],
   "source": [
    "keywordsMayorTrue = {}\n",
    "keywordsMayorFalse = {}\n",
    "keywordsEqualTrueFalse = {}\n",
    "\n",
    "for key in ocurrenciasTotales:\n",
    "    cantidadTrue = 0\n",
    "    cantidadFalse = 0\n",
    "    for key2 in ocurrenciasTotales[key]:\n",
    "        if key2 is True:\n",
    "            cantidadTrue = (ocurrenciasTotales[key][key2])\n",
    "        else:\n",
    "            cantidadFalse = (ocurrenciasTotales[key][key2])\n",
    "    if cantidadTrue > cantidadFalse:\n",
    "        keywordsMayorTrue[key] = (\"Mayoria True\" ,cantidadTrue)\n",
    "    elif cantidadTrue < cantidadFalse:\n",
    "        keywordsMayorFalse[key]= (\"Mayoria False\",cantidadFalse)\n",
    "    else:\n",
    "        keywordsEqualTrueFalse[key]= (\"Cantidad True y False\" ,cantidadTrue,cantidadFalse)\n",
    "        \n",
    "keywordMatchTrue = len(keywordsMayorTrue.keys())\n",
    "keywordMatchFalse = len(keywordsMayorFalse.keys())\n",
    "keywordMatchEqual = len(keywordsEqualTrueFalse.keys())\n",
    "print(keywordMatchTrue,keywordMatchFalse,keywordMatchEqual)"
   ]
  },
  {
   "cell_type": "code",
   "execution_count": null,
   "metadata": {},
   "outputs": [],
   "source": [
    "print(tweetsConKeyword.count())\n",
    "tweetsConKeyword"
   ]
  },
  {
   "cell_type": "code",
   "execution_count": null,
   "metadata": {},
   "outputs": [],
   "source": [
    "tweetsConKeywordSinDuplicados = tweetsConKeyword\n",
    "tweetDeKeyword = tweetsConKeywordSinDuplicados.drop_duplicates(inplace=True)\n",
    "print(tweetsConKeywordSinDuplicados.count())\n"
   ]
  },
  {
   "cell_type": "code",
   "execution_count": null,
   "metadata": {},
   "outputs": [],
   "source": [
    "ocurrenciasTotalesSinDuplicados = tweetsConKeywordSinDuplicados[\"keyword\"].dropna().value_counts().to_dict()\n",
    "\n",
    "for key in ocurrenciasTotalesSinDuplicados:\n",
    "    tweetDeKeyword = tweetsConKeywordSinDuplicados.loc[tweetsConKeywordSinDuplicados[\"keyword\"] == key]\n",
    "    ocurrenciasTotalesSinDuplicados[key] = tweetDeKeyword[\"text\"].str.contains(key).value_counts().to_dict()\n"
   ]
  },
  {
   "cell_type": "code",
   "execution_count": null,
   "metadata": {},
   "outputs": [],
   "source": [
    "tweetsSandstorm = tweetsConKeywordSinDuplicados.loc[tweetsConKeywordSinDuplicados[\"keyword\"] == \"sandstorm\"]\n",
    "tweetsSandstorm"
   ]
  },
  {
   "cell_type": "markdown",
   "metadata": {},
   "source": [
    " ### aca empezamos a analizar en base a location"
   ]
  },
  {
   "cell_type": "code",
   "execution_count": null,
   "metadata": {},
   "outputs": [],
   "source": [
    "tweets_with_location = df_tweets.loc[df_tweets['location'].notnull()]\n",
    "tweets_with_location.count()"
   ]
  },
  {
   "cell_type": "markdown",
   "metadata": {},
   "source": [
    "dato curioso: todos los tweets con location tienen keyword tambien"
   ]
  },
  {
   "cell_type": "code",
   "execution_count": null,
   "metadata": {},
   "outputs": [],
   "source": [
    "#casteo target de bool a int para poder sumarlo\n",
    "tweets_with_location['target'] = tweets_with_location['target'].astype(int)"
   ]
  },
  {
   "cell_type": "code",
   "execution_count": null,
   "metadata": {},
   "outputs": [],
   "source": [
    "#agrupo los tweets por location\n",
    "grouped_by_location = tweets_with_location.groupby(['location']).agg({'location':['count'], 'target':['sum'] })\n",
    "grouped_by_location.sort_values(('location', 'count'), ascending = False).head(10)"
   ]
  },
  {
   "cell_type": "code",
   "execution_count": null,
   "metadata": {},
   "outputs": [],
   "source": [
    "#creo una nueva columna que contiene la cantidad tweets falsos para cada location\n",
    "grouped_by_location[('target', 'false_tweets')] = grouped_by_location[('location', 'count')] - grouped_by_location[('target', 'sum')]\n",
    "grouped_by_location.sort_values(('target', 'false_tweets'), ascending = False).head()"
   ]
  },
  {
   "cell_type": "markdown",
   "metadata": {},
   "source": [
    " CANTIDAD TOTAL DE LOCATIONS = 3342"
   ]
  },
  {
   "cell_type": "code",
   "execution_count": null,
   "metadata": {},
   "outputs": [],
   "source": [
    "#busco las locations que solo tienen tweets Falsos. Muestro el top 5\n",
    "only_false_tweets = grouped_by_location.loc[grouped_by_location[('location','count')] == grouped_by_location[('target', 'false_tweets')]]\n",
    "only_false_tweets.sort_values(('location', 'count'), ascending = False).head(5)"
   ]
  },
  {
   "cell_type": "code",
   "execution_count": null,
   "metadata": {},
   "outputs": [],
   "source": [
    "#cuento cuantas locations SOLO tienen tweets falsos\n",
    "only_false_tweets.count()"
   ]
  },
  {
   "cell_type": "code",
   "execution_count": null,
   "metadata": {},
   "outputs": [],
   "source": [
    "#calculo el porcentaje de locations que solo tiene tweets falsos\n",
    "pct_only_false = 1828/3342*100\n",
    "pct_only_false"
   ]
  },
  {
   "cell_type": "markdown",
   "metadata": {},
   "source": [
    "54,69% de las locations usadas solo contienen tweets falsos"
   ]
  },
  {
   "cell_type": "code",
   "execution_count": null,
   "metadata": {},
   "outputs": [],
   "source": [
    "#busco las locations que solo tienen tweets verdaderos. Muestro el top 5\n",
    "only_true_tweets = grouped_by_location.loc[grouped_by_location[('location','count')] == grouped_by_location[('target', 'sum')]]\n",
    "only_true_tweets.sort_values(('location', 'count'), ascending = False).head()"
   ]
  },
  {
   "cell_type": "code",
   "execution_count": null,
   "metadata": {},
   "outputs": [],
   "source": [
    "# cuento cantidad de locations con tweets SOLO verdaderos\n",
    "only_true_tweets.count()"
   ]
  },
  {
   "cell_type": "code",
   "execution_count": null,
   "metadata": {},
   "outputs": [],
   "source": [
    "pct_only_true = 1199/3342*100\n",
    "pct_only_true"
   ]
  },
  {
   "cell_type": "markdown",
   "metadata": {},
   "source": [
    "35.87% de todas las locations contienen tweets que solamente son verdaderos"
   ]
  },
  {
   "cell_type": "code",
   "execution_count": null,
   "metadata": {},
   "outputs": [],
   "source": [
    "#calculo porcentaje de locations que tienen tanto tweets verdaderos como falsos\n",
    "100 -pct_only_true - pct_only_false"
   ]
  },
  {
   "cell_type": "markdown",
   "metadata": {},
   "source": [
    "Solo 9,4% de las locations tienen tweets tantos verdaderos como falsos"
   ]
  },
  {
   "cell_type": "markdown",
   "metadata": {},
   "source": [
    "podemos hacer un pie chart de estos porcentajes"
   ]
  },
  {
   "cell_type": "code",
   "execution_count": null,
   "metadata": {},
   "outputs": [],
   "source": [
    "labels = [r'Solo contienen tweets Falsos (1828)', r'Solo contienen tweets Verdaderos (1199)', \n",
    "r'contienen tweets verdaderos y falsos (315)']\n",
    "sizes = [54.7, 35.9, 9.4]\n",
    "\n",
    "patches, texts, _ = plt.pie(sizes, autopct = '%1.1f%%', startangle=90)\n",
    "plt.legend(patches, labels, loc=\"best\")\n",
    "\n",
    "\n",
    "plt.title('Porcentaje de Locations segun la veracidad de todos sus tweets')\n",
    "# Set aspect ratio to be equal so that pie is drawn as a circle.\n",
    "plt.axis('equal')\n",
    "plt.tight_layout()\n",
    "plt.show()"
   ]
  },
  {
   "cell_type": "markdown",
   "metadata": {},
   "source": [
    "#### Para las locations mas populares, cuales son las keywords mas usadas? habra alguna relacion entre ellas?"
   ]
  },
  {
   "cell_type": "code",
   "execution_count": null,
   "metadata": {},
   "outputs": [],
   "source": [
    "# creo una lista con las 10 locations mas usadas\n",
    "most_used_locations = grouped_by_location.nlargest(10, ('location','count')).index.values.tolist()\n",
    "most_used_locations"
   ]
  },
  {
   "cell_type": "code",
   "execution_count": null,
   "metadata": {},
   "outputs": [],
   "source": [
    "# filtro los tweets en un nuevo dataframe\n",
    "df_tweets_for_most_used_location = tweets_with_location.loc[tweets_with_location['location'].isin(most_used_locations)]\n",
    "df_tweets_for_most_used_location.count()"
   ]
  },
  {
   "cell_type": "code",
   "execution_count": null,
   "metadata": {},
   "outputs": [],
   "source": [
    "df_tweets_for_most_used_location['keyword'].value_counts()"
   ]
  },
  {
   "cell_type": "markdown",
   "metadata": {},
   "source": [
    "de 426 tweets correspondientes a las 10 locations mas usadas, solo hay 164 keywords distintas"
   ]
  },
  {
   "cell_type": "code",
   "execution_count": null,
   "metadata": {},
   "outputs": [],
   "source": [
    "# hago un groupby de keywords y me fijo cuantos de los tweets que tienen cada keyword son TRUE\n",
    "grouped_keywords_from_locations = df_tweets_for_most_used_location.groupby(['keyword']).agg({'keyword':['count'], 'target': ['sum']})\n",
    "grouped_keywords_from_locations.sort_values(('keyword', 'count'), ascending = False).head(10)"
   ]
  },
  {
   "cell_type": "code",
   "execution_count": null,
   "metadata": {},
   "outputs": [],
   "source": [
    "df_tweets_for_most_used_location.loc[df_tweets_for_most_used_location['target'] == False].count()"
   ]
  },
  {
   "cell_type": "markdown",
   "metadata": {},
   "source": [
    "de un total de 426 tweets, hay 202 falsos"
   ]
  },
  {
   "cell_type": "code",
   "execution_count": null,
   "metadata": {},
   "outputs": [],
   "source": [
    "#obtengo las 10 keywords mas usadas\n",
    "most_used_keywords = grouped_keywords_from_locations.nlargest(10, ('keyword','count'))\n",
    "most_used_keywords"
   ]
  },
  {
   "cell_type": "code",
   "execution_count": null,
   "metadata": {},
   "outputs": [],
   "source": [
    "#convierto las 10 keywords mas usadas a una lista\n",
    "most_used_keywords_list = most_used_keywords.index.values.tolist()\n",
    "most_used_keywords_list"
   ]
  },
  {
   "cell_type": "code",
   "execution_count": null,
   "metadata": {},
   "outputs": [],
   "source": [
    "#para el df que tiene los tweets de las 10 locations mas mencionadas, me quedo con los tweets que tienen como keyword, alguna del top 10\n",
    "most_used_loc_and_keys = df_tweets_for_most_used_location.loc[df_tweets_for_most_used_location['keyword']\\\n",
    "                                                              .isin(most_used_keywords_list)]\n",
    "most_used_loc_and_keys"
   ]
  },
  {
   "cell_type": "code",
   "execution_count": null,
   "metadata": {},
   "outputs": [],
   "source": [
    "#solo me interesan las keywords y locations\n",
    "reduced_df = most_used_loc_and_keys[['keyword', 'location']]\n",
    "\n",
    "#agrego una nueva columna con 1, la idea es usarla como contador para los proximos pasos\n",
    "reduced_df['value'] = 1\n",
    "reduced_df"
   ]
  },
  {
   "cell_type": "code",
   "execution_count": null,
   "metadata": {},
   "outputs": [],
   "source": [
    "#agrupo por keywords Y locations, y aplico 'sum' a la columna value\n",
    "keywords_per_locations = reduced_df.groupby(['keyword','location']).agg({'value':['sum']})\n",
    "keywords_per_locations"
   ]
  },
  {
   "cell_type": "markdown",
   "metadata": {},
   "source": [
    "me queda: para cada keyword: las locations correspondientes a sus tweets, y cuantos fueron enviados desde dichas locations"
   ]
  },
  {
   "cell_type": "code",
   "execution_count": null,
   "metadata": {},
   "outputs": [],
   "source": [
    "# hago operacion de pivot para luego poder graficar: las nuevas columnas van a ser las locations.\n",
    "pivot = keywords_per_locations.pivot_table(index='keyword', columns='location', values= 'value', aggfunc = np.sum)\n",
    "\n",
    "# Relleno los NaN con 0, ya que si el valor es NaN, es porque para esa keyword,\n",
    "# no hay ningun tweet que haya sido enviado desde la location correspondiente\n",
    "pivot = pivot.fillna(0)\n",
    "pivot"
   ]
  },
  {
   "cell_type": "code",
   "execution_count": null,
   "metadata": {},
   "outputs": [],
   "source": [
    "# para que me quede lindo en el grafico tengo que eliminar el nivel 'sum'\n",
    "# que engloba als columnas\n",
    "column_rename = pivot.columns.tolist()\n",
    "garbo, columns_list = zip(*column_rename)\n",
    "columns_list"
   ]
  },
  {
   "cell_type": "code",
   "execution_count": null,
   "metadata": {},
   "outputs": [],
   "source": [
    "# reemplazo las columnas con las nuevas\n",
    "pivot.columns = columns_list\n",
    "pivot"
   ]
  },
  {
   "cell_type": "code",
   "execution_count": null,
   "metadata": {},
   "outputs": [],
   "source": [
    "visu = sns.heatmap(pivot, cmap = 'viridis', vmin=0)\n",
    "\n",
    "visu.set_title(\"distribucion de keywords mas usadas en base a Locations mas ocurrentes\")\n",
    "visu.set_ylabel(\"keywords mas usadas para las Locations\")\n",
    "visu.set_xlabel(\"Locations con mayor cantidad de tweets\")\n",
    "\n",
    "visu.set_xticklabels(visu.get_xticklabels(), rotation=75)"
   ]
  },
  {
   "cell_type": "markdown",
   "metadata": {},
   "source": [
    "##### analisis en base a la longitud de los tweets"
   ]
  },
  {
   "cell_type": "code",
   "execution_count": null,
   "metadata": {},
   "outputs": [],
   "source": [
    "#Calculo len de los tweets\n",
    "len_tw = df_tweets['text'].str.len()"
   ]
  },
  {
   "cell_type": "code",
   "execution_count": null,
   "metadata": {},
   "outputs": [],
   "source": [
    "#Creo un dataframe con las 2 columnas que utilizo\n",
    "tw_slice = pd.DataFrame({'keyword':keywords,'len_txt':len_tw})\n",
    "tw_slice = tw_slice.dropna()\n",
    "tw_slice"
   ]
  },
  {
   "cell_type": "code",
   "execution_count": null,
   "metadata": {},
   "outputs": [],
   "source": [
    "#Calculo promedio del largo de tweets\n",
    "len_tw_mean = tw_slice['len_txt'].mean()\n",
    "len_tw_mean"
   ]
  },
  {
   "cell_type": "code",
   "execution_count": null,
   "metadata": {},
   "outputs": [],
   "source": [
    "#Propongo una cota maxima: (len del tweet maximo + promedio len) /2\n",
    "len_tw_max = tw_slice['len_txt'].max()\n",
    "cout_max = (len_tw_max + len_tw_mean)/2\n",
    "cout_max"
   ]
  },
  {
   "cell_type": "code",
   "execution_count": null,
   "metadata": {},
   "outputs": [],
   "source": [
    "#Propongo una cota minima: (len del tweet maximo + promedio len) /2\n",
    "len_tw_min = tw_slice['len_txt'].min()\n",
    "cout_min = (len_tw_min + len_tw_mean)/2\n",
    "cout_min"
   ]
  },
  {
   "cell_type": "code",
   "execution_count": null,
   "metadata": {},
   "outputs": [],
   "source": [
    "#Me quedo con los registros cuya longitud superan la cota maxima\n",
    "len_plus_avg = tw_slice.loc[tw_slice['len_txt'] > cout_max]\n",
    "len_plus_avg['keyword'].value_counts()"
   ]
  },
  {
   "cell_type": "code",
   "execution_count": null,
   "metadata": {},
   "outputs": [],
   "source": [
    "#Me quedo con los registros cuya longitud superan el promedio de len\n",
    "len_plus_avg = tw_slice.loc[tw_slice['len_txt'] >= len_tw_mean]\n",
    "len_plus_avg['keyword'].value_counts()"
   ]
  },
  {
   "cell_type": "code",
   "execution_count": null,
   "metadata": {},
   "outputs": [],
   "source": [
    "#Me quedo con los registros cuya longitud  no superan el promedio de len\n",
    "len_plus_avg = tw_slice.loc[tw_slice['len_txt'] < len_tw_mean]\n",
    "len_plus_avg['keyword'].value_counts()"
   ]
  },
  {
   "cell_type": "code",
   "execution_count": null,
   "metadata": {},
   "outputs": [],
   "source": [
    "#me quedo con los registros que el len del text no superan la cota minima\n",
    "len_plus_avg = tw_slice.loc[tw_slice['len_txt'] < cout_min]\n",
    "len_plus_avg['keyword'].value_counts()"
   ]
  },
  {
   "cell_type": "code",
   "execution_count": null,
   "metadata": {},
   "outputs": [],
   "source": [
    "#Calculo el promedio del largo de los tweets verdaderos sin keyword ni location\n",
    "tw_loc_key_null = df_tweets.loc[df_tweets['location'].isnull() & df_tweets['keyword'].isnull()]\n",
    "true_loc_key_null = tw_loc_key_null.loc[tw_loc_key_null['target'] == True]\n",
    "len_true_key_loc_null = true_loc_key_null['text'].str.len()\n",
    "len_true_key_loc_null.mean()"
   ]
  },
  {
   "cell_type": "code",
   "execution_count": null,
   "metadata": {},
   "outputs": [],
   "source": [
    "#Calculo el promedio del largo de los tweets falsos sin keyword ni location\n",
    "false_loc_null = tw_loc_key_null.loc[tw_loc_key_null['target'] == False]\n",
    "len_tw_key_loc_null = false_loc_null['text'].str.len()\n",
    "len_tw_key_loc_null.mean()"
   ]
  },
  {
   "cell_type": "code",
   "execution_count": null,
   "metadata": {},
   "outputs": [],
   "source": [
    "#Creo un nuevo dataframe con target y len para tweets sin location ni keywords\n",
    "tw_slice_target_len = pd.DataFrame()\n",
    "tw_slice_target_len['len_txt'] = tw_loc_key_null['text'].str.len().astype('float')\n",
    "tw_slice_target_len['target'] = tw_loc_key_null['target']\n",
    "tw_slice_target_len"
   ]
  },
  {
   "cell_type": "code",
   "execution_count": null,
   "metadata": {},
   "outputs": [],
   "source": [
    "#Boxplot para cantidad de caracteres de tweets sin keyword ni location\n",
    "plt.figure(figsize=(10,8), dpi= 80)\n",
    "violin = sns.boxplot(x='target', y='len_txt', data=tw_slice_target_len)\n",
    "plt.title('Distribución de cantidad de caracteres para tweets sin keyword ni location', fontsize=22)\n",
    "violin.set_xlabel('Tweets')\n",
    "violin.set_ylabel('Cantidad de caracteres')\n",
    "plt.show()"
   ]
  }
 ],
 "metadata": {
  "colab": {
   "include_colab_link": true,
   "name": "TP1.ipynb",
   "provenance": []
  },
  "kernelspec": {
   "display_name": "Python 3",
   "language": "python",
   "name": "python3"
  },
  "language_info": {
   "codemirror_mode": {
    "name": "ipython",
    "version": 3
   },
   "file_extension": ".py",
   "mimetype": "text/x-python",
   "name": "python",
   "nbconvert_exporter": "python",
   "pygments_lexer": "ipython3",
   "version": "3.7.6"
  }
 },
 "nbformat": 4,
 "nbformat_minor": 4
}
